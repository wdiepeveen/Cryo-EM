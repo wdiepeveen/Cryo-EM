{
 "nbformat": 4,
 "nbformat_minor": 0,
 "metadata": {
  "colab": {
   "name": "experiment.ipynb",
   "provenance": [],
   "collapsed_sections": []
  },
  "kernelspec": {
   "display_name": "Python 3",
   "language": "python",
   "name": "python3"
  },
  "language_info": {
   "codemirror_mode": {
    "name": "ipython",
    "version": 2
   },
   "file_extension": ".py",
   "mimetype": "text/x-python",
   "name": "python",
   "nbconvert_exporter": "python",
   "pygments_lexer": "ipython2",
   "version": "2.7.6"
  },
  "accelerator": "GPU"
 },
 "cells": [
  {
   "cell_type": "markdown",
   "metadata": {
    "id": "ZacDoHPsOA_4"
   },
   "source": [
    "# **Experiment 1**: proof of concent from ground truth\n",
    "Vary noise level and number of images"
   ]
  },
  {
   "cell_type": "code",
   "metadata": {
    "colab": {
     "base_uri": "https://localhost:8080/"
    },
    "id": "kOadhnrzOavD",
    "executionInfo": {
     "status": "ok",
     "timestamp": 1633269594723,
     "user_tz": -60,
     "elapsed": 164,
     "user": {
      "displayName": "Willem Diepeveen",
      "photoUrl": "https://lh3.googleusercontent.com/a/default-user=s64",
      "userId": "07042451899018849244"
     }
    },
    "outputId": "7295c8e6-1322-4665-f927-ff95d42a7888"
   },
   "source": [
    "# Mount Google Drive\n",
    "from google.colab import drive # import drive from google colab\n",
    "drive.mount(\"/content/drive\")"
   ],
   "execution_count": 1,
   "outputs": [
    {
     "output_type": "stream",
     "name": "stdout",
     "text": [
      "Drive already mounted at /content/drive; to attempt to forcibly remount, call drive.mount(\"/content/drive\", force_remount=True).\n"
     ]
    }
   ]
  },
  {
   "cell_type": "code",
   "metadata": {
    "colab": {
     "base_uri": "https://localhost:8080/"
    },
    "id": "du6Qj3ihOduK",
    "executionInfo": {
     "status": "ok",
     "timestamp": 1633269594975,
     "user_tz": -60,
     "elapsed": 7,
     "user": {
      "displayName": "Willem Diepeveen",
      "photoUrl": "https://lh3.googleusercontent.com/a/default-user=s64",
      "userId": "07042451899018849244"
     }
    },
    "outputId": "44498dd0-3b54-4328-f96f-696185746a6d"
   },
   "source": [
    "%cd /content/drive/MyDrive/PhD/Projects/2 - Cryo-EM/src/Cryo-EM"
   ],
   "execution_count": 2,
   "outputs": [
    {
     "output_type": "stream",
     "name": "stdout",
     "text": [
      "/content/drive/MyDrive/PhD/Projects/2 - Cryo-EM/src/Cryo-EM\n"
     ]
    }
   ]
  },
  {
   "cell_type": "code",
   "metadata": {
    "colab": {
     "base_uri": "https://localhost:8080/"
    },
    "id": "UWpBxh-QOumD",
    "executionInfo": {
     "status": "ok",
     "timestamp": 1633269608511,
     "user_tz": -60,
     "elapsed": 13540,
     "user": {
      "displayName": "Willem Diepeveen",
      "photoUrl": "https://lh3.googleusercontent.com/a/default-user=s64",
      "userId": "07042451899018849244"
     }
    },
    "outputId": "85aee65e-6198-437a-b297-d218899a8c42"
   },
   "source": [
    "# install libraries in Colab env\n",
    "!pip install mrcfile\n",
    "!pip install aspire\n",
    "!pip install quaternionic\n",
    "!pip install pykeops[colab] > install.log"
   ],
   "execution_count": 3,
   "outputs": [
    {
     "output_type": "stream",
     "name": "stdout",
     "text": [
      "Requirement already satisfied: mrcfile in /usr/local/lib/python3.7/dist-packages (1.3.0)\n",
      "Requirement already satisfied: numpy>=1.12.0 in /usr/local/lib/python3.7/dist-packages (from mrcfile) (1.16.0)\n",
      "Requirement already satisfied: aspire in /usr/local/lib/python3.7/dist-packages (0.8.0)\n",
      "Requirement already satisfied: PyWavelets in /usr/local/lib/python3.7/dist-packages (from aspire) (1.1.1)\n",
      "Requirement already satisfied: pyfftw in /usr/local/lib/python3.7/dist-packages (from aspire) (0.12.0)\n",
      "Requirement already satisfied: pandas==0.25.3 in /usr/local/lib/python3.7/dist-packages (from aspire) (0.25.3)\n",
      "Requirement already satisfied: setuptools>=0.41 in /usr/local/lib/python3.7/dist-packages (from aspire) (57.4.0)\n",
      "Requirement already satisfied: matplotlib in /usr/local/lib/python3.7/dist-packages (from aspire) (3.2.2)\n",
      "Requirement already satisfied: joblib in /usr/local/lib/python3.7/dist-packages (from aspire) (1.0.1)\n",
      "Requirement already satisfied: scipy==1.4.0 in /usr/local/lib/python3.7/dist-packages (from aspire) (1.4.0)\n",
      "Requirement already satisfied: click in /usr/local/lib/python3.7/dist-packages (from aspire) (7.1.2)\n",
      "Requirement already satisfied: finufft==2.0.0 in /usr/local/lib/python3.7/dist-packages (from aspire) (2.0.0)\n",
      "Requirement already satisfied: importlib-resources>=1.0.2 in /usr/local/lib/python3.7/dist-packages (from aspire) (5.2.2)\n",
      "Requirement already satisfied: pillow in /usr/local/lib/python3.7/dist-packages (from aspire) (7.1.2)\n",
      "Requirement already satisfied: mrcfile in /usr/local/lib/python3.7/dist-packages (from aspire) (1.3.0)\n",
      "Requirement already satisfied: scikit-learn in /usr/local/lib/python3.7/dist-packages (from aspire) (0.22.2.post1)\n",
      "Requirement already satisfied: tqdm in /usr/local/lib/python3.7/dist-packages (from aspire) (4.62.3)\n",
      "Requirement already satisfied: numpy==1.16 in /usr/local/lib/python3.7/dist-packages (from aspire) (1.16.0)\n",
      "Requirement already satisfied: python-dateutil>=2.6.1 in /usr/local/lib/python3.7/dist-packages (from pandas==0.25.3->aspire) (2.8.2)\n",
      "Requirement already satisfied: pytz>=2017.2 in /usr/local/lib/python3.7/dist-packages (from pandas==0.25.3->aspire) (2018.9)\n",
      "Requirement already satisfied: zipp>=3.1.0 in /usr/local/lib/python3.7/dist-packages (from importlib-resources>=1.0.2->aspire) (3.5.0)\n",
      "Requirement already satisfied: six>=1.5 in /usr/local/lib/python3.7/dist-packages (from python-dateutil>=2.6.1->pandas==0.25.3->aspire) (1.15.0)\n",
      "Requirement already satisfied: kiwisolver>=1.0.1 in /usr/local/lib/python3.7/dist-packages (from matplotlib->aspire) (1.3.2)\n",
      "Requirement already satisfied: pyparsing!=2.0.4,!=2.1.2,!=2.1.6,>=2.0.1 in /usr/local/lib/python3.7/dist-packages (from matplotlib->aspire) (2.4.7)\n",
      "Requirement already satisfied: cycler>=0.10 in /usr/local/lib/python3.7/dist-packages (from matplotlib->aspire) (0.10.0)\n",
      "Requirement already satisfied: quaternionic in /usr/local/lib/python3.7/dist-packages (0.4.1)\n",
      "Requirement already satisfied: importlib-metadata>=1.0 in /usr/local/lib/python3.7/dist-packages (from quaternionic) (4.8.1)\n",
      "Requirement already satisfied: black>=20.8b1 in /usr/local/lib/python3.7/dist-packages (from quaternionic) (21.9b0)\n",
      "Requirement already satisfied: scipy<2.0,>=1.0 in /usr/local/lib/python3.7/dist-packages (from quaternionic) (1.4.0)\n",
      "Requirement already satisfied: numpy<2.0,>=1.13 in /usr/local/lib/python3.7/dist-packages (from quaternionic) (1.16.0)\n",
      "Requirement already satisfied: numba>=0.50 in /usr/local/lib/python3.7/dist-packages (from quaternionic) (0.51.2)\n",
      "Requirement already satisfied: platformdirs>=2 in /usr/local/lib/python3.7/dist-packages (from black>=20.8b1->quaternionic) (2.4.0)\n",
      "Requirement already satisfied: typing-extensions>=3.10.0.0 in /usr/local/lib/python3.7/dist-packages (from black>=20.8b1->quaternionic) (3.10.0.2)\n",
      "Requirement already satisfied: mypy-extensions>=0.4.3 in /usr/local/lib/python3.7/dist-packages (from black>=20.8b1->quaternionic) (0.4.3)\n",
      "Requirement already satisfied: tomli<2.0.0,>=0.2.6 in /usr/local/lib/python3.7/dist-packages (from black>=20.8b1->quaternionic) (1.2.1)\n",
      "Requirement already satisfied: regex>=2020.1.8 in /usr/local/lib/python3.7/dist-packages (from black>=20.8b1->quaternionic) (2021.9.30)\n",
      "Requirement already satisfied: typed-ast>=1.4.2 in /usr/local/lib/python3.7/dist-packages (from black>=20.8b1->quaternionic) (1.4.3)\n",
      "Requirement already satisfied: click>=7.1.2 in /usr/local/lib/python3.7/dist-packages (from black>=20.8b1->quaternionic) (7.1.2)\n",
      "Requirement already satisfied: pathspec<1,>=0.9.0 in /usr/local/lib/python3.7/dist-packages (from black>=20.8b1->quaternionic) (0.9.0)\n",
      "Requirement already satisfied: zipp>=0.5 in /usr/local/lib/python3.7/dist-packages (from importlib-metadata>=1.0->quaternionic) (3.5.0)\n",
      "Requirement already satisfied: llvmlite<0.35,>=0.34.0.dev0 in /usr/local/lib/python3.7/dist-packages (from numba>=0.50->quaternionic) (0.34.0)\n",
      "Requirement already satisfied: setuptools in /usr/local/lib/python3.7/dist-packages (from numba>=0.50->quaternionic) (57.4.0)\n"
     ]
    }
   ]
  },
  {
   "cell_type": "code",
   "metadata": {
    "collapsed": true,
    "id": "QfSQIRPDN-fm",
    "executionInfo": {
     "status": "ok",
     "timestamp": 1633269610452,
     "user_tz": -60,
     "elapsed": 1945,
     "user": {
      "displayName": "Willem Diepeveen",
      "photoUrl": "https://lh3.googleusercontent.com/a/default-user=s64",
      "userId": "07042451899018849244"
     }
    }
   },
   "source": [
    "import os\n",
    "import logging\n",
    "\n",
    "from projects.rkhs_lifting.experiments.experimentA1.E1_run import run_experiment\n",
    "from projects.rkhs_lifting.experiments.experimentA1.E2_post_processing import post_processing\n",
    "\n",
    "from tools.exp_tools import Exp\n",
    "\n",
    "logger = logging.getLogger(__name__)"
   ],
   "execution_count": 4,
   "outputs": []
  },
  {
   "cell_type": "code",
   "metadata": {
    "colab": {
     "base_uri": "https://localhost:8080/"
    },
    "id": "S0YYvJ_YN-fn",
    "executionInfo": {
     "status": "ok",
     "timestamp": 1633269610455,
     "user_tz": -60,
     "elapsed": 19,
     "user": {
      "displayName": "Willem Diepeveen",
      "photoUrl": "https://lh3.googleusercontent.com/a/default-user=s64",
      "userId": "07042451899018849244"
     }
    },
    "outputId": "26203c27-15cd-4bea-85ae-03035d30f954"
   },
   "source": [
    "# Experiment parameters\n",
    "img_size = 65  # was 65 before and was 129 in rotation estimation paper\n",
    "mr_repeat = 1 # number of times mesh refinement\n",
    "snr = 1 / 2  # [1/2, 1/4, 1/8, 1/16, 1/32, 1/64, 1/128, 1/256]\n",
    "num_imgs = 512  # [100, 500, 1000]\n",
    "\n",
    "# Directly start experiment\n",
    "exp = Exp()\n",
    "\n",
    "exp.begin(prefix=\"expA1\")  #, postfix=\"no_smudge\")\n",
    "exp.dbglevel(4)"
   ],
   "execution_count": 5,
   "outputs": [
    {
     "output_type": "stream",
     "name": "stdout",
     "text": [
      "2021-10-03 14:00:10,084 INFO Results folder is results/exp1_21-10-03_14-00-10\n"
     ]
    }
   ]
  },
  {
   "cell_type": "code",
   "metadata": {
    "id": "enQMCesTN-fn",
    "executionInfo": {
     "status": "ok",
     "timestamp": 1633269610456,
     "user_tz": -60,
     "elapsed": 16,
     "user": {
      "displayName": "Willem Diepeveen",
      "photoUrl": "https://lh3.googleusercontent.com/a/default-user=s64",
      "userId": "07042451899018849244"
     }
    }
   },
   "source": [
    "# Set data path\n",
    "data_dir = \"data\"\n",
    "data_filename = \"clean70SRibosome_vol_65p.mrc\"\n",
    "data_path = os.path.join(data_dir, data_filename)\n",
    "\n",
    "# Set results folder if skip_preprocessing\n",
    "# results_folder = \"results/lifting_21-04-21_11-09-45\"  # \"results/lifting_21-04-26_12-22-06\""
   ],
   "execution_count": 6,
   "outputs": []
  },
  {
   "cell_type": "code",
   "metadata": {
    "colab": {
     "base_uri": "https://localhost:8080/"
    },
    "id": "_8S3wedaN-fo",
    "outputId": "1734a84b-278a-4b7c-f480-631b04cdb6c9"
   },
   "source": [
    "# Experiment\n",
    "\n",
    "logger.info(\"Start Experiment\")\n",
    "logger.info(\"Running Experiment for SNR = {} and {} images\".format(snr, num_imgs))\n",
    "\n",
    "run_experiment(exp=exp,\n",
    "               num_imgs=num_imgs,\n",
    "               snr=snr,\n",
    "               img_size=img_size,\n",
    "               mr_repeat=mr_repeat,\n",
    "               data_path=data_path\n",
    "               )"
   ],
   "execution_count": null,
   "outputs": [
    {
     "output_type": "stream",
     "name": "stdout",
     "text": [
      "2021-10-03 14:00:10,135 INFO Start Experiment\n",
      "2021-10-03 14:00:10,138 INFO Running Experiment for SNR = 0.5 and 512 images\n",
      "2021-10-03 14:00:10,144 INFO This experiment illustrates orientation refinement using a lifting approach\n",
      "2021-10-03 14:00:10,146 INFO Initialize simulation object and CTF filters.\n",
      "2021-10-03 14:00:10,150 INFO Load 3D map and downsample 3D map to desired grids of 65 x 65 x 65.\n",
      "2021-10-03 14:00:10,167 INFO Use downsampled map to creat simulation object.\n",
      "2021-10-03 14:00:10,199 INFO Get true rotation angles generated randomly by the simulation object.\n",
      "2021-10-03 14:00:10,364 INFO Trying NFFT backend finufft\n",
      "2021-10-03 14:00:10,373 INFO NFFT backend finufft usable.\n",
      "2021-10-03 14:00:10,376 INFO Trying NFFT backend cufinufft\n",
      "2021-10-03 14:00:10,380 INFO NFFT backend cufinufft not usable:\n",
      "\tNo module named 'pycuda'\n",
      "2021-10-03 14:00:10,382 INFO Trying NFFT backend pynfft\n",
      "2021-10-03 14:00:10,385 INFO NFFT backend pynfft not usable:\n",
      "\tNo module named 'pynfft'\n",
      "2021-10-03 14:00:10,388 INFO Selected NFFT backend = finufft.\n",
      "2021-10-03 14:00:14,151 INFO Applying forward transformations in pipeline\n",
      "2021-10-03 14:00:14,154 INFO All forward transformations applied\n",
      "2021-10-03 14:00:14,164 INFO Loaded 512 images\n",
      "sigma^2 = 2.2260360221793007e-10\n",
      "2021-10-03 14:00:18,556 INFO Applying forward transformations in pipeline\n",
      "2021-10-03 14:00:18,563 INFO All forward transformations applied\n",
      "2021-10-03 14:00:18,565 INFO Loaded 512 images\n",
      "Initializing solver: get initial cost\n"
     ]
    }
   ]
  },
  {
   "cell_type": "code",
   "metadata": {
    "id": "swo0r4ydN-fp"
   },
   "source": [
    "logger.info(\"Start Postprocessing\")\n",
    "# Postprocessing\n",
    "post_processing(exp=exp,\n",
    "               num_imgs=num_imgs,\n",
    "               snr=snr,\n",
    "              #  results_folder=results_folder #?\n",
    "               )\n"
   ],
   "execution_count": null,
   "outputs": []
  }
 ]
}