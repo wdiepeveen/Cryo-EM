{
 "nbformat": 4,
 "nbformat_minor": 0,
 "metadata": {
  "colab": {
   "name": "experiment.ipynb",
   "provenance": [],
   "collapsed_sections": []
  },
  "kernelspec": {
   "display_name": "Python 3",
   "language": "python",
   "name": "python3"
  },
  "language_info": {
   "codemirror_mode": {
    "name": "ipython",
    "version": 2
   },
   "file_extension": ".py",
   "mimetype": "text/x-python",
   "name": "python",
   "nbconvert_exporter": "python",
   "pygments_lexer": "ipython2",
   "version": "2.7.6"
  },
  "accelerator": "GPU"
 },
 "cells": [
  {
   "cell_type": "markdown",
   "metadata": {
    "id": "ZacDoHPsOA_4"
   },
   "source": [
    "# **Experiment 1**: proof of concent from ground truth\n",
    "Vary noise level and number of images"
   ]
  },
  {
   "cell_type": "code",
   "metadata": {
    "colab": {
     "base_uri": "https://localhost:8080/"
    },
    "id": "kOadhnrzOavD",
    "executionInfo": {
     "status": "ok",
     "timestamp": 1633621538542,
     "user_tz": -60,
     "elapsed": 283,
     "user": {
      "displayName": "Willem Diepeveen",
      "photoUrl": "https://lh3.googleusercontent.com/a/default-user=s64",
      "userId": "07042451899018849244"
     }
    },
    "outputId": "d501d1ed-a2d0-40f0-d009-32672707b723"
   },
   "source": [
    "# Mount Google Drive\n",
    "from google.colab import drive # import drive from google colab\n",
    "drive.mount(\"/content/drive\")"
   ],
   "execution_count": 1,
   "outputs": [
    {
     "output_type": "stream",
     "name": "stdout",
     "text": [
      "Drive already mounted at /content/drive; to attempt to forcibly remount, call drive.mount(\"/content/drive\", force_remount=True).\n"
     ]
    }
   ]
  },
  {
   "cell_type": "code",
   "metadata": {
    "colab": {
     "base_uri": "https://localhost:8080/"
    },
    "id": "du6Qj3ihOduK",
    "executionInfo": {
     "status": "ok",
     "timestamp": 1633621538806,
     "user_tz": -60,
     "elapsed": 10,
     "user": {
      "displayName": "Willem Diepeveen",
      "photoUrl": "https://lh3.googleusercontent.com/a/default-user=s64",
      "userId": "07042451899018849244"
     }
    },
    "outputId": "de640a50-6d28-4c47-8438-ed7482b9561f"
   },
   "source": [
    "%cd /content/drive/MyDrive/PhD/Projects/2 - Cryo-EM/src/Cryo-EM"
   ],
   "execution_count": 2,
   "outputs": [
    {
     "output_type": "stream",
     "name": "stdout",
     "text": [
      "/content/drive/MyDrive/PhD/Projects/2 - Cryo-EM/src/Cryo-EM\n"
     ]
    }
   ]
  },
  {
   "cell_type": "code",
   "metadata": {
    "colab": {
     "base_uri": "https://localhost:8080/"
    },
    "id": "UWpBxh-QOumD",
    "executionInfo": {
     "status": "ok",
     "timestamp": 1633621551638,
     "user_tz": -60,
     "elapsed": 12838,
     "user": {
      "displayName": "Willem Diepeveen",
      "photoUrl": "https://lh3.googleusercontent.com/a/default-user=s64",
      "userId": "07042451899018849244"
     }
    },
    "outputId": "2dc68ba6-660a-44f1-c0a4-0410c4c43270"
   },
   "source": [
    "# install libraries in Colab env\n",
    "!pip install mrcfile\n",
    "!pip install aspire\n",
    "!pip install quaternionic\n",
    "!pip install pykeops[colab] > install.log"
   ],
   "execution_count": 3,
   "outputs": [
    {
     "output_type": "stream",
     "name": "stdout",
     "text": [
      "Requirement already satisfied: mrcfile in /usr/local/lib/python3.7/dist-packages (1.3.0)\n",
      "Requirement already satisfied: numpy>=1.12.0 in /usr/local/lib/python3.7/dist-packages (from mrcfile) (1.16.0)\n",
      "Requirement already satisfied: aspire in /usr/local/lib/python3.7/dist-packages (0.8.0)\n",
      "Requirement already satisfied: click in /usr/local/lib/python3.7/dist-packages (from aspire) (7.1.2)\n",
      "Requirement already satisfied: finufft==2.0.0 in /usr/local/lib/python3.7/dist-packages (from aspire) (2.0.0)\n",
      "Requirement already satisfied: numpy==1.16 in /usr/local/lib/python3.7/dist-packages (from aspire) (1.16.0)\n",
      "Requirement already satisfied: scikit-learn in /usr/local/lib/python3.7/dist-packages (from aspire) (0.22.2.post1)\n",
      "Requirement already satisfied: pillow in /usr/local/lib/python3.7/dist-packages (from aspire) (7.1.2)\n",
      "Requirement already satisfied: matplotlib in /usr/local/lib/python3.7/dist-packages (from aspire) (3.2.2)\n",
      "Requirement already satisfied: PyWavelets in /usr/local/lib/python3.7/dist-packages (from aspire) (1.1.1)\n",
      "Requirement already satisfied: tqdm in /usr/local/lib/python3.7/dist-packages (from aspire) (4.62.3)\n",
      "Requirement already satisfied: pyfftw in /usr/local/lib/python3.7/dist-packages (from aspire) (0.12.0)\n",
      "Requirement already satisfied: mrcfile in /usr/local/lib/python3.7/dist-packages (from aspire) (1.3.0)\n",
      "Requirement already satisfied: scipy==1.4.0 in /usr/local/lib/python3.7/dist-packages (from aspire) (1.4.0)\n",
      "Requirement already satisfied: pandas==0.25.3 in /usr/local/lib/python3.7/dist-packages (from aspire) (0.25.3)\n",
      "Requirement already satisfied: importlib-resources>=1.0.2 in /usr/local/lib/python3.7/dist-packages (from aspire) (5.2.2)\n",
      "Requirement already satisfied: setuptools>=0.41 in /usr/local/lib/python3.7/dist-packages (from aspire) (57.4.0)\n",
      "Requirement already satisfied: joblib in /usr/local/lib/python3.7/dist-packages (from aspire) (1.0.1)\n",
      "Requirement already satisfied: pytz>=2017.2 in /usr/local/lib/python3.7/dist-packages (from pandas==0.25.3->aspire) (2018.9)\n",
      "Requirement already satisfied: python-dateutil>=2.6.1 in /usr/local/lib/python3.7/dist-packages (from pandas==0.25.3->aspire) (2.8.2)\n",
      "Requirement already satisfied: zipp>=3.1.0 in /usr/local/lib/python3.7/dist-packages (from importlib-resources>=1.0.2->aspire) (3.6.0)\n",
      "Requirement already satisfied: six>=1.5 in /usr/local/lib/python3.7/dist-packages (from python-dateutil>=2.6.1->pandas==0.25.3->aspire) (1.15.0)\n",
      "Requirement already satisfied: cycler>=0.10 in /usr/local/lib/python3.7/dist-packages (from matplotlib->aspire) (0.10.0)\n",
      "Requirement already satisfied: pyparsing!=2.0.4,!=2.1.2,!=2.1.6,>=2.0.1 in /usr/local/lib/python3.7/dist-packages (from matplotlib->aspire) (2.4.7)\n",
      "Requirement already satisfied: kiwisolver>=1.0.1 in /usr/local/lib/python3.7/dist-packages (from matplotlib->aspire) (1.3.2)\n",
      "Requirement already satisfied: quaternionic in /usr/local/lib/python3.7/dist-packages (0.4.1)\n",
      "Requirement already satisfied: numba>=0.50 in /usr/local/lib/python3.7/dist-packages (from quaternionic) (0.51.2)\n",
      "Requirement already satisfied: importlib-metadata>=1.0 in /usr/local/lib/python3.7/dist-packages (from quaternionic) (4.8.1)\n",
      "Requirement already satisfied: black>=20.8b1 in /usr/local/lib/python3.7/dist-packages (from quaternionic) (21.9b0)\n",
      "Requirement already satisfied: numpy<2.0,>=1.13 in /usr/local/lib/python3.7/dist-packages (from quaternionic) (1.16.0)\n",
      "Requirement already satisfied: scipy<2.0,>=1.0 in /usr/local/lib/python3.7/dist-packages (from quaternionic) (1.4.0)\n",
      "Requirement already satisfied: tomli<2.0.0,>=0.2.6 in /usr/local/lib/python3.7/dist-packages (from black>=20.8b1->quaternionic) (1.2.1)\n",
      "Requirement already satisfied: typed-ast>=1.4.2 in /usr/local/lib/python3.7/dist-packages (from black>=20.8b1->quaternionic) (1.4.3)\n",
      "Requirement already satisfied: click>=7.1.2 in /usr/local/lib/python3.7/dist-packages (from black>=20.8b1->quaternionic) (7.1.2)\n",
      "Requirement already satisfied: platformdirs>=2 in /usr/local/lib/python3.7/dist-packages (from black>=20.8b1->quaternionic) (2.4.0)\n",
      "Requirement already satisfied: regex>=2020.1.8 in /usr/local/lib/python3.7/dist-packages (from black>=20.8b1->quaternionic) (2021.9.30)\n",
      "Requirement already satisfied: mypy-extensions>=0.4.3 in /usr/local/lib/python3.7/dist-packages (from black>=20.8b1->quaternionic) (0.4.3)\n",
      "Requirement already satisfied: typing-extensions>=3.10.0.0 in /usr/local/lib/python3.7/dist-packages (from black>=20.8b1->quaternionic) (3.10.0.2)\n",
      "Requirement already satisfied: pathspec<1,>=0.9.0 in /usr/local/lib/python3.7/dist-packages (from black>=20.8b1->quaternionic) (0.9.0)\n",
      "Requirement already satisfied: zipp>=0.5 in /usr/local/lib/python3.7/dist-packages (from importlib-metadata>=1.0->quaternionic) (3.6.0)\n",
      "Requirement already satisfied: llvmlite<0.35,>=0.34.0.dev0 in /usr/local/lib/python3.7/dist-packages (from numba>=0.50->quaternionic) (0.34.0)\n",
      "Requirement already satisfied: setuptools in /usr/local/lib/python3.7/dist-packages (from numba>=0.50->quaternionic) (57.4.0)\n"
     ]
    }
   ]
  },
  {
   "cell_type": "code",
   "metadata": {
    "collapsed": true,
    "id": "QfSQIRPDN-fm",
    "executionInfo": {
     "status": "ok",
     "timestamp": 1633621553161,
     "user_tz": -60,
     "elapsed": 1529,
     "user": {
      "displayName": "Willem Diepeveen",
      "photoUrl": "https://lh3.googleusercontent.com/a/default-user=s64",
      "userId": "07042451899018849244"
     }
    }
   },
   "source": [
    "import numpy as np\n",
    "import os\n",
    "import logging\n",
    "\n",
    "from projects.rkhs_lifting.experiments.experimentA1.E1_run import run_experiment\n",
    "from projects.rkhs_lifting.experiments.experimentA1.E2_post_processing import post_processing\n",
    "\n",
    "from tools.exp_tools import Exp\n",
    "\n",
    "logger = logging.getLogger(__name__)"
   ],
   "execution_count": 4,
   "outputs": []
  },
  {
   "cell_type": "code",
   "metadata": {
    "colab": {
     "base_uri": "https://localhost:8080/"
    },
    "id": "S0YYvJ_YN-fn",
    "executionInfo": {
     "status": "ok",
     "timestamp": 1633621553161,
     "user_tz": -60,
     "elapsed": 16,
     "user": {
      "displayName": "Willem Diepeveen",
      "photoUrl": "https://lh3.googleusercontent.com/a/default-user=s64",
      "userId": "07042451899018849244"
     }
    },
    "outputId": "0d1161f4-ad7d-4e6f-f3f5-da69ad45deaf"
   },
   "source": [
    "# Experiment parameters\n",
    "img_size = 65  # was 65 before and was 129 in rotation estimation paper\n",
    "mr_repeat = 1 # number of times mesh refinement\n",
    "snr = 1 / 2  # [1/2, 1/4, 1/8, 1/16, 1/32, 1/64, 1/128, 1/256]\n",
    "num_imgs = 512  # [100, 500, 1000]\n",
    "k = 20\n",
    "kernel_radius = np.pi/k  # radius of kernel\n",
    "\n",
    "# Directly start experiment\n",
    "exp = Exp()\n",
    "\n",
    "exp.begin(prefix=\"expA1_L{}_N{}_r{}_k{}\".format(img_size,num_imgs,mr_repeat,k))  #, postfix=\"no_smudge\")\n",
    "exp.dbglevel(4)"
   ],
   "execution_count": 5,
   "outputs": [
    {
     "output_type": "stream",
     "name": "stdout",
     "text": [
      "2021-10-07 15:45:52,912 INFO Results folder is results/expA1_L65_N512_R1_21-10-07_15-45-52\n"
     ]
    }
   ]
  },
  {
   "cell_type": "code",
   "metadata": {
    "id": "enQMCesTN-fn",
    "executionInfo": {
     "status": "ok",
     "timestamp": 1633621553162,
     "user_tz": -60,
     "elapsed": 13,
     "user": {
      "displayName": "Willem Diepeveen",
      "photoUrl": "https://lh3.googleusercontent.com/a/default-user=s64",
      "userId": "07042451899018849244"
     }
    }
   },
   "source": [
    "# Set data path\n",
    "data_dir = \"data\"\n",
    "data_filename = \"clean70SRibosome_vol_65p.mrc\"\n",
    "data_path = os.path.join(data_dir, data_filename)\n",
    "\n",
    "# Set results folder if skip_preprocessing\n",
    "# results_folder = \"results/lifting_21-04-21_11-09-45\"  # \"results/lifting_21-04-26_12-22-06\""
   ],
   "execution_count": 6,
   "outputs": []
  },
  {
   "cell_type": "code",
   "metadata": {
    "colab": {
     "base_uri": "https://localhost:8080/"
    },
    "id": "_8S3wedaN-fo",
    "executionInfo": {
     "status": "ok",
     "timestamp": 1633621791680,
     "user_tz": -60,
     "elapsed": 238530,
     "user": {
      "displayName": "Willem Diepeveen",
      "photoUrl": "https://lh3.googleusercontent.com/a/default-user=s64",
      "userId": "07042451899018849244"
     }
    },
    "outputId": "89228dae-74a1-4035-8229-f5142c1856ed"
   },
   "source": [
    "# Experiment\n",
    "\n",
    "logger.info(\"Start Experiment\")\n",
    "logger.info(\"Running Experiment for SNR = {} and {} images\".format(snr, num_imgs))\n",
    "\n",
    "run_experiment(exp=exp,\n",
    "               num_imgs=num_imgs,\n",
    "               snr=snr,\n",
    "               img_size=img_size,\n",
    "               kernel_radius=kernel_radius,\n",
    "               mr_repeat=mr_repeat,\n",
    "               data_path=data_path\n",
    "               )"
   ],
   "execution_count": 7,
   "outputs": [
    {
     "output_type": "stream",
     "name": "stdout",
     "text": [
      "2021-10-07 15:45:52,954 INFO Start Experiment\n",
      "2021-10-07 15:45:52,957 INFO Running Experiment for SNR = 0.5 and 512 images\n",
      "2021-10-07 15:45:52,959 INFO This experiment illustrates orientation refinement using a lifting approach\n",
      "2021-10-07 15:45:52,962 INFO Initialize simulation object and CTF filters.\n",
      "2021-10-07 15:45:52,965 INFO Load 3D map and downsample 3D map to desired grids of 65 x 65 x 65.\n",
      "2021-10-07 15:45:52,981 INFO Use downsampled map to creat simulation object.\n",
      "2021-10-07 15:45:53,013 INFO Get true rotation angles generated randomly by the simulation object.\n",
      "2021-10-07 15:45:53,219 INFO Trying NFFT backend finufft\n",
      "2021-10-07 15:45:53,228 INFO NFFT backend finufft usable.\n",
      "2021-10-07 15:45:53,232 INFO Trying NFFT backend cufinufft\n",
      "2021-10-07 15:45:53,236 INFO NFFT backend cufinufft not usable:\n",
      "\tNo module named 'pycuda'\n",
      "2021-10-07 15:45:53,239 INFO Trying NFFT backend pynfft\n",
      "2021-10-07 15:45:53,242 INFO NFFT backend pynfft not usable:\n",
      "\tNo module named 'pynfft'\n",
      "2021-10-07 15:45:53,246 INFO Selected NFFT backend = finufft.\n",
      "2021-10-07 15:45:56,916 INFO Applying forward transformations in pipeline\n",
      "2021-10-07 15:45:56,918 INFO All forward transformations applied\n",
      "2021-10-07 15:45:56,923 INFO Loaded 512 images\n",
      "sigma^2 = 2.2260360221793007e-10\n",
      "2021-10-07 15:46:00,621 INFO Applying forward transformations in pipeline\n",
      "2021-10-07 15:46:00,627 INFO All forward transformations applied\n",
      "2021-10-07 15:46:00,628 INFO Loaded 512 images\n",
      "2021-10-07 15:46:00,633 INFO Initializing density\n",
      "Start solver\n",
      "2021-10-07 15:46:00,647 INFO Computing qs\n",
      "2021-10-07 15:46:00,659 INFO Construct qs with batch size 8192\n",
      "2021-10-07 15:46:00,666 INFO Running through projections 0/14761 = 0.0%\n",
      "2021-10-07 15:46:47,171 INFO Running through projections 8192/14761 = 55.5%\n",
      "2021-10-07 15:47:23,656 INFO Computed qs, shape = (14761, 512)\n",
      "Start PPDHG\n",
      "start from 0 error= 0.001532918911286552\n",
      "initial error= 0.18625245988369044\n",
      "=============== ITERATION 1 ===============\n",
      "relerror = 1.0\n",
      "normalized_error = 121.50183451476374\n",
      "=============== ITERATION 2 ===============\n",
      "relerror = 0.016460734088710172\n",
      "normalized_error = 2.0000093892379938\n",
      "=============== ITERATION 3 ===============\n",
      "relerror = 0.00823032766680657\n",
      "normalized_error = 0.9999999101746135\n",
      "=============== ITERATION 4 ===============\n",
      "relerror = 0.008233670711366995\n",
      "normalized_error = 1.0004060962215697\n",
      "=============== ITERATION 5 ===============\n",
      "relerror = 0.008339638468197415\n",
      "normalized_error = 1.01328137307588\n",
      "=============== ITERATION 6 ===============\n",
      "relerror = 0.009270104935494723\n",
      "normalized_error = 1.1263347558069743\n",
      "=============== ITERATION 7 ===============\n",
      "relerror = 0.015108449716498032\n",
      "normalized_error = 1.8357043572285732\n",
      "=============== ITERATION 8 ===============\n",
      "relerror = 0.03915997001013184\n",
      "normalized_error = 4.75800819577415\n",
      "=============== ITERATION 9 ===============\n",
      "relerror = 0.08376865236899539\n",
      "normalized_error = 10.178044937662449\n",
      "=============== ITERATION 10 ===============\n",
      "relerror = 0.12343953859759267\n",
      "normalized_error = 14.998130391263496\n",
      "=============== ITERATION 11 ===============\n",
      "relerror = 0.16497663563670062\n",
      "normalized_error = 20.044963881932873\n",
      "=============== ITERATION 12 ===============\n",
      "relerror = 0.2595388403966656\n",
      "normalized_error = 31.534445236029338\n",
      "=============== ITERATION 13 ===============\n",
      "relerror = 0.38048391900091005\n",
      "normalized_error = 46.22949416197735\n",
      "=============== ITERATION 14 ===============\n",
      "relerror = 0.45087787283042613\n",
      "normalized_error = 54.782488691011125\n",
      "=============== ITERATION 15 ===============\n",
      "relerror = 0.4686986261233603\n",
      "normalized_error = 56.94774290853765\n",
      "=============== ITERATION 16 ===============\n",
      "relerror = 0.4851875402626628\n",
      "normalized_error = 58.95117622561933\n",
      "=============== ITERATION 17 ===============\n",
      "relerror = 0.49221899848194894\n",
      "normalized_error = 59.805511298576505\n",
      "=============== ITERATION 18 ===============\n",
      "relerror = 0.46950491133377753\n",
      "normalized_error = 57.04570804074546\n",
      "=============== ITERATION 19 ===============\n",
      "relerror = 0.4376985503382258\n",
      "normalized_error = 53.181176830547095\n",
      "=============== ITERATION 20 ===============\n",
      "relerror = 0.41081898517680143\n",
      "normalized_error = 49.91526035247491\n",
      "=============== ITERATION 21 ===============\n",
      "relerror = 0.3755687643182158\n",
      "normalized_error = 45.63229385110616\n",
      "=============== ITERATION 22 ===============\n",
      "relerror = 0.32494994661679266\n",
      "normalized_error = 39.48201463941486\n",
      "=============== ITERATION 23 ===============\n",
      "relerror = 0.28002550123506675\n",
      "normalized_error = 34.02361211097685\n",
      "=============== ITERATION 24 ===============\n",
      "relerror = 0.25113760426180365\n",
      "normalized_error = 30.51367963345189\n",
      "=============== ITERATION 25 ===============\n",
      "relerror = 0.23246817134898562\n",
      "normalized_error = 28.245309285194192\n",
      "=============== ITERATION 26 ===============\n",
      "relerror = 0.2177546678065661\n",
      "normalized_error = 26.45759161265075\n",
      "=============== ITERATION 27 ===============\n",
      "relerror = 0.20514936277233453\n",
      "normalized_error = 24.92602392637342\n",
      "=============== ITERATION 28 ===============\n",
      "relerror = 0.19443145857780997\n",
      "normalized_error = 23.62377890458521\n",
      "=============== ITERATION 29 ===============\n",
      "relerror = 0.1855583478525327\n",
      "normalized_error = 22.545679673611392\n",
      "=============== ITERATION 30 ===============\n",
      "relerror = 0.17835401036306367\n",
      "normalized_error = 21.67033945217742\n",
      "=============== ITERATION 31 ===============\n",
      "relerror = 0.17253104875159433\n",
      "normalized_error = 20.962838934074853\n",
      "=============== ITERATION 32 ===============\n",
      "relerror = 0.16775586369068707\n",
      "normalized_error = 20.382645189027123\n",
      "=============== ITERATION 33 ===============\n",
      "relerror = 0.1636780148330877\n",
      "normalized_error = 19.887179071954865\n",
      "=============== ITERATION 34 ===============\n",
      "relerror = 0.16006962369488892\n",
      "normalized_error = 19.448752929016898\n",
      "=============== ITERATION 35 ===============\n",
      "relerror = 0.1567945495195618\n",
      "normalized_error = 19.050825408542725\n",
      "=============== ITERATION 36 ===============\n",
      "relerror = 0.15370776174115505\n",
      "normalized_error = 18.675775030708557\n",
      "=============== ITERATION 37 ===============\n",
      "relerror = 0.1508170905264687\n",
      "normalized_error = 18.32455317514514\n",
      "=============== ITERATION 38 ===============\n",
      "relerror = 0.14805369099261284\n",
      "normalized_error = 17.98879506228441\n",
      "=============== ITERATION 39 ===============\n",
      "relerror = 0.1454311146746121\n",
      "normalized_error = 17.670147228492347\n",
      "=============== ITERATION 40 ===============\n",
      "relerror = 0.142970503517151\n",
      "normalized_error = 17.371178458833324\n",
      "=============== ITERATION 41 ===============\n",
      "relerror = 0.14059750383219197\n",
      "normalized_error = 17.08285464380785\n",
      "=============== ITERATION 42 ===============\n",
      "relerror = 0.13836679103586302\n",
      "normalized_error = 16.811818946778324\n",
      "=============== ITERATION 43 ===============\n",
      "relerror = 0.13626175515143266\n",
      "normalized_error = 16.556053225100626\n",
      "=============== ITERATION 44 ===============\n",
      "relerror = 0.13427389714074675\n",
      "normalized_error = 16.314524830047418\n",
      "=============== ITERATION 45 ===============\n",
      "relerror = 0.13236644561794608\n",
      "normalized_error = 16.08276597077916\n",
      "=============== ITERATION 46 ===============\n",
      "relerror = 0.13059854551626787\n",
      "normalized_error = 15.867962865186419\n",
      "=============== ITERATION 47 ===============\n",
      "relerror = 0.12890006226817433\n",
      "normalized_error = 15.661594034650458\n",
      "=============== ITERATION 48 ===============\n",
      "relerror = 0.12729107763166103\n",
      "normalized_error = 15.466099449608024\n",
      "=============== ITERATION 49 ===============\n",
      "relerror = 0.12575534046706485\n",
      "normalized_error = 15.279504566777087\n",
      "=============== ITERATION 50 ===============\n",
      "relerror = 0.12431419196947743\n",
      "normalized_error = 15.104402380512019\n",
      "=============== ITERATION 51 ===============\n",
      "relerror = 0.12296733171326613\n",
      "normalized_error = 14.940756388547321\n",
      "=============== ITERATION 52 ===============\n",
      "relerror = 0.1216651960557108\n",
      "normalized_error = 14.78254451736726\n",
      "=============== ITERATION 53 ===============\n",
      "relerror = 0.12041549521018645\n",
      "normalized_error = 14.6307035720414\n",
      "=============== ITERATION 54 ===============\n",
      "relerror = 0.11924048032305633\n",
      "normalized_error = 14.487937107672932\n",
      "=============== ITERATION 55 ===============\n",
      "relerror = 0.11812840020091835\n",
      "normalized_error = 14.352817332705765\n",
      "=============== ITERATION 56 ===============\n",
      "relerror = 0.11706066336132166\n",
      "normalized_error = 14.22308534791577\n",
      "=============== ITERATION 57 ===============\n",
      "relerror = 0.11605304054796967\n",
      "normalized_error = 14.100657327594575\n",
      "=============== ITERATION 58 ===============\n",
      "relerror = 0.11506579895510133\n",
      "normalized_error = 13.980705662951795\n",
      "=============== ITERATION 59 ===============\n",
      "relerror = 0.11412104989729005\n",
      "normalized_error = 13.865916919271632\n",
      "=============== ITERATION 60 ===============\n",
      "relerror = 0.11320522237605302\n",
      "normalized_error = 13.754642195342223\n",
      "=============== ITERATION 61 ===============\n",
      "relerror = 0.11231907640515772\n",
      "normalized_error = 13.646973834230577\n",
      "=============== ITERATION 62 ===============\n",
      "relerror = 0.1114655721262192\n",
      "normalized_error = 13.543271498573347\n",
      "=============== ITERATION 63 ===============\n",
      "relerror = 0.11063816903028528\n",
      "normalized_error = 13.442740504534182\n",
      "=============== ITERATION 64 ===============\n",
      "relerror = 0.1098400774085173\n",
      "normalized_error = 13.345770908378508\n",
      "=============== ITERATION 65 ===============\n",
      "relerror = 0.1090657668246744\n",
      "normalized_error = 13.2516907519574\n",
      "=============== ITERATION 66 ===============\n",
      "relerror = 0.10830193652181479\n",
      "normalized_error = 13.158883968901987\n",
      "=============== ITERATION 67 ===============\n",
      "relerror = 0.10755729712877103\n",
      "normalized_error = 13.068408916595212\n",
      "=============== ITERATION 68 ===============\n",
      "relerror = 0.10683027867367739\n",
      "normalized_error = 12.980074840575243\n",
      "=============== ITERATION 69 ===============\n",
      "relerror = 0.1061329319458594\n",
      "normalized_error = 12.895345933852491\n",
      "=============== ITERATION 70 ===============\n",
      "relerror = 0.10544432563776948\n",
      "normalized_error = 12.811679004161126\n",
      "=============== ITERATION 71 ===============\n",
      "relerror = 0.1047731403963893\n",
      "normalized_error = 12.7301287660342\n",
      "=============== ITERATION 72 ===============\n",
      "relerror = 0.10411567602286347\n",
      "normalized_error = 12.650245638522712\n",
      "=============== ITERATION 73 ===============\n",
      "relerror = 0.10347876298468374\n",
      "normalized_error = 12.572859535957503\n",
      "=============== ITERATION 74 ===============\n",
      "relerror = 0.10286926178956025\n",
      "normalized_error = 12.49880402261106\n",
      "=============== ITERATION 75 ===============\n",
      "relerror = 0.10226491096220461\n",
      "normalized_error = 12.425374288396833\n",
      "=============== ITERATION 76 ===============\n",
      "relerror = 0.1016695008514227\n",
      "normalized_error = 12.353030867648192\n",
      "=============== ITERATION 77 ===============\n",
      "relerror = 0.10108653171704847\n",
      "normalized_error = 12.282199048356238\n",
      "=============== ITERATION 78 ===============\n",
      "relerror = 0.1005214839234979\n",
      "normalized_error = 12.213544704851325\n",
      "=============== ITERATION 79 ===============\n",
      "relerror = 0.09996007653417488\n",
      "normalized_error = 12.145332677138434\n",
      "=============== ITERATION 80 ===============\n",
      "relerror = 0.09944009202853607\n",
      "normalized_error = 12.082153605784066\n",
      "=============== ITERATION 81 ===============\n",
      "relerror = 0.09892713809866271\n",
      "normalized_error = 12.019828762282897\n",
      "=============== ITERATION 82 ===============\n",
      "relerror = 0.0984341356133688\n",
      "normalized_error = 11.959928055899349\n",
      "=============== ITERATION 83 ===============\n",
      "relerror = 0.09794152329493695\n",
      "normalized_error = 11.900074755505306\n",
      "=============== ITERATION 84 ===============\n",
      "relerror = 0.09745907181279397\n",
      "normalized_error = 11.841456015360569\n",
      "=============== ITERATION 85 ===============\n",
      "relerror = 0.09700256210310522\n",
      "normalized_error = 11.785989248159584\n",
      "=============== ITERATION 86 ===============\n",
      "relerror = 0.09653033145527301\n",
      "normalized_error = 11.728612358133875\n",
      "=============== ITERATION 87 ===============\n",
      "relerror = 0.09607823223099278\n",
      "normalized_error = 11.673681473001125\n",
      "=============== ITERATION 88 ===============\n",
      "relerror = 0.0956331535332224\n",
      "normalized_error = 11.619603594718582\n",
      "=============== ITERATION 89 ===============\n",
      "relerror = 0.09519744546542548\n",
      "normalized_error = 11.566664265168374\n",
      "=============== ITERATION 90 ===============\n",
      "relerror = 0.0947731481558859\n",
      "normalized_error = 11.515111363679635\n",
      "=============== ITERATION 91 ===============\n",
      "relerror = 0.09435956154790855\n",
      "normalized_error = 11.464859832079648\n",
      "=============== ITERATION 92 ===============\n",
      "relerror = 0.09395445545673685\n",
      "normalized_error = 11.41563869882918\n",
      "=============== ITERATION 93 ===============\n",
      "relerror = 0.09355545971843478\n",
      "normalized_error = 11.367159984661907\n",
      "=============== ITERATION 94 ===============\n",
      "relerror = 0.09315333377064856\n",
      "normalized_error = 11.318300944299894\n",
      "=============== ITERATION 95 ===============\n",
      "relerror = 0.09276637879417096\n",
      "normalized_error = 11.271285204783249\n",
      "=============== ITERATION 96 ===============\n",
      "relerror = 0.09238948443776686\n",
      "normalized_error = 11.22549184906189\n",
      "=============== ITERATION 97 ===============\n",
      "relerror = 0.0920073096916974\n",
      "normalized_error = 11.179056916309236\n",
      "=============== ITERATION 98 ===============\n",
      "relerror = 0.09164332613432179\n",
      "normalized_error = 11.134832246354888\n",
      "=============== ITERATION 99 ===============\n",
      "relerror = 0.09126932187327916\n",
      "normalized_error = 11.08939004252187\n",
      "=============== ITERATION 100 ===============\n",
      "relerror = 0.0909110186446056\n",
      "normalized_error = 11.045855542925471\n",
      "2021-10-07 15:47:41,327 INFO Compute adjoint forward mapping on the images\n",
      "2021-10-07 15:48:44,440 INFO Determined adjoint mappings. Shape = (65, 65, 65)\n",
      "2021-10-07 15:49:49,866 INFO Computing non-centered Fourier Transform\n",
      "Solver has finished\n"
     ]
    },
    {
     "output_type": "stream",
     "name": "stderr",
     "text": [
      "/usr/local/lib/python3.7/dist-packages/scipy/spatial/transform/rotation.py:135: UserWarning: Gimbal lock detected. Setting third angle to zero since it is not possible to uniquely determine all angles.\n",
      "  warnings.warn(\"Gimbal lock detected. Setting third angle to zero since\"\n"
     ]
    }
   ]
  },
  {
   "cell_type": "code",
   "metadata": {
    "id": "swo0r4ydN-fp",
    "colab": {
     "base_uri": "https://localhost:8080/",
     "height": 655
    },
    "executionInfo": {
     "status": "ok",
     "timestamp": 1633621794570,
     "user_tz": -60,
     "elapsed": 2900,
     "user": {
      "displayName": "Willem Diepeveen",
      "photoUrl": "https://lh3.googleusercontent.com/a/default-user=s64",
      "userId": "07042451899018849244"
     }
    },
    "outputId": "92deae1d-00db-4688-a953-3221a0847d7d"
   },
   "source": [
    "logger.info(\"Start Postprocessing\")\n",
    "# Postprocessing\n",
    "post_processing(exp=exp,\n",
    "               num_imgs=num_imgs,\n",
    "               snr=snr,\n",
    "              #  results_folder=results_folder #?\n",
    "               )\n"
   ],
   "execution_count": 8,
   "outputs": [
    {
     "output_type": "stream",
     "name": "stdout",
     "text": [
      "2021-10-07 15:49:51,399 INFO Start Postprocessing\n",
      "2021-10-07 15:49:51,401 INFO Postprocessing started\n",
      "2021-10-07 15:49:51,879 INFO Applying forward transformations in pipeline\n",
      "2021-10-07 15:49:51,893 INFO All forward transformations applied\n",
      "2021-10-07 15:49:51,895 INFO Loaded 1 images\n",
      "2021-10-07 15:49:52,307 INFO Applying forward transformations in pipeline\n",
      "2021-10-07 15:49:52,316 INFO All forward transformations applied\n",
      "2021-10-07 15:49:52,324 INFO Loaded 1 images\n",
      "integrated (averaged) density = 15.633416392859562\n"
     ]
    },
    {
     "output_type": "display_data",
     "data": {
      "image/png": "[encoded data removed]",
      "text/plain": [
       "<Figure size 432x288 with 2 Axes>"
      ]
     },
     "metadata": {
      "needs_background": "light"
     }
    },
    {
     "output_type": "display_data",
     "data": {
      "image/png": "[encoded data removed]",
      "text/plain": [
       "<Figure size 432x288 with 1 Axes>"
      ]
     },
     "metadata": {
      "needs_background": "light"
     }
    }
   ]
  }
 ]
}