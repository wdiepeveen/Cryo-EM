{
 "cells": [
  {
   "cell_type": "markdown",
   "metadata": {
    "id": "ZacDoHPsOA_4"
   },
   "source": [
    "# **Experiment B1**: proof of concept local refinement\n",
    "Riemannian gradient descent with local regular integration\n",
    "\n",
    "Vary noise level and number of images"
   ]
  },
  {
   "cell_type": "code",
   "execution_count": 1,
   "metadata": {
    "colab": {
     "base_uri": "https://localhost:8080/"
    },
    "executionInfo": {
     "elapsed": 430,
     "status": "ok",
     "timestamp": 1633873606902,
     "user": {
      "displayName": "Willem Diepeveen",
      "photoUrl": "https://lh3.googleusercontent.com/a/default-user=s64",
      "userId": "07042451899018849244"
     },
     "user_tz": -60
    },
    "id": "kOadhnrzOavD",
    "outputId": "9a64226f-837e-4b40-aa86-4a7a7bbf4405"
   },
   "outputs": [
    {
     "name": "stdout",
     "output_type": "stream",
     "text": [
      "Drive already mounted at /content/drive; to attempt to forcibly remount, call drive.mount(\"/content/drive\", force_remount=True).\n"
     ]
    }
   ],
   "source": [
    "# Mount Google Drive\n",
    "from google.colab import drive # import drive from google colab\n",
    "drive.mount(\"/content/drive\")"
   ]
  },
  {
   "cell_type": "code",
   "execution_count": 5,
   "metadata": {
    "colab": {
     "base_uri": "https://localhost:8080/"
    },
    "executionInfo": {
     "elapsed": 8,
     "status": "ok",
     "timestamp": 1633873607994,
     "user": {
      "displayName": "Willem Diepeveen",
      "photoUrl": "https://lh3.googleusercontent.com/a/default-user=s64",
      "userId": "07042451899018849244"
     },
     "user_tz": -60
    },
    "id": "du6Qj3ihOduK",
    "outputId": "d2985af3-1e7e-421e-f83a-6756462b7ed2"
   },
   "outputs": [
    {
     "name": "stdout",
     "output_type": "stream",
     "text": [
      "[Errno 2] No such file or directory: '/content/drive/MyDrive/PhD/Projects/2 - Cryo-EM/src/Cryo-EM'\n",
      "/Users/wdiepeveen/Documents/PhD/Projects/2 - Cryo-EM/src/src/Cryo-EM/projects/rkhs_lifting/experiments/experimentB1\n"
     ]
    }
   ],
   "source": [
    "%cd /content/drive/MyDrive/PhD/Projects/2 - Cryo-EM/src/Cryo-EM"
   ]
  },
  {
   "cell_type": "code",
   "execution_count": 2,
   "metadata": {
    "colab": {
     "base_uri": "https://localhost:8080/"
    },
    "executionInfo": {
     "elapsed": 12301,
     "status": "ok",
     "timestamp": 1633873620290,
     "user": {
      "displayName": "Willem Diepeveen",
      "photoUrl": "https://lh3.googleusercontent.com/a/default-user=s64",
      "userId": "07042451899018849244"
     },
     "user_tz": -60
    },
    "id": "UWpBxh-QOumD",
    "outputId": "31ba5daf-69e5-4697-cda5-fa38b2589edd"
   },
   "outputs": [
    {
     "name": "stdout",
     "output_type": "stream",
     "text": [
      "Requirement already satisfied: mrcfile in /Users/wdiepeveen/PycharmProjects/Cryo-EM/lib/python3.6/site-packages (1.2.0)\n",
      "Requirement already satisfied: numpy>=1.12.0 in /Users/wdiepeveen/PycharmProjects/Cryo-EM/lib/python3.6/site-packages (from mrcfile) (1.16.0)\n",
      "\u001b[33mWARNING: You are using pip version 21.2.4; however, version 21.3.1 is available.\n",
      "You should consider upgrading via the '/Users/wdiepeveen/PycharmProjects/Cryo-EM/bin/python -m pip install --upgrade pip' command.\u001b[0m\n",
      "Requirement already satisfied: aspire in /Users/wdiepeveen/PycharmProjects/Cryo-EM/lib/python3.6/site-packages (0.6.2)\n",
      "Requirement already satisfied: scipy==1.4.0 in /Users/wdiepeveen/PycharmProjects/Cryo-EM/lib/python3.6/site-packages (from aspire) (1.4.0)\n",
      "Requirement already satisfied: sphinxcontrib-bibtex in /Users/wdiepeveen/PycharmProjects/Cryo-EM/lib/python3.6/site-packages (from aspire) (2.1.4)\n",
      "Requirement already satisfied: pyfftw in /Users/wdiepeveen/PycharmProjects/Cryo-EM/lib/python3.6/site-packages (from aspire) (0.12.0)\n",
      "Requirement already satisfied: sphinx-rtd-theme>=0.4.2 in /Users/wdiepeveen/PycharmProjects/Cryo-EM/lib/python3.6/site-packages (from aspire) (0.5.1)\n",
      "Requirement already satisfied: scikit-learn in /Users/wdiepeveen/PycharmProjects/Cryo-EM/lib/python3.6/site-packages (from aspire) (0.24.1)\n",
      "Requirement already satisfied: importlib-resources>=1.0.2 in /Users/wdiepeveen/PycharmProjects/Cryo-EM/lib/python3.6/site-packages (from aspire) (5.1.0)\n",
      "Requirement already satisfied: mrcfile in /Users/wdiepeveen/PycharmProjects/Cryo-EM/lib/python3.6/site-packages (from aspire) (1.2.0)\n",
      "Requirement already satisfied: matplotlib in /Users/wdiepeveen/PycharmProjects/Cryo-EM/lib/python3.6/site-packages (from aspire) (3.3.4)\n",
      "Requirement already satisfied: scikit-image==0.16.2 in /Users/wdiepeveen/PycharmProjects/Cryo-EM/lib/python3.6/site-packages (from aspire) (0.16.2)\n",
      "Requirement already satisfied: click in /Users/wdiepeveen/PycharmProjects/Cryo-EM/lib/python3.6/site-packages (from aspire) (7.1.2)\n",
      "Requirement already satisfied: joblib in /Users/wdiepeveen/PycharmProjects/Cryo-EM/lib/python3.6/site-packages (from aspire) (1.0.0)\n",
      "Requirement already satisfied: setuptools>=0.41 in /Users/wdiepeveen/PycharmProjects/Cryo-EM/lib/python3.6/site-packages (from aspire) (53.0.0)\n",
      "Requirement already satisfied: pytest in /Users/wdiepeveen/PycharmProjects/Cryo-EM/lib/python3.6/site-packages (from aspire) (6.2.2)\n",
      "Requirement already satisfied: pillow in /Users/wdiepeveen/PycharmProjects/Cryo-EM/lib/python3.6/site-packages (from aspire) (8.1.0)\n",
      "Requirement already satisfied: pandas==0.25.3 in /Users/wdiepeveen/PycharmProjects/Cryo-EM/lib/python3.6/site-packages (from aspire) (0.25.3)\n",
      "Requirement already satisfied: jupyter in /Users/wdiepeveen/PycharmProjects/Cryo-EM/lib/python3.6/site-packages (from aspire) (1.0.0)\n",
      "Requirement already satisfied: finufft in /Users/wdiepeveen/PycharmProjects/Cryo-EM/lib/python3.6/site-packages (from aspire) (2.0.0)\n",
      "Requirement already satisfied: numpy==1.16 in /Users/wdiepeveen/PycharmProjects/Cryo-EM/lib/python3.6/site-packages (from aspire) (1.16.0)\n",
      "Requirement already satisfied: tqdm in /Users/wdiepeveen/PycharmProjects/Cryo-EM/lib/python3.6/site-packages (from aspire) (4.56.0)\n",
      "Requirement already satisfied: numpydoc==0.7.0 in /Users/wdiepeveen/PycharmProjects/Cryo-EM/lib/python3.6/site-packages (from aspire) (0.7.0)\n",
      "Requirement already satisfied: pytest-cov in /Users/wdiepeveen/PycharmProjects/Cryo-EM/lib/python3.6/site-packages (from aspire) (2.11.1)\n",
      "Requirement already satisfied: sphinx>=1.2.3 in /Users/wdiepeveen/PycharmProjects/Cryo-EM/lib/python3.6/site-packages (from numpydoc==0.7.0->aspire) (3.4.3)\n",
      "Requirement already satisfied: Jinja2>=2.3 in /Users/wdiepeveen/PycharmProjects/Cryo-EM/lib/python3.6/site-packages (from numpydoc==0.7.0->aspire) (2.11.3)\n",
      "Requirement already satisfied: pytz>=2017.2 in /Users/wdiepeveen/PycharmProjects/Cryo-EM/lib/python3.6/site-packages (from pandas==0.25.3->aspire) (2021.1)\n",
      "Requirement already satisfied: python-dateutil>=2.6.1 in /Users/wdiepeveen/PycharmProjects/Cryo-EM/lib/python3.6/site-packages (from pandas==0.25.3->aspire) (2.8.1)\n",
      "Requirement already satisfied: imageio>=2.3.0 in /Users/wdiepeveen/PycharmProjects/Cryo-EM/lib/python3.6/site-packages (from scikit-image==0.16.2->aspire) (2.9.0)\n",
      "Requirement already satisfied: networkx>=2.0 in /Users/wdiepeveen/PycharmProjects/Cryo-EM/lib/python3.6/site-packages (from scikit-image==0.16.2->aspire) (2.5)\n",
      "Requirement already satisfied: PyWavelets>=0.4.0 in /Users/wdiepeveen/PycharmProjects/Cryo-EM/lib/python3.6/site-packages (from scikit-image==0.16.2->aspire) (1.1.1)\n",
      "Requirement already satisfied: zipp>=0.4 in /Users/wdiepeveen/PycharmProjects/Cryo-EM/lib/python3.6/site-packages (from importlib-resources>=1.0.2->aspire) (3.4.0)\n",
      "Requirement already satisfied: MarkupSafe>=0.23 in /Users/wdiepeveen/PycharmProjects/Cryo-EM/lib/python3.6/site-packages (from Jinja2>=2.3->numpydoc==0.7.0->aspire) (1.1.1)\n",
      "Requirement already satisfied: pyparsing!=2.0.4,!=2.1.2,!=2.1.6,>=2.0.3 in /Users/wdiepeveen/PycharmProjects/Cryo-EM/lib/python3.6/site-packages (from matplotlib->aspire) (2.4.7)\n",
      "Requirement already satisfied: cycler>=0.10 in /Users/wdiepeveen/PycharmProjects/Cryo-EM/lib/python3.6/site-packages (from matplotlib->aspire) (0.10.0)\n",
      "Requirement already satisfied: kiwisolver>=1.0.1 in /Users/wdiepeveen/PycharmProjects/Cryo-EM/lib/python3.6/site-packages (from matplotlib->aspire) (1.3.1)\n",
      "Requirement already satisfied: six in /Users/wdiepeveen/PycharmProjects/Cryo-EM/lib/python3.6/site-packages (from cycler>=0.10->matplotlib->aspire) (1.15.0)\n",
      "Requirement already satisfied: decorator>=4.3.0 in /Users/wdiepeveen/PycharmProjects/Cryo-EM/lib/python3.6/site-packages (from networkx>=2.0->scikit-image==0.16.2->aspire) (4.4.2)\n",
      "Requirement already satisfied: babel>=1.3 in /Users/wdiepeveen/PycharmProjects/Cryo-EM/lib/python3.6/site-packages (from sphinx>=1.2.3->numpydoc==0.7.0->aspire) (2.9.0)\n",
      "Requirement already satisfied: sphinxcontrib-qthelp in /Users/wdiepeveen/PycharmProjects/Cryo-EM/lib/python3.6/site-packages (from sphinx>=1.2.3->numpydoc==0.7.0->aspire) (1.0.3)\n",
      "Requirement already satisfied: requests>=2.5.0 in /Users/wdiepeveen/PycharmProjects/Cryo-EM/lib/python3.6/site-packages (from sphinx>=1.2.3->numpydoc==0.7.0->aspire) (2.25.1)\n",
      "Requirement already satisfied: docutils>=0.12 in /Users/wdiepeveen/PycharmProjects/Cryo-EM/lib/python3.6/site-packages (from sphinx>=1.2.3->numpydoc==0.7.0->aspire) (0.16)\n",
      "Requirement already satisfied: alabaster<0.8,>=0.7 in /Users/wdiepeveen/PycharmProjects/Cryo-EM/lib/python3.6/site-packages (from sphinx>=1.2.3->numpydoc==0.7.0->aspire) (0.7.12)\n",
      "Requirement already satisfied: sphinxcontrib-applehelp in /Users/wdiepeveen/PycharmProjects/Cryo-EM/lib/python3.6/site-packages (from sphinx>=1.2.3->numpydoc==0.7.0->aspire) (1.0.2)\n",
      "Requirement already satisfied: packaging in /Users/wdiepeveen/PycharmProjects/Cryo-EM/lib/python3.6/site-packages (from sphinx>=1.2.3->numpydoc==0.7.0->aspire) (20.9)\n",
      "Requirement already satisfied: imagesize in /Users/wdiepeveen/PycharmProjects/Cryo-EM/lib/python3.6/site-packages (from sphinx>=1.2.3->numpydoc==0.7.0->aspire) (1.2.0)\n",
      "Requirement already satisfied: sphinxcontrib-serializinghtml in /Users/wdiepeveen/PycharmProjects/Cryo-EM/lib/python3.6/site-packages (from sphinx>=1.2.3->numpydoc==0.7.0->aspire) (1.1.4)\n",
      "Requirement already satisfied: sphinxcontrib-jsmath in /Users/wdiepeveen/PycharmProjects/Cryo-EM/lib/python3.6/site-packages (from sphinx>=1.2.3->numpydoc==0.7.0->aspire) (1.0.1)\n",
      "Requirement already satisfied: Pygments>=2.0 in /Users/wdiepeveen/PycharmProjects/Cryo-EM/lib/python3.6/site-packages (from sphinx>=1.2.3->numpydoc==0.7.0->aspire) (2.7.4)\n",
      "Requirement already satisfied: sphinxcontrib-htmlhelp in /Users/wdiepeveen/PycharmProjects/Cryo-EM/lib/python3.6/site-packages (from sphinx>=1.2.3->numpydoc==0.7.0->aspire) (1.0.3)\n",
      "Requirement already satisfied: sphinxcontrib-devhelp in /Users/wdiepeveen/PycharmProjects/Cryo-EM/lib/python3.6/site-packages (from sphinx>=1.2.3->numpydoc==0.7.0->aspire) (1.0.2)\n",
      "Requirement already satisfied: snowballstemmer>=1.1 in /Users/wdiepeveen/PycharmProjects/Cryo-EM/lib/python3.6/site-packages (from sphinx>=1.2.3->numpydoc==0.7.0->aspire) (2.1.0)\n",
      "Requirement already satisfied: chardet<5,>=3.0.2 in /Users/wdiepeveen/PycharmProjects/Cryo-EM/lib/python3.6/site-packages (from requests>=2.5.0->sphinx>=1.2.3->numpydoc==0.7.0->aspire) (4.0.0)\n",
      "Requirement already satisfied: urllib3<1.27,>=1.21.1 in /Users/wdiepeveen/PycharmProjects/Cryo-EM/lib/python3.6/site-packages (from requests>=2.5.0->sphinx>=1.2.3->numpydoc==0.7.0->aspire) (1.26.3)\n",
      "Requirement already satisfied: idna<3,>=2.5 in /Users/wdiepeveen/PycharmProjects/Cryo-EM/lib/python3.6/site-packages (from requests>=2.5.0->sphinx>=1.2.3->numpydoc==0.7.0->aspire) (2.10)\n"
     ]
    },
    {
     "name": "stdout",
     "output_type": "stream",
     "text": [
      "Requirement already satisfied: certifi>=2017.4.17 in /Users/wdiepeveen/PycharmProjects/Cryo-EM/lib/python3.6/site-packages (from requests>=2.5.0->sphinx>=1.2.3->numpydoc==0.7.0->aspire) (2020.12.5)\n",
      "Requirement already satisfied: python-dotenv in /Users/wdiepeveen/PycharmProjects/Cryo-EM/lib/python3.6/site-packages (from finufft->aspire) (0.15.0)\n",
      "Requirement already satisfied: pybind11>=2.2 in /Users/wdiepeveen/PycharmProjects/Cryo-EM/lib/python3.6/site-packages (from finufft->aspire) (2.6.2)\n",
      "Requirement already satisfied: jupyter-console in /Users/wdiepeveen/PycharmProjects/Cryo-EM/lib/python3.6/site-packages (from jupyter->aspire) (6.2.0)\n",
      "Requirement already satisfied: qtconsole in /Users/wdiepeveen/PycharmProjects/Cryo-EM/lib/python3.6/site-packages (from jupyter->aspire) (5.0.2)\n",
      "Requirement already satisfied: ipykernel in /Users/wdiepeveen/PycharmProjects/Cryo-EM/lib/python3.6/site-packages (from jupyter->aspire) (5.4.3)\n",
      "Requirement already satisfied: ipywidgets in /Users/wdiepeveen/PycharmProjects/Cryo-EM/lib/python3.6/site-packages (from jupyter->aspire) (7.6.3)\n",
      "Requirement already satisfied: nbconvert in /Users/wdiepeveen/PycharmProjects/Cryo-EM/lib/python3.6/site-packages (from jupyter->aspire) (6.0.7)\n",
      "Requirement already satisfied: notebook in /Users/wdiepeveen/PycharmProjects/Cryo-EM/lib/python3.6/site-packages (from jupyter->aspire) (6.2.0)\n",
      "Requirement already satisfied: ipython>=5.0.0 in /Users/wdiepeveen/PycharmProjects/Cryo-EM/lib/python3.6/site-packages (from ipykernel->jupyter->aspire) (7.16.1)\n",
      "Requirement already satisfied: appnope in /Users/wdiepeveen/PycharmProjects/Cryo-EM/lib/python3.6/site-packages (from ipykernel->jupyter->aspire) (0.1.2)\n",
      "Requirement already satisfied: tornado>=4.2 in /Users/wdiepeveen/PycharmProjects/Cryo-EM/lib/python3.6/site-packages (from ipykernel->jupyter->aspire) (6.1)\n",
      "Requirement already satisfied: traitlets>=4.1.0 in /Users/wdiepeveen/PycharmProjects/Cryo-EM/lib/python3.6/site-packages (from ipykernel->jupyter->aspire) (4.3.3)\n",
      "Requirement already satisfied: jupyter-client in /Users/wdiepeveen/PycharmProjects/Cryo-EM/lib/python3.6/site-packages (from ipykernel->jupyter->aspire) (6.1.11)\n",
      "Requirement already satisfied: pickleshare in /Users/wdiepeveen/PycharmProjects/Cryo-EM/lib/python3.6/site-packages (from ipython>=5.0.0->ipykernel->jupyter->aspire) (0.7.5)\n",
      "Requirement already satisfied: jedi>=0.10 in /Users/wdiepeveen/PycharmProjects/Cryo-EM/lib/python3.6/site-packages (from ipython>=5.0.0->ipykernel->jupyter->aspire) (0.18.0)\n",
      "Requirement already satisfied: backcall in /Users/wdiepeveen/PycharmProjects/Cryo-EM/lib/python3.6/site-packages (from ipython>=5.0.0->ipykernel->jupyter->aspire) (0.2.0)\n",
      "Requirement already satisfied: prompt-toolkit!=3.0.0,!=3.0.1,<3.1.0,>=2.0.0 in /Users/wdiepeveen/PycharmProjects/Cryo-EM/lib/python3.6/site-packages (from ipython>=5.0.0->ipykernel->jupyter->aspire) (3.0.14)\n",
      "Requirement already satisfied: pexpect in /Users/wdiepeveen/PycharmProjects/Cryo-EM/lib/python3.6/site-packages (from ipython>=5.0.0->ipykernel->jupyter->aspire) (4.8.0)\n",
      "Requirement already satisfied: parso<0.9.0,>=0.8.0 in /Users/wdiepeveen/PycharmProjects/Cryo-EM/lib/python3.6/site-packages (from jedi>=0.10->ipython>=5.0.0->ipykernel->jupyter->aspire) (0.8.1)\n",
      "Requirement already satisfied: wcwidth in /Users/wdiepeveen/PycharmProjects/Cryo-EM/lib/python3.6/site-packages (from prompt-toolkit!=3.0.0,!=3.0.1,<3.1.0,>=2.0.0->ipython>=5.0.0->ipykernel->jupyter->aspire) (0.2.5)\n",
      "Requirement already satisfied: ipython-genutils in /Users/wdiepeveen/PycharmProjects/Cryo-EM/lib/python3.6/site-packages (from traitlets>=4.1.0->ipykernel->jupyter->aspire) (0.2.0)\n",
      "Requirement already satisfied: widgetsnbextension~=3.5.0 in /Users/wdiepeveen/PycharmProjects/Cryo-EM/lib/python3.6/site-packages (from ipywidgets->jupyter->aspire) (3.5.1)\n",
      "Requirement already satisfied: nbformat>=4.2.0 in /Users/wdiepeveen/PycharmProjects/Cryo-EM/lib/python3.6/site-packages (from ipywidgets->jupyter->aspire) (5.1.2)\n",
      "Requirement already satisfied: jupyterlab-widgets>=1.0.0 in /Users/wdiepeveen/PycharmProjects/Cryo-EM/lib/python3.6/site-packages (from ipywidgets->jupyter->aspire) (1.0.0)\n",
      "Requirement already satisfied: jupyter-core in /Users/wdiepeveen/PycharmProjects/Cryo-EM/lib/python3.6/site-packages (from nbformat>=4.2.0->ipywidgets->jupyter->aspire) (4.7.1)\n",
      "Requirement already satisfied: jsonschema!=2.5.0,>=2.4 in /Users/wdiepeveen/PycharmProjects/Cryo-EM/lib/python3.6/site-packages (from nbformat>=4.2.0->ipywidgets->jupyter->aspire) (3.2.0)\n",
      "Requirement already satisfied: attrs>=17.4.0 in /Users/wdiepeveen/PycharmProjects/Cryo-EM/lib/python3.6/site-packages (from jsonschema!=2.5.0,>=2.4->nbformat>=4.2.0->ipywidgets->jupyter->aspire) (20.3.0)\n",
      "Requirement already satisfied: importlib-metadata in /Users/wdiepeveen/PycharmProjects/Cryo-EM/lib/python3.6/site-packages (from jsonschema!=2.5.0,>=2.4->nbformat>=4.2.0->ipywidgets->jupyter->aspire) (1.7.0)\n",
      "Requirement already satisfied: pyrsistent>=0.14.0 in /Users/wdiepeveen/PycharmProjects/Cryo-EM/lib/python3.6/site-packages (from jsonschema!=2.5.0,>=2.4->nbformat>=4.2.0->ipywidgets->jupyter->aspire) (0.17.3)\n",
      "Requirement already satisfied: prometheus-client in /Users/wdiepeveen/PycharmProjects/Cryo-EM/lib/python3.6/site-packages (from notebook->jupyter->aspire) (0.9.0)\n",
      "Requirement already satisfied: argon2-cffi in /Users/wdiepeveen/PycharmProjects/Cryo-EM/lib/python3.6/site-packages (from notebook->jupyter->aspire) (20.1.0)\n",
      "Requirement already satisfied: terminado>=0.8.3 in /Users/wdiepeveen/PycharmProjects/Cryo-EM/lib/python3.6/site-packages (from notebook->jupyter->aspire) (0.9.2)\n",
      "Requirement already satisfied: Send2Trash>=1.5.0 in /Users/wdiepeveen/PycharmProjects/Cryo-EM/lib/python3.6/site-packages (from notebook->jupyter->aspire) (1.5.0)\n",
      "Requirement already satisfied: pyzmq>=17 in /Users/wdiepeveen/PycharmProjects/Cryo-EM/lib/python3.6/site-packages (from notebook->jupyter->aspire) (22.0.2)\n",
      "Requirement already satisfied: ptyprocess in /Users/wdiepeveen/PycharmProjects/Cryo-EM/lib/python3.6/site-packages (from terminado>=0.8.3->notebook->jupyter->aspire) (0.7.0)\n",
      "Requirement already satisfied: cffi>=1.0.0 in /Users/wdiepeveen/PycharmProjects/Cryo-EM/lib/python3.6/site-packages (from argon2-cffi->notebook->jupyter->aspire) (1.14.4)\n",
      "Requirement already satisfied: pycparser in /Users/wdiepeveen/PycharmProjects/Cryo-EM/lib/python3.6/site-packages (from cffi>=1.0.0->argon2-cffi->notebook->jupyter->aspire) (2.20)\n",
      "Requirement already satisfied: defusedxml in /Users/wdiepeveen/PycharmProjects/Cryo-EM/lib/python3.6/site-packages (from nbconvert->jupyter->aspire) (0.6.0)\n",
      "Requirement already satisfied: jupyterlab-pygments in /Users/wdiepeveen/PycharmProjects/Cryo-EM/lib/python3.6/site-packages (from nbconvert->jupyter->aspire) (0.1.2)\n",
      "Requirement already satisfied: bleach in /Users/wdiepeveen/PycharmProjects/Cryo-EM/lib/python3.6/site-packages (from nbconvert->jupyter->aspire) (3.3.0)\n",
      "Requirement already satisfied: entrypoints>=0.2.2 in /Users/wdiepeveen/PycharmProjects/Cryo-EM/lib/python3.6/site-packages (from nbconvert->jupyter->aspire) (0.3)\n",
      "Requirement already satisfied: testpath in /Users/wdiepeveen/PycharmProjects/Cryo-EM/lib/python3.6/site-packages (from nbconvert->jupyter->aspire) (0.4.4)\n",
      "Requirement already satisfied: mistune<2,>=0.8.1 in /Users/wdiepeveen/PycharmProjects/Cryo-EM/lib/python3.6/site-packages (from nbconvert->jupyter->aspire) (0.8.4)\n",
      "Requirement already satisfied: nbclient<0.6.0,>=0.5.0 in /Users/wdiepeveen/PycharmProjects/Cryo-EM/lib/python3.6/site-packages (from nbconvert->jupyter->aspire) (0.5.1)\n",
      "Requirement already satisfied: pandocfilters>=1.4.1 in /Users/wdiepeveen/PycharmProjects/Cryo-EM/lib/python3.6/site-packages (from nbconvert->jupyter->aspire) (1.4.3)\n",
      "Requirement already satisfied: nest-asyncio in /Users/wdiepeveen/PycharmProjects/Cryo-EM/lib/python3.6/site-packages (from nbclient<0.6.0,>=0.5.0->nbconvert->jupyter->aspire) (1.5.1)\n",
      "Requirement already satisfied: async-generator in /Users/wdiepeveen/PycharmProjects/Cryo-EM/lib/python3.6/site-packages (from nbclient<0.6.0,>=0.5.0->nbconvert->jupyter->aspire) (1.10)\n",
      "Requirement already satisfied: webencodings in /Users/wdiepeveen/PycharmProjects/Cryo-EM/lib/python3.6/site-packages (from bleach->nbconvert->jupyter->aspire) (0.5.1)\n"
     ]
    },
    {
     "name": "stdout",
     "output_type": "stream",
     "text": [
      "Requirement already satisfied: py>=1.8.2 in /Users/wdiepeveen/PycharmProjects/Cryo-EM/lib/python3.6/site-packages (from pytest->aspire) (1.10.0)\n",
      "Requirement already satisfied: iniconfig in /Users/wdiepeveen/PycharmProjects/Cryo-EM/lib/python3.6/site-packages (from pytest->aspire) (1.1.1)\n",
      "Requirement already satisfied: pluggy<1.0.0a1,>=0.12 in /Users/wdiepeveen/PycharmProjects/Cryo-EM/lib/python3.6/site-packages (from pytest->aspire) (0.13.1)\n",
      "Requirement already satisfied: toml in /Users/wdiepeveen/PycharmProjects/Cryo-EM/lib/python3.6/site-packages (from pytest->aspire) (0.10.2)\n",
      "Requirement already satisfied: coverage>=5.2.1 in /Users/wdiepeveen/PycharmProjects/Cryo-EM/lib/python3.6/site-packages (from pytest-cov->aspire) (5.4)\n",
      "Requirement already satisfied: qtpy in /Users/wdiepeveen/PycharmProjects/Cryo-EM/lib/python3.6/site-packages (from qtconsole->jupyter->aspire) (1.9.0)\n",
      "Requirement already satisfied: threadpoolctl>=2.0.0 in /Users/wdiepeveen/PycharmProjects/Cryo-EM/lib/python3.6/site-packages (from scikit-learn->aspire) (2.1.0)\n",
      "Requirement already satisfied: pybtex-docutils>=0.2.2 in /Users/wdiepeveen/PycharmProjects/Cryo-EM/lib/python3.6/site-packages (from sphinxcontrib-bibtex->aspire) (1.0.0)\n",
      "Requirement already satisfied: pybtex>=0.20 in /Users/wdiepeveen/PycharmProjects/Cryo-EM/lib/python3.6/site-packages (from sphinxcontrib-bibtex->aspire) (0.24.0)\n",
      "Requirement already satisfied: latexcodec>=1.0.4 in /Users/wdiepeveen/PycharmProjects/Cryo-EM/lib/python3.6/site-packages (from pybtex>=0.20->sphinxcontrib-bibtex->aspire) (2.0.1)\n",
      "Requirement already satisfied: PyYAML>=3.01 in /Users/wdiepeveen/PycharmProjects/Cryo-EM/lib/python3.6/site-packages (from pybtex>=0.20->sphinxcontrib-bibtex->aspire) (5.4.1)\n",
      "\u001b[33mWARNING: You are using pip version 21.2.4; however, version 21.3.1 is available.\n",
      "You should consider upgrading via the '/Users/wdiepeveen/PycharmProjects/Cryo-EM/bin/python -m pip install --upgrade pip' command.\u001b[0m\n",
      "Requirement already satisfied: quaternionic in /Users/wdiepeveen/PycharmProjects/Cryo-EM/lib/python3.6/site-packages (0.3.4)\n",
      "Requirement already satisfied: numba>=0.50 in /Users/wdiepeveen/PycharmProjects/Cryo-EM/lib/python3.6/site-packages (from quaternionic) (0.53.1)\n",
      "Requirement already satisfied: numpy<2.0,>=1.13 in /Users/wdiepeveen/PycharmProjects/Cryo-EM/lib/python3.6/site-packages (from quaternionic) (1.16.0)\n",
      "Requirement already satisfied: importlib-metadata>=1.0 in /Users/wdiepeveen/PycharmProjects/Cryo-EM/lib/python3.6/site-packages (from quaternionic) (1.7.0)\n",
      "Requirement already satisfied: scipy<2.0,>=1.0 in /Users/wdiepeveen/PycharmProjects/Cryo-EM/lib/python3.6/site-packages (from quaternionic) (1.4.0)\n",
      "Requirement already satisfied: black>=20.8b1 in /Users/wdiepeveen/PycharmProjects/Cryo-EM/lib/python3.6/site-packages (from quaternionic) (20.8b1)\n",
      "Requirement already satisfied: typed-ast>=1.4.0 in /Users/wdiepeveen/PycharmProjects/Cryo-EM/lib/python3.6/site-packages (from black>=20.8b1->quaternionic) (1.4.3)\n",
      "Requirement already satisfied: regex>=2020.1.8 in /Users/wdiepeveen/PycharmProjects/Cryo-EM/lib/python3.6/site-packages (from black>=20.8b1->quaternionic) (2021.4.4)\n",
      "Requirement already satisfied: typing-extensions>=3.7.4 in /Users/wdiepeveen/PycharmProjects/Cryo-EM/lib/python3.6/site-packages (from black>=20.8b1->quaternionic) (3.7.4.3)\n",
      "Requirement already satisfied: click>=7.1.2 in /Users/wdiepeveen/PycharmProjects/Cryo-EM/lib/python3.6/site-packages (from black>=20.8b1->quaternionic) (7.1.2)\n",
      "Requirement already satisfied: dataclasses>=0.6 in /Users/wdiepeveen/PycharmProjects/Cryo-EM/lib/python3.6/site-packages (from black>=20.8b1->quaternionic) (0.8)\n",
      "Requirement already satisfied: appdirs in /Users/wdiepeveen/PycharmProjects/Cryo-EM/lib/python3.6/site-packages (from black>=20.8b1->quaternionic) (1.4.4)\n",
      "Requirement already satisfied: mypy-extensions>=0.4.3 in /Users/wdiepeveen/PycharmProjects/Cryo-EM/lib/python3.6/site-packages (from black>=20.8b1->quaternionic) (0.4.3)\n",
      "Requirement already satisfied: toml>=0.10.1 in /Users/wdiepeveen/PycharmProjects/Cryo-EM/lib/python3.6/site-packages (from black>=20.8b1->quaternionic) (0.10.2)\n",
      "Requirement already satisfied: pathspec<1,>=0.6 in /Users/wdiepeveen/PycharmProjects/Cryo-EM/lib/python3.6/site-packages (from black>=20.8b1->quaternionic) (0.8.1)\n",
      "Requirement already satisfied: zipp>=0.5 in /Users/wdiepeveen/PycharmProjects/Cryo-EM/lib/python3.6/site-packages (from importlib-metadata>=1.0->quaternionic) (3.4.0)\n",
      "Requirement already satisfied: llvmlite<0.37,>=0.36.0rc1 in /Users/wdiepeveen/PycharmProjects/Cryo-EM/lib/python3.6/site-packages (from numba>=0.50->quaternionic) (0.36.0)\n",
      "Requirement already satisfied: setuptools in /Users/wdiepeveen/PycharmProjects/Cryo-EM/lib/python3.6/site-packages (from numba>=0.50->quaternionic) (53.0.0)\n",
      "\u001b[33mWARNING: You are using pip version 21.2.4; however, version 21.3.1 is available.\n",
      "You should consider upgrading via the '/Users/wdiepeveen/PycharmProjects/Cryo-EM/bin/python -m pip install --upgrade pip' command.\u001b[0m\n",
      "zsh:1: no matches found: pykeops[colab]\n"
     ]
    }
   ],
   "source": [
    "# install libraries in Colab env\n",
    "!pip install mrcfile\n",
    "!pip install aspire\n",
    "!pip install quaternionic\n",
    "!pip install pykeops[colab] > install.log"
   ]
  },
  {
   "cell_type": "code",
   "execution_count": 1,
   "metadata": {},
   "outputs": [
    {
     "name": "stdout",
     "output_type": "stream",
     "text": [
      "/Users/wdiepeveen/Documents/PhD/Projects/2 - Cryo-EM/src/src/Cryo-EM\n"
     ]
    }
   ],
   "source": [
    "%cd ../../../.."
   ]
  },
  {
   "cell_type": "code",
   "execution_count": 2,
   "metadata": {
    "executionInfo": {
     "elapsed": 27633,
     "status": "ok",
     "timestamp": 1633873647916,
     "user": {
      "displayName": "Willem Diepeveen",
      "photoUrl": "https://lh3.googleusercontent.com/a/default-user=s64",
      "userId": "07042451899018849244"
     },
     "user_tz": -60
    },
    "id": "QfSQIRPDN-fm",
    "pycharm": {
     "is_executing": true
    }
   },
   "outputs": [
    {
     "name": "stdout",
     "output_type": "stream",
     "text": [
      "[pyKeOps]: Warning, no cuda detected. Switching to cpu only.\n"
     ]
    }
   ],
   "source": [
    "import numpy as np\n",
    "import os\n",
    "import logging\n",
    "\n",
    "from projects.rkhs_lifting.experiments.experimentB1.E1_run import run_experiment\n",
    "from projects.rkhs_lifting.experiments.experimentB1.E2_post_processing import post_processing\n",
    "\n",
    "from tools.exp_tools import Exp\n",
    "\n",
    "logger = logging.getLogger(__name__)"
   ]
  },
  {
   "cell_type": "code",
   "execution_count": 3,
   "metadata": {
    "pycharm": {
     "name": "#%%\n"
    }
   },
   "outputs": [],
   "source": [
    "# Set data path\n",
    "data_dir = os.path.join(\"results\",\"expA2_21-10-27_10-39-37_L65_N512_r2_k90_lamV10_lamD-10\")\n",
    "data_filename = \"solver_data_2SNR_512N\"\n",
    "# data_path = os.path.join(data_dir, data_filename)\n",
    "\n",
    "# Set results folder if skip_preprocessing\n",
    "# results_folder = \"results/lifting_21-04-21_11-09-45\"  # \"results/lifting_21-04-26_12-22-06\""
   ]
  },
  {
   "cell_type": "code",
   "execution_count": 4,
   "metadata": {
    "colab": {
     "base_uri": "https://localhost:8080/"
    },
    "executionInfo": {
     "elapsed": 403,
     "status": "ok",
     "timestamp": 1633873648310,
     "user": {
      "displayName": "Willem Diepeveen",
      "photoUrl": "https://lh3.googleusercontent.com/a/default-user=s64",
      "userId": "07042451899018849244"
     },
     "user_tz": -60
    },
    "id": "S0YYvJ_YN-fn",
    "outputId": "1de71b43-a15c-47a5-de2d-6596d3169faf"
   },
   "outputs": [
    {
     "name": "stdout",
     "output_type": "stream",
     "text": [
      "2021-10-27 19:25:55,881 INFO Results folder is results/expB1_21-10-27_19-25-55_L65_N1_l3_k90_lamV10\n"
     ]
    }
   ],
   "source": [
    "# TODO load data from experiment A: initial volume and images (gt rots)\n",
    "# TODO select a subset of these images to test the algorithm over\n",
    "\n",
    "# Experiment parameters\n",
    "img_size = 65  # was 65 before and was 129 in rotation estimation paper\n",
    "snr = 1 / 2  # [1/2, 1/4, 1/8, 1/16, 1/32, 1/64, 1/128, 1/256]\n",
    "num_imgs = 1  # 512 capped\n",
    "k = 90\n",
    "l = 3\n",
    "kernel_radius = np.pi/k  # radius of kernel\n",
    "sep_dist = np.pi/180\n",
    "volume_reg_param = 1e10\n",
    "rots_batch_size = 8192\n",
    "\n",
    "step_size_gd = 10**-5  # TODO test in run_\n",
    "stop_rots_gd = 5\n",
    "\n",
    "# Directly start experiment\n",
    "exp = Exp()\n",
    "\n",
    "exp.begin(prefix=\"expB1\" , postfix=\"L{}_N{}_l{}_k{}_lamV{}\".format(img_size,num_imgs,l,k,int(np.log(volume_reg_param)/np.log(10))))\n",
    "exp.dbglevel(4)"
   ]
  },
  {
   "cell_type": "code",
   "execution_count": null,
   "metadata": {
    "colab": {
     "base_uri": "https://localhost:8080/"
    },
    "executionInfo": {
     "elapsed": 1772417,
     "status": "ok",
     "timestamp": 1633875420719,
     "user": {
      "displayName": "Willem Diepeveen",
      "photoUrl": "https://lh3.googleusercontent.com/a/default-user=s64",
      "userId": "07042451899018849244"
     },
     "user_tz": -60
    },
    "id": "_8S3wedaN-fo",
    "outputId": "1e6b8f6b-197c-4319-9298-d477abbd8bb8"
   },
   "outputs": [
    {
     "name": "stdout",
     "output_type": "stream",
     "text": [
      "2021-10-27 19:25:55,891 INFO Start Experiment\n",
      "2021-10-27 19:25:55,893 INFO Running Experiment for SNR = 0.5 and 1 images\n",
      "2021-10-27 19:25:55,894 INFO This experiment illustrates orientation refinement using a lifting approach\n",
      "2021-10-27 19:25:57,610 INFO Load 3D map and downsample 3D map to desired grids of 65 x 65 x 65.\n",
      "Start solver\n",
      "Start Riemannian Gradient Descent Solver\n",
      "2021-10-27 19:25:57,631 INFO Trying NFFT backend finufft\n",
      "2021-10-27 19:25:57,647 INFO NFFT backend finufft usable.\n",
      "2021-10-27 19:25:57,648 INFO Trying NFFT backend cufinufft\n",
      "2021-10-27 19:25:57,651 INFO NFFT backend cufinufft not usable:\n",
      "\tNo module named 'pycuda'\n",
      "2021-10-27 19:25:57,652 INFO Trying NFFT backend pynfft\n",
      "2021-10-27 19:25:57,654 INFO NFFT backend pynfft not usable:\n",
      "\tNo module named 'pynfft'\n",
      "2021-10-27 19:25:57,655 INFO Selected NFFT backend = finufft.\n",
      "2021-10-27 19:25:57,754 INFO 0 | k = 0 | cost = 0.7045881748199463\n",
      "2021-10-27 19:25:57,756 INFO Computing qs\n",
      "2021-10-27 19:25:58,934 INFO 0 | k = 1 | cost = 0.7045881748199463\n",
      "2021-10-27 19:25:58,936 INFO Computing qs\n",
      "2021-10-27 19:26:00,095 INFO 0 | k = 2 | cost = 0.7045881748199463\n",
      "2021-10-27 19:26:00,097 INFO Computing qs\n"
     ]
    }
   ],
   "source": [
    "# Experiment\n",
    "\n",
    "logger.info(\"Start Experiment\")\n",
    "logger.info(\"Running Experiment for SNR = {} and {} images\".format(snr, num_imgs))\n",
    "\n",
    "run_experiment(exp=exp,\n",
    "               num_imgs=num_imgs,\n",
    "               snr=snr,\n",
    "               img_size=img_size,\n",
    "               kernel_radius=kernel_radius,\n",
    "               l=l,\n",
    "               sep_dist=sep_dist,\n",
    "               volume_reg_param=volume_reg_param,\n",
    "               data_dir=data_dir,\n",
    "               data_filename=data_filename,\n",
    "               )"
   ]
  },
  {
   "cell_type": "code",
   "execution_count": 8,
   "metadata": {
    "colab": {
     "base_uri": "https://localhost:8080/",
     "height": 655
    },
    "executionInfo": {
     "elapsed": 10572,
     "status": "ok",
     "timestamp": 1633875431270,
     "user": {
      "displayName": "Willem Diepeveen",
      "photoUrl": "https://lh3.googleusercontent.com/a/default-user=s64",
      "userId": "07042451899018849244"
     },
     "user_tz": -60
    },
    "id": "swo0r4ydN-fp",
    "outputId": "68390906-487d-403e-fa3f-a5dda11695cc"
   },
   "outputs": [
    {
     "name": "stdout",
     "output_type": "stream",
     "text": [
      "2021-10-10 14:17:00,140 INFO Start Postprocessing\n",
      "2021-10-10 14:17:00,150 INFO Postprocessing started\n",
      "2021-10-10 14:17:00,994 INFO Applying forward transformations in pipeline\n",
      "2021-10-10 14:17:00,998 INFO All forward transformations applied\n",
      "2021-10-10 14:17:01,002 INFO Loaded 1 images\n",
      "2021-10-10 14:17:01,426 INFO Applying forward transformations in pipeline\n",
      "2021-10-10 14:17:01,433 INFO All forward transformations applied\n",
      "2021-10-10 14:17:01,435 INFO Loaded 1 images\n",
      "integrated (averaged) density = 19.78565742339277\n"
     ]
    },
    {
     "data": {
      "image/png": "[encoded data removed]",
      "text/plain": [
       "<Figure size 432x288 with 2 Axes>"
      ]
     },
     "metadata": {
      "needs_background": "light"
     },
     "output_type": "display_data"
    },
    {
     "data": {
      "image/png": "[encoded data removed]",
      "text/plain": [
       "<Figure size 432x288 with 1 Axes>"
      ]
     },
     "metadata": {
      "needs_background": "light"
     },
     "output_type": "display_data"
    }
   ],
   "source": [
    "logger.info(\"Start Postprocessing\")\n",
    "# Postprocessing\n",
    "post_processing(exp=exp,\n",
    "               num_imgs=num_imgs,\n",
    "               snr=snr,\n",
    "              #  results_folder=results_folder #?\n",
    "               )\n"
   ]
  }
 ],
 "metadata": {
  "accelerator": "GPU",
  "colab": {
   "collapsed_sections": [],
   "name": "experiment.ipynb",
   "provenance": []
  },
  "kernelspec": {
   "display_name": "Python 3",
   "language": "python",
   "name": "python3"
  },
  "language_info": {
   "codemirror_mode": {
    "name": "ipython",
    "version": 3
   },
   "file_extension": ".py",
   "mimetype": "text/x-python",
   "name": "python",
   "nbconvert_exporter": "python",
   "pygments_lexer": "ipython3",
   "version": "3.6.12"
  }
 },
 "nbformat": 4,
 "nbformat_minor": 1
}
