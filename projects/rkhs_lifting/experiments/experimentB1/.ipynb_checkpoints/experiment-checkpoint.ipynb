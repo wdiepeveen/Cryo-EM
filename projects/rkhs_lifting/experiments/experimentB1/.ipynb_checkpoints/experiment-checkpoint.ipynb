{
 "cells": [
  {
   "cell_type": "markdown",
   "metadata": {
    "id": "ZacDoHPsOA_4"
   },
   "source": [
    "# **Experiment B1**: proof of concept local refinement\n",
    "Riemannian gradient descent with local regular integration\n",
    "\n",
    "Vary noise level and number of images"
   ]
  },
  {
   "cell_type": "code",
   "execution_count": 1,
   "metadata": {
    "colab": {
     "base_uri": "https://localhost:8080/"
    },
    "executionInfo": {
     "elapsed": 430,
     "status": "ok",
     "timestamp": 1633873606902,
     "user": {
      "displayName": "Willem Diepeveen",
      "photoUrl": "https://lh3.googleusercontent.com/a/default-user=s64",
      "userId": "07042451899018849244"
     },
     "user_tz": -60
    },
    "id": "kOadhnrzOavD",
    "outputId": "9a64226f-837e-4b40-aa86-4a7a7bbf4405"
   },
   "outputs": [
    {
     "name": "stdout",
     "output_type": "stream",
     "text": [
      "Drive already mounted at /content/drive; to attempt to forcibly remount, call drive.mount(\"/content/drive\", force_remount=True).\n"
     ]
    }
   ],
   "source": [
    "# Mount Google Drive\n",
    "from google.colab import drive # import drive from google colab\n",
    "drive.mount(\"/content/drive\")"
   ]
  },
  {
   "cell_type": "code",
   "execution_count": 5,
   "metadata": {
    "colab": {
     "base_uri": "https://localhost:8080/"
    },
    "executionInfo": {
     "elapsed": 8,
     "status": "ok",
     "timestamp": 1633873607994,
     "user": {
      "displayName": "Willem Diepeveen",
      "photoUrl": "https://lh3.googleusercontent.com/a/default-user=s64",
      "userId": "07042451899018849244"
     },
     "user_tz": -60
    },
    "id": "du6Qj3ihOduK",
    "outputId": "d2985af3-1e7e-421e-f83a-6756462b7ed2"
   },
   "outputs": [
    {
     "name": "stdout",
     "output_type": "stream",
     "text": [
      "[Errno 2] No such file or directory: '/content/drive/MyDrive/PhD/Projects/2 - Cryo-EM/src/Cryo-EM'\n",
      "/Users/wdiepeveen/Documents/PhD/Projects/2 - Cryo-EM/src/src/Cryo-EM/projects/rkhs_lifting/experiments/experimentB1\n"
     ]
    }
   ],
   "source": [
    "%cd /content/drive/MyDrive/PhD/Projects/2 - Cryo-EM/src/Cryo-EM"
   ]
  },
  {
   "cell_type": "code",
   "execution_count": 2,
   "metadata": {
    "colab": {
     "base_uri": "https://localhost:8080/"
    },
    "executionInfo": {
     "elapsed": 12301,
     "status": "ok",
     "timestamp": 1633873620290,
     "user": {
      "displayName": "Willem Diepeveen",
      "photoUrl": "https://lh3.googleusercontent.com/a/default-user=s64",
      "userId": "07042451899018849244"
     },
     "user_tz": -60
    },
    "id": "UWpBxh-QOumD",
    "outputId": "31ba5daf-69e5-4697-cda5-fa38b2589edd"
   },
   "outputs": [
    {
     "name": "stdout",
     "output_type": "stream",
     "text": [
      "Requirement already satisfied: mrcfile in /Users/wdiepeveen/PycharmProjects/Cryo-EM/lib/python3.6/site-packages (1.2.0)\n",
      "Requirement already satisfied: numpy>=1.12.0 in /Users/wdiepeveen/PycharmProjects/Cryo-EM/lib/python3.6/site-packages (from mrcfile) (1.16.0)\n",
      "\u001b[33mWARNING: You are using pip version 21.2.4; however, version 21.3.1 is available.\n",
      "You should consider upgrading via the '/Users/wdiepeveen/PycharmProjects/Cryo-EM/bin/python -m pip install --upgrade pip' command.\u001b[0m\n",
      "Requirement already satisfied: aspire in /Users/wdiepeveen/PycharmProjects/Cryo-EM/lib/python3.6/site-packages (0.6.2)\n",
      "Requirement already satisfied: scipy==1.4.0 in /Users/wdiepeveen/PycharmProjects/Cryo-EM/lib/python3.6/site-packages (from aspire) (1.4.0)\n",
      "Requirement already satisfied: sphinxcontrib-bibtex in /Users/wdiepeveen/PycharmProjects/Cryo-EM/lib/python3.6/site-packages (from aspire) (2.1.4)\n",
      "Requirement already satisfied: pyfftw in /Users/wdiepeveen/PycharmProjects/Cryo-EM/lib/python3.6/site-packages (from aspire) (0.12.0)\n",
      "Requirement already satisfied: sphinx-rtd-theme>=0.4.2 in /Users/wdiepeveen/PycharmProjects/Cryo-EM/lib/python3.6/site-packages (from aspire) (0.5.1)\n",
      "Requirement already satisfied: scikit-learn in /Users/wdiepeveen/PycharmProjects/Cryo-EM/lib/python3.6/site-packages (from aspire) (0.24.1)\n",
      "Requirement already satisfied: importlib-resources>=1.0.2 in /Users/wdiepeveen/PycharmProjects/Cryo-EM/lib/python3.6/site-packages (from aspire) (5.1.0)\n",
      "Requirement already satisfied: mrcfile in /Users/wdiepeveen/PycharmProjects/Cryo-EM/lib/python3.6/site-packages (from aspire) (1.2.0)\n",
      "Requirement already satisfied: matplotlib in /Users/wdiepeveen/PycharmProjects/Cryo-EM/lib/python3.6/site-packages (from aspire) (3.3.4)\n",
      "Requirement already satisfied: scikit-image==0.16.2 in /Users/wdiepeveen/PycharmProjects/Cryo-EM/lib/python3.6/site-packages (from aspire) (0.16.2)\n",
      "Requirement already satisfied: click in /Users/wdiepeveen/PycharmProjects/Cryo-EM/lib/python3.6/site-packages (from aspire) (7.1.2)\n",
      "Requirement already satisfied: joblib in /Users/wdiepeveen/PycharmProjects/Cryo-EM/lib/python3.6/site-packages (from aspire) (1.0.0)\n",
      "Requirement already satisfied: setuptools>=0.41 in /Users/wdiepeveen/PycharmProjects/Cryo-EM/lib/python3.6/site-packages (from aspire) (53.0.0)\n",
      "Requirement already satisfied: pytest in /Users/wdiepeveen/PycharmProjects/Cryo-EM/lib/python3.6/site-packages (from aspire) (6.2.2)\n",
      "Requirement already satisfied: pillow in /Users/wdiepeveen/PycharmProjects/Cryo-EM/lib/python3.6/site-packages (from aspire) (8.1.0)\n",
      "Requirement already satisfied: pandas==0.25.3 in /Users/wdiepeveen/PycharmProjects/Cryo-EM/lib/python3.6/site-packages (from aspire) (0.25.3)\n",
      "Requirement already satisfied: jupyter in /Users/wdiepeveen/PycharmProjects/Cryo-EM/lib/python3.6/site-packages (from aspire) (1.0.0)\n",
      "Requirement already satisfied: finufft in /Users/wdiepeveen/PycharmProjects/Cryo-EM/lib/python3.6/site-packages (from aspire) (2.0.0)\n",
      "Requirement already satisfied: numpy==1.16 in /Users/wdiepeveen/PycharmProjects/Cryo-EM/lib/python3.6/site-packages (from aspire) (1.16.0)\n",
      "Requirement already satisfied: tqdm in /Users/wdiepeveen/PycharmProjects/Cryo-EM/lib/python3.6/site-packages (from aspire) (4.56.0)\n",
      "Requirement already satisfied: numpydoc==0.7.0 in /Users/wdiepeveen/PycharmProjects/Cryo-EM/lib/python3.6/site-packages (from aspire) (0.7.0)\n",
      "Requirement already satisfied: pytest-cov in /Users/wdiepeveen/PycharmProjects/Cryo-EM/lib/python3.6/site-packages (from aspire) (2.11.1)\n",
      "Requirement already satisfied: sphinx>=1.2.3 in /Users/wdiepeveen/PycharmProjects/Cryo-EM/lib/python3.6/site-packages (from numpydoc==0.7.0->aspire) (3.4.3)\n",
      "Requirement already satisfied: Jinja2>=2.3 in /Users/wdiepeveen/PycharmProjects/Cryo-EM/lib/python3.6/site-packages (from numpydoc==0.7.0->aspire) (2.11.3)\n",
      "Requirement already satisfied: pytz>=2017.2 in /Users/wdiepeveen/PycharmProjects/Cryo-EM/lib/python3.6/site-packages (from pandas==0.25.3->aspire) (2021.1)\n",
      "Requirement already satisfied: python-dateutil>=2.6.1 in /Users/wdiepeveen/PycharmProjects/Cryo-EM/lib/python3.6/site-packages (from pandas==0.25.3->aspire) (2.8.1)\n",
      "Requirement already satisfied: imageio>=2.3.0 in /Users/wdiepeveen/PycharmProjects/Cryo-EM/lib/python3.6/site-packages (from scikit-image==0.16.2->aspire) (2.9.0)\n",
      "Requirement already satisfied: networkx>=2.0 in /Users/wdiepeveen/PycharmProjects/Cryo-EM/lib/python3.6/site-packages (from scikit-image==0.16.2->aspire) (2.5)\n",
      "Requirement already satisfied: PyWavelets>=0.4.0 in /Users/wdiepeveen/PycharmProjects/Cryo-EM/lib/python3.6/site-packages (from scikit-image==0.16.2->aspire) (1.1.1)\n",
      "Requirement already satisfied: zipp>=0.4 in /Users/wdiepeveen/PycharmProjects/Cryo-EM/lib/python3.6/site-packages (from importlib-resources>=1.0.2->aspire) (3.4.0)\n",
      "Requirement already satisfied: MarkupSafe>=0.23 in /Users/wdiepeveen/PycharmProjects/Cryo-EM/lib/python3.6/site-packages (from Jinja2>=2.3->numpydoc==0.7.0->aspire) (1.1.1)\n",
      "Requirement already satisfied: pyparsing!=2.0.4,!=2.1.2,!=2.1.6,>=2.0.3 in /Users/wdiepeveen/PycharmProjects/Cryo-EM/lib/python3.6/site-packages (from matplotlib->aspire) (2.4.7)\n",
      "Requirement already satisfied: cycler>=0.10 in /Users/wdiepeveen/PycharmProjects/Cryo-EM/lib/python3.6/site-packages (from matplotlib->aspire) (0.10.0)\n",
      "Requirement already satisfied: kiwisolver>=1.0.1 in /Users/wdiepeveen/PycharmProjects/Cryo-EM/lib/python3.6/site-packages (from matplotlib->aspire) (1.3.1)\n",
      "Requirement already satisfied: six in /Users/wdiepeveen/PycharmProjects/Cryo-EM/lib/python3.6/site-packages (from cycler>=0.10->matplotlib->aspire) (1.15.0)\n",
      "Requirement already satisfied: decorator>=4.3.0 in /Users/wdiepeveen/PycharmProjects/Cryo-EM/lib/python3.6/site-packages (from networkx>=2.0->scikit-image==0.16.2->aspire) (4.4.2)\n",
      "Requirement already satisfied: babel>=1.3 in /Users/wdiepeveen/PycharmProjects/Cryo-EM/lib/python3.6/site-packages (from sphinx>=1.2.3->numpydoc==0.7.0->aspire) (2.9.0)\n",
      "Requirement already satisfied: sphinxcontrib-qthelp in /Users/wdiepeveen/PycharmProjects/Cryo-EM/lib/python3.6/site-packages (from sphinx>=1.2.3->numpydoc==0.7.0->aspire) (1.0.3)\n",
      "Requirement already satisfied: requests>=2.5.0 in /Users/wdiepeveen/PycharmProjects/Cryo-EM/lib/python3.6/site-packages (from sphinx>=1.2.3->numpydoc==0.7.0->aspire) (2.25.1)\n",
      "Requirement already satisfied: docutils>=0.12 in /Users/wdiepeveen/PycharmProjects/Cryo-EM/lib/python3.6/site-packages (from sphinx>=1.2.3->numpydoc==0.7.0->aspire) (0.16)\n",
      "Requirement already satisfied: alabaster<0.8,>=0.7 in /Users/wdiepeveen/PycharmProjects/Cryo-EM/lib/python3.6/site-packages (from sphinx>=1.2.3->numpydoc==0.7.0->aspire) (0.7.12)\n",
      "Requirement already satisfied: sphinxcontrib-applehelp in /Users/wdiepeveen/PycharmProjects/Cryo-EM/lib/python3.6/site-packages (from sphinx>=1.2.3->numpydoc==0.7.0->aspire) (1.0.2)\n",
      "Requirement already satisfied: packaging in /Users/wdiepeveen/PycharmProjects/Cryo-EM/lib/python3.6/site-packages (from sphinx>=1.2.3->numpydoc==0.7.0->aspire) (20.9)\n",
      "Requirement already satisfied: imagesize in /Users/wdiepeveen/PycharmProjects/Cryo-EM/lib/python3.6/site-packages (from sphinx>=1.2.3->numpydoc==0.7.0->aspire) (1.2.0)\n",
      "Requirement already satisfied: sphinxcontrib-serializinghtml in /Users/wdiepeveen/PycharmProjects/Cryo-EM/lib/python3.6/site-packages (from sphinx>=1.2.3->numpydoc==0.7.0->aspire) (1.1.4)\n",
      "Requirement already satisfied: sphinxcontrib-jsmath in /Users/wdiepeveen/PycharmProjects/Cryo-EM/lib/python3.6/site-packages (from sphinx>=1.2.3->numpydoc==0.7.0->aspire) (1.0.1)\n",
      "Requirement already satisfied: Pygments>=2.0 in /Users/wdiepeveen/PycharmProjects/Cryo-EM/lib/python3.6/site-packages (from sphinx>=1.2.3->numpydoc==0.7.0->aspire) (2.7.4)\n",
      "Requirement already satisfied: sphinxcontrib-htmlhelp in /Users/wdiepeveen/PycharmProjects/Cryo-EM/lib/python3.6/site-packages (from sphinx>=1.2.3->numpydoc==0.7.0->aspire) (1.0.3)\n",
      "Requirement already satisfied: sphinxcontrib-devhelp in /Users/wdiepeveen/PycharmProjects/Cryo-EM/lib/python3.6/site-packages (from sphinx>=1.2.3->numpydoc==0.7.0->aspire) (1.0.2)\n",
      "Requirement already satisfied: snowballstemmer>=1.1 in /Users/wdiepeveen/PycharmProjects/Cryo-EM/lib/python3.6/site-packages (from sphinx>=1.2.3->numpydoc==0.7.0->aspire) (2.1.0)\n",
      "Requirement already satisfied: chardet<5,>=3.0.2 in /Users/wdiepeveen/PycharmProjects/Cryo-EM/lib/python3.6/site-packages (from requests>=2.5.0->sphinx>=1.2.3->numpydoc==0.7.0->aspire) (4.0.0)\n",
      "Requirement already satisfied: urllib3<1.27,>=1.21.1 in /Users/wdiepeveen/PycharmProjects/Cryo-EM/lib/python3.6/site-packages (from requests>=2.5.0->sphinx>=1.2.3->numpydoc==0.7.0->aspire) (1.26.3)\n",
      "Requirement already satisfied: idna<3,>=2.5 in /Users/wdiepeveen/PycharmProjects/Cryo-EM/lib/python3.6/site-packages (from requests>=2.5.0->sphinx>=1.2.3->numpydoc==0.7.0->aspire) (2.10)\n"
     ]
    },
    {
     "name": "stdout",
     "output_type": "stream",
     "text": [
      "Requirement already satisfied: certifi>=2017.4.17 in /Users/wdiepeveen/PycharmProjects/Cryo-EM/lib/python3.6/site-packages (from requests>=2.5.0->sphinx>=1.2.3->numpydoc==0.7.0->aspire) (2020.12.5)\n",
      "Requirement already satisfied: python-dotenv in /Users/wdiepeveen/PycharmProjects/Cryo-EM/lib/python3.6/site-packages (from finufft->aspire) (0.15.0)\n",
      "Requirement already satisfied: pybind11>=2.2 in /Users/wdiepeveen/PycharmProjects/Cryo-EM/lib/python3.6/site-packages (from finufft->aspire) (2.6.2)\n",
      "Requirement already satisfied: jupyter-console in /Users/wdiepeveen/PycharmProjects/Cryo-EM/lib/python3.6/site-packages (from jupyter->aspire) (6.2.0)\n",
      "Requirement already satisfied: qtconsole in /Users/wdiepeveen/PycharmProjects/Cryo-EM/lib/python3.6/site-packages (from jupyter->aspire) (5.0.2)\n",
      "Requirement already satisfied: ipykernel in /Users/wdiepeveen/PycharmProjects/Cryo-EM/lib/python3.6/site-packages (from jupyter->aspire) (5.4.3)\n",
      "Requirement already satisfied: ipywidgets in /Users/wdiepeveen/PycharmProjects/Cryo-EM/lib/python3.6/site-packages (from jupyter->aspire) (7.6.3)\n",
      "Requirement already satisfied: nbconvert in /Users/wdiepeveen/PycharmProjects/Cryo-EM/lib/python3.6/site-packages (from jupyter->aspire) (6.0.7)\n",
      "Requirement already satisfied: notebook in /Users/wdiepeveen/PycharmProjects/Cryo-EM/lib/python3.6/site-packages (from jupyter->aspire) (6.2.0)\n",
      "Requirement already satisfied: ipython>=5.0.0 in /Users/wdiepeveen/PycharmProjects/Cryo-EM/lib/python3.6/site-packages (from ipykernel->jupyter->aspire) (7.16.1)\n",
      "Requirement already satisfied: appnope in /Users/wdiepeveen/PycharmProjects/Cryo-EM/lib/python3.6/site-packages (from ipykernel->jupyter->aspire) (0.1.2)\n",
      "Requirement already satisfied: tornado>=4.2 in /Users/wdiepeveen/PycharmProjects/Cryo-EM/lib/python3.6/site-packages (from ipykernel->jupyter->aspire) (6.1)\n",
      "Requirement already satisfied: traitlets>=4.1.0 in /Users/wdiepeveen/PycharmProjects/Cryo-EM/lib/python3.6/site-packages (from ipykernel->jupyter->aspire) (4.3.3)\n",
      "Requirement already satisfied: jupyter-client in /Users/wdiepeveen/PycharmProjects/Cryo-EM/lib/python3.6/site-packages (from ipykernel->jupyter->aspire) (6.1.11)\n",
      "Requirement already satisfied: pickleshare in /Users/wdiepeveen/PycharmProjects/Cryo-EM/lib/python3.6/site-packages (from ipython>=5.0.0->ipykernel->jupyter->aspire) (0.7.5)\n",
      "Requirement already satisfied: jedi>=0.10 in /Users/wdiepeveen/PycharmProjects/Cryo-EM/lib/python3.6/site-packages (from ipython>=5.0.0->ipykernel->jupyter->aspire) (0.18.0)\n",
      "Requirement already satisfied: backcall in /Users/wdiepeveen/PycharmProjects/Cryo-EM/lib/python3.6/site-packages (from ipython>=5.0.0->ipykernel->jupyter->aspire) (0.2.0)\n",
      "Requirement already satisfied: prompt-toolkit!=3.0.0,!=3.0.1,<3.1.0,>=2.0.0 in /Users/wdiepeveen/PycharmProjects/Cryo-EM/lib/python3.6/site-packages (from ipython>=5.0.0->ipykernel->jupyter->aspire) (3.0.14)\n",
      "Requirement already satisfied: pexpect in /Users/wdiepeveen/PycharmProjects/Cryo-EM/lib/python3.6/site-packages (from ipython>=5.0.0->ipykernel->jupyter->aspire) (4.8.0)\n",
      "Requirement already satisfied: parso<0.9.0,>=0.8.0 in /Users/wdiepeveen/PycharmProjects/Cryo-EM/lib/python3.6/site-packages (from jedi>=0.10->ipython>=5.0.0->ipykernel->jupyter->aspire) (0.8.1)\n",
      "Requirement already satisfied: wcwidth in /Users/wdiepeveen/PycharmProjects/Cryo-EM/lib/python3.6/site-packages (from prompt-toolkit!=3.0.0,!=3.0.1,<3.1.0,>=2.0.0->ipython>=5.0.0->ipykernel->jupyter->aspire) (0.2.5)\n",
      "Requirement already satisfied: ipython-genutils in /Users/wdiepeveen/PycharmProjects/Cryo-EM/lib/python3.6/site-packages (from traitlets>=4.1.0->ipykernel->jupyter->aspire) (0.2.0)\n",
      "Requirement already satisfied: widgetsnbextension~=3.5.0 in /Users/wdiepeveen/PycharmProjects/Cryo-EM/lib/python3.6/site-packages (from ipywidgets->jupyter->aspire) (3.5.1)\n",
      "Requirement already satisfied: nbformat>=4.2.0 in /Users/wdiepeveen/PycharmProjects/Cryo-EM/lib/python3.6/site-packages (from ipywidgets->jupyter->aspire) (5.1.2)\n",
      "Requirement already satisfied: jupyterlab-widgets>=1.0.0 in /Users/wdiepeveen/PycharmProjects/Cryo-EM/lib/python3.6/site-packages (from ipywidgets->jupyter->aspire) (1.0.0)\n",
      "Requirement already satisfied: jupyter-core in /Users/wdiepeveen/PycharmProjects/Cryo-EM/lib/python3.6/site-packages (from nbformat>=4.2.0->ipywidgets->jupyter->aspire) (4.7.1)\n",
      "Requirement already satisfied: jsonschema!=2.5.0,>=2.4 in /Users/wdiepeveen/PycharmProjects/Cryo-EM/lib/python3.6/site-packages (from nbformat>=4.2.0->ipywidgets->jupyter->aspire) (3.2.0)\n",
      "Requirement already satisfied: attrs>=17.4.0 in /Users/wdiepeveen/PycharmProjects/Cryo-EM/lib/python3.6/site-packages (from jsonschema!=2.5.0,>=2.4->nbformat>=4.2.0->ipywidgets->jupyter->aspire) (20.3.0)\n",
      "Requirement already satisfied: importlib-metadata in /Users/wdiepeveen/PycharmProjects/Cryo-EM/lib/python3.6/site-packages (from jsonschema!=2.5.0,>=2.4->nbformat>=4.2.0->ipywidgets->jupyter->aspire) (1.7.0)\n",
      "Requirement already satisfied: pyrsistent>=0.14.0 in /Users/wdiepeveen/PycharmProjects/Cryo-EM/lib/python3.6/site-packages (from jsonschema!=2.5.0,>=2.4->nbformat>=4.2.0->ipywidgets->jupyter->aspire) (0.17.3)\n",
      "Requirement already satisfied: prometheus-client in /Users/wdiepeveen/PycharmProjects/Cryo-EM/lib/python3.6/site-packages (from notebook->jupyter->aspire) (0.9.0)\n",
      "Requirement already satisfied: argon2-cffi in /Users/wdiepeveen/PycharmProjects/Cryo-EM/lib/python3.6/site-packages (from notebook->jupyter->aspire) (20.1.0)\n",
      "Requirement already satisfied: terminado>=0.8.3 in /Users/wdiepeveen/PycharmProjects/Cryo-EM/lib/python3.6/site-packages (from notebook->jupyter->aspire) (0.9.2)\n",
      "Requirement already satisfied: Send2Trash>=1.5.0 in /Users/wdiepeveen/PycharmProjects/Cryo-EM/lib/python3.6/site-packages (from notebook->jupyter->aspire) (1.5.0)\n",
      "Requirement already satisfied: pyzmq>=17 in /Users/wdiepeveen/PycharmProjects/Cryo-EM/lib/python3.6/site-packages (from notebook->jupyter->aspire) (22.0.2)\n",
      "Requirement already satisfied: ptyprocess in /Users/wdiepeveen/PycharmProjects/Cryo-EM/lib/python3.6/site-packages (from terminado>=0.8.3->notebook->jupyter->aspire) (0.7.0)\n",
      "Requirement already satisfied: cffi>=1.0.0 in /Users/wdiepeveen/PycharmProjects/Cryo-EM/lib/python3.6/site-packages (from argon2-cffi->notebook->jupyter->aspire) (1.14.4)\n",
      "Requirement already satisfied: pycparser in /Users/wdiepeveen/PycharmProjects/Cryo-EM/lib/python3.6/site-packages (from cffi>=1.0.0->argon2-cffi->notebook->jupyter->aspire) (2.20)\n",
      "Requirement already satisfied: defusedxml in /Users/wdiepeveen/PycharmProjects/Cryo-EM/lib/python3.6/site-packages (from nbconvert->jupyter->aspire) (0.6.0)\n",
      "Requirement already satisfied: jupyterlab-pygments in /Users/wdiepeveen/PycharmProjects/Cryo-EM/lib/python3.6/site-packages (from nbconvert->jupyter->aspire) (0.1.2)\n",
      "Requirement already satisfied: bleach in /Users/wdiepeveen/PycharmProjects/Cryo-EM/lib/python3.6/site-packages (from nbconvert->jupyter->aspire) (3.3.0)\n",
      "Requirement already satisfied: entrypoints>=0.2.2 in /Users/wdiepeveen/PycharmProjects/Cryo-EM/lib/python3.6/site-packages (from nbconvert->jupyter->aspire) (0.3)\n",
      "Requirement already satisfied: testpath in /Users/wdiepeveen/PycharmProjects/Cryo-EM/lib/python3.6/site-packages (from nbconvert->jupyter->aspire) (0.4.4)\n",
      "Requirement already satisfied: mistune<2,>=0.8.1 in /Users/wdiepeveen/PycharmProjects/Cryo-EM/lib/python3.6/site-packages (from nbconvert->jupyter->aspire) (0.8.4)\n",
      "Requirement already satisfied: nbclient<0.6.0,>=0.5.0 in /Users/wdiepeveen/PycharmProjects/Cryo-EM/lib/python3.6/site-packages (from nbconvert->jupyter->aspire) (0.5.1)\n",
      "Requirement already satisfied: pandocfilters>=1.4.1 in /Users/wdiepeveen/PycharmProjects/Cryo-EM/lib/python3.6/site-packages (from nbconvert->jupyter->aspire) (1.4.3)\n",
      "Requirement already satisfied: nest-asyncio in /Users/wdiepeveen/PycharmProjects/Cryo-EM/lib/python3.6/site-packages (from nbclient<0.6.0,>=0.5.0->nbconvert->jupyter->aspire) (1.5.1)\n",
      "Requirement already satisfied: async-generator in /Users/wdiepeveen/PycharmProjects/Cryo-EM/lib/python3.6/site-packages (from nbclient<0.6.0,>=0.5.0->nbconvert->jupyter->aspire) (1.10)\n",
      "Requirement already satisfied: webencodings in /Users/wdiepeveen/PycharmProjects/Cryo-EM/lib/python3.6/site-packages (from bleach->nbconvert->jupyter->aspire) (0.5.1)\n"
     ]
    },
    {
     "name": "stdout",
     "output_type": "stream",
     "text": [
      "Requirement already satisfied: py>=1.8.2 in /Users/wdiepeveen/PycharmProjects/Cryo-EM/lib/python3.6/site-packages (from pytest->aspire) (1.10.0)\n",
      "Requirement already satisfied: iniconfig in /Users/wdiepeveen/PycharmProjects/Cryo-EM/lib/python3.6/site-packages (from pytest->aspire) (1.1.1)\n",
      "Requirement already satisfied: pluggy<1.0.0a1,>=0.12 in /Users/wdiepeveen/PycharmProjects/Cryo-EM/lib/python3.6/site-packages (from pytest->aspire) (0.13.1)\n",
      "Requirement already satisfied: toml in /Users/wdiepeveen/PycharmProjects/Cryo-EM/lib/python3.6/site-packages (from pytest->aspire) (0.10.2)\n",
      "Requirement already satisfied: coverage>=5.2.1 in /Users/wdiepeveen/PycharmProjects/Cryo-EM/lib/python3.6/site-packages (from pytest-cov->aspire) (5.4)\n",
      "Requirement already satisfied: qtpy in /Users/wdiepeveen/PycharmProjects/Cryo-EM/lib/python3.6/site-packages (from qtconsole->jupyter->aspire) (1.9.0)\n",
      "Requirement already satisfied: threadpoolctl>=2.0.0 in /Users/wdiepeveen/PycharmProjects/Cryo-EM/lib/python3.6/site-packages (from scikit-learn->aspire) (2.1.0)\n",
      "Requirement already satisfied: pybtex-docutils>=0.2.2 in /Users/wdiepeveen/PycharmProjects/Cryo-EM/lib/python3.6/site-packages (from sphinxcontrib-bibtex->aspire) (1.0.0)\n",
      "Requirement already satisfied: pybtex>=0.20 in /Users/wdiepeveen/PycharmProjects/Cryo-EM/lib/python3.6/site-packages (from sphinxcontrib-bibtex->aspire) (0.24.0)\n",
      "Requirement already satisfied: latexcodec>=1.0.4 in /Users/wdiepeveen/PycharmProjects/Cryo-EM/lib/python3.6/site-packages (from pybtex>=0.20->sphinxcontrib-bibtex->aspire) (2.0.1)\n",
      "Requirement already satisfied: PyYAML>=3.01 in /Users/wdiepeveen/PycharmProjects/Cryo-EM/lib/python3.6/site-packages (from pybtex>=0.20->sphinxcontrib-bibtex->aspire) (5.4.1)\n",
      "\u001b[33mWARNING: You are using pip version 21.2.4; however, version 21.3.1 is available.\n",
      "You should consider upgrading via the '/Users/wdiepeveen/PycharmProjects/Cryo-EM/bin/python -m pip install --upgrade pip' command.\u001b[0m\n",
      "Requirement already satisfied: quaternionic in /Users/wdiepeveen/PycharmProjects/Cryo-EM/lib/python3.6/site-packages (0.3.4)\n",
      "Requirement already satisfied: numba>=0.50 in /Users/wdiepeveen/PycharmProjects/Cryo-EM/lib/python3.6/site-packages (from quaternionic) (0.53.1)\n",
      "Requirement already satisfied: numpy<2.0,>=1.13 in /Users/wdiepeveen/PycharmProjects/Cryo-EM/lib/python3.6/site-packages (from quaternionic) (1.16.0)\n",
      "Requirement already satisfied: importlib-metadata>=1.0 in /Users/wdiepeveen/PycharmProjects/Cryo-EM/lib/python3.6/site-packages (from quaternionic) (1.7.0)\n",
      "Requirement already satisfied: scipy<2.0,>=1.0 in /Users/wdiepeveen/PycharmProjects/Cryo-EM/lib/python3.6/site-packages (from quaternionic) (1.4.0)\n",
      "Requirement already satisfied: black>=20.8b1 in /Users/wdiepeveen/PycharmProjects/Cryo-EM/lib/python3.6/site-packages (from quaternionic) (20.8b1)\n",
      "Requirement already satisfied: typed-ast>=1.4.0 in /Users/wdiepeveen/PycharmProjects/Cryo-EM/lib/python3.6/site-packages (from black>=20.8b1->quaternionic) (1.4.3)\n",
      "Requirement already satisfied: regex>=2020.1.8 in /Users/wdiepeveen/PycharmProjects/Cryo-EM/lib/python3.6/site-packages (from black>=20.8b1->quaternionic) (2021.4.4)\n",
      "Requirement already satisfied: typing-extensions>=3.7.4 in /Users/wdiepeveen/PycharmProjects/Cryo-EM/lib/python3.6/site-packages (from black>=20.8b1->quaternionic) (3.7.4.3)\n",
      "Requirement already satisfied: click>=7.1.2 in /Users/wdiepeveen/PycharmProjects/Cryo-EM/lib/python3.6/site-packages (from black>=20.8b1->quaternionic) (7.1.2)\n",
      "Requirement already satisfied: dataclasses>=0.6 in /Users/wdiepeveen/PycharmProjects/Cryo-EM/lib/python3.6/site-packages (from black>=20.8b1->quaternionic) (0.8)\n",
      "Requirement already satisfied: appdirs in /Users/wdiepeveen/PycharmProjects/Cryo-EM/lib/python3.6/site-packages (from black>=20.8b1->quaternionic) (1.4.4)\n",
      "Requirement already satisfied: mypy-extensions>=0.4.3 in /Users/wdiepeveen/PycharmProjects/Cryo-EM/lib/python3.6/site-packages (from black>=20.8b1->quaternionic) (0.4.3)\n",
      "Requirement already satisfied: toml>=0.10.1 in /Users/wdiepeveen/PycharmProjects/Cryo-EM/lib/python3.6/site-packages (from black>=20.8b1->quaternionic) (0.10.2)\n",
      "Requirement already satisfied: pathspec<1,>=0.6 in /Users/wdiepeveen/PycharmProjects/Cryo-EM/lib/python3.6/site-packages (from black>=20.8b1->quaternionic) (0.8.1)\n",
      "Requirement already satisfied: zipp>=0.5 in /Users/wdiepeveen/PycharmProjects/Cryo-EM/lib/python3.6/site-packages (from importlib-metadata>=1.0->quaternionic) (3.4.0)\n",
      "Requirement already satisfied: llvmlite<0.37,>=0.36.0rc1 in /Users/wdiepeveen/PycharmProjects/Cryo-EM/lib/python3.6/site-packages (from numba>=0.50->quaternionic) (0.36.0)\n",
      "Requirement already satisfied: setuptools in /Users/wdiepeveen/PycharmProjects/Cryo-EM/lib/python3.6/site-packages (from numba>=0.50->quaternionic) (53.0.0)\n",
      "\u001b[33mWARNING: You are using pip version 21.2.4; however, version 21.3.1 is available.\n",
      "You should consider upgrading via the '/Users/wdiepeveen/PycharmProjects/Cryo-EM/bin/python -m pip install --upgrade pip' command.\u001b[0m\n",
      "zsh:1: no matches found: pykeops[colab]\n"
     ]
    }
   ],
   "source": [
    "# install libraries in Colab env\n",
    "!pip install mrcfile\n",
    "!pip install aspire\n",
    "!pip install quaternionic\n",
    "!pip install pykeops[colab] > install.log"
   ]
  },
  {
   "cell_type": "code",
   "execution_count": 1,
   "metadata": {},
   "outputs": [
    {
     "name": "stdout",
     "output_type": "stream",
     "text": [
      "/Users/wdiepeveen/Documents/PhD/Projects/2 - Cryo-EM/src/src/Cryo-EM\n"
     ]
    }
   ],
   "source": [
    "%cd ../../../.."
   ]
  },
  {
   "cell_type": "code",
   "execution_count": 2,
   "metadata": {
    "executionInfo": {
     "elapsed": 27633,
     "status": "ok",
     "timestamp": 1633873647916,
     "user": {
      "displayName": "Willem Diepeveen",
      "photoUrl": "https://lh3.googleusercontent.com/a/default-user=s64",
      "userId": "07042451899018849244"
     },
     "user_tz": -60
    },
    "id": "QfSQIRPDN-fm",
    "pycharm": {
     "is_executing": true
    }
   },
   "outputs": [
    {
     "name": "stdout",
     "output_type": "stream",
     "text": [
      "[pyKeOps]: Warning, no cuda detected. Switching to cpu only.\n"
     ]
    }
   ],
   "source": [
    "import numpy as np\n",
    "import os\n",
    "import logging\n",
    "\n",
    "from projects.rkhs_lifting.experiments.experimentB1.E1_run import run_experiment\n",
    "from projects.rkhs_lifting.experiments.experimentB1.E2_post_processing import post_processing\n",
    "\n",
    "from tools.exp_tools import Exp\n",
    "\n",
    "logger = logging.getLogger(__name__)"
   ]
  },
  {
   "cell_type": "code",
   "execution_count": 3,
   "metadata": {
    "pycharm": {
     "name": "#%%\n"
    }
   },
   "outputs": [],
   "source": [
    "# Set data path\n",
    "data_dir = os.path.join(\"results\",\"expA2_21-10-27_10-39-37_L65_N512_r2_k90_lamV10_lamD-10\")\n",
    "data_filename = \"solver_data_2SNR_512N\"\n",
    "# data_path = os.path.join(data_dir, data_filename)\n",
    "\n",
    "# Set results folder if skip_preprocessing\n",
    "# results_folder = \"results/lifting_21-04-21_11-09-45\"  # \"results/lifting_21-04-26_12-22-06\""
   ]
  },
  {
   "cell_type": "code",
   "execution_count": 4,
   "metadata": {
    "colab": {
     "base_uri": "https://localhost:8080/"
    },
    "executionInfo": {
     "elapsed": 403,
     "status": "ok",
     "timestamp": 1633873648310,
     "user": {
      "displayName": "Willem Diepeveen",
      "photoUrl": "https://lh3.googleusercontent.com/a/default-user=s64",
      "userId": "07042451899018849244"
     },
     "user_tz": -60
    },
    "id": "S0YYvJ_YN-fn",
    "outputId": "1de71b43-a15c-47a5-de2d-6596d3169faf"
   },
   "outputs": [
    {
     "name": "stdout",
     "output_type": "stream",
     "text": [
      "2021-10-27 20:36:08,388 INFO Results folder is results/expB1_21-10-27_20-36-08_L65_N10_l9_k90_lamV10\n"
     ]
    }
   ],
   "source": [
    "# TODO load data from experiment A: initial volume and images (gt rots)\n",
    "# TODO select a subset of these images to test the algorithm over\n",
    "\n",
    "# Experiment parameters\n",
    "img_size = 65  # was 65 before and was 129 in rotation estimation paper\n",
    "snr = 1 / 2  # [1/2, 1/4, 1/8, 1/16, 1/32, 1/64, 1/128, 1/256]\n",
    "num_imgs = 10  # 512 capped\n",
    "k = 90\n",
    "l = 9\n",
    "kernel_radius = np.pi/k  # radius of kernel\n",
    "sep_dist = 2 * kernel_radius / (l-1)\n",
    "volume_reg_param = 1e10\n",
    "rots_batch_size = 8192\n",
    "\n",
    "gd_step_size = 1.  # TODO test in run_\n",
    "stop_rots_gd = 5\n",
    "\n",
    "# Directly start experiment\n",
    "exp = Exp()\n",
    "\n",
    "exp.begin(prefix=\"expB1\" , postfix=\"L{}_N{}_l{}_k{}_lamV{}\".format(img_size,num_imgs,l,k,int(np.log(volume_reg_param)/np.log(10))))\n",
    "exp.dbglevel(4)"
   ]
  },
  {
   "cell_type": "code",
   "execution_count": 5,
   "metadata": {
    "colab": {
     "base_uri": "https://localhost:8080/"
    },
    "executionInfo": {
     "elapsed": 1772417,
     "status": "ok",
     "timestamp": 1633875420719,
     "user": {
      "displayName": "Willem Diepeveen",
      "photoUrl": "https://lh3.googleusercontent.com/a/default-user=s64",
      "userId": "07042451899018849244"
     },
     "user_tz": -60
    },
    "id": "_8S3wedaN-fo",
    "outputId": "1e6b8f6b-197c-4319-9298-d477abbd8bb8"
   },
   "outputs": [
    {
     "name": "stdout",
     "output_type": "stream",
     "text": [
      "2021-10-27 20:36:08,398 INFO Start Experiment\n",
      "2021-10-27 20:36:08,399 INFO Running Experiment for SNR = 0.5 and 10 images\n",
      "2021-10-27 20:36:08,400 INFO This experiment illustrates orientation refinement using a lifting approach\n",
      "2021-10-27 20:36:10,284 INFO Load 3D map and downsample 3D map to desired grids of 65 x 65 x 65.\n",
      "Start solver\n",
      "Start Riemannian Gradient Descent Solver\n",
      "2021-10-27 20:36:10,449 INFO Trying NFFT backend finufft\n",
      "2021-10-27 20:36:10,459 INFO NFFT backend finufft usable.\n",
      "2021-10-27 20:36:10,461 INFO Trying NFFT backend cufinufft\n",
      "2021-10-27 20:36:10,466 INFO NFFT backend cufinufft not usable:\n",
      "\tNo module named 'pycuda'\n",
      "2021-10-27 20:36:10,468 INFO Trying NFFT backend pynfft\n",
      "2021-10-27 20:36:10,471 INFO NFFT backend pynfft not usable:\n",
      "\tNo module named 'pynfft'\n",
      "2021-10-27 20:36:10,472 INFO Selected NFFT backend = finufft.\n",
      "2021-10-27 20:36:11,978 INFO ==================== Image 1 ====================\n",
      "2021-10-27 20:36:11,979 INFO 1 | k = 0 | relative cost = 1\n",
      "2021-10-27 20:36:13,654 INFO 1 | k = 1 | relative cost = 0.9925047755241394 | ||gradient|| = 0.03342864872636981\n",
      "2021-10-27 20:36:15,307 INFO 1 | k = 2 | relative cost = 0.9906874299049377 | ||gradient|| = 0.015344463984601662\n",
      "2021-10-27 20:36:16,900 INFO 1 | k = 3 | relative cost = 0.9898990988731384 | ||gradient|| = 0.009929750598302093\n",
      "2021-10-27 20:36:18,618 INFO 1 | k = 4 | relative cost = 0.9895344972610474 | ||gradient|| = 0.006772989475682961\n",
      "2021-10-27 20:36:20,171 INFO 1 | k = 5 | relative cost = 0.9893674254417419 | ||gradient|| = 0.004572219911486037\n",
      "2021-10-27 20:36:20,950 INFO ==================== Image 2 ====================\n",
      "2021-10-27 20:36:20,951 INFO 2 | k = 0 | relative cost = 1\n",
      "2021-10-27 20:36:22,499 INFO 2 | k = 1 | relative cost = 0.9960671067237854 | ||gradient|| = 0.019909416223694392\n",
      "2021-10-27 20:36:24,075 INFO 2 | k = 2 | relative cost = 0.9945458173751831 | ||gradient|| = 0.012009140366044679\n",
      "2021-10-27 20:36:25,641 INFO 2 | k = 3 | relative cost = 0.9937549233436584 | ||gradient|| = 0.008456992334816582\n",
      "2021-10-27 20:36:27,205 INFO 2 | k = 4 | relative cost = 0.9932639002799988 | ||gradient|| = 0.006597672254587823\n",
      "2021-10-27 20:36:28,753 INFO 2 | k = 5 | relative cost = 0.9929348826408386 | ||gradient|| = 0.005374212782837676\n",
      "2021-10-27 20:36:29,513 INFO ==================== Image 3 ====================\n",
      "2021-10-27 20:36:29,514 INFO 3 | k = 0 | relative cost = 1\n",
      "2021-10-27 20:36:31,029 INFO 3 | k = 1 | relative cost = 0.9986742734909058 | ||gradient|| = 0.016190655723740354\n",
      "2021-10-27 20:36:32,542 INFO 3 | k = 2 | relative cost = 0.998499870300293 | ||gradient|| = 0.0046880826150903126\n",
      "2021-10-27 20:36:34,089 INFO 3 | k = 3 | relative cost = 0.9984185695648193 | ||gradient|| = 0.0031369578956396927\n",
      "2021-10-27 20:36:35,796 INFO 3 | k = 4 | relative cost = 0.9983770251274109 | ||gradient|| = 0.0022265699323801022\n",
      "2021-10-27 20:36:37,750 INFO 3 | k = 5 | relative cost = 0.9983547329902649 | ||gradient|| = 0.0016199345724129473\n",
      "2021-10-27 20:36:38,565 INFO ==================== Image 4 ====================\n",
      "2021-10-27 20:36:38,566 INFO 4 | k = 0 | relative cost = 1\n",
      "2021-10-27 20:36:40,151 INFO 4 | k = 1 | relative cost = 0.999667763710022 | ||gradient|| = 0.00554086627421637\n",
      "2021-10-27 20:36:41,680 INFO 4 | k = 2 | relative cost = 0.999470591545105 | ||gradient|| = 0.004242020543439259\n",
      "2021-10-27 20:36:43,245 INFO 4 | k = 3 | relative cost = 0.9993473291397095 | ||gradient|| = 0.0033248158623245625\n",
      "2021-10-27 20:36:44,777 INFO 4 | k = 4 | relative cost = 0.9992662072181702 | ||gradient|| = 0.002678322814138659\n",
      "2021-10-27 20:36:46,255 INFO 4 | k = 5 | relative cost = 0.9992104768753052 | ||gradient|| = 0.002204922868260181\n",
      "2021-10-27 20:36:47,045 INFO ==================== Image 5 ====================\n",
      "2021-10-27 20:36:47,046 INFO 5 | k = 0 | relative cost = 1\n",
      "2021-10-27 20:36:48,556 INFO 5 | k = 1 | relative cost = 0.99628084897995 | ||gradient|| = 0.022558086537954086\n",
      "2021-10-27 20:36:50,050 INFO 5 | k = 2 | relative cost = 0.9955672025680542 | ||gradient|| = 0.00909811866469892\n",
      "2021-10-27 20:36:51,542 INFO 5 | k = 3 | relative cost = 0.9952419996261597 | ||gradient|| = 0.005813503733348239\n",
      "2021-10-27 20:36:53,030 INFO 5 | k = 4 | relative cost = 0.9950203895568848 | ||gradient|| = 0.004700835774222155\n",
      "2021-10-27 20:36:54,516 INFO 5 | k = 5 | relative cost = 0.9948498606681824 | ||gradient|| = 0.004119833313455853\n",
      "2021-10-27 20:36:55,259 INFO ==================== Image 6 ====================\n",
      "2021-10-27 20:36:55,259 INFO 6 | k = 0 | relative cost = 1\n",
      "2021-10-27 20:36:56,739 INFO 6 | k = 1 | relative cost = 0.9970463514328003 | ||gradient|| = 0.016930827440606287\n",
      "2021-10-27 20:36:58,249 INFO 6 | k = 2 | relative cost = 0.9962169528007507 | ||gradient|| = 0.008824492301470968\n",
      "2021-10-27 20:36:59,749 INFO 6 | k = 3 | relative cost = 0.9958998560905457 | ||gradient|| = 0.005252420300354462\n",
      "2021-10-27 20:37:01,308 INFO 6 | k = 4 | relative cost = 0.9957258701324463 | ||gradient|| = 0.0037805779024665917\n",
      "2021-10-27 20:37:02,920 INFO 6 | k = 5 | relative cost = 0.9956086874008179 | ||gradient|| = 0.0030525615621112678\n",
      "2021-10-27 20:37:03,710 INFO ==================== Image 7 ====================\n",
      "2021-10-27 20:37:03,711 INFO 7 | k = 0 | relative cost = 1\n",
      "2021-10-27 20:37:05,289 INFO 7 | k = 1 | relative cost = 0.9993727803230286 | ||gradient|| = 0.007765905789346489\n",
      "2021-10-27 20:37:06,749 INFO 7 | k = 2 | relative cost = 0.9991332292556763 | ||gradient|| = 0.004805127785077585\n",
      "2021-10-27 20:37:08,207 INFO 7 | k = 3 | relative cost = 0.9990410208702087 | ||gradient|| = 0.00295306268617737\n",
      "2021-10-27 20:37:09,676 INFO 7 | k = 4 | relative cost = 0.999002993106842 | ||gradient|| = 0.0018769675475052805\n",
      "2021-10-27 20:37:11,259 INFO 7 | k = 5 | relative cost = 0.9989859461784363 | ||gradient|| = 0.0012415663372157782\n",
      "2021-10-27 20:37:12,033 INFO ==================== Image 8 ====================\n",
      "2021-10-27 20:37:12,034 INFO 8 | k = 0 | relative cost = 1\n",
      "2021-10-27 20:37:13,598 INFO 8 | k = 1 | relative cost = 0.9948379397392273 | ||gradient|| = 0.028349344495895434\n",
      "2021-10-27 20:37:15,130 INFO 8 | k = 2 | relative cost = 0.9930236339569092 | ||gradient|| = 0.01613565752753143\n",
      "2021-10-27 20:37:16,591 INFO 8 | k = 3 | relative cost = 0.9921101927757263 | ||gradient|| = 0.011283477781656932\n",
      "2021-10-27 20:37:18,046 INFO 8 | k = 4 | relative cost = 0.9916008710861206 | ||gradient|| = 0.008367259197222773\n",
      "2021-10-27 20:37:19,510 INFO 8 | k = 5 | relative cost = 0.9912882447242737 | ||gradient|| = 0.0064689948122994955\n",
      "2021-10-27 20:37:20,250 INFO ==================== Image 9 ====================\n",
      "2021-10-27 20:37:20,251 INFO 9 | k = 0 | relative cost = 1\n",
      "2021-10-27 20:37:21,733 INFO 9 | k = 1 | relative cost = 0.9987331032752991 | ||gradient|| = 0.010548908496114064\n",
      "2021-10-27 20:37:23,211 INFO 9 | k = 2 | relative cost = 0.9979812502861023 | ||gradient|| = 0.008059903051318915\n",
      "2021-10-27 20:37:24,699 INFO 9 | k = 3 | relative cost = 0.9975106120109558 | ||gradient|| = 0.006332531953005335\n",
      "2021-10-27 20:37:26,182 INFO 9 | k = 4 | relative cost = 0.9972072839736938 | ||gradient|| = 0.00507345346436605\n",
      "2021-10-27 20:37:27,659 INFO 9 | k = 5 | relative cost = 0.9970106482505798 | ||gradient|| = 0.0040837371842813745\n",
      "2021-10-27 20:37:28,399 INFO ==================== Image 10 ====================\n",
      "2021-10-27 20:37:28,399 INFO 10 | k = 0 | relative cost = 1\n",
      "2021-10-27 20:37:29,880 INFO 10 | k = 1 | relative cost = 0.9942732453346252 | ||gradient|| = 0.020782339032157645\n",
      "2021-10-27 20:37:31,359 INFO 10 | k = 2 | relative cost = 0.9913159012794495 | ||gradient|| = 0.014852771970615521\n",
      "2021-10-27 20:37:32,842 INFO 10 | k = 3 | relative cost = 0.9896528124809265 | ||gradient|| = 0.011070765026485428\n",
      "2021-10-27 20:37:34,323 INFO 10 | k = 4 | relative cost = 0.9886928200721741 | ||gradient|| = 0.008449030261262699\n",
      "2021-10-27 20:37:35,846 INFO 10 | k = 5 | relative cost = 0.9881525039672852 | ||gradient|| = 0.006336067776643852\n",
      "2021-10-27 20:37:35,848 INFO Compute adjoint forward mapping on the images\n",
      "2021-10-27 20:37:35,849 INFO Running through projections 0/10 = 0.0%\n",
      "2021-10-27 20:37:35,941 INFO Determined adjoint mappings. Shape = (65, 65, 65)\n",
      "2021-10-27 20:37:35,944 INFO Running through projections 0/10 = 0.0%\n"
     ]
    },
    {
     "name": "stdout",
     "output_type": "stream",
     "text": [
      "2021-10-27 20:37:36,199 INFO Computing non-centered Fourier Transform\n",
      "Solver has finished\n"
     ]
    }
   ],
   "source": [
    "# Experiment\n",
    "\n",
    "logger.info(\"Start Experiment\")\n",
    "logger.info(\"Running Experiment for SNR = {} and {} images\".format(snr, num_imgs))\n",
    "\n",
    "run_experiment(exp=exp,\n",
    "               num_imgs=num_imgs,\n",
    "               snr=snr,\n",
    "               img_size=img_size,\n",
    "               kernel_radius=kernel_radius,\n",
    "               l=l,\n",
    "               sep_dist=sep_dist,\n",
    "               gd_step_size=gd_step_size,\n",
    "               volume_reg_param=volume_reg_param,\n",
    "               data_dir=data_dir,\n",
    "               data_filename=data_filename,\n",
    "               )"
   ]
  },
  {
   "cell_type": "code",
   "execution_count": 6,
   "metadata": {
    "colab": {
     "base_uri": "https://localhost:8080/",
     "height": 655
    },
    "executionInfo": {
     "elapsed": 10572,
     "status": "ok",
     "timestamp": 1633875431270,
     "user": {
      "displayName": "Willem Diepeveen",
      "photoUrl": "https://lh3.googleusercontent.com/a/default-user=s64",
      "userId": "07042451899018849244"
     },
     "user_tz": -60
    },
    "id": "swo0r4ydN-fp",
    "outputId": "68390906-487d-403e-fa3f-a5dda11695cc"
   },
   "outputs": [
    {
     "name": "stdout",
     "output_type": "stream",
     "text": [
      "2021-10-27 20:38:41,528 INFO Start Postprocessing\n",
      "2021-10-27 20:38:41,530 INFO Postprocessing started\n"
     ]
    }
   ],
   "source": [
    "logger.info(\"Start Postprocessing\")\n",
    "# Postprocessing\n",
    "post_processing(exp=exp,\n",
    "               num_imgs=num_imgs,\n",
    "               snr=snr,\n",
    "              #  results_folder=results_folder #?\n",
    "               )\n"
   ]
  },
  {
   "cell_type": "code",
   "execution_count": null,
   "metadata": {},
   "outputs": [],
   "source": []
  }
 ],
 "metadata": {
  "accelerator": "GPU",
  "colab": {
   "collapsed_sections": [],
   "name": "experiment.ipynb",
   "provenance": []
  },
  "kernelspec": {
   "display_name": "Python 3",
   "language": "python",
   "name": "python3"
  },
  "language_info": {
   "codemirror_mode": {
    "name": "ipython",
    "version": 3
   },
   "file_extension": ".py",
   "mimetype": "text/x-python",
   "name": "python",
   "nbconvert_exporter": "python",
   "pygments_lexer": "ipython3",
   "version": "3.6.12"
  }
 },
 "nbformat": 4,
 "nbformat_minor": 1
}
