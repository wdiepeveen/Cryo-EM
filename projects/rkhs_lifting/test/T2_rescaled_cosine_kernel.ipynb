<<<<<<< HEAD
{"nbformat":4,"nbformat_minor":0,"metadata":{"kernelspec":{"display_name":"Python 3","language":"python","name":"python3"},"language_info":{"codemirror_mode":{"name":"ipython","version":2},"file_extension":".py","mimetype":"text/x-python","name":"python","nbconvert_exporter":"python","pygments_lexer":"ipython2","version":"2.7.6"},"colab":{"name":"T2_rescaled_cosine_kernel.ipynb","provenance":[],"collapsed_sections":[]},"accelerator":"GPU"},"cells":[{"cell_type":"code","metadata":{"collapsed":true,"colab":{"base_uri":"https://localhost:8080/"},"id":"gRzQxRJeITvJ","executionInfo":{"status":"ok","timestamp":1632227845554,"user_tz":-60,"elapsed":15538,"user":{"displayName":"Willem Diepeveen","photoUrl":"https://lh3.googleusercontent.com/a/default-user=s64","userId":"07042451899018849244"}},"outputId":"7d4bfa77-32f6-44c1-ff55-7dce93350aa1"},"source":["# Mount Google Drive\n","from google.colab import drive # import drive from google colab\n","drive.mount(\"/content/drive\")"],"execution_count":2,"outputs":[{"output_type":"stream","name":"stdout","text":["Mounted at /content/drive\n"]}]},{"cell_type":"code","metadata":{"pycharm":{"name":"#%%\n"},"colab":{"base_uri":"https://localhost:8080/"},"id":"bc0xYJ7dITvL","executionInfo":{"status":"ok","timestamp":1632227847678,"user_tz":-60,"elapsed":890,"user":{"displayName":"Willem Diepeveen","photoUrl":"https://lh3.googleusercontent.com/a/default-user=s64","userId":"07042451899018849244"}},"outputId":"2a32a253-b968-4a2d-9685-b2bdcda709c2"},"source":["%cd /content/drive/MyDrive/PhD/Projects/2 - Cryo-EM/src/Cryo-EM\n"],"execution_count":3,"outputs":[{"output_type":"stream","name":"stdout","text":["/content/drive/MyDrive/PhD/Projects/2 - Cryo-EM/src/Cryo-EM\n"]}]},{"cell_type":"code","metadata":{"pycharm":{"name":"#%%\n"},"id":"_LNWBzbEITvM","executionInfo":{"status":"ok","timestamp":1632227863070,"user_tz":-60,"elapsed":13938,"user":{"displayName":"Willem Diepeveen","photoUrl":"https://lh3.googleusercontent.com/a/default-user=s64","userId":"07042451899018849244"}}},"source":["import numpy as np\n","\n","!pip install pykeops[colab] > install.log"],"execution_count":4,"outputs":[]},{"cell_type":"code","metadata":{"pycharm":{"name":"#%%\n"},"id":"2qE4TBA-ITvN","executionInfo":{"status":"ok","timestamp":1632228491800,"user_tz":-60,"elapsed":166,"user":{"displayName":"Willem Diepeveen","photoUrl":"https://lh3.googleusercontent.com/a/default-user=s64","userId":"07042451899018849244"}}},"source":["from projects.rkhs_lifting.src.kernels.rescaled_cosine import Rescaled_Cosine_Kernel\n","\n","# Test constuctor\n","num_quats = 100000\n","quats = np.random.rand(num_quats,4)\n","quats /= np.linalg.norm(quats,axis=1)[:,None]\n","\n","radius = np.pi/20\n","\n","kernel = Rescaled_Cosine_Kernel(quats,radius)\n"],"execution_count":7,"outputs":[]},{"cell_type":"code","metadata":{"pycharm":{"name":"#%%\n"},"id":"IgamunwSITvN","colab":{"base_uri":"https://localhost:8080/"},"executionInfo":{"status":"ok","timestamp":1632228780845,"user_tz":-60,"elapsed":4212,"user":{"displayName":"Willem Diepeveen","photoUrl":"https://lh3.googleusercontent.com/a/default-user=s64","userId":"07042451899018849244"}},"outputId":"95e70028-6959-45c1-f312-278210bd2399"},"source":["# Test apply_kernel\n","coeffs = np.random.rand(5,num_quats).T\n","\n","kernel.apply_kernel(coeffs)\n"],"execution_count":12,"outputs":[{"output_type":"execute_result","data":{"text/plain":["array([[47.00472572, 49.46226784, 47.61634346, 48.06557863, 43.53029137],\n","       [ 9.08602373,  8.99711534, 10.62381702,  9.83003981, 10.19318476],\n","       [37.35378888, 33.66269244, 35.03022205, 34.08947464, 35.54994135],\n","       ...,\n","       [16.34551462, 15.67712102, 14.44981686, 16.81215891, 18.25358524],\n","       [41.91992897, 41.21695894, 42.35188692, 42.65218991, 44.1972885 ],\n","       [ 6.74101306,  5.28065225,  7.29875032,  6.62159188,  6.57947189]])"]},"metadata":{},"execution_count":12}]}]}
=======
{
 "nbformat": 4,
 "nbformat_minor": 0,
 "metadata": {
  "kernelspec": {
   "display_name": "Python 3",
   "language": "python",
   "name": "python3"
  },
  "language_info": {
   "codemirror_mode": {
    "name": "ipython",
    "version": 2
   },
   "file_extension": ".py",
   "mimetype": "text/x-python",
   "name": "python",
   "nbconvert_exporter": "python",
   "pygments_lexer": "ipython2",
   "version": "2.7.6"
  },
  "colab": {
   "name": "T2_rescaled_cosine_kernel.ipynb",
   "provenance": [],
   "collapsed_sections": []
  },
  "accelerator": "GPU"
 },
 "cells": [
  {
   "cell_type": "code",
   "metadata": {
    "collapsed": true,
    "colab": {
     "base_uri": "https://localhost:8080/"
    },
    "id": "gRzQxRJeITvJ",
    "executionInfo": {
     "status": "ok",
     "timestamp": 1632227845554,
     "user_tz": -60,
     "elapsed": 15538,
     "user": {
      "displayName": "Willem Diepeveen",
      "photoUrl": "https://lh3.googleusercontent.com/a/default-user=s64",
      "userId": "07042451899018849244"
     }
    },
    "outputId": "7d4bfa77-32f6-44c1-ff55-7dce93350aa1"
   },
   "source": [
    "# Mount Google Drive\n",
    "from google.colab import drive # import drive from google colab\n",
    "drive.mount(\"/content/drive\")"
   ],
   "execution_count": 2,
   "outputs": [
    {
     "output_type": "stream",
     "name": "stdout",
     "text": [
      "Mounted at /content/drive\n"
     ]
    }
   ]
  },
  {
   "cell_type": "code",
   "metadata": {
    "pycharm": {
     "name": "#%%\n"
    },
    "colab": {
     "base_uri": "https://localhost:8080/"
    },
    "id": "bc0xYJ7dITvL",
    "executionInfo": {
     "status": "ok",
     "timestamp": 1632227847678,
     "user_tz": -60,
     "elapsed": 890,
     "user": {
      "displayName": "Willem Diepeveen",
      "photoUrl": "https://lh3.googleusercontent.com/a/default-user=s64",
      "userId": "07042451899018849244"
     }
    },
    "outputId": "2a32a253-b968-4a2d-9685-b2bdcda709c2"
   },
   "source": [
    "%cd /content/drive/MyDrive/PhD/Projects/2 - Cryo-EM/src/Cryo-EM\n"
   ],
   "execution_count": 3,
   "outputs": [
    {
     "output_type": "stream",
     "name": "stdout",
     "text": [
      "/content/drive/MyDrive/PhD/Projects/2 - Cryo-EM/src/Cryo-EM\n"
     ]
    }
   ]
  },
  {
   "cell_type": "code",
   "metadata": {
    "pycharm": {
     "name": "#%%\n"
    },
    "id": "_LNWBzbEITvM",
    "executionInfo": {
     "status": "ok",
     "timestamp": 1632227863070,
     "user_tz": -60,
     "elapsed": 13938,
     "user": {
      "displayName": "Willem Diepeveen",
      "photoUrl": "https://lh3.googleusercontent.com/a/default-user=s64",
      "userId": "07042451899018849244"
     }
    }
   },
   "source": [
    "import numpy as np\n",
    "\n",
    "!pip install pykeops[colab] > install.log"
   ],
   "execution_count": 4,
   "outputs": []
  },
  {
   "cell_type": "code",
   "metadata": {
    "pycharm": {
     "name": "#%%\n"
    },
    "id": "2qE4TBA-ITvN",
    "executionInfo": {
     "status": "ok",
     "timestamp": 1632227868248,
     "user_tz": -60,
     "elapsed": 3034,
     "user": {
      "displayName": "Willem Diepeveen",
      "photoUrl": "https://lh3.googleusercontent.com/a/default-user=s64",
      "userId": "07042451899018849244"
     }
    }
   },
   "source": [
    "from projects.rkhs_lifting.src.kernels.rescaled_cosine import Rescaled_Cosine_Kernel\n",
    "\n",
    "# Test constuctor\n",
    "num_quats = 1000\n",
    "quats = np.random.rand(num_quats,4)\n",
    "quats /= np.linalg.norm(quats,axis=1)[:,None]\n",
    "\n",
    "radius = np.pi/20\n",
    "\n",
    "kernel = Rescaled_Cosine_Kernel(quats,radius)\n"
   ],
   "execution_count": 5,
   "outputs": []
  },
  {
   "cell_type": "code",
   "metadata": {
    "pycharm": {
     "name": "#%%\n"
    },
    "id": "IgamunwSITvN",
    "colab": {
     "base_uri": "https://localhost:8080/"
    },
    "executionInfo": {
     "status": "ok",
     "timestamp": 1632227896951,
     "user_tz": -60,
     "elapsed": 26746,
     "user": {
      "displayName": "Willem Diepeveen",
      "photoUrl": "https://lh3.googleusercontent.com/a/default-user=s64",
      "userId": "07042451899018849244"
     }
    },
    "outputId": "21c2459c-40c8-4a03-d73c-39a3e788db26"
   },
   "source": [
    "# Test apply_kernel\n",
    "coeffs = np.random.rand(5,num_quats).T\n",
    "\n",
    "kernel.apply_kernel(coeffs)"
   ],
   "execution_count": 6,
   "outputs": [
    {
     "output_type": "stream",
     "name": "stdout",
     "text": [
      "[pyKeOps] Initializing build folder for dtype=float64 and lang=numpy in /root/.cache/pykeops-1.5-cpython-37 ... done.\n",
      "[pyKeOps] Compiling libKeOpsnumpyf10338688b in /root/.cache/pykeops-1.5-cpython-37:\n",
      "       formula: Sum_Reduction(((Step((Var(2,1,2) - (IntCst(2) * Acos(Abs(ClampInt(Sum((Normalize(Var(0,4,0)) * Normalize(Var(1,4,1)))),-1,1)))))) * Square(Cos((Var(3,1,2) * (IntCst(2) * Acos(Abs(ClampInt(Sum((Normalize(Var(0,4,0)) * Normalize(Var(1,4,1)))),-1,1)))))))) * Var(4,5,1)),0)\n",
      "       aliases: Var(0,4,0); Var(1,4,1); Var(2,1,2); Var(3,1,2); Var(4,5,1); \n",
      "       dtype  : float64\n",
      "... \n",
      "[pyKeOps] Compiling pybind11 template libKeOps_template_25cc4cde8b in /root/.cache/pykeops-1.5-cpython-37 ... done.\n",
      "Done.\n"
     ]
    },
    {
     "output_type": "execute_result",
     "data": {
      "text/plain": [
       "array([[0.21946832, 0.78569152, 0.30299342, 0.72626103, 0.91381244],\n",
       "       [0.74146248, 0.26749056, 0.73462918, 0.96234891, 0.9199263 ],\n",
       "       [0.95540936, 1.00453828, 0.76145862, 1.07787597, 0.77950267],\n",
       "       ...,\n",
       "       [1.54446937, 2.13865308, 2.03228448, 1.47138627, 1.63914431],\n",
       "       [0.54767501, 0.87681493, 0.43887767, 0.7297448 , 0.81993315],\n",
       "       [2.31862569, 1.68554917, 1.72813605, 1.38224042, 2.29340476]])"
      ]
     },
     "metadata": {},
     "execution_count": 6
    }
   ]
  }
 ]
}
>>>>>>> 0cfaa0ae8395abea7aefb7c1501a497bbc2e98f0
