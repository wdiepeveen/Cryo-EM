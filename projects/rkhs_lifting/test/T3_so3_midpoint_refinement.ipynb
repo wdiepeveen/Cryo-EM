{
 "nbformat": 4,
 "nbformat_minor": 0,
 "metadata": {
  "kernelspec": {
   "display_name": "Python 3",
   "language": "python",
   "name": "python3"
  },
  "language_info": {
   "codemirror_mode": {
    "name": "ipython",
    "version": 2
   },
   "file_extension": ".py",
   "mimetype": "text/x-python",
   "name": "python",
   "nbconvert_exporter": "python",
   "pygments_lexer": "ipython2",
   "version": "2.7.6"
  },
  "colab": {
   "name": "T2_rescaled_cosine_kernel.ipynb",
   "provenance": [],
   "collapsed_sections": []
  },
  "accelerator": "GPU"
 },
 "cells": [
  {
   "cell_type": "code",
   "execution_count": null,
   "outputs": [],
   "source": [
    "%matplotlib inline"
   ],
   "metadata": {
    "collapsed": false,
    "pycharm": {
     "name": "#%%\n"
    }
   }
  },
  {
   "cell_type": "code",
   "metadata": {
    "collapsed": true,
    "colab": {
     "base_uri": "https://localhost:8080/"
    },
    "id": "gRzQxRJeITvJ",
    "executionInfo": {
     "status": "ok",
     "timestamp": 1632227845554,
     "user_tz": -60,
     "elapsed": 15538,
     "user": {
      "displayName": "Willem Diepeveen",
      "photoUrl": "https://lh3.googleusercontent.com/a/default-user=s64",
      "userId": "07042451899018849244"
     }
    },
    "outputId": "7d4bfa77-32f6-44c1-ff55-7dce93350aa1"
   },
   "source": [
    "# Mount Google Drive\n",
    "from google.colab import drive # import drive from google colab\n",
    "drive.mount(\"/content/drive\")"
   ],
   "execution_count": 2,
   "outputs": [
    {
     "output_type": "stream",
     "name": "stdout",
     "text": [
      "Mounted at /content/drive\n"
     ]
    }
   ]
  },
  {
   "cell_type": "code",
   "metadata": {
    "pycharm": {
     "name": "#%%\n"
    },
    "colab": {
     "base_uri": "https://localhost:8080/"
    },
    "id": "bc0xYJ7dITvL",
    "executionInfo": {
     "status": "ok",
     "timestamp": 1632227847678,
     "user_tz": -60,
     "elapsed": 890,
     "user": {
      "displayName": "Willem Diepeveen",
      "photoUrl": "https://lh3.googleusercontent.com/a/default-user=s64",
      "userId": "07042451899018849244"
     }
    },
    "outputId": "2a32a253-b968-4a2d-9685-b2bdcda709c2"
   },
   "source": [
    "%cd /content/drive/MyDrive/PhD/Projects/2 - Cryo-EM/src/Cryo-EM\n"
   ],
   "execution_count": 3,
   "outputs": [
    {
     "output_type": "stream",
     "name": "stdout",
     "text": [
      "/content/drive/MyDrive/PhD/Projects/2 - Cryo-EM/src/Cryo-EM\n"
     ]
    }
   ]
  },
  {
   "cell_type": "code",
   "metadata": {
    "pycharm": {
     "name": "#%%\n"
    },
    "id": "_LNWBzbEITvM",
    "executionInfo": {
     "status": "ok",
     "timestamp": 1632227863070,
     "user_tz": -60,
     "elapsed": 13938,
     "user": {
      "displayName": "Willem Diepeveen",
      "photoUrl": "https://lh3.googleusercontent.com/a/default-user=s64",
      "userId": "07042451899018849244"
     }
    }
   },
   "source": [
    "import numpy as np\n",
    "import matplotlib as plt"
   ],
   "execution_count": 4,
   "outputs": []
  },
  {
   "cell_type": "code",
   "metadata": {
    "pycharm": {
     "name": "#%%\n"
    },
    "id": "2qE4TBA-ITvN",
    "executionInfo": {
     "status": "ok",
     "timestamp": 1632227868248,
     "user_tz": -60,
     "elapsed": 3034,
     "user": {
      "displayName": "Willem Diepeveen",
      "photoUrl": "https://lh3.googleusercontent.com/a/default-user=s64",
      "userId": "07042451899018849244"
     }
    }
   },
   "source": [
    "from projects.rkhs_lifting.src.mesh.so3_midpoint_refinement import SO3_Midpoint_Refinement\n",
    "\n",
    "# Test constuctor\n",
    "h = np.pi/10\n",
    "MP_mesh = SO3_Midpoint_Refinement(h=h)"
   ],
   "execution_count": 5,
   "outputs": []
  },
  {
   "cell_type": "code",
   "execution_count": null,
   "outputs": [],
   "source": [
    "import quaternionic\n",
    "from scipy.spatial.transform import Rotation as R\n",
    "\n",
    "\n",
    "# Plot meshed points\n",
    "\n",
    "quats = quaternionic.array(np.roll(MP_mesh.verts,-1,axis=-1)).normalized.ndarray\n",
    "points = R.from_quat(quats)\n",
    "angles = points.as_euler(\"ZYZ\")\n",
    "\n",
    "x = angles[:, 0]\n",
    "y = angles[:, 1]\n",
    "z = angles[:, 2]\n",
    "print(\"Number of angles = {}\".format(len(x)))\n",
    "\n",
    "fig = plt.figure()\n",
    "ax = fig.gca(projection='3d')\n",
    "\n",
    "img = ax.scatter(x, y, z)\n",
    "ax.set_xlabel(\"$\\phi$\")\n",
    "ax.set_ylabel(\"$\\\\theta$\")\n"
   ],
   "metadata": {
    "collapsed": false,
    "pycharm": {
     "name": "#%%\n"
    }
   }
  }
 ]
}