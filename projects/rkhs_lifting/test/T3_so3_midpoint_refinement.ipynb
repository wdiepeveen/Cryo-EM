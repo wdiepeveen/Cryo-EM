{
 "nbformat": 4,
 "nbformat_minor": 0,
 "metadata": {
  "kernelspec": {
   "display_name": "Python 3",
   "language": "python",
   "name": "python3"
  },
  "language_info": {
   "codemirror_mode": {
    "name": "ipython",
    "version": 2
   },
   "file_extension": ".py",
   "mimetype": "text/x-python",
   "name": "python",
   "nbconvert_exporter": "python",
   "pygments_lexer": "ipython2",
   "version": "2.7.6"
  },
  "colab": {
   "name": "T3_so3_midpoint_refinement.ipynb",
   "provenance": [],
   "collapsed_sections": []
  }
 },
 "cells": [
  {
   "cell_type": "code",
   "metadata": {
    "pycharm": {
     "name": "#%%\n"
    },
    "id": "c34F4KaEtU95",
    "executionInfo": {
     "status": "ok",
     "timestamp": 1632237169365,
     "user_tz": -60,
     "elapsed": 8,
     "user": {
      "displayName": "Willem Diepeveen",
      "photoUrl": "https://lh3.googleusercontent.com/a/default-user=s64",
      "userId": "07042451899018849244"
     }
    }
   },
   "source": [
    "%matplotlib inline"
   ],
   "execution_count": 1,
   "outputs": []
  },
  {
   "cell_type": "code",
   "metadata": {
    "collapsed": true,
    "colab": {
     "base_uri": "https://localhost:8080/"
    },
    "id": "gRzQxRJeITvJ",
    "executionInfo": {
     "status": "ok",
     "timestamp": 1632237184147,
     "user_tz": -60,
     "elapsed": 14788,
     "user": {
      "displayName": "Willem Diepeveen",
      "photoUrl": "https://lh3.googleusercontent.com/a/default-user=s64",
      "userId": "07042451899018849244"
     }
    },
    "outputId": "8d502f40-e5c3-40de-9b40-1c6f053c011e"
   },
   "source": [
    "# Mount Google Drive\n",
    "from google.colab import drive # import drive from google colab\n",
    "drive.mount(\"/content/drive\")"
   ],
   "execution_count": 2,
   "outputs": [
    {
     "output_type": "stream",
     "name": "stdout",
     "text": [
      "Mounted at /content/drive\n"
     ]
    }
   ]
  },
  {
   "cell_type": "code",
   "metadata": {
    "pycharm": {
     "name": "#%%\n"
    },
    "colab": {
     "base_uri": "https://localhost:8080/"
    },
    "id": "bc0xYJ7dITvL",
    "executionInfo": {
     "status": "ok",
     "timestamp": 1632237184716,
     "user_tz": -60,
     "elapsed": 576,
     "user": {
      "displayName": "Willem Diepeveen",
      "photoUrl": "https://lh3.googleusercontent.com/a/default-user=s64",
      "userId": "07042451899018849244"
     }
    },
    "outputId": "75119698-ae89-4bed-f1fa-d0518d703d9a"
   },
   "source": [
    "%cd /content/drive/MyDrive/PhD/Projects/2 - Cryo-EM/src/Cryo-EM\n"
   ],
   "execution_count": 3,
   "outputs": [
    {
     "output_type": "stream",
     "name": "stdout",
     "text": [
      "/content/drive/MyDrive/PhD/Projects/2 - Cryo-EM/src/Cryo-EM\n"
     ]
    }
   ]
  },
  {
   "cell_type": "code",
   "metadata": {
    "pycharm": {
     "name": "#%%\n"
    },
    "id": "_LNWBzbEITvM",
    "executionInfo": {
     "status": "ok",
     "timestamp": 1632237184717,
     "user_tz": -60,
     "elapsed": 10,
     "user": {
      "displayName": "Willem Diepeveen",
      "photoUrl": "https://lh3.googleusercontent.com/a/default-user=s64",
      "userId": "07042451899018849244"
     }
    }
   },
   "source": [
    "import numpy as np\n",
    "import matplotlib.pyplot as plt"
   ],
   "execution_count": 4,
   "outputs": []
  },
  {
   "cell_type": "code",
   "metadata": {
    "colab": {
     "base_uri": "https://localhost:8080/"
    },
    "id": "5Agrf8XhtwbH",
    "executionInfo": {
     "status": "ok",
     "timestamp": 1632237199112,
     "user_tz": -60,
     "elapsed": 14402,
     "user": {
      "displayName": "Willem Diepeveen",
      "photoUrl": "https://lh3.googleusercontent.com/a/default-user=s64",
      "userId": "07042451899018849244"
     }
    },
    "outputId": "2d5858d3-c707-4b27-c624-35a088b17db5"
   },
   "source": [
    "!pip install quaternionic"
   ],
   "execution_count": 5,
   "outputs": [
    {
     "output_type": "stream",
     "name": "stdout",
     "text": [
      "Collecting quaternionic\n",
      "  Downloading quaternionic-0.4.1-py3-none-any.whl (33 kB)\n",
      "Requirement already satisfied: numpy<2.0,>=1.13 in /usr/local/lib/python3.7/dist-packages (from quaternionic) (1.19.5)\n",
      "Collecting black>=20.8b1\n",
      "  Downloading black-21.9b0-py3-none-any.whl (148 kB)\n",
      "\u001B[K     |████████████████████████████████| 148 kB 8.4 MB/s \n",
      "\u001B[?25hRequirement already satisfied: numba>=0.50 in /usr/local/lib/python3.7/dist-packages (from quaternionic) (0.51.2)\n",
      "Requirement already satisfied: scipy<2.0,>=1.0 in /usr/local/lib/python3.7/dist-packages (from quaternionic) (1.4.1)\n",
      "Requirement already satisfied: importlib-metadata>=1.0 in /usr/local/lib/python3.7/dist-packages (from quaternionic) (4.8.1)\n",
      "Collecting typing-extensions>=3.10.0.0\n",
      "  Downloading typing_extensions-3.10.0.2-py3-none-any.whl (26 kB)\n",
      "Requirement already satisfied: click>=7.1.2 in /usr/local/lib/python3.7/dist-packages (from black>=20.8b1->quaternionic) (7.1.2)\n",
      "Collecting pathspec<1,>=0.9.0\n",
      "  Downloading pathspec-0.9.0-py2.py3-none-any.whl (31 kB)\n",
      "Requirement already satisfied: tomli<2.0.0,>=0.2.6 in /usr/local/lib/python3.7/dist-packages (from black>=20.8b1->quaternionic) (1.2.1)\n",
      "Collecting mypy-extensions>=0.4.3\n",
      "  Downloading mypy_extensions-0.4.3-py2.py3-none-any.whl (4.5 kB)\n",
      "Collecting typed-ast>=1.4.2\n",
      "  Downloading typed_ast-1.4.3-cp37-cp37m-manylinux1_x86_64.whl (743 kB)\n",
      "\u001B[K     |████████████████████████████████| 743 kB 49.3 MB/s \n",
      "\u001B[?25hCollecting regex>=2020.1.8\n",
      "  Downloading regex-2021.8.28-cp37-cp37m-manylinux_2_17_x86_64.manylinux2014_x86_64.whl (745 kB)\n",
      "\u001B[K     |████████████████████████████████| 745 kB 49.9 MB/s \n",
      "\u001B[?25hCollecting platformdirs>=2\n",
      "  Downloading platformdirs-2.3.0-py3-none-any.whl (13 kB)\n",
      "Requirement already satisfied: zipp>=0.5 in /usr/local/lib/python3.7/dist-packages (from importlib-metadata>=1.0->quaternionic) (3.5.0)\n",
      "Requirement already satisfied: llvmlite<0.35,>=0.34.0.dev0 in /usr/local/lib/python3.7/dist-packages (from numba>=0.50->quaternionic) (0.34.0)\n",
      "Requirement already satisfied: setuptools in /usr/local/lib/python3.7/dist-packages (from numba>=0.50->quaternionic) (57.4.0)\n",
      "Installing collected packages: typing-extensions, typed-ast, regex, platformdirs, pathspec, mypy-extensions, black, quaternionic\n",
      "  Attempting uninstall: typing-extensions\n",
      "    Found existing installation: typing-extensions 3.7.4.3\n",
      "    Uninstalling typing-extensions-3.7.4.3:\n",
      "      Successfully uninstalled typing-extensions-3.7.4.3\n",
      "  Attempting uninstall: regex\n",
      "    Found existing installation: regex 2019.12.20\n",
      "    Uninstalling regex-2019.12.20:\n",
      "      Successfully uninstalled regex-2019.12.20\n",
      "\u001B[31mERROR: pip's dependency resolver does not currently take into account all the packages that are installed. This behaviour is the source of the following dependency conflicts.\n",
      "tensorflow 2.6.0 requires typing-extensions~=3.7.4, but you have typing-extensions 3.10.0.2 which is incompatible.\u001B[0m\n",
      "Successfully installed black-21.9b0 mypy-extensions-0.4.3 pathspec-0.9.0 platformdirs-2.3.0 quaternionic-0.4.1 regex-2021.8.28 typed-ast-1.4.3 typing-extensions-3.10.0.2\n"
     ]
    }
   ]
  },
  {
   "cell_type": "code",
   "metadata": {
    "pycharm": {
     "name": "#%%\n"
    },
    "id": "2qE4TBA-ITvN",
    "colab": {
     "base_uri": "https://localhost:8080/"
    },
    "executionInfo": {
     "status": "ok",
     "timestamp": 1632237220492,
     "user_tz": -60,
     "elapsed": 21387,
     "user": {
      "displayName": "Willem Diepeveen",
      "photoUrl": "https://lh3.googleusercontent.com/a/default-user=s64",
      "userId": "07042451899018849244"
     }
    },
    "outputId": "93a19d3f-e3e3-4420-b197-a0a707faa778"
   },
   "source": [
    "from projects.rkhs_lifting.src.mesh.midpoint_refinement import Midpoint_Refinement\n",
    "\n",
    "# Test constuctor\n",
    "h = np.pi/10\n",
    "MP_mesh = Midpoint_Refinement(h=h)\n",
    "\n",
    "# TODO Do this once more if we have the integrators complete and do it for the icosahedron!!!"
   ],
   "execution_count": 6,
   "outputs": [
    {
     "output_type": "stream",
     "name": "stdout",
     "text": [
      "0.5705941324332322\n",
      "1.0\n"
     ]
    }
   ]
  },
  {
   "cell_type": "code",
   "metadata": {
    "pycharm": {
     "name": "#%%\n"
    },
    "colab": {
     "base_uri": "https://localhost:8080/",
     "height": 316
    },
    "id": "mqhb8eA2tU-C",
    "executionInfo": {
     "status": "ok",
     "timestamp": 1632237221922,
     "user_tz": -60,
     "elapsed": 1437,
     "user": {
      "displayName": "Willem Diepeveen",
      "photoUrl": "https://lh3.googleusercontent.com/a/default-user=s64",
      "userId": "07042451899018849244"
     }
    },
    "outputId": "3e18d037-abec-4fc3-eb03-45034d2d8fd4"
   },
   "source": [
    "import quaternionic\n",
    "from scipy.spatial.transform import Rotation as R\n",
    "\n",
    "\n",
    "# Plot meshed points\n",
    "\n",
    "quats = quaternionic.array(np.roll(MP_mesh.verts,-1,axis=-1)).normalized.ndarray\n",
    "points = R.from_quat(quats)\n",
    "angles = points.as_euler(\"ZYZ\")\n",
    "\n",
    "x = angles[:, 0]\n",
    "y = angles[:, 1]\n",
    "z = angles[:, 2]\n",
    "print(\"Number of angles = {}\".format(len(x)))\n",
    "\n",
    "fig = plt.figure()\n",
    "ax = fig.gca(projection='3d')\n",
    "\n",
    "img = ax.scatter(x, y, z)\n",
    "ax.set_xlabel(\"$\\phi$\")\n",
    "ax.set_ylabel(\"$\\\\theta$\")\n",
    "ax.set_zlabel(\"$\\psi$\")\n"
   ],
   "execution_count": 7,
   "outputs": [
    {
     "output_type": "stream",
     "name": "stdout",
     "text": [
      "Number of angles = 14761\n"
     ]
    },
    {
     "output_type": "stream",
     "name": "stderr",
     "text": [
      "/usr/local/lib/python3.7/dist-packages/scipy/spatial/transform/rotation.py:135: UserWarning: Gimbal lock detected. Setting third angle to zero since it is not possible to uniquely determine all angles.\n",
      "  warnings.warn(\"Gimbal lock detected. Setting third angle to zero since\"\n"
     ]
    },
    {
     "output_type": "execute_result",
     "data": {
      "text/plain": [
       "Text(0.5, 0, '$\\\\psi$')"
      ]
     },
     "metadata": {},
     "execution_count": 7
    },
    {
     "output_type": "display_data",
     "data": {
      "image/png": "[encoded data removed]",
      "text/plain": [
       "<Figure size 432x288 with 1 Axes>"
      ]
     },
     "metadata": {
      "needs_background": "light"
     }
    }
   ]
  }
 ]
}