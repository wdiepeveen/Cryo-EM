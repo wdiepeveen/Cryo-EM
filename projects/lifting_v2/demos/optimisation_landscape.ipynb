{
 "cells": [
  {
   "cell_type": "code",
   "execution_count": 1,
   "metadata": {},
   "outputs": [],
   "source": [
    "import numpy as np\n",
    "import os\n",
    "import logging\n",
    "import mrcfile\n",
    "import quaternionic\n",
    "import matplotlib.pyplot as plt\n",
    "\n",
    "from scipy.ndimage.filters import gaussian_filter\n",
    "\n",
    "from aspire.operators import RadialCTFFilter\n",
    "from aspire.source.simulation import Simulation\n",
    "from aspire.volume import Volume\n",
    "\n",
    "from noise.noise import SnrNoiseAdder\n",
    "from tools.exp_tools import Exp\n",
    "\n",
    "from projects.lifting_v2.src.manifolds.so3 import SO3\n",
    "from projects.lifting_v2.src.integrators.base.sd1821mrx import SD1821MRx\n",
    "from projects.lifting_v2.src.solvers.lifting_solver3 import Lifting_Solver3\n",
    "from projects.lifting_v2.src.util.rots_container import RotsContainer\n",
    "\n",
    "from tools.exp_tools import Exp\n",
    "\n",
    "logger = logging.getLogger(__name__)"
   ]
  },
  {
   "cell_type": "code",
   "execution_count": 2,
   "metadata": {},
   "outputs": [
    {
     "name": "stdout",
     "output_type": "stream",
     "text": [
      "2022-11-22 11:46:34,080 INFO Results folder is /Users/wdiepeveen/Documents/PhD/Projects/2 - Cryo-EM/src/src/Cryo-EM/tools/../results/Demo_SNR16_N2048_lambd30_r3_22-11-22_11-46-34\n"
     ]
    }
   ],
   "source": [
    "# Experiment parameters\n",
    "mr_repeat = 3\n",
    "snr = 1 / 16 \n",
    "num_imgs =  2048  \n",
    "lambd =  30  \n",
    "etas = 66/100\n",
    "\n",
    "smudge = 0\n",
    "\n",
    "# Directly start experiment\n",
    "exp = Exp()\n",
    "\n",
    "exp.begin(prefix=\"Demo_SNR{}_N{}_lambd{}_r{}\".format(int(1/snr),num_imgs,lambd,mr_repeat) + \"_smudge{}\".format(smudge)*(smudge>0))\n",
    "exp.dbglevel(4)"
   ]
  },
  {
   "cell_type": "code",
   "execution_count": 3,
   "metadata": {},
   "outputs": [],
   "source": [
    "# Set data path\n",
    "data_dir = \"data\"\n",
    "# data_filename = \"clean70SRibosome_vol_65p.mrc\"\n",
    "data_filename = \"waving_spike_state22_91p.mrc\"\n",
    "data_path = os.path.join(\"..\", \"..\", \"..\",data_dir, data_filename)\n"
   ]
  },
  {
   "cell_type": "code",
   "execution_count": 4,
   "metadata": {},
   "outputs": [
    {
     "name": "stdout",
     "output_type": "stream",
     "text": [
      "2022-11-22 11:46:34,109 INFO Load 3D map and downsample 3D map to desired grids of 91 x 91 x 91.\n",
      "2022-11-22 11:46:34,110 INFO Initialize simulation object and CTF filters.\n",
      "2022-11-22 11:46:34,112 INFO Use downsampled map to creat simulation object.\n",
      "2022-11-22 11:46:34,142 INFO Get true rotation angles generated randomly by the simulation object.\n",
      "2022-11-22 11:46:35,560 INFO Trying NFFT backend finufft\n",
      "2022-11-22 11:46:35,569 INFO NFFT backend finufft usable.\n",
      "2022-11-22 11:46:35,570 INFO Trying NFFT backend cufinufft\n",
      "2022-11-22 11:46:35,572 INFO NFFT backend cufinufft not usable:\n",
      "\tNo module named 'pycuda'\n",
      "2022-11-22 11:46:35,573 INFO Trying NFFT backend pynfft\n",
      "2022-11-22 11:46:35,574 INFO NFFT backend pynfft not usable:\n",
      "\tNo module named 'pynfft'\n",
      "2022-11-22 11:46:35,575 INFO Selected NFFT backend = finufft.\n",
      "2022-11-22 11:46:49,854 INFO Applying forward transformations in pipeline\n",
      "2022-11-22 11:46:49,855 INFO All forward transformations applied\n",
      "2022-11-22 11:46:49,856 INFO Loaded 2048 images\n",
      "sigma = 0.0031409292103415946\n",
      "tau = 0.008850366841677799\n",
      "tau_init = 0.008850366841677799\n",
      "2022-11-22 11:47:05,882 INFO Applying forward transformations in pipeline\n",
      "2022-11-22 11:47:05,883 INFO All forward transformations applied\n",
      "2022-11-22 11:47:05,884 INFO Loaded 2048 images\n",
      "J = None\n",
      "2022-11-22 11:47:05,885 INFO Initializing density\n"
     ]
    }
   ],
   "source": [
    "if not isinstance(exp, Exp):\n",
    "    raise RuntimeError(\"Cannot run experiment without Exp object\")\n",
    "\n",
    "if data_path is None:\n",
    "    raise RuntimeError(\"No data path provided\")\n",
    "\n",
    "# Define a precision for this experiment\n",
    "# dtype = np.float32\n",
    "dtype = np.float64\n",
    "\n",
    "# Load the map file of a 70S Ribosome and downsample the 3D map to desired resolution.\n",
    "# The downsampling should be done by the internal function of Volume object in future.\n",
    "\n",
    "infile = mrcfile.open(data_path)\n",
    "vol_gt = Volume(infile.data.astype(dtype))\n",
    "img_size = vol_gt.shape[1]\n",
    "\n",
    "logger.info(\n",
    "    f\"Load 3D map and downsample 3D map to desired grids \"\n",
    "    f\"of {img_size} x {img_size} x {img_size}.\"\n",
    ")\n",
    "\n",
    "# Specify the CTF parameters not used for this example\n",
    "# but necessary for initializing the simulation object\n",
    "pixel_size = infile.voxel_size.tolist()[0]  # Pixel size of the images (in angstroms)\n",
    "# pixel_size = 5  # Pixel size of the images (in angstroms)\n",
    "voltage = 200  # Voltage (in KV)\n",
    "defocus = 1.5e4  # Minimum defocus value (in angstroms)\n",
    "Cs = 2.0  # Spherical aberration\n",
    "alpha = 0.1  # Amplitude contrast\n",
    "\n",
    "logger.info(\"Initialize simulation object and CTF filters.\")\n",
    "# Create CTF filters\n",
    "filters = [\n",
    "    RadialCTFFilter(pixel_size, voltage, defocus=defocus, Cs=Cs, alpha=alpha)\n",
    "]\n",
    "\n",
    "vol_init = vol_gt\n",
    "\n",
    "# Create a simulation object with specified filters and the downsampled 3D map\n",
    "logger.info(\"Use downsampled map to creat simulation object.\")\n",
    "\n",
    "offsets = np.zeros((num_imgs, 2)).astype(dtype)\n",
    "amplitudes = np.ones(num_imgs)\n",
    "sim = Simulation(L=img_size, n=num_imgs, vols=vol_gt,\n",
    "                 offsets=offsets, unique_filters=filters, amplitudes=amplitudes, dtype=dtype)\n",
    "sim.noise_adder = SnrNoiseAdder(seed=sim.seed, snr=snr)\n",
    "\n",
    "logger.info(\"Get true rotation angles generated randomly by the simulation object.\")\n",
    "rots_gt = RotsContainer(num_imgs, dtype=dtype)\n",
    "rots_gt.rots = sim.rots\n",
    "\n",
    "# Estimate sigma\n",
    "squared_noise_level = np.mean(np.var(sim.images(0, np.inf).asnumpy(), axis=(1, 2)))\n",
    "# squared_noise_level = 1 / (1 + snr) * np.mean(np.var(sim.images(0, np.inf).asnumpy(), axis=(1, 2)))\n",
    "print(\"sigma = {}\".format(squared_noise_level))\n",
    "tau = np.mean(vol_gt.asnumpy() ** 2)\n",
    "tau_init = np.mean(vol_gt.asnumpy()[0] ** 2)\n",
    "\n",
    "print(\"tau = {}\".format(tau))\n",
    "print(\"tau_init = {}\".format(tau_init))\n",
    "\n",
    "integrator = SD1821MRx(repeat=mr_repeat, dtype=dtype)\n",
    "\n",
    "solver = Lifting_Solver3(vol=vol_init,\n",
    "                         squared_noise_level=squared_noise_level,\n",
    "                         volume_reg_param=tau,\n",
    "                         images=sim.images(0, np.inf),\n",
    "                         filter=sim.unique_filters[0],\n",
    "                         integrator=integrator,\n",
    "                         # rots_reg_scaling_param=rots_reg_scaling_param,\n",
    "                         max_iter=1,\n",
    "                         save_iterates=True,\n",
    "                         dtype=dtype,\n",
    "                         )\n",
    "\n",
    "# solver.plan.lambd = lambd * np.ones(num_imgs)\n",
    "# solver.plan.data_discrepancy_update()"
   ]
  },
  {
   "cell_type": "code",
   "execution_count": 40,
   "metadata": {},
   "outputs": [
    {
     "name": "stdout",
     "output_type": "stream",
     "text": [
      "1.2857940672756973\n"
     ]
    }
   ],
   "source": [
    "# Sample loss function from GT along random tangent direction\n",
    "# construct rotation set\n",
    "# quat_0 = np.array([1.,0.,0.,0.])\n",
    "# quat_0 = np.array([0.,1.,0.,0.])\n",
    "quat_0 = np.array([0.,0.,1.,0.])\n",
    "# quat_0 = np.random.randn(4)\n",
    "\n",
    "quat_0 /= np.linalg.norm(quat_0)\n",
    "quat_1 = rots_gt.quaternions[0]\n",
    "manifold = SO3()\n",
    "log = manifold.log(quat_0[None,None], quat_1[None,None]).squeeze()\n",
    "# construct tangent vector\n",
    "num_samples = 1001 # int(100000 ** (1/3)) + (int(100000 ** (1/3))+1)%2\n",
    "t = np.linspace(0,2* np.pi,num_samples)/ np.linalg.norm(log)\n",
    "X = np.array([0.,1.,0.,0.])  # quaternionic.array(np.array([0.,1.,0.,0.])).normalized.ndarray.astype(solver.plan.dtype)\n",
    "print(np.linalg.norm(log))\n",
    "sample_rots = 6\n"
   ]
  },
  {
   "cell_type": "code",
   "execution_count": 41,
   "metadata": {},
   "outputs": [
    {
     "name": "stdout",
     "output_type": "stream",
     "text": [
      "[[ 1.00000000e+00  0.00000000e+00  0.00000000e+00  0.00000000e+00]\n",
      " [ 9.99995066e-01 -1.74169264e-03  0.00000000e+00 -2.61436643e-03]\n",
      " [ 9.99980263e-01 -3.48336809e-03  0.00000000e+00 -5.22870706e-03]\n",
      " ...\n",
      " [ 9.99979079e-01  3.58633297e-03 -0.00000000e+00  5.38326242e-03]\n",
      " [ 9.99994465e-01  1.84465907e-03 -0.00000000e+00  2.76892412e-03]\n",
      " [ 9.99999983e-01  1.02966971e-04 -0.00000000e+00  1.54558494e-04]]\n"
     ]
    }
   ],
   "source": [
    "t_log = t[:,None] * log[None,:]\n",
    "geodesic = manifold.exp(np.array([1.,0.,0.,0.])[None,None], t_log[None]).squeeze()\n",
    "print(geodesic)"
   ]
  },
  {
   "cell_type": "code",
   "execution_count": 42,
   "metadata": {},
   "outputs": [
    {
     "name": "stdout",
     "output_type": "stream",
     "text": [
      "(1001,)\n"
     ]
    }
   ],
   "source": [
    "# solver.plan.forward\n",
    "sampled_rots = RotsContainer(num_samples, dtype=dtype)\n",
    "sampled_rots.quaternions = geodesic\n",
    "forward = solver.plan.forward(vol_gt, sampled_rots.rots)\n",
    "loss = np.sum((forward - solver.plan.images[0][None]).asnumpy() ** 2 , axis=(1,2))\n",
    "print(loss.shape)"
   ]
  },
  {
   "cell_type": "code",
   "execution_count": 44,
   "metadata": {},
   "outputs": [
    {
     "data": {
      "image/png": "[encoded data removed]",
      "text/plain": [
       "<Figure size 432x288 with 1 Axes>"
      ]
     },
     "metadata": {
      "needs_background": "light"
     },
     "output_type": "display_data"
    }
   ],
   "source": [
    "plt.figure()\n",
    "plt.plot(180/np.pi * (t* np.linalg.norm(log) - np.linalg.norm(log)) , loss)\n",
    "plt.xlim([-10,10])\n",
    "plt.show()"
   ]
  },
  {
   "cell_type": "code",
   "execution_count": 38,
   "metadata": {},
   "outputs": [],
   "source": [
    "# 2D plot around minimiser"
   ]
  },
  {
   "cell_type": "code",
   "execution_count": null,
   "metadata": {},
   "outputs": [],
   "source": []
  },
  {
   "cell_type": "code",
   "execution_count": null,
   "metadata": {},
   "outputs": [],
   "source": []
  },
  {
   "cell_type": "code",
   "execution_count": null,
   "metadata": {},
   "outputs": [],
   "source": []
  },
  {
   "cell_type": "code",
   "execution_count": null,
   "metadata": {},
   "outputs": [],
   "source": []
  }
 ],
 "metadata": {
  "kernelspec": {
   "display_name": "Python 3",
   "language": "python",
   "name": "python3"
  },
  "language_info": {
   "codemirror_mode": {
    "name": "ipython",
    "version": 3
   },
   "file_extension": ".py",
   "mimetype": "text/x-python",
   "name": "python",
   "nbconvert_exporter": "python",
   "pygments_lexer": "ipython3",
   "version": "3.6.12"
  }
 },
 "nbformat": 4,
 "nbformat_minor": 1
}
