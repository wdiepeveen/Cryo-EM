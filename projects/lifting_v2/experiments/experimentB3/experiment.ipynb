{
 "cells": [
  {
   "cell_type": "markdown",
   "metadata": {
    "id": "ZacDoHPsOA_4"
   },
   "source": [
    "# **Experiment**: Scaling of the error rates for Algorithm 3.1"
   ]
  },
  {
   "cell_type": "code",
   "execution_count": 12,
   "metadata": {
    "executionInfo": {
     "elapsed": 27633,
     "status": "ok",
     "timestamp": 1633873647916,
     "user": {
      "displayName": "Willem Diepeveen",
      "photoUrl": "https://lh3.googleusercontent.com/a/default-user=s64",
      "userId": "07042451899018849244"
     },
     "user_tz": -60
    },
    "id": "QfSQIRPDN-fm",
    "pycharm": {
     "is_executing": true
    }
   },
   "outputs": [],
   "source": [
    "import numpy as np\n",
    "import os\n",
    "import logging\n",
    "\n",
    "from projects.lifting_v2.experiments.experimentB3.E1_run import run_experiment\n",
    "from projects.lifting_v2.experiments.experimentB3.E2_post_processing import post_processing\n",
    "\n",
    "from tools.exp_tools import Exp\n",
    "\n",
    "logger = logging.getLogger(__name__)"
   ]
  },
  {
   "cell_type": "code",
   "execution_count": 13,
   "metadata": {
    "pycharm": {
     "name": "#%%\n"
    }
   },
   "outputs": [
    {
     "name": "stdout",
     "output_type": "stream",
     "text": [
      "2022-02-25 15:29:07,075 INFO Results folder is /Users/wdiepeveen/Documents/PhD/Projects/2 - Cryo-EM/src/src/Cryo-EM/tools/../results/expB3_22-02-25_15-29-07_SNR16_L129_N2048_lam300_r2\n"
     ]
    }
   ],
   "source": [
    "# Experiment parameters\n",
    "img_size = 129  # was 65 before and was 129 in rotation estimation paper\n",
    "mr_repeat = 2  # [2,1,0] # number of times mesh refinement\n",
    "snr = 1 / 16  # [1/2, 1/4, 1/8, 1/16, 1/32, 1/64, 1/128, 1/256]\n",
    "num_imgs =  2048  # [512, 1024, 2048, 4096, 8192]\n",
    "# lambda0 = 1/3000 * img_size**2\n",
    "lambda0 =  300  # 1/50 * img_size**2  # works just fine for 16_129\n",
    "\n",
    "max_iter = 1\n",
    "\n",
    "# Directly start experiment\n",
    "exp = Exp()\n",
    "\n",
    "exp.begin(prefix=\"expB3\" , postfix=\"SNR{}_L{}_N{}_lam{}_r{}\".format(int(1/snr),img_size,num_imgs, int(lambda0),mr_repeat))\n",
    "exp.dbglevel(4)"
   ]
  },
  {
   "cell_type": "code",
   "execution_count": 14,
   "metadata": {
    "pycharm": {
     "name": "#%%\n"
    }
   },
   "outputs": [],
   "source": [
    "# Set data path\n",
    "data_dir = \"data\"\n",
    "data_filename = \"clean70SRibosome_vol_65p.mrc\"\n",
    "data_path = os.path.join(\"..\", \"..\", \"..\", \"..\",data_dir, data_filename)\n",
    "\n",
    "# Set results folder if skip_preprocessing\n",
    "results_dir = \"results\"\n",
    "results_folder = \"expB2_22-02-24_16-26-41_SNR16_L129_N2048_lam300_r2\"\n",
    "results_path = os.path.join(\"..\", \"..\", \"..\", \"..\",results_dir,results_folder)"
   ]
  },
  {
   "cell_type": "code",
   "execution_count": 15,
   "metadata": {
    "colab": {
     "base_uri": "https://localhost:8080/"
    },
    "executionInfo": {
     "elapsed": 403,
     "status": "ok",
     "timestamp": 1633873648310,
     "user": {
      "displayName": "Willem Diepeveen",
      "photoUrl": "https://lh3.googleusercontent.com/a/default-user=s64",
      "userId": "07042451899018849244"
     },
     "user_tz": -60
    },
    "id": "S0YYvJ_YN-fn",
    "outputId": "1de71b43-a15c-47a5-de2d-6596d3169faf"
   },
   "outputs": [
    {
     "name": "stdout",
     "output_type": "stream",
     "text": [
      "2022-02-25 15:29:07,549 INFO Start Experiment\n",
      "2022-02-25 15:29:07,550 INFO Running Experiment for SNR = 0.0625 and 2048 images\n",
      "2022-02-25 15:29:07,552 INFO This experiment illustrates orientation refinement using a lifting approach\n",
      "2022-02-25 15:29:07,552 INFO Initialize simulation object and CTF filters.\n",
      "2022-02-25 15:29:07,553 INFO Load 3D map and downsample 3D map to desired grids of 129 x 129 x 129.\n",
      "2022-02-25 15:29:08,298 INFO Use downsampled map to creat simulation object.\n",
      "2022-02-25 15:29:08,327 INFO Get true rotation angles generated randomly by the simulation object.\n",
      "2022-02-25 15:29:43,714 INFO Applying forward transformations in pipeline\n",
      "2022-02-25 15:29:43,716 INFO All forward transformations applied\n",
      "2022-02-25 15:29:43,716 INFO Loaded 2048 images\n",
      "sigma = 7.399698631579852e-07\n",
      "tau = 0.010386937776030088\n",
      "2022-02-25 15:30:21,490 INFO Applying forward transformations in pipeline\n",
      "2022-02-25 15:30:21,492 INFO All forward transformations applied\n",
      "2022-02-25 15:30:21,492 INFO Loaded 2048 images\n",
      "2022-02-25 15:30:21,493 INFO Initializing density\n",
      "Initializing solver\n",
      "2022-02-25 15:30:22,459 INFO Initialising Solver\n",
      "Start solver\n",
      "========================= Iteration 1 =========================\n",
      "2022-02-25 15:30:22,460 INFO Update data_discrepancies\n",
      "2022-02-25 15:30:22,461 INFO Computing \\|Ag.u - f_i\\|^2\n",
      "2022-02-25 15:30:54,185 INFO Computing data fidelity for 114564 rotations and 2048 images at 0%\n",
      "2022-02-25 15:31:24,668 INFO Computing data fidelity for 114564 rotations and 2048 images at 1%\n",
      "2022-02-25 15:31:58,441 INFO Computing data fidelity for 114564 rotations and 2048 images at 2%\n",
      "2022-02-25 15:32:31,406 INFO Computing data fidelity for 114564 rotations and 2048 images at 3%\n",
      "2022-02-25 15:33:03,084 INFO Computing data fidelity for 114564 rotations and 2048 images at 4%\n",
      "2022-02-25 15:33:35,104 INFO Computing data fidelity for 114564 rotations and 2048 images at 5%\n",
      "2022-02-25 15:34:06,816 INFO Computing data fidelity for 114564 rotations and 2048 images at 6%\n",
      "2022-02-25 15:34:37,490 INFO Computing data fidelity for 114564 rotations and 2048 images at 7%\n",
      "2022-02-25 15:35:08,804 INFO Computing data fidelity for 114564 rotations and 2048 images at 8%\n",
      "2022-02-25 15:35:40,936 INFO Computing data fidelity for 114564 rotations and 2048 images at 8%\n",
      "2022-02-25 15:36:12,856 INFO Computing data fidelity for 114564 rotations and 2048 images at 9%\n",
      "2022-02-25 15:36:45,730 INFO Computing data fidelity for 114564 rotations and 2048 images at 10%\n",
      "2022-02-25 15:37:18,524 INFO Computing data fidelity for 114564 rotations and 2048 images at 11%\n",
      "2022-02-25 15:37:51,257 INFO Computing data fidelity for 114564 rotations and 2048 images at 12%\n",
      "2022-02-25 15:38:23,923 INFO Computing data fidelity for 114564 rotations and 2048 images at 13%\n",
      "2022-02-25 15:38:56,545 INFO Computing data fidelity for 114564 rotations and 2048 images at 14%\n",
      "2022-02-25 15:39:28,281 INFO Computing data fidelity for 114564 rotations and 2048 images at 15%\n",
      "2022-02-25 15:40:01,280 INFO Computing data fidelity for 114564 rotations and 2048 images at 16%\n",
      "2022-02-25 15:40:35,585 INFO Computing data fidelity for 114564 rotations and 2048 images at 16%\n",
      "2022-02-25 15:41:08,598 INFO Computing data fidelity for 114564 rotations and 2048 images at 17%\n",
      "2022-02-25 15:41:39,511 INFO Computing data fidelity for 114564 rotations and 2048 images at 18%\n",
      "2022-02-25 15:42:11,616 INFO Computing data fidelity for 114564 rotations and 2048 images at 19%\n",
      "2022-02-25 15:42:41,358 INFO Computing data fidelity for 114564 rotations and 2048 images at 20%\n",
      "2022-02-25 15:43:14,399 INFO Computing data fidelity for 114564 rotations and 2048 images at 21%\n",
      "2022-02-25 15:43:44,985 INFO Computing data fidelity for 114564 rotations and 2048 images at 22%\n",
      "2022-02-25 15:44:16,129 INFO Computing data fidelity for 114564 rotations and 2048 images at 23%\n",
      "2022-02-25 15:44:45,558 INFO Computing data fidelity for 114564 rotations and 2048 images at 24%\n",
      "2022-02-25 15:45:15,082 INFO Computing data fidelity for 114564 rotations and 2048 images at 25%\n",
      "2022-02-25 15:45:45,174 INFO Computing data fidelity for 114564 rotations and 2048 images at 25%\n",
      "2022-02-25 15:46:15,154 INFO Computing data fidelity for 114564 rotations and 2048 images at 26%\n",
      "2022-02-25 15:46:46,016 INFO Computing data fidelity for 114564 rotations and 2048 images at 27%\n",
      "2022-02-25 15:47:16,061 INFO Computing data fidelity for 114564 rotations and 2048 images at 28%\n",
      "2022-02-25 15:47:46,604 INFO Computing data fidelity for 114564 rotations and 2048 images at 29%\n",
      "2022-02-25 15:48:16,725 INFO Computing data fidelity for 114564 rotations and 2048 images at 30%\n",
      "2022-02-25 15:48:45,642 INFO Computing data fidelity for 114564 rotations and 2048 images at 31%\n",
      "2022-02-25 15:49:14,500 INFO Computing data fidelity for 114564 rotations and 2048 images at 32%\n",
      "2022-02-25 15:49:46,020 INFO Computing data fidelity for 114564 rotations and 2048 images at 33%\n",
      "2022-02-25 15:50:17,660 INFO Computing data fidelity for 114564 rotations and 2048 images at 33%\n",
      "2022-02-25 15:50:48,700 INFO Computing data fidelity for 114564 rotations and 2048 images at 34%\n",
      "2022-02-25 15:51:18,063 INFO Computing data fidelity for 114564 rotations and 2048 images at 35%\n",
      "2022-02-25 15:51:47,513 INFO Computing data fidelity for 114564 rotations and 2048 images at 36%\n",
      "2022-02-25 15:52:16,403 INFO Computing data fidelity for 114564 rotations and 2048 images at 37%\n",
      "2022-02-25 15:52:46,604 INFO Computing data fidelity for 114564 rotations and 2048 images at 38%\n",
      "2022-02-25 15:53:16,459 INFO Computing data fidelity for 114564 rotations and 2048 images at 39%\n",
      "2022-02-25 15:53:45,890 INFO Computing data fidelity for 114564 rotations and 2048 images at 40%\n",
      "2022-02-25 15:54:15,144 INFO Computing data fidelity for 114564 rotations and 2048 images at 41%\n",
      "2022-02-25 15:58:07,589 INFO Computing data fidelity for 114564 rotations and 2048 images at 42%\n",
      "2022-02-25 15:58:41,403 INFO Computing data fidelity for 114564 rotations and 2048 images at 42%\n",
      "2022-02-25 15:59:16,864 INFO Computing data fidelity for 114564 rotations and 2048 images at 43%\n",
      "2022-02-25 15:59:52,532 INFO Computing data fidelity for 114564 rotations and 2048 images at 44%\n",
      "2022-02-25 16:00:27,567 INFO Computing data fidelity for 114564 rotations and 2048 images at 45%\n",
      "2022-02-25 16:00:57,260 INFO Computing data fidelity for 114564 rotations and 2048 images at 46%\n",
      "2022-02-25 16:01:26,317 INFO Computing data fidelity for 114564 rotations and 2048 images at 47%\n",
      "2022-02-25 16:01:57,465 INFO Computing data fidelity for 114564 rotations and 2048 images at 48%\n",
      "2022-02-25 16:02:26,563 INFO Computing data fidelity for 114564 rotations and 2048 images at 49%\n",
      "2022-02-25 16:02:56,564 INFO Computing data fidelity for 114564 rotations and 2048 images at 50%\n",
      "2022-02-25 16:03:29,644 INFO Computing data fidelity for 114564 rotations and 2048 images at 50%\n",
      "2022-02-25 16:04:01,033 INFO Computing data fidelity for 114564 rotations and 2048 images at 51%\n",
      "2022-02-25 16:04:30,015 INFO Computing data fidelity for 114564 rotations and 2048 images at 52%\n",
      "2022-02-25 16:05:00,570 INFO Computing data fidelity for 114564 rotations and 2048 images at 53%\n",
      "2022-02-25 16:05:30,509 INFO Computing data fidelity for 114564 rotations and 2048 images at 54%\n",
      "2022-02-25 16:06:03,344 INFO Computing data fidelity for 114564 rotations and 2048 images at 55%\n",
      "2022-02-25 16:06:34,919 INFO Computing data fidelity for 114564 rotations and 2048 images at 56%\n",
      "2022-02-25 16:07:08,143 INFO Computing data fidelity for 114564 rotations and 2048 images at 57%\n",
      "2022-02-25 16:07:41,271 INFO Computing data fidelity for 114564 rotations and 2048 images at 58%\n",
      "2022-02-25 16:08:14,164 INFO Computing data fidelity for 114564 rotations and 2048 images at 58%\n",
      "2022-02-25 16:08:47,477 INFO Computing data fidelity for 114564 rotations and 2048 images at 59%\n",
      "2022-02-25 16:09:17,651 INFO Computing data fidelity for 114564 rotations and 2048 images at 60%\n",
      "2022-02-25 16:09:48,151 INFO Computing data fidelity for 114564 rotations and 2048 images at 61%\n",
      "2022-02-25 16:10:19,035 INFO Computing data fidelity for 114564 rotations and 2048 images at 62%\n",
      "2022-02-25 16:10:48,765 INFO Computing data fidelity for 114564 rotations and 2048 images at 63%\n"
     ]
    },
    {
     "name": "stdout",
     "output_type": "stream",
     "text": [
      "2022-02-25 16:11:18,042 INFO Computing data fidelity for 114564 rotations and 2048 images at 64%\n",
      "2022-02-25 16:11:47,000 INFO Computing data fidelity for 114564 rotations and 2048 images at 65%\n",
      "2022-02-25 16:12:16,635 INFO Computing data fidelity for 114564 rotations and 2048 images at 66%\n",
      "2022-02-25 16:12:46,004 INFO Computing data fidelity for 114564 rotations and 2048 images at 67%\n",
      "2022-02-25 16:13:17,085 INFO Computing data fidelity for 114564 rotations and 2048 images at 67%\n",
      "2022-02-25 16:13:53,496 INFO Computing data fidelity for 114564 rotations and 2048 images at 68%\n",
      "2022-02-25 16:14:26,447 INFO Computing data fidelity for 114564 rotations and 2048 images at 69%\n",
      "2022-02-25 16:14:58,608 INFO Computing data fidelity for 114564 rotations and 2048 images at 70%\n",
      "2022-02-25 16:15:29,262 INFO Computing data fidelity for 114564 rotations and 2048 images at 71%\n",
      "2022-02-25 16:15:59,532 INFO Computing data fidelity for 114564 rotations and 2048 images at 72%\n",
      "2022-02-25 16:16:30,150 INFO Computing data fidelity for 114564 rotations and 2048 images at 73%\n",
      "2022-02-25 16:17:02,170 INFO Computing data fidelity for 114564 rotations and 2048 images at 74%\n",
      "2022-02-25 16:17:33,147 INFO Computing data fidelity for 114564 rotations and 2048 images at 75%\n",
      "2022-02-25 16:18:06,429 INFO Computing data fidelity for 114564 rotations and 2048 images at 75%\n",
      "2022-02-25 16:18:38,722 INFO Computing data fidelity for 114564 rotations and 2048 images at 76%\n",
      "2022-02-25 16:19:08,707 INFO Computing data fidelity for 114564 rotations and 2048 images at 77%\n",
      "2022-02-25 16:19:39,532 INFO Computing data fidelity for 114564 rotations and 2048 images at 78%\n",
      "2022-02-25 16:20:11,713 INFO Computing data fidelity for 114564 rotations and 2048 images at 79%\n",
      "2022-02-25 16:20:42,657 INFO Computing data fidelity for 114564 rotations and 2048 images at 80%\n",
      "2022-02-25 16:21:14,801 INFO Computing data fidelity for 114564 rotations and 2048 images at 81%\n",
      "2022-02-25 16:21:49,110 INFO Computing data fidelity for 114564 rotations and 2048 images at 82%\n",
      "2022-02-25 16:22:23,927 INFO Computing data fidelity for 114564 rotations and 2048 images at 83%\n",
      "2022-02-25 16:22:57,151 INFO Computing data fidelity for 114564 rotations and 2048 images at 84%\n",
      "2022-02-25 16:23:29,940 INFO Computing data fidelity for 114564 rotations and 2048 images at 84%\n",
      "2022-02-25 16:24:01,473 INFO Computing data fidelity for 114564 rotations and 2048 images at 85%\n",
      "2022-02-25 16:24:35,183 INFO Computing data fidelity for 114564 rotations and 2048 images at 86%\n",
      "2022-02-25 16:25:10,599 INFO Computing data fidelity for 114564 rotations and 2048 images at 87%\n",
      "2022-02-25 16:25:45,952 INFO Computing data fidelity for 114564 rotations and 2048 images at 88%\n",
      "2022-02-25 16:26:19,756 INFO Computing data fidelity for 114564 rotations and 2048 images at 89%\n",
      "2022-02-25 16:26:54,399 INFO Computing data fidelity for 114564 rotations and 2048 images at 90%\n",
      "2022-02-25 16:27:28,118 INFO Computing data fidelity for 114564 rotations and 2048 images at 91%\n",
      "2022-02-25 16:28:01,444 INFO Computing data fidelity for 114564 rotations and 2048 images at 92%\n",
      "2022-02-25 16:28:35,791 INFO Computing data fidelity for 114564 rotations and 2048 images at 92%\n",
      "2022-02-25 16:29:08,257 INFO Computing data fidelity for 114564 rotations and 2048 images at 93%\n",
      "2022-02-25 16:29:39,555 INFO Computing data fidelity for 114564 rotations and 2048 images at 94%\n",
      "2022-02-25 16:30:11,035 INFO Computing data fidelity for 114564 rotations and 2048 images at 95%\n",
      "2022-02-25 16:30:41,899 INFO Computing data fidelity for 114564 rotations and 2048 images at 96%\n",
      "2022-02-25 16:31:13,342 INFO Computing data fidelity for 114564 rotations and 2048 images at 97%\n",
      "2022-02-25 16:31:43,602 INFO Computing data fidelity for 114564 rotations and 2048 images at 98%\n",
      "2022-02-25 16:32:13,908 INFO Computing data fidelity for 114564 rotations and 2048 images at 99%\n",
      "2022-02-25 16:32:39,667 INFO Computing data fidelity for 114564 rotations and 2048 images at 100%\n",
      "2022-02-25 16:32:39,677 INFO Do rots update step\n",
      "2022-02-25 16:32:40,885 INFO Projecting 2048 vectors onto 114564-simplex at 2%\n",
      "2022-02-25 16:32:41,527 INFO Projecting 2048 vectors onto 114564-simplex at 4%\n",
      "2022-02-25 16:32:42,185 INFO Projecting 2048 vectors onto 114564-simplex at 7%\n",
      "2022-02-25 16:32:42,834 INFO Projecting 2048 vectors onto 114564-simplex at 9%\n",
      "2022-02-25 16:32:43,480 INFO Projecting 2048 vectors onto 114564-simplex at 12%\n",
      "2022-02-25 16:32:44,135 INFO Projecting 2048 vectors onto 114564-simplex at 14%\n",
      "2022-02-25 16:32:44,777 INFO Projecting 2048 vectors onto 114564-simplex at 17%\n",
      "2022-02-25 16:32:45,423 INFO Projecting 2048 vectors onto 114564-simplex at 19%\n",
      "2022-02-25 16:32:46,062 INFO Projecting 2048 vectors onto 114564-simplex at 21%\n",
      "2022-02-25 16:32:46,713 INFO Projecting 2048 vectors onto 114564-simplex at 24%\n",
      "2022-02-25 16:32:47,896 INFO Projecting 2048 vectors onto 114564-simplex at 26%\n",
      "2022-02-25 16:32:48,563 INFO Projecting 2048 vectors onto 114564-simplex at 29%\n",
      "2022-02-25 16:32:49,229 INFO Projecting 2048 vectors onto 114564-simplex at 31%\n",
      "2022-02-25 16:32:49,893 INFO Projecting 2048 vectors onto 114564-simplex at 34%\n",
      "2022-02-25 16:32:50,562 INFO Projecting 2048 vectors onto 114564-simplex at 36%\n",
      "2022-02-25 16:32:51,249 INFO Projecting 2048 vectors onto 114564-simplex at 39%\n",
      "2022-02-25 16:32:51,928 INFO Projecting 2048 vectors onto 114564-simplex at 41%\n",
      "2022-02-25 16:32:52,594 INFO Projecting 2048 vectors onto 114564-simplex at 43%\n",
      "2022-02-25 16:32:53,260 INFO Projecting 2048 vectors onto 114564-simplex at 46%\n",
      "2022-02-25 16:32:53,929 INFO Projecting 2048 vectors onto 114564-simplex at 48%\n",
      "2022-02-25 16:32:55,127 INFO Projecting 2048 vectors onto 114564-simplex at 51%\n",
      "2022-02-25 16:32:55,796 INFO Projecting 2048 vectors onto 114564-simplex at 53%\n",
      "2022-02-25 16:32:56,465 INFO Projecting 2048 vectors onto 114564-simplex at 56%\n",
      "2022-02-25 16:32:57,182 INFO Projecting 2048 vectors onto 114564-simplex at 58%\n",
      "2022-02-25 16:32:57,884 INFO Projecting 2048 vectors onto 114564-simplex at 61%\n",
      "2022-02-25 16:32:58,576 INFO Projecting 2048 vectors onto 114564-simplex at 63%\n",
      "2022-02-25 16:32:59,241 INFO Projecting 2048 vectors onto 114564-simplex at 65%\n",
      "2022-02-25 16:32:59,940 INFO Projecting 2048 vectors onto 114564-simplex at 68%\n",
      "2022-02-25 16:33:00,626 INFO Projecting 2048 vectors onto 114564-simplex at 70%\n",
      "2022-02-25 16:33:01,308 INFO Projecting 2048 vectors onto 114564-simplex at 73%\n",
      "2022-02-25 16:33:02,560 INFO Projecting 2048 vectors onto 114564-simplex at 75%\n",
      "2022-02-25 16:33:03,211 INFO Projecting 2048 vectors onto 114564-simplex at 78%\n",
      "2022-02-25 16:33:03,855 INFO Projecting 2048 vectors onto 114564-simplex at 80%\n",
      "2022-02-25 16:33:04,509 INFO Projecting 2048 vectors onto 114564-simplex at 83%\n",
      "2022-02-25 16:33:05,171 INFO Projecting 2048 vectors onto 114564-simplex at 85%\n",
      "2022-02-25 16:33:05,828 INFO Projecting 2048 vectors onto 114564-simplex at 87%\n",
      "2022-02-25 16:33:06,481 INFO Projecting 2048 vectors onto 114564-simplex at 90%\n",
      "2022-02-25 16:33:07,140 INFO Projecting 2048 vectors onto 114564-simplex at 92%\n",
      "2022-02-25 16:33:07,785 INFO Projecting 2048 vectors onto 114564-simplex at 95%\n",
      "2022-02-25 16:33:08,437 INFO Projecting 2048 vectors onto 114564-simplex at 97%\n",
      "2022-02-25 16:33:09,066 INFO Projecting 2048 vectors onto 114564-simplex at 100%\n",
      "2022-02-25 16:33:11,810 INFO Computing 50 means of 308 points in at most 20 steps...\n",
      "2022-02-25 16:33:11,876 INFO Computing 2048 means at 2%\n",
      "2022-02-25 16:33:11,972 INFO Computing 50 means of 295 points in at most 20 steps...\n",
      "2022-02-25 16:33:12,021 INFO Computing 2048 means at 4%\n",
      "2022-02-25 16:33:12,101 INFO Computing 50 means of 306 points in at most 20 steps...\n",
      "2022-02-25 16:33:12,145 INFO Computing 2048 means at 7%\n",
      "2022-02-25 16:33:12,222 INFO Computing 50 means of 305 points in at most 20 steps...\n",
      "2022-02-25 16:33:12,268 INFO Computing 2048 means at 9%\n",
      "2022-02-25 16:33:12,346 INFO Computing 50 means of 302 points in at most 20 steps...\n",
      "2022-02-25 16:33:12,388 INFO Computing 2048 means at 12%\n",
      "2022-02-25 16:33:12,465 INFO Computing 50 means of 280 points in at most 20 steps...\n",
      "2022-02-25 16:33:12,506 INFO Computing 2048 means at 14%\n",
      "2022-02-25 16:33:12,587 INFO Computing 50 means of 302 points in at most 20 steps...\n"
     ]
    },
    {
     "name": "stdout",
     "output_type": "stream",
     "text": [
      "2022-02-25 16:33:12,630 INFO Computing 2048 means at 17%\n",
      "2022-02-25 16:33:12,708 INFO Computing 50 means of 294 points in at most 20 steps...\n",
      "2022-02-25 16:33:12,749 INFO Computing 2048 means at 19%\n",
      "2022-02-25 16:33:12,828 INFO Computing 50 means of 302 points in at most 20 steps...\n",
      "2022-02-25 16:33:12,871 INFO Computing 2048 means at 21%\n",
      "2022-02-25 16:33:12,950 INFO Computing 50 means of 302 points in at most 20 steps...\n",
      "2022-02-25 16:33:12,993 INFO Computing 2048 means at 24%\n",
      "2022-02-25 16:33:13,095 INFO Computing 50 means of 316 points in at most 20 steps...\n",
      "2022-02-25 16:33:13,139 INFO Computing 2048 means at 26%\n",
      "2022-02-25 16:33:13,219 INFO Computing 50 means of 283 points in at most 20 steps...\n",
      "2022-02-25 16:33:13,259 INFO Computing 2048 means at 29%\n",
      "2022-02-25 16:33:13,338 INFO Computing 50 means of 292 points in at most 20 steps...\n",
      "2022-02-25 16:33:13,380 INFO Computing 2048 means at 31%\n",
      "2022-02-25 16:33:13,458 INFO Computing 50 means of 300 points in at most 20 steps...\n",
      "2022-02-25 16:33:13,501 INFO Computing 2048 means at 34%\n",
      "2022-02-25 16:33:13,579 INFO Computing 50 means of 306 points in at most 20 steps...\n",
      "2022-02-25 16:33:13,622 INFO Computing 2048 means at 36%\n",
      "2022-02-25 16:33:13,701 INFO Computing 50 means of 318 points in at most 20 steps...\n",
      "2022-02-25 16:33:13,746 INFO Computing 2048 means at 39%\n",
      "2022-02-25 16:33:13,824 INFO Computing 50 means of 302 points in at most 20 steps...\n",
      "2022-02-25 16:33:13,866 INFO Computing 2048 means at 41%\n",
      "2022-02-25 16:33:13,945 INFO Computing 50 means of 277 points in at most 20 steps...\n",
      "2022-02-25 16:33:13,986 INFO Computing 2048 means at 43%\n",
      "2022-02-25 16:33:14,065 INFO Computing 50 means of 295 points in at most 20 steps...\n",
      "2022-02-25 16:33:14,107 INFO Computing 2048 means at 46%\n",
      "2022-02-25 16:33:14,185 INFO Computing 50 means of 305 points in at most 20 steps...\n",
      "2022-02-25 16:33:14,227 INFO Computing 2048 means at 48%\n",
      "2022-02-25 16:33:14,334 INFO Computing 50 means of 299 points in at most 20 steps...\n",
      "2022-02-25 16:33:14,375 INFO Computing 2048 means at 51%\n",
      "2022-02-25 16:33:14,455 INFO Computing 50 means of 302 points in at most 20 steps...\n",
      "2022-02-25 16:33:14,497 INFO Computing 2048 means at 53%\n",
      "2022-02-25 16:33:14,575 INFO Computing 50 means of 324 points in at most 20 steps...\n",
      "2022-02-25 16:33:14,620 INFO Computing 2048 means at 56%\n",
      "2022-02-25 16:33:14,699 INFO Computing 50 means of 297 points in at most 20 steps...\n",
      "2022-02-25 16:33:14,741 INFO Computing 2048 means at 58%\n",
      "2022-02-25 16:33:14,820 INFO Computing 50 means of 284 points in at most 20 steps...\n",
      "2022-02-25 16:33:14,861 INFO Computing 2048 means at 61%\n",
      "2022-02-25 16:33:14,942 INFO Computing 50 means of 305 points in at most 20 steps...\n",
      "2022-02-25 16:33:14,989 INFO Computing 2048 means at 63%\n",
      "2022-02-25 16:33:15,076 INFO Computing 50 means of 286 points in at most 20 steps...\n",
      "2022-02-25 16:33:15,118 INFO Computing 2048 means at 65%\n",
      "2022-02-25 16:33:15,200 INFO Computing 50 means of 305 points in at most 20 steps...\n",
      "2022-02-25 16:33:15,245 INFO Computing 2048 means at 68%\n",
      "2022-02-25 16:33:15,328 INFO Computing 50 means of 299 points in at most 20 steps...\n",
      "2022-02-25 16:33:15,374 INFO Computing 2048 means at 70%\n",
      "2022-02-25 16:33:15,461 INFO Computing 50 means of 293 points in at most 20 steps...\n",
      "2022-02-25 16:33:15,503 INFO Computing 2048 means at 73%\n",
      "2022-02-25 16:33:15,606 INFO Computing 50 means of 289 points in at most 20 steps...\n",
      "2022-02-25 16:33:15,647 INFO Computing 2048 means at 75%\n",
      "2022-02-25 16:33:15,728 INFO Computing 50 means of 301 points in at most 20 steps...\n",
      "2022-02-25 16:33:15,773 INFO Computing 2048 means at 78%\n",
      "2022-02-25 16:33:15,857 INFO Computing 50 means of 311 points in at most 20 steps...\n",
      "2022-02-25 16:33:15,904 INFO Computing 2048 means at 80%\n",
      "2022-02-25 16:33:15,989 INFO Computing 50 means of 300 points in at most 20 steps...\n",
      "2022-02-25 16:33:16,032 INFO Computing 2048 means at 83%\n",
      "2022-02-25 16:33:16,116 INFO Computing 50 means of 291 points in at most 20 steps...\n",
      "2022-02-25 16:33:16,158 INFO Computing 2048 means at 85%\n",
      "2022-02-25 16:33:16,237 INFO Computing 50 means of 312 points in at most 20 steps...\n",
      "2022-02-25 16:33:16,281 INFO Computing 2048 means at 87%\n",
      "2022-02-25 16:33:16,362 INFO Computing 50 means of 311 points in at most 20 steps...\n",
      "2022-02-25 16:33:16,406 INFO Computing 2048 means at 90%\n",
      "2022-02-25 16:33:16,484 INFO Computing 50 means of 293 points in at most 20 steps...\n",
      "2022-02-25 16:33:16,525 INFO Computing 2048 means at 92%\n",
      "2022-02-25 16:33:16,603 INFO Computing 50 means of 298 points in at most 20 steps...\n",
      "2022-02-25 16:33:16,647 INFO Computing 2048 means at 95%\n",
      "2022-02-25 16:33:16,726 INFO Computing 50 means of 293 points in at most 20 steps...\n",
      "2022-02-25 16:33:16,768 INFO Computing 2048 means at 97%\n",
      "2022-02-25 16:33:16,847 INFO Computing 48 means of 281 points in at most 20 steps...\n",
      "2022-02-25 16:33:16,886 INFO Computing 2048 means at 100%\n",
      "Solver has finished\n"
     ]
    }
   ],
   "source": [
    "# Experiment\n",
    "\n",
    "logger.info(\"Start Experiment\")\n",
    "logger.info(\"Running Experiment for SNR = {} and {} images\".format(snr, num_imgs))\n",
    "\n",
    "# TODO run experiment for repeat in mr_repeat\n",
    "run_experiment(exp=exp,\n",
    "               max_iter=1,\n",
    "               num_imgs=num_imgs,\n",
    "               snr=snr,\n",
    "               img_size=img_size,\n",
    "               mr_repeat=mr_repeat,\n",
    "               rots_reg_param=lambda0,\n",
    "               data_path=data_path,\n",
    "               )"
   ]
  },
  {
   "cell_type": "code",
   "execution_count": 16,
   "metadata": {
    "colab": {
     "base_uri": "https://localhost:8080/",
     "height": 655
    },
    "executionInfo": {
     "elapsed": 10572,
     "status": "ok",
     "timestamp": 1633875431270,
     "user": {
      "displayName": "Willem Diepeveen",
      "photoUrl": "https://lh3.googleusercontent.com/a/default-user=s64",
      "userId": "07042451899018849244"
     },
     "user_tz": -60
    },
    "id": "swo0r4ydN-fp",
    "outputId": "68390906-487d-403e-fa3f-a5dda11695cc",
    "pycharm": {
     "name": "#%%\n"
    }
   },
   "outputs": [
    {
     "name": "stdout",
     "output_type": "stream",
     "text": [
      "2022-02-25 16:33:29,741 INFO Start Postprocessing\n",
      "2022-02-25 16:33:29,742 INFO Postprocessing started\n"
     ]
    },
    {
     "name": "stderr",
     "output_type": "stream",
     "text": [
      "/Users/wdiepeveen/PycharmProjects/Cryo-EM/lib/python3.6/site-packages/scipy/spatial/transform/rotation.py:135: UserWarning: Gimbal lock detected. Setting third angle to zero since it is not possible to uniquely determine all angles.\n",
      "  warnings.warn(\"Gimbal lock detected. Setting third angle to zero since\"\n"
     ]
    },
    {
     "name": "stdout",
     "output_type": "stream",
     "text": [
      "integrated (averaged) density = 1.0000000000000142\n"
     ]
    },
    {
     "data": {
      "image/png": "[encoded data removed]",
      "text/plain": [
       "<Figure size 432x288 with 2 Axes>"
      ]
     },
     "metadata": {
      "needs_background": "light"
     },
     "output_type": "display_data"
    },
    {
     "data": {
      "image/png": "[encoded data removed]",
      "text/plain": [
       "<Figure size 432x288 with 1 Axes>"
      ]
     },
     "metadata": {
      "needs_background": "light"
     },
     "output_type": "display_data"
    },
    {
     "data": {
      "image/png": "[encoded data removed]",
      "text/plain": [
       "<Figure size 432x288 with 1 Axes>"
      ]
     },
     "metadata": {
      "needs_background": "light"
     },
     "output_type": "display_data"
    },
    {
     "data": {
      "image/png": "[encoded data removed]",
      "text/plain": [
       "<Figure size 432x288 with 1 Axes>"
      ]
     },
     "metadata": {
      "needs_background": "light"
     },
     "output_type": "display_data"
    }
   ],
   "source": [
    "logger.info(\"Start Postprocessing\")\n",
    "# Postprocessing\n",
    "post_processing(exp=exp,\n",
    "                mr_repeat=mr_repeat,\n",
    "                hist_range=15,\n",
    "#                 results_folder=results_path #?\n",
    "               )\n",
    "\n"
   ]
  },
  {
   "cell_type": "code",
   "execution_count": null,
   "metadata": {},
   "outputs": [],
   "source": []
  },
  {
   "cell_type": "code",
   "execution_count": null,
   "metadata": {},
   "outputs": [],
   "source": []
  }
 ],
 "metadata": {
  "accelerator": "GPU",
  "colab": {
   "collapsed_sections": [],
   "name": "experiment.ipynb",
   "provenance": []
  },
  "kernelspec": {
   "display_name": "Python 3",
   "language": "python",
   "name": "python3"
  },
  "language_info": {
   "codemirror_mode": {
    "name": "ipython",
    "version": 3
   },
   "file_extension": ".py",
   "mimetype": "text/x-python",
   "name": "python",
   "nbconvert_exporter": "python",
   "pygments_lexer": "ipython3",
   "version": "3.6.12"
  }
 },
 "nbformat": 4,
 "nbformat_minor": 1
}
