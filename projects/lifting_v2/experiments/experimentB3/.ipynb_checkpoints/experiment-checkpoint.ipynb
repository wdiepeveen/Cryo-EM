{
 "cells": [
  {
   "cell_type": "markdown",
   "metadata": {
    "id": "ZacDoHPsOA_4"
   },
   "source": [
    "# **Experiment**: Scaling of the error rates for Algorithm 3.1"
   ]
  },
  {
   "cell_type": "code",
   "execution_count": 1,
   "metadata": {
    "executionInfo": {
     "elapsed": 27633,
     "status": "ok",
     "timestamp": 1633873647916,
     "user": {
      "displayName": "Willem Diepeveen",
      "photoUrl": "https://lh3.googleusercontent.com/a/default-user=s64",
      "userId": "07042451899018849244"
     },
     "user_tz": -60
    },
    "id": "QfSQIRPDN-fm",
    "pycharm": {
     "is_executing": true
    }
   },
   "outputs": [],
   "source": [
    "import numpy as np\n",
    "import os\n",
    "import logging\n",
    "\n",
    "from projects.lifting_v2.experiments.experimentB3.E1_run import run_experiment\n",
    "from projects.lifting_v2.experiments.experimentB3.E2_post_processing import post_processing\n",
    "\n",
    "from tools.exp_tools import Exp\n",
    "\n",
    "logger = logging.getLogger(__name__)"
   ]
  },
  {
   "cell_type": "code",
   "execution_count": 20,
   "metadata": {
    "pycharm": {
     "name": "#%%\n"
    }
   },
   "outputs": [
    {
     "name": "stdout",
     "output_type": "stream",
     "text": [
      "2022-03-02 15:28:21,367 INFO Results folder is /Users/wdiepeveen/Documents/PhD/Projects/2 - Cryo-EM/src/src/Cryo-EM/tools/../results/expB3_22-03-02_15-28-21_SNR16_L129_N2048_lam40_r1\n"
     ]
    }
   ],
   "source": [
    "# Experiment parameters\n",
    "img_size = 129  # was 65 before and was 129 in rotation estimation paper\n",
    "mr_repeat = 1  # [2,1,0] # number of times mesh refinement\n",
    "snr = 1 / 16  # [1/2, 1/4, 1/8, 1/16, 1/32, 1/64, 1/128, 1/256]\n",
    "num_imgs =  2048  # [512, 1024, 2048, 4096, 8192]\n",
    "# lambda0 = 1/3000 * img_size**2\n",
    "lambda0 =  40  # 1/50 * img_size**2  # works just fine for 16_129\n",
    "\n",
    "max_iter = 1\n",
    "\n",
    "# Directly start experiment\n",
    "exp = Exp()\n",
    "\n",
    "exp.begin(prefix=\"expB3\" , postfix=\"SNR{}_L{}_N{}_lam{}_r{}\".format(int(1/snr),img_size,num_imgs, int(lambda0),mr_repeat))\n",
    "exp.dbglevel(4)"
   ]
  },
  {
   "cell_type": "code",
   "execution_count": 21,
   "metadata": {
    "pycharm": {
     "name": "#%%\n"
    }
   },
   "outputs": [],
   "source": [
    "# Set data path\n",
    "data_dir = \"data\"\n",
    "data_filename = \"clean70SRibosome_vol_65p.mrc\"\n",
    "data_path = os.path.join(\"..\", \"..\", \"..\", \"..\",data_dir, data_filename)\n",
    "\n",
    "# Set results folder if skip_preprocessing\n",
    "results_dir = \"results\"\n",
    "# results_folder = \"expB2_22-02-24_16-26-41_SNR16_L129_N2048_lam300_r2\"\n",
    "# results_folder = \"expB3_22-02-25_17-56-00_SNR16_L129_N2048_lam300_r3\" # TODO -> fix post-processing\n",
    "# results_path = os.path.join(\"..\", \"..\", \"..\", \"..\",results_dir,results_folder)"
   ]
  },
  {
   "cell_type": "code",
   "execution_count": 22,
   "metadata": {
    "colab": {
     "base_uri": "https://localhost:8080/"
    },
    "executionInfo": {
     "elapsed": 403,
     "status": "ok",
     "timestamp": 1633873648310,
     "user": {
      "displayName": "Willem Diepeveen",
      "photoUrl": "https://lh3.googleusercontent.com/a/default-user=s64",
      "userId": "07042451899018849244"
     },
     "user_tz": -60
    },
    "id": "S0YYvJ_YN-fn",
    "outputId": "1de71b43-a15c-47a5-de2d-6596d3169faf"
   },
   "outputs": [
    {
     "name": "stdout",
     "output_type": "stream",
     "text": [
      "2022-03-02 15:28:21,846 INFO Start Experiment\n",
      "2022-03-02 15:28:21,847 INFO Running Experiment for SNR = 0.0625 and 2048 images\n",
      "2022-03-02 15:28:21,848 INFO This experiment illustrates orientation refinement using a lifting approach\n",
      "2022-03-02 15:28:21,849 INFO Initialize simulation object and CTF filters.\n",
      "2022-03-02 15:28:21,850 INFO Load 3D map and downsample 3D map to desired grids of 129 x 129 x 129.\n",
      "2022-03-02 15:28:22,578 INFO Use downsampled map to creat simulation object.\n",
      "2022-03-02 15:28:22,604 INFO Get true rotation angles generated randomly by the simulation object.\n",
      "2022-03-02 15:28:55,108 INFO Applying forward transformations in pipeline\n",
      "2022-03-02 15:28:55,110 INFO All forward transformations applied\n",
      "2022-03-02 15:28:55,110 INFO Loaded 2048 images\n",
      "sigma = 3.8389549785417934e-10\n",
      "tau = 4.838585270633095e-09\n",
      "2022-03-02 15:29:27,660 INFO Applying forward transformations in pipeline\n",
      "2022-03-02 15:29:27,661 INFO All forward transformations applied\n",
      "2022-03-02 15:29:27,662 INFO Loaded 2048 images\n",
      "2022-03-02 15:29:27,662 INFO Initializing density\n",
      "Initializing solver\n",
      "2022-03-02 15:29:28,651 INFO Initialising Solver\n",
      "Start solver\n",
      "========================= Iteration 1 =========================\n",
      "2022-03-02 15:29:28,652 INFO Update data_discrepancies\n",
      "2022-03-02 15:29:28,653 INFO Computing \\|Ag.u - f_i\\|^2\n",
      "2022-03-02 15:30:01,191 INFO Computing data fidelity for 14761 rotations and 2048 images at 6%\n",
      "2022-03-02 15:30:33,487 INFO Computing data fidelity for 14761 rotations and 2048 images at 13%\n",
      "2022-03-02 15:31:05,170 INFO Computing data fidelity for 14761 rotations and 2048 images at 20%\n",
      "2022-03-02 15:31:36,772 INFO Computing data fidelity for 14761 rotations and 2048 images at 27%\n",
      "2022-03-02 15:32:08,294 INFO Computing data fidelity for 14761 rotations and 2048 images at 34%\n",
      "2022-03-02 15:32:40,190 INFO Computing data fidelity for 14761 rotations and 2048 images at 41%\n",
      "2022-03-02 15:33:11,689 INFO Computing data fidelity for 14761 rotations and 2048 images at 48%\n",
      "2022-03-02 15:33:42,435 INFO Computing data fidelity for 14761 rotations and 2048 images at 55%\n",
      "2022-03-02 15:34:14,424 INFO Computing data fidelity for 14761 rotations and 2048 images at 62%\n",
      "2022-03-02 15:34:46,551 INFO Computing data fidelity for 14761 rotations and 2048 images at 69%\n",
      "2022-03-02 15:35:19,204 INFO Computing data fidelity for 14761 rotations and 2048 images at 76%\n",
      "2022-03-02 15:35:53,574 INFO Computing data fidelity for 14761 rotations and 2048 images at 83%\n",
      "2022-03-02 15:36:27,886 INFO Computing data fidelity for 14761 rotations and 2048 images at 90%\n",
      "2022-03-02 15:37:01,289 INFO Computing data fidelity for 14761 rotations and 2048 images at 97%\n",
      "2022-03-02 15:37:14,791 INFO Computing data fidelity for 14761 rotations and 2048 images at 100%\n",
      "2022-03-02 15:37:14,945 INFO Do rots update step\n",
      "2022-03-02 15:37:15,064 INFO Projecting 2048 vectors onto 14761-simplex at 2%\n",
      "2022-03-02 15:37:15,145 INFO Projecting 2048 vectors onto 14761-simplex at 4%\n",
      "2022-03-02 15:37:15,226 INFO Projecting 2048 vectors onto 14761-simplex at 7%\n",
      "2022-03-02 15:37:15,307 INFO Projecting 2048 vectors onto 14761-simplex at 9%\n",
      "2022-03-02 15:37:15,387 INFO Projecting 2048 vectors onto 14761-simplex at 12%\n",
      "2022-03-02 15:37:15,465 INFO Projecting 2048 vectors onto 14761-simplex at 14%\n",
      "2022-03-02 15:37:15,544 INFO Projecting 2048 vectors onto 14761-simplex at 17%\n",
      "2022-03-02 15:37:15,621 INFO Projecting 2048 vectors onto 14761-simplex at 19%\n",
      "2022-03-02 15:37:15,700 INFO Projecting 2048 vectors onto 14761-simplex at 21%\n",
      "2022-03-02 15:37:15,779 INFO Projecting 2048 vectors onto 14761-simplex at 24%\n",
      "2022-03-02 15:37:15,889 INFO Projecting 2048 vectors onto 14761-simplex at 26%\n",
      "2022-03-02 15:37:15,965 INFO Projecting 2048 vectors onto 14761-simplex at 29%\n",
      "2022-03-02 15:37:16,042 INFO Projecting 2048 vectors onto 14761-simplex at 31%\n",
      "2022-03-02 15:37:16,119 INFO Projecting 2048 vectors onto 14761-simplex at 34%\n",
      "2022-03-02 15:37:16,195 INFO Projecting 2048 vectors onto 14761-simplex at 36%\n",
      "2022-03-02 15:37:16,271 INFO Projecting 2048 vectors onto 14761-simplex at 39%\n",
      "2022-03-02 15:37:16,347 INFO Projecting 2048 vectors onto 14761-simplex at 41%\n",
      "2022-03-02 15:37:16,426 INFO Projecting 2048 vectors onto 14761-simplex at 43%\n",
      "2022-03-02 15:37:16,502 INFO Projecting 2048 vectors onto 14761-simplex at 46%\n",
      "2022-03-02 15:37:16,579 INFO Projecting 2048 vectors onto 14761-simplex at 48%\n",
      "2022-03-02 15:37:16,685 INFO Projecting 2048 vectors onto 14761-simplex at 51%\n",
      "2022-03-02 15:37:16,762 INFO Projecting 2048 vectors onto 14761-simplex at 53%\n",
      "2022-03-02 15:37:16,843 INFO Projecting 2048 vectors onto 14761-simplex at 56%\n",
      "2022-03-02 15:37:16,922 INFO Projecting 2048 vectors onto 14761-simplex at 58%\n",
      "2022-03-02 15:37:16,994 INFO Projecting 2048 vectors onto 14761-simplex at 61%\n",
      "2022-03-02 15:37:17,067 INFO Projecting 2048 vectors onto 14761-simplex at 63%\n",
      "2022-03-02 15:37:17,139 INFO Projecting 2048 vectors onto 14761-simplex at 65%\n",
      "2022-03-02 15:37:17,211 INFO Projecting 2048 vectors onto 14761-simplex at 68%\n",
      "2022-03-02 15:37:17,283 INFO Projecting 2048 vectors onto 14761-simplex at 70%\n",
      "2022-03-02 15:37:17,356 INFO Projecting 2048 vectors onto 14761-simplex at 73%\n",
      "2022-03-02 15:37:17,458 INFO Projecting 2048 vectors onto 14761-simplex at 75%\n",
      "2022-03-02 15:37:17,530 INFO Projecting 2048 vectors onto 14761-simplex at 78%\n",
      "2022-03-02 15:37:17,603 INFO Projecting 2048 vectors onto 14761-simplex at 80%\n",
      "2022-03-02 15:37:17,676 INFO Projecting 2048 vectors onto 14761-simplex at 83%\n",
      "2022-03-02 15:37:17,748 INFO Projecting 2048 vectors onto 14761-simplex at 85%\n",
      "2022-03-02 15:37:17,820 INFO Projecting 2048 vectors onto 14761-simplex at 87%\n",
      "2022-03-02 15:37:17,893 INFO Projecting 2048 vectors onto 14761-simplex at 90%\n",
      "2022-03-02 15:37:17,964 INFO Projecting 2048 vectors onto 14761-simplex at 92%\n",
      "2022-03-02 15:37:18,037 INFO Projecting 2048 vectors onto 14761-simplex at 95%\n",
      "2022-03-02 15:37:18,109 INFO Projecting 2048 vectors onto 14761-simplex at 97%\n",
      "2022-03-02 15:37:18,181 INFO Projecting 2048 vectors onto 14761-simplex at 100%\n",
      "2022-03-02 15:37:18,378 INFO Computing 50 means of 567 points in at most 20 steps...\n",
      "2022-03-02 15:37:18,477 INFO Computing 2048 means at 2%\n",
      "2022-03-02 15:37:18,488 INFO Computing 50 means of 522 points in at most 20 steps...\n",
      "2022-03-02 15:37:18,547 INFO Computing 2048 means at 4%\n",
      "2022-03-02 15:37:18,557 INFO Computing 50 means of 502 points in at most 20 steps...\n",
      "2022-03-02 15:37:18,617 INFO Computing 2048 means at 7%\n",
      "2022-03-02 15:37:18,626 INFO Computing 50 means of 534 points in at most 20 steps...\n",
      "2022-03-02 15:37:18,687 INFO Computing 2048 means at 9%\n",
      "2022-03-02 15:37:18,697 INFO Computing 50 means of 539 points in at most 20 steps...\n",
      "2022-03-02 15:37:18,757 INFO Computing 2048 means at 12%\n",
      "2022-03-02 15:37:18,767 INFO Computing 50 means of 550 points in at most 20 steps...\n",
      "2022-03-02 15:37:18,831 INFO Computing 2048 means at 14%\n",
      "2022-03-02 15:37:18,841 INFO Computing 50 means of 559 points in at most 20 steps...\n",
      "2022-03-02 15:37:18,904 INFO Computing 2048 means at 17%\n",
      "2022-03-02 15:37:18,914 INFO Computing 50 means of 530 points in at most 20 steps...\n",
      "2022-03-02 15:37:18,974 INFO Computing 2048 means at 19%\n",
      "2022-03-02 15:37:18,983 INFO Computing 50 means of 564 points in at most 20 steps...\n",
      "2022-03-02 15:37:19,046 INFO Computing 2048 means at 21%\n",
      "2022-03-02 15:37:19,056 INFO Computing 50 means of 570 points in at most 20 steps...\n",
      "2022-03-02 15:37:19,122 INFO Computing 2048 means at 24%\n",
      "2022-03-02 15:37:19,134 INFO Computing 50 means of 537 points in at most 20 steps...\n",
      "2022-03-02 15:37:19,194 INFO Computing 2048 means at 26%\n",
      "2022-03-02 15:37:19,204 INFO Computing 50 means of 499 points in at most 20 steps...\n",
      "2022-03-02 15:37:19,260 INFO Computing 2048 means at 29%\n",
      "2022-03-02 15:37:19,270 INFO Computing 50 means of 545 points in at most 20 steps...\n",
      "2022-03-02 15:37:19,332 INFO Computing 2048 means at 31%\n",
      "2022-03-02 15:37:19,342 INFO Computing 50 means of 563 points in at most 20 steps...\n",
      "2022-03-02 15:37:19,409 INFO Computing 2048 means at 34%\n",
      "2022-03-02 15:37:19,418 INFO Computing 50 means of 535 points in at most 20 steps...\n",
      "2022-03-02 15:37:19,478 INFO Computing 2048 means at 36%\n",
      "2022-03-02 15:37:19,488 INFO Computing 50 means of 574 points in at most 20 steps...\n"
     ]
    },
    {
     "name": "stdout",
     "output_type": "stream",
     "text": [
      "2022-03-02 15:37:19,553 INFO Computing 2048 means at 39%\n",
      "2022-03-02 15:37:19,562 INFO Computing 50 means of 532 points in at most 20 steps...\n",
      "2022-03-02 15:37:19,622 INFO Computing 2048 means at 41%\n",
      "2022-03-02 15:37:19,632 INFO Computing 50 means of 514 points in at most 20 steps...\n",
      "2022-03-02 15:37:19,691 INFO Computing 2048 means at 43%\n",
      "2022-03-02 15:37:19,701 INFO Computing 50 means of 513 points in at most 20 steps...\n",
      "2022-03-02 15:37:19,759 INFO Computing 2048 means at 46%\n",
      "2022-03-02 15:37:19,769 INFO Computing 50 means of 524 points in at most 20 steps...\n",
      "2022-03-02 15:37:19,830 INFO Computing 2048 means at 48%\n",
      "2022-03-02 15:37:19,842 INFO Computing 50 means of 530 points in at most 20 steps...\n",
      "2022-03-02 15:37:19,902 INFO Computing 2048 means at 51%\n",
      "2022-03-02 15:37:19,911 INFO Computing 50 means of 547 points in at most 20 steps...\n",
      "2022-03-02 15:37:19,973 INFO Computing 2048 means at 53%\n",
      "2022-03-02 15:37:19,983 INFO Computing 50 means of 544 points in at most 20 steps...\n",
      "2022-03-02 15:37:20,044 INFO Computing 2048 means at 56%\n",
      "2022-03-02 15:37:20,053 INFO Computing 50 means of 527 points in at most 20 steps...\n",
      "2022-03-02 15:37:20,113 INFO Computing 2048 means at 58%\n",
      "2022-03-02 15:37:20,122 INFO Computing 50 means of 526 points in at most 20 steps...\n",
      "2022-03-02 15:37:20,181 INFO Computing 2048 means at 61%\n",
      "2022-03-02 15:37:20,190 INFO Computing 50 means of 537 points in at most 20 steps...\n",
      "2022-03-02 15:37:20,260 INFO Computing 2048 means at 63%\n",
      "2022-03-02 15:37:20,270 INFO Computing 50 means of 535 points in at most 20 steps...\n",
      "2022-03-02 15:37:20,331 INFO Computing 2048 means at 65%\n",
      "2022-03-02 15:37:20,340 INFO Computing 50 means of 556 points in at most 20 steps...\n",
      "2022-03-02 15:37:20,405 INFO Computing 2048 means at 68%\n",
      "2022-03-02 15:37:20,415 INFO Computing 50 means of 532 points in at most 20 steps...\n",
      "2022-03-02 15:37:20,476 INFO Computing 2048 means at 70%\n",
      "2022-03-02 15:37:20,486 INFO Computing 50 means of 534 points in at most 20 steps...\n",
      "2022-03-02 15:37:20,547 INFO Computing 2048 means at 73%\n",
      "2022-03-02 15:37:20,559 INFO Computing 50 means of 523 points in at most 20 steps...\n",
      "2022-03-02 15:37:20,619 INFO Computing 2048 means at 75%\n",
      "2022-03-02 15:37:20,629 INFO Computing 50 means of 529 points in at most 20 steps...\n",
      "2022-03-02 15:37:20,688 INFO Computing 2048 means at 78%\n",
      "2022-03-02 15:37:20,698 INFO Computing 50 means of 548 points in at most 20 steps...\n",
      "2022-03-02 15:37:20,759 INFO Computing 2048 means at 80%\n",
      "2022-03-02 15:37:20,770 INFO Computing 50 means of 541 points in at most 20 steps...\n",
      "2022-03-02 15:37:20,831 INFO Computing 2048 means at 83%\n",
      "2022-03-02 15:37:20,841 INFO Computing 50 means of 534 points in at most 20 steps...\n",
      "2022-03-02 15:37:20,901 INFO Computing 2048 means at 85%\n",
      "2022-03-02 15:37:20,911 INFO Computing 50 means of 554 points in at most 20 steps...\n",
      "2022-03-02 15:37:20,973 INFO Computing 2048 means at 87%\n",
      "2022-03-02 15:37:20,983 INFO Computing 50 means of 538 points in at most 20 steps...\n",
      "2022-03-02 15:37:21,044 INFO Computing 2048 means at 90%\n",
      "2022-03-02 15:37:21,054 INFO Computing 50 means of 538 points in at most 20 steps...\n",
      "2022-03-02 15:37:21,114 INFO Computing 2048 means at 92%\n",
      "2022-03-02 15:37:21,124 INFO Computing 50 means of 513 points in at most 20 steps...\n",
      "2022-03-02 15:37:21,181 INFO Computing 2048 means at 95%\n",
      "2022-03-02 15:37:21,191 INFO Computing 50 means of 537 points in at most 20 steps...\n",
      "2022-03-02 15:37:21,251 INFO Computing 2048 means at 97%\n",
      "2022-03-02 15:37:21,261 INFO Computing 48 means of 497 points in at most 20 steps...\n",
      "2022-03-02 15:37:21,316 INFO Computing 2048 means at 100%\n",
      "Solver has finished\n"
     ]
    }
   ],
   "source": [
    "# Experiment\n",
    "\n",
    "logger.info(\"Start Experiment\")\n",
    "logger.info(\"Running Experiment for SNR = {} and {} images\".format(snr, num_imgs))\n",
    "\n",
    "# TODO run experiment for repeat in mr_repeat\n",
    "run_experiment(exp=exp,\n",
    "               max_iter=1,\n",
    "               num_imgs=num_imgs,\n",
    "               snr=snr,\n",
    "               img_size=img_size,\n",
    "               mr_repeat=mr_repeat,\n",
    "               rots_reg_param=lambda0,\n",
    "               data_path=data_path,\n",
    "               )"
   ]
  },
  {
   "cell_type": "code",
   "execution_count": 23,
   "metadata": {
    "colab": {
     "base_uri": "https://localhost:8080/",
     "height": 655
    },
    "executionInfo": {
     "elapsed": 10572,
     "status": "ok",
     "timestamp": 1633875431270,
     "user": {
      "displayName": "Willem Diepeveen",
      "photoUrl": "https://lh3.googleusercontent.com/a/default-user=s64",
      "userId": "07042451899018849244"
     },
     "user_tz": -60
    },
    "id": "swo0r4ydN-fp",
    "outputId": "68390906-487d-403e-fa3f-a5dda11695cc",
    "pycharm": {
     "name": "#%%\n"
    }
   },
   "outputs": [
    {
     "name": "stdout",
     "output_type": "stream",
     "text": [
      "2022-03-02 15:37:23,509 INFO Start Postprocessing\n",
      "2022-03-02 15:37:23,511 INFO Postprocessing started\n"
     ]
    },
    {
     "name": "stderr",
     "output_type": "stream",
     "text": [
      "/Users/wdiepeveen/PycharmProjects/Cryo-EM/lib/python3.6/site-packages/scipy/spatial/transform/rotation.py:135: UserWarning: Gimbal lock detected. Setting third angle to zero since it is not possible to uniquely determine all angles.\n",
      "  warnings.warn(\"Gimbal lock detected. Setting third angle to zero since\"\n"
     ]
    },
    {
     "name": "stdout",
     "output_type": "stream",
     "text": [
      "integrated (averaged) density = 1.0\n",
      "2022-03-02 15:37:24,361 INFO Computing distance squared for 14761 rotations and 2048 images at 6%\n",
      "2022-03-02 15:37:24,449 INFO Computing distance squared for 14761 rotations and 2048 images at 13%\n",
      "2022-03-02 15:37:24,521 INFO Computing distance squared for 14761 rotations and 2048 images at 20%\n",
      "2022-03-02 15:37:24,594 INFO Computing distance squared for 14761 rotations and 2048 images at 27%\n",
      "2022-03-02 15:37:24,668 INFO Computing distance squared for 14761 rotations and 2048 images at 34%\n",
      "2022-03-02 15:37:24,739 INFO Computing distance squared for 14761 rotations and 2048 images at 41%\n",
      "2022-03-02 15:37:24,811 INFO Computing distance squared for 14761 rotations and 2048 images at 48%\n",
      "2022-03-02 15:37:24,878 INFO Computing distance squared for 14761 rotations and 2048 images at 55%\n",
      "2022-03-02 15:37:24,947 INFO Computing distance squared for 14761 rotations and 2048 images at 62%\n",
      "2022-03-02 15:37:25,017 INFO Computing distance squared for 14761 rotations and 2048 images at 69%\n",
      "2022-03-02 15:37:25,085 INFO Computing distance squared for 14761 rotations and 2048 images at 76%\n",
      "2022-03-02 15:37:25,153 INFO Computing distance squared for 14761 rotations and 2048 images at 83%\n",
      "2022-03-02 15:37:25,221 INFO Computing distance squared for 14761 rotations and 2048 images at 90%\n",
      "2022-03-02 15:37:25,294 INFO Computing distance squared for 14761 rotations and 2048 images at 97%\n",
      "2022-03-02 15:37:25,330 INFO Computing distance squared for 14761 rotations and 2048 images at 100%\n"
     ]
    },
    {
     "data": {
      "image/png": "[encoded data removed]",
      "text/plain": [
       "<Figure size 432x288 with 2 Axes>"
      ]
     },
     "metadata": {
      "needs_background": "light"
     },
     "output_type": "display_data"
    },
    {
     "data": {
      "image/png": "[encoded data removed]",
      "text/plain": [
       "<Figure size 432x288 with 1 Axes>"
      ]
     },
     "metadata": {
      "needs_background": "light"
     },
     "output_type": "display_data"
    },
    {
     "data": {
      "image/png": "[encoded data removed]",
      "text/plain": [
       "<Figure size 432x288 with 1 Axes>"
      ]
     },
     "metadata": {
      "needs_background": "light"
     },
     "output_type": "display_data"
    },
    {
     "data": {
      "image/png": "[encoded data removed]",
      "text/plain": [
       "<Figure size 432x288 with 1 Axes>"
      ]
     },
     "metadata": {
      "needs_background": "light"
     },
     "output_type": "display_data"
    }
   ],
   "source": [
    "logger.info(\"Start Postprocessing\")\n",
    "# Postprocessing\n",
    "post_processing(exp=exp,\n",
    "                mr_repeat=mr_repeat,\n",
    "                hist_drange=15,\n",
    "                hist_vrange=500,\n",
    "#                 results_folder=results_path #? TO\n",
    "               )\n",
    "\n"
   ]
  },
  {
   "cell_type": "code",
   "execution_count": null,
   "metadata": {},
   "outputs": [],
   "source": []
  },
  {
   "cell_type": "code",
   "execution_count": null,
   "metadata": {},
   "outputs": [],
   "source": []
  }
 ],
 "metadata": {
  "accelerator": "GPU",
  "colab": {
   "collapsed_sections": [],
   "name": "experiment.ipynb",
   "provenance": []
  },
  "kernelspec": {
   "display_name": "Python 3",
   "language": "python",
   "name": "python3"
  },
  "language_info": {
   "codemirror_mode": {
    "name": "ipython",
    "version": 3
   },
   "file_extension": ".py",
   "mimetype": "text/x-python",
   "name": "python",
   "nbconvert_exporter": "python",
   "pygments_lexer": "ipython3",
   "version": "3.6.12"
  }
 },
 "nbformat": 4,
 "nbformat_minor": 1
}
