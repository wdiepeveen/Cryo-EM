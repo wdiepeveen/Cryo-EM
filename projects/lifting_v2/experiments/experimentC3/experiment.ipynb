{
 "cells": [
  {
   "cell_type": "markdown",
   "metadata": {
    "id": "ZacDoHPsOA_4"
   },
   "source": [
    "# **Experiment**: full algorithm of concent from smudged ground truth 4.1"
   ]
  },
  {
   "cell_type": "code",
   "execution_count": 1,
   "metadata": {
    "pycharm": {
     "is_executing": true,
     "name": "#%%\n"
    }
   },
   "outputs": [],
   "source": [
    "import numpy as np\n",
    "import os\n",
    "import logging\n",
    "\n",
    "from projects.lifting_v2.experiments.experimentC3.E1_run import run_experiment\n",
    "from projects.lifting_v2.experiments.experimentC3.E2_post_processing import post_processing\n",
    "\n",
    "from tools.exp_tools import Exp\n",
    "\n",
    "logger = logging.getLogger(__name__)"
   ]
  },
  {
   "cell_type": "code",
   "execution_count": 10,
   "metadata": {
    "executionInfo": {
     "elapsed": 8,
     "status": "aborted",
     "timestamp": 1634295538607,
     "user": {
      "displayName": "Willem Diepeveen",
      "photoUrl": "https://lh3.googleusercontent.com/a/default-user=s64",
      "userId": "07042451899018849244"
     },
     "user_tz": -60
    },
    "id": "S0YYvJ_YN-fn"
   },
   "outputs": [
    {
     "name": "stdout",
     "output_type": "stream",
     "text": [
      "2022-03-01 00:06:48,144 INFO Results folder is /Users/wdiepeveen/Documents/PhD/Projects/2 - Cryo-EM/src/src/Cryo-EM/tools/../results/expC3_22-03-01_00-06-48_SNR16_L65_N1024_J6_r1_s5_i1_t10_tt99\n"
     ]
    }
   ],
   "source": [
    "# Experiment parameters\n",
    "vol_smudge = 5\n",
    "img_size = 65  # was 65 before and was 129 in rotation estimation paper\n",
    "mr_repeat = 1 # number of times mesh refinement\n",
    "snr = 1 / 16  # [1/2, 1/4, 1/8, 1/16, 1/32, 1/64, 1/128, 1/256]\n",
    "num_imgs = 1024  # 5000  # [512, 1024, 2048, 4096, 8192]\n",
    "\n",
    "tau1 = 0.1\n",
    "tau2 = 1e-1 * tau1\n",
    "J0 = 6\n",
    "\n",
    "# durations\n",
    "# SNR16_L129_N8192_J6_r2_s12_i3 -> 10h\n",
    "# SNR16_L129_N2048_J6_r1_s5_i3 -> \n",
    "max_iter = 1\n",
    "\n",
    "# Directly start experiment\n",
    "exp = Exp()\n",
    "\n",
    "exp.begin(prefix=\"expC3\" , postfix=\"SNR{}_L{}_N{}_J{}_r{}_s{}_i{}_t{}_tt{}\".format(int(1/snr), img_size, num_imgs, J0, mr_repeat, vol_smudge, max_iter, int(1/tau1), int(1/tau2) ))\n",
    "exp.dbglevel(4)"
   ]
  },
  {
   "cell_type": "code",
   "execution_count": 11,
   "metadata": {
    "executionInfo": {
     "elapsed": 10,
     "status": "aborted",
     "timestamp": 1634295538610,
     "user": {
      "displayName": "Willem Diepeveen",
      "photoUrl": "https://lh3.googleusercontent.com/a/default-user=s64",
      "userId": "07042451899018849244"
     },
     "user_tz": -60
    },
    "id": "enQMCesTN-fn"
   },
   "outputs": [],
   "source": [
    "# Set data path\n",
    "data_dir = \"data\"\n",
    "data_filename = \"clean70SRibosome_vol_65p.mrc\"\n",
    "data_path = os.path.join(\"..\", \"..\", \"..\", \"..\",data_dir, data_filename)\n",
    "\n",
    "# Set results folder if skip_preprocessing\n",
    "# results_folder = \"results/expA2_21-10-10_12-30-19_L65_N512_r1_k90_lamV10_lamD-8\"\n",
    "# results_folder = \"results/expA2_21-10-10_12-34-53_L65_N512_r2_k90_lamV10_lamD-8\"\n",
    "# results_folder = \"results/expA2_21-10-10_13-08-24_L65_N512_r1_k90_lamV10_lamD-10\"\n",
    "# results_folder = \"results/expA2_21-10-10_13-47-27_L65_N512_r2_k90_lamV10_lamD-10\"  # \"results/lifting_21-04-26_12-22-06\""
   ]
  },
  {
   "cell_type": "code",
   "execution_count": 12,
   "metadata": {
    "executionInfo": {
     "elapsed": 11,
     "status": "aborted",
     "timestamp": 1634295538611,
     "user": {
      "displayName": "Willem Diepeveen",
      "photoUrl": "https://lh3.googleusercontent.com/a/default-user=s64",
      "userId": "07042451899018849244"
     },
     "user_tz": -60
    },
    "id": "_8S3wedaN-fo"
   },
   "outputs": [
    {
     "name": "stdout",
     "output_type": "stream",
     "text": [
      "2022-03-01 00:06:48,773 INFO Start Experiment\n",
      "2022-03-01 00:06:48,775 INFO Running Experiment for SNR = 0.0625 and 1024 images\n",
      "2022-03-01 00:06:48,777 INFO This experiment illustrates orientation refinement using a lifting approach\n",
      "2022-03-01 00:06:48,779 INFO Initialize simulation object and CTF filters.\n",
      "2022-03-01 00:06:48,780 INFO Load 3D map and downsample 3D map to desired grids of 65 x 65 x 65.\n",
      "2022-03-01 00:06:48,808 INFO Use downsampled map to creat simulation object.\n",
      "2022-03-01 00:06:48,845 INFO Get true rotation angles generated randomly by the simulation object.\n",
      "2022-03-01 00:06:53,968 INFO Applying forward transformations in pipeline\n",
      "2022-03-01 00:06:53,969 INFO All forward transformations applied\n",
      "2022-03-01 00:06:53,970 INFO Loaded 1024 images\n",
      "sigma = 1.805710854569785e-06\n",
      "2022-03-01 00:06:58,639 INFO Applying forward transformations in pipeline\n",
      "2022-03-01 00:06:58,640 INFO All forward transformations applied\n",
      "2022-03-01 00:06:58,641 INFO Loaded 1024 images\n",
      "2022-03-01 00:06:58,642 INFO Initializing density\n",
      "Initializing solver\n",
      "2022-03-01 00:06:58,831 INFO Initialising Solver\n",
      "Start solver\n",
      "========================= Iteration 1 =========================\n",
      "2022-03-01 00:06:58,832 INFO Update data_discrepancies\n",
      "2022-03-01 00:06:58,833 INFO Computing \\|Ag.u - f_i\\|^2\n",
      "2022-03-01 00:07:03,648 INFO Computing data fidelity for 14761 rotations and 1024 images at 6%\n",
      "2022-03-01 00:07:08,483 INFO Computing data fidelity for 14761 rotations and 1024 images at 13%\n",
      "2022-03-01 00:07:13,383 INFO Computing data fidelity for 14761 rotations and 1024 images at 20%\n",
      "2022-03-01 00:07:18,371 INFO Computing data fidelity for 14761 rotations and 1024 images at 27%\n",
      "2022-03-01 00:07:23,373 INFO Computing data fidelity for 14761 rotations and 1024 images at 34%\n",
      "2022-03-01 00:07:28,268 INFO Computing data fidelity for 14761 rotations and 1024 images at 41%\n",
      "2022-03-01 00:07:33,006 INFO Computing data fidelity for 14761 rotations and 1024 images at 48%\n",
      "2022-03-01 00:07:37,943 INFO Computing data fidelity for 14761 rotations and 1024 images at 55%\n",
      "2022-03-01 00:07:42,546 INFO Computing data fidelity for 14761 rotations and 1024 images at 62%\n",
      "2022-03-01 00:07:47,112 INFO Computing data fidelity for 14761 rotations and 1024 images at 69%\n",
      "2022-03-01 00:07:51,684 INFO Computing data fidelity for 14761 rotations and 1024 images at 76%\n",
      "2022-03-01 00:07:56,227 INFO Computing data fidelity for 14761 rotations and 1024 images at 83%\n",
      "2022-03-01 00:08:00,843 INFO Computing data fidelity for 14761 rotations and 1024 images at 90%\n",
      "2022-03-01 00:08:05,404 INFO Computing data fidelity for 14761 rotations and 1024 images at 97%\n",
      "2022-03-01 00:08:07,315 INFO Computing data fidelity for 14761 rotations and 1024 images at 100%\n",
      "2022-03-01 00:08:07,318 INFO Do lambda update step\n",
      "lambda = [0.4175703  0.30905204 0.73169223 ... 1.36721953 0.37644865 0.57585278]\n",
      "2022-03-01 00:08:08,623 INFO Do rots update step\n",
      "2022-03-01 00:08:08,731 INFO Projecting 1024 vectors onto 14761-simplex at 4%\n",
      "2022-03-01 00:08:08,809 INFO Projecting 1024 vectors onto 14761-simplex at 9%\n",
      "2022-03-01 00:08:08,885 INFO Projecting 1024 vectors onto 14761-simplex at 14%\n",
      "2022-03-01 00:08:08,961 INFO Projecting 1024 vectors onto 14761-simplex at 19%\n",
      "2022-03-01 00:08:09,036 INFO Projecting 1024 vectors onto 14761-simplex at 24%\n",
      "2022-03-01 00:08:09,112 INFO Projecting 1024 vectors onto 14761-simplex at 29%\n",
      "2022-03-01 00:08:09,189 INFO Projecting 1024 vectors onto 14761-simplex at 34%\n",
      "2022-03-01 00:08:09,268 INFO Projecting 1024 vectors onto 14761-simplex at 39%\n",
      "2022-03-01 00:08:09,343 INFO Projecting 1024 vectors onto 14761-simplex at 43%\n",
      "2022-03-01 00:08:09,420 INFO Projecting 1024 vectors onto 14761-simplex at 48%\n",
      "2022-03-01 00:08:09,499 INFO Projecting 1024 vectors onto 14761-simplex at 53%\n",
      "2022-03-01 00:08:09,579 INFO Projecting 1024 vectors onto 14761-simplex at 58%\n",
      "2022-03-01 00:08:09,661 INFO Projecting 1024 vectors onto 14761-simplex at 63%\n",
      "2022-03-01 00:08:09,745 INFO Projecting 1024 vectors onto 14761-simplex at 68%\n",
      "2022-03-01 00:08:09,826 INFO Projecting 1024 vectors onto 14761-simplex at 73%\n",
      "2022-03-01 00:08:09,904 INFO Projecting 1024 vectors onto 14761-simplex at 78%\n",
      "2022-03-01 00:08:09,980 INFO Projecting 1024 vectors onto 14761-simplex at 83%\n",
      "2022-03-01 00:08:10,057 INFO Projecting 1024 vectors onto 14761-simplex at 87%\n",
      "2022-03-01 00:08:10,133 INFO Projecting 1024 vectors onto 14761-simplex at 92%\n",
      "2022-03-01 00:08:10,209 INFO Projecting 1024 vectors onto 14761-simplex at 97%\n",
      "2022-03-01 00:08:10,259 INFO Projecting 1024 vectors onto 14761-simplex at 100%\n",
      "2022-03-01 00:08:10,323 INFO Computing 50 means of 323 points in at most 20 steps...\n",
      "2022-03-01 00:08:10,377 INFO Computing 1024 means at 4%\n",
      "2022-03-01 00:08:10,389 INFO Computing 50 means of 325 points in at most 20 steps...\n",
      "2022-03-01 00:08:10,444 INFO Computing 1024 means at 9%\n",
      "2022-03-01 00:08:10,453 INFO Computing 50 means of 312 points in at most 20 steps...\n",
      "2022-03-01 00:08:10,507 INFO Computing 1024 means at 14%\n",
      "2022-03-01 00:08:10,517 INFO Computing 50 means of 317 points in at most 20 steps...\n",
      "2022-03-01 00:08:10,571 INFO Computing 1024 means at 19%\n",
      "2022-03-01 00:08:10,581 INFO Computing 50 means of 309 points in at most 20 steps...\n",
      "2022-03-01 00:08:10,632 INFO Computing 1024 means at 24%\n",
      "2022-03-01 00:08:10,642 INFO Computing 50 means of 321 points in at most 20 steps...\n",
      "2022-03-01 00:08:10,695 INFO Computing 1024 means at 29%\n",
      "2022-03-01 00:08:10,704 INFO Computing 50 means of 318 points in at most 20 steps...\n",
      "2022-03-01 00:08:10,761 INFO Computing 1024 means at 34%\n",
      "2022-03-01 00:08:10,771 INFO Computing 50 means of 315 points in at most 20 steps...\n",
      "2022-03-01 00:08:10,825 INFO Computing 1024 means at 39%\n",
      "2022-03-01 00:08:10,835 INFO Computing 50 means of 322 points in at most 20 steps...\n",
      "2022-03-01 00:08:10,892 INFO Computing 1024 means at 43%\n",
      "2022-03-01 00:08:10,902 INFO Computing 50 means of 319 points in at most 20 steps...\n",
      "2022-03-01 00:08:10,955 INFO Computing 1024 means at 48%\n",
      "2022-03-01 00:08:10,965 INFO Computing 50 means of 324 points in at most 20 steps...\n",
      "2022-03-01 00:08:11,016 INFO Computing 1024 means at 53%\n",
      "2022-03-01 00:08:11,025 INFO Computing 50 means of 317 points in at most 20 steps...\n",
      "2022-03-01 00:08:11,075 INFO Computing 1024 means at 58%\n",
      "2022-03-01 00:08:11,084 INFO Computing 50 means of 315 points in at most 20 steps...\n",
      "2022-03-01 00:08:11,136 INFO Computing 1024 means at 63%\n",
      "2022-03-01 00:08:11,146 INFO Computing 50 means of 320 points in at most 20 steps...\n",
      "2022-03-01 00:08:11,196 INFO Computing 1024 means at 68%\n",
      "2022-03-01 00:08:11,206 INFO Computing 50 means of 321 points in at most 20 steps...\n",
      "2022-03-01 00:08:11,259 INFO Computing 1024 means at 73%\n",
      "2022-03-01 00:08:11,270 INFO Computing 50 means of 315 points in at most 20 steps...\n",
      "2022-03-01 00:08:11,323 INFO Computing 1024 means at 78%\n",
      "2022-03-01 00:08:11,333 INFO Computing 50 means of 315 points in at most 20 steps...\n",
      "2022-03-01 00:08:11,389 INFO Computing 1024 means at 83%\n",
      "2022-03-01 00:08:11,398 INFO Computing 50 means of 318 points in at most 20 steps...\n",
      "2022-03-01 00:08:11,447 INFO Computing 1024 means at 87%\n",
      "2022-03-01 00:08:11,456 INFO Computing 50 means of 317 points in at most 20 steps...\n",
      "2022-03-01 00:08:11,511 INFO Computing 1024 means at 92%\n",
      "2022-03-01 00:08:11,521 INFO Computing 50 means of 313 points in at most 20 steps...\n",
      "2022-03-01 00:08:11,575 INFO Computing 1024 means at 97%\n",
      "2022-03-01 00:08:11,581 INFO Computing 24 means of 152 points in at most 20 steps...\n",
      "2022-03-01 00:08:11,604 INFO Computing 1024 means at 100%\n",
      "2022-03-01 00:08:11,767 INFO Do vol update step\n",
      "2022-03-01 00:08:11,768 INFO Compute adjoint forward mapping on the images\n",
      "2022-03-01 00:08:13,650 INFO Determined adjoint mappings. Shape = (65, 65, 65)\n",
      "2022-03-01 00:08:13,660 INFO Computing adjoint forward mappings from 1024 rotations at 100%\n",
      "2022-03-01 00:08:15,851 INFO Computing kernel from 1024 rotations at 100%\n",
      "2022-03-01 00:08:15,852 INFO Computing non-centered Fourier Transform\n",
      "2022-03-01 00:08:15,921 INFO Add ramp filter regularisation\n",
      "Solver has finished\n"
     ]
    }
   ],
   "source": [
    "# Experiment\n",
    "\n",
    "logger.info(\"Start Experiment\")\n",
    "logger.info(\"Running Experiment for SNR = {} and {} images\".format(snr, num_imgs))\n",
    "\n",
    "run_experiment(exp=exp,\n",
    "               max_iter=max_iter,\n",
    "               num_imgs=num_imgs,\n",
    "               snr=snr,\n",
    "               img_size=img_size,\n",
    "               mr_repeat=mr_repeat,\n",
    "               tau1=tau1,\n",
    "               tau2=tau2,\n",
    "               J0=J0,\n",
    "               data_path=data_path,\n",
    "               vol_smudge=vol_smudge,\n",
    "               )"
   ]
  },
  {
   "cell_type": "code",
   "execution_count": 13,
   "metadata": {
    "pycharm": {
     "name": "#%%\n"
    }
   },
   "outputs": [
    {
     "name": "stdout",
     "output_type": "stream",
     "text": [
      "2022-03-01 00:08:16,941 INFO Start Postprocessing\n",
      "2022-03-01 00:08:16,943 INFO Postprocessing started\n",
      "integrated (averaged) density = 1.0000000000004547\n",
      "2022-03-01 00:08:17,398 INFO MSE deviation of the 1:th estimated GD-refined rotations using register_rotations : 1.3693540059306806\n"
     ]
    },
    {
     "name": "stderr",
     "output_type": "stream",
     "text": [
      "/Users/wdiepeveen/PycharmProjects/Cryo-EM/lib/python3.6/site-packages/scipy/spatial/transform/rotation.py:135: UserWarning: Gimbal lock detected. Setting third angle to zero since it is not possible to uniquely determine all angles.\n",
      "  warnings.warn(\"Gimbal lock detected. Setting third angle to zero since\"\n"
     ]
    },
    {
     "name": "stdout",
     "output_type": "stream",
     "text": [
      "2022-03-01 00:08:17,544 INFO Substituting symbol X from STIXNonUnicode\n",
      "2022-03-01 00:08:17,555 INFO Substituting symbol X from STIXNonUnicode\n"
     ]
    },
    {
     "data": {
      "image/png": "[encoded data removed]",
      "text/plain": [
       "<Figure size 432x288 with 2 Axes>"
      ]
     },
     "metadata": {
      "needs_background": "light"
     },
     "output_type": "display_data"
    },
    {
     "name": "stdout",
     "output_type": "stream",
     "text": [
      "2022-03-01 00:08:17,882 INFO Substituting symbol X from STIXNonUnicode\n",
      "2022-03-01 00:08:17,892 INFO Substituting symbol X from STIXNonUnicode\n"
     ]
    },
    {
     "data": {
      "image/png": "[encoded data removed]",
      "text/plain": [
       "<Figure size 432x288 with 1 Axes>"
      ]
     },
     "metadata": {
      "needs_background": "light"
     },
     "output_type": "display_data"
    },
    {
     "name": "stdout",
     "output_type": "stream",
     "text": [
      "2022-03-01 00:08:17,997 INFO Substituting symbol X from STIXNonUnicode\n",
      "2022-03-01 00:08:18,005 INFO Substituting symbol X from STIXNonUnicode\n",
      "2022-03-01 00:08:18,107 INFO Substituting symbol X from STIXNonUnicode\n",
      "2022-03-01 00:08:18,116 INFO Substituting symbol X from STIXNonUnicode\n"
     ]
    },
    {
     "data": {
      "image/png": "[encoded data removed]",
      "text/plain": [
       "<Figure size 432x288 with 1 Axes>"
      ]
     },
     "metadata": {
      "needs_background": "light"
     },
     "output_type": "display_data"
    }
   ],
   "source": [
    "logger.info(\"Start Postprocessing\")\n",
    "# Postprocessing\n",
    "post_processing(exp=exp,\n",
    "                mr_repeat=mr_repeat,\n",
    "                hist_range=60,\n",
    "              #  results_folder=results_folder #?\n",
    "               )\n"
   ]
  },
  {
   "cell_type": "code",
   "execution_count": null,
   "metadata": {},
   "outputs": [],
   "source": []
  }
 ],
 "metadata": {
  "accelerator": "GPU",
  "colab": {
   "collapsed_sections": [],
   "name": "experiment.ipynb",
   "provenance": []
  },
  "kernelspec": {
   "display_name": "Python 3",
   "language": "python",
   "name": "python3"
  },
  "language_info": {
   "codemirror_mode": {
    "name": "ipython",
    "version": 3
   },
   "file_extension": ".py",
   "mimetype": "text/x-python",
   "name": "python",
   "nbconvert_exporter": "python",
   "pygments_lexer": "ipython3",
   "version": "3.6.12"
  }
 },
 "nbformat": 4,
 "nbformat_minor": 1
}
