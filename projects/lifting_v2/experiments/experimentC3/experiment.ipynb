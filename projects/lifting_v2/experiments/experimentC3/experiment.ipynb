{
 "cells": [
  {
   "cell_type": "markdown",
   "metadata": {
    "id": "ZacDoHPsOA_4"
   },
   "source": [
    "# **Experiment**: full algorithm of concent from smudged ground truth 4.1"
   ]
  },
  {
   "cell_type": "code",
   "execution_count": 1,
   "metadata": {
    "pycharm": {
     "is_executing": true,
     "name": "#%%\n"
    }
   },
   "outputs": [],
   "source": [
    "import numpy as np\n",
    "import os\n",
    "import logging\n",
    "\n",
    "from projects.lifting_v2.experiments.experimentC3.E1_run import run_experiment\n",
    "from projects.lifting_v2.experiments.experimentC3.E2_post_processing import post_processing\n",
    "\n",
    "from tools.exp_tools import Exp\n",
    "\n",
    "logger = logging.getLogger(__name__)"
   ]
  },
  {
   "cell_type": "code",
   "execution_count": 2,
   "metadata": {
    "executionInfo": {
     "elapsed": 8,
     "status": "aborted",
     "timestamp": 1634295538607,
     "user": {
      "displayName": "Willem Diepeveen",
      "photoUrl": "https://lh3.googleusercontent.com/a/default-user=s64",
      "userId": "07042451899018849244"
     },
     "user_tz": -60
    },
    "id": "S0YYvJ_YN-fn"
   },
   "outputs": [
    {
     "name": "stdout",
     "output_type": "stream",
     "text": [
      "2022-04-07 10:20:00,311 INFO Results folder is /Users/wdiepeveen/Documents/PhD/Projects/2 - Cryo-EM/src/src/Cryo-EM/tools/../results/expC3_22-04-07_10-20-00_SNR16_N2048_J15_r2_s1_i1\n"
     ]
    }
   ],
   "source": [
    "# Experiment parameters\n",
    "vol_smudge = 10\n",
    "mr_repeat = 2 # number of times mesh refinement\n",
    "snr = 1 / 16  # [1/2, 1/4, 1/8, 1/16, 1/32, 1/64, 1/128, 1/256]\n",
    "num_imgs = 2048 # 5000  # [512, 1024, 2048, 4096, 8192]\n",
    "J0 = 15\n",
    "\n",
    "# durations\n",
    "# SNR16_L129_N8192_J6_r2_sX_i3 -> 10h\n",
    "# SNR16_L129_N8192_J6_r1_sX_i3 -> 1.5h\n",
    "# SNR16_L129_N2048_J6_r2_sX_i5 -> per iter: 1h data_discr/2min rest | tot: 5h20m\n",
    "max_iter = 10\n",
    "\n",
    "# Directly start experiment\n",
    "exp = Exp()\n",
    "\n",
    "exp.begin(prefix=\"expC3\" , postfix=\"SNR{}_N{}_J{}_r{}_s{}_i{}\".format(int(1/snr), num_imgs, J0, mr_repeat, vol_smudge, max_iter))\n",
    "# exp.begin(prefix=\"expC3\" , postfix=\"SNR{}_L{}_N{}_J{}_r{}_s{}_i{}_t{}_tt{}\".format(int(1/snr), img_size, num_imgs, J0, mr_repeat, vol_smudge, max_iter, int(-np.log(tau1)/np.log(10)), int(-np.log(tau2)/np.log(10)) ))\n",
    "exp.dbglevel(4)"
   ]
  },
  {
   "cell_type": "code",
   "execution_count": 3,
   "metadata": {
    "executionInfo": {
     "elapsed": 10,
     "status": "aborted",
     "timestamp": 1634295538610,
     "user": {
      "displayName": "Willem Diepeveen",
      "photoUrl": "https://lh3.googleusercontent.com/a/default-user=s64",
      "userId": "07042451899018849244"
     },
     "user_tz": -60
    },
    "id": "enQMCesTN-fn"
   },
   "outputs": [],
   "source": [
    "# Set data path\n",
    "data_dir = \"data\"\n",
    "# data_filename = \"clean70SRibosome_vol_65p.mrc\"\n",
    "data_filename = \"waving_spike_state22_91p.mrc\"\n",
    "data_path = os.path.join(\"..\", \"..\", \"..\", \"..\",data_dir, data_filename)\n",
    "\n",
    "# Set results folder if skip_preprocessing\n",
    "results_dir = \"results\"\n",
    "results_folder = \"expC3_22-03-01_22-57-37_SNR16_L129_N2048_J6_r2_s10_i10\"  # ribosomal 70s\n",
    "results_folder = \"expC3_22-03-15_11-29-31_SNR16_N2048_J6_r2_s10_i2\"  # spike protein\n",
    "results_folder = \"expC3_22-04-04_18-02-10_SNR16_N2048_J20_r2_s10_i20\"  # spike protein\n",
    "results_path = os.path.join(\"..\", \"..\", \"..\", \"..\",results_dir,results_folder)"
   ]
  },
  {
   "cell_type": "code",
   "execution_count": 4,
   "metadata": {
    "executionInfo": {
     "elapsed": 11,
     "status": "aborted",
     "timestamp": 1634295538611,
     "user": {
      "displayName": "Willem Diepeveen",
      "photoUrl": "https://lh3.googleusercontent.com/a/default-user=s64",
      "userId": "07042451899018849244"
     },
     "user_tz": -60
    },
    "id": "_8S3wedaN-fo"
   },
   "outputs": [
    {
     "name": "stdout",
     "output_type": "stream",
     "text": [
      "2022-04-07 10:20:00,329 INFO Start Experiment\n",
      "2022-04-07 10:20:00,332 INFO Running Experiment for SNR = 0.0625 and 2048 images\n",
      "2022-04-07 10:20:00,334 INFO This experiment illustrates orientation refinement using a lifting approach\n",
      "2022-04-07 10:20:00,344 INFO Load 3D map and downsample 3D map to desired grids of 91 x 91 x 91.\n",
      "2022-04-07 10:20:00,346 INFO Initialize simulation object and CTF filters.\n",
      "2022-04-07 10:20:00,374 INFO Use downsampled map to creat simulation object.\n",
      "2022-04-07 10:20:00,415 INFO Get true rotation angles generated randomly by the simulation object.\n",
      "2022-04-07 10:20:01,972 INFO Trying NFFT backend finufft\n",
      "2022-04-07 10:20:01,979 INFO NFFT backend finufft usable.\n",
      "2022-04-07 10:20:01,980 INFO Trying NFFT backend cufinufft\n",
      "2022-04-07 10:20:01,983 INFO NFFT backend cufinufft not usable:\n",
      "\tNo module named 'pycuda'\n",
      "2022-04-07 10:20:01,984 INFO Trying NFFT backend pynfft\n",
      "2022-04-07 10:20:01,986 INFO NFFT backend pynfft not usable:\n",
      "\tNo module named 'pynfft'\n",
      "2022-04-07 10:20:01,987 INFO Selected NFFT backend = finufft.\n",
      "2022-04-07 10:20:17,628 INFO Applying forward transformations in pipeline\n",
      "2022-04-07 10:20:17,629 INFO All forward transformations applied\n",
      "2022-04-07 10:20:17,630 INFO Loaded 2048 images\n",
      "sigma = 0.0031409292103415946\n",
      "tau = 0.008850366841677799\n",
      "tau_init = 0.0069158482614458195\n",
      "2022-04-07 10:20:34,043 INFO Applying forward transformations in pipeline\n",
      "2022-04-07 10:20:34,044 INFO All forward transformations applied\n",
      "2022-04-07 10:20:34,045 INFO Loaded 2048 images\n",
      "J = 15\n",
      "2022-04-07 10:20:34,046 INFO Initializing density\n",
      "Initializing solver\n",
      "2022-04-07 10:20:35,234 INFO Initialising Solver\n",
      "Start solver\n",
      "========================= Iteration 1 =========================\n",
      "2022-04-07 10:20:35,235 INFO Update data_discrepancies\n",
      "2022-04-07 10:20:35,236 INFO Computing \\|Ag.u - f_i\\|^2\n",
      "2022-04-07 10:20:51,100 INFO Computing data fidelity for 114564 rotations and 2048 images at 0%\n",
      "2022-04-07 10:21:06,747 INFO Computing data fidelity for 114564 rotations and 2048 images at 1%\n",
      "2022-04-07 10:21:22,542 INFO Computing data fidelity for 114564 rotations and 2048 images at 2%\n",
      "2022-04-07 10:21:38,238 INFO Computing data fidelity for 114564 rotations and 2048 images at 3%\n",
      "2022-04-07 10:21:54,154 INFO Computing data fidelity for 114564 rotations and 2048 images at 4%\n",
      "2022-04-07 10:22:09,179 INFO Computing data fidelity for 114564 rotations and 2048 images at 5%\n",
      "2022-04-07 10:22:23,776 INFO Computing data fidelity for 114564 rotations and 2048 images at 6%\n",
      "2022-04-07 10:22:38,526 INFO Computing data fidelity for 114564 rotations and 2048 images at 7%\n",
      "2022-04-07 10:22:53,320 INFO Computing data fidelity for 114564 rotations and 2048 images at 8%\n",
      "2022-04-07 10:23:07,988 INFO Computing data fidelity for 114564 rotations and 2048 images at 8%\n",
      "2022-04-07 10:23:22,861 INFO Computing data fidelity for 114564 rotations and 2048 images at 9%\n",
      "2022-04-07 10:23:38,681 INFO Computing data fidelity for 114564 rotations and 2048 images at 10%\n",
      "2022-04-07 10:23:54,140 INFO Computing data fidelity for 114564 rotations and 2048 images at 11%\n",
      "2022-04-07 10:24:09,805 INFO Computing data fidelity for 114564 rotations and 2048 images at 12%\n",
      "2022-04-07 10:24:25,614 INFO Computing data fidelity for 114564 rotations and 2048 images at 13%\n",
      "2022-04-07 10:24:41,566 INFO Computing data fidelity for 114564 rotations and 2048 images at 14%\n",
      "2022-04-07 10:24:57,284 INFO Computing data fidelity for 114564 rotations and 2048 images at 15%\n",
      "2022-04-07 10:25:12,985 INFO Computing data fidelity for 114564 rotations and 2048 images at 16%\n",
      "2022-04-07 10:25:28,031 INFO Computing data fidelity for 114564 rotations and 2048 images at 16%\n",
      "2022-04-07 10:25:43,656 INFO Computing data fidelity for 114564 rotations and 2048 images at 17%\n",
      "2022-04-07 10:25:59,192 INFO Computing data fidelity for 114564 rotations and 2048 images at 18%\n",
      "2022-04-07 10:26:14,578 INFO Computing data fidelity for 114564 rotations and 2048 images at 19%\n",
      "2022-04-07 10:26:30,141 INFO Computing data fidelity for 114564 rotations and 2048 images at 20%\n",
      "2022-04-07 10:26:45,523 INFO Computing data fidelity for 114564 rotations and 2048 images at 21%\n",
      "2022-04-07 10:27:01,068 INFO Computing data fidelity for 114564 rotations and 2048 images at 22%\n",
      "2022-04-07 10:27:16,852 INFO Computing data fidelity for 114564 rotations and 2048 images at 23%\n",
      "2022-04-07 10:27:32,459 INFO Computing data fidelity for 114564 rotations and 2048 images at 24%\n",
      "2022-04-07 10:27:48,359 INFO Computing data fidelity for 114564 rotations and 2048 images at 25%\n",
      "2022-04-07 10:28:04,061 INFO Computing data fidelity for 114564 rotations and 2048 images at 25%\n",
      "2022-04-07 10:28:19,821 INFO Computing data fidelity for 114564 rotations and 2048 images at 26%\n",
      "2022-04-07 10:28:35,458 INFO Computing data fidelity for 114564 rotations and 2048 images at 27%\n",
      "2022-04-07 10:28:50,956 INFO Computing data fidelity for 114564 rotations and 2048 images at 28%\n",
      "2022-04-07 10:29:06,486 INFO Computing data fidelity for 114564 rotations and 2048 images at 29%\n",
      "2022-04-07 10:29:22,133 INFO Computing data fidelity for 114564 rotations and 2048 images at 30%\n",
      "2022-04-07 10:29:37,987 INFO Computing data fidelity for 114564 rotations and 2048 images at 31%\n",
      "2022-04-07 10:29:53,626 INFO Computing data fidelity for 114564 rotations and 2048 images at 32%\n",
      "2022-04-07 10:30:09,478 INFO Computing data fidelity for 114564 rotations and 2048 images at 33%\n",
      "2022-04-07 10:30:24,283 INFO Computing data fidelity for 114564 rotations and 2048 images at 33%\n",
      "2022-04-07 10:30:39,096 INFO Computing data fidelity for 114564 rotations and 2048 images at 34%\n",
      "2022-04-07 10:30:53,812 INFO Computing data fidelity for 114564 rotations and 2048 images at 35%\n",
      "2022-04-07 10:31:09,113 INFO Computing data fidelity for 114564 rotations and 2048 images at 36%\n",
      "2022-04-07 10:31:24,821 INFO Computing data fidelity for 114564 rotations and 2048 images at 37%\n",
      "2022-04-07 10:31:39,950 INFO Computing data fidelity for 114564 rotations and 2048 images at 38%\n",
      "2022-04-07 10:31:54,299 INFO Computing data fidelity for 114564 rotations and 2048 images at 39%\n",
      "2022-04-07 10:32:08,662 INFO Computing data fidelity for 114564 rotations and 2048 images at 40%\n",
      "2022-04-07 10:32:23,027 INFO Computing data fidelity for 114564 rotations and 2048 images at 41%\n",
      "2022-04-07 10:32:37,408 INFO Computing data fidelity for 114564 rotations and 2048 images at 42%\n",
      "2022-04-07 10:32:51,889 INFO Computing data fidelity for 114564 rotations and 2048 images at 42%\n",
      "2022-04-07 10:33:06,402 INFO Computing data fidelity for 114564 rotations and 2048 images at 43%\n",
      "2022-04-07 10:33:20,735 INFO Computing data fidelity for 114564 rotations and 2048 images at 44%\n",
      "2022-04-07 10:33:35,594 INFO Computing data fidelity for 114564 rotations and 2048 images at 45%\n",
      "2022-04-07 10:33:51,135 INFO Computing data fidelity for 114564 rotations and 2048 images at 46%\n",
      "2022-04-07 10:34:06,686 INFO Computing data fidelity for 114564 rotations and 2048 images at 47%\n",
      "2022-04-07 10:34:22,441 INFO Computing data fidelity for 114564 rotations and 2048 images at 48%\n",
      "2022-04-07 10:34:38,321 INFO Computing data fidelity for 114564 rotations and 2048 images at 49%\n",
      "2022-04-07 10:34:53,900 INFO Computing data fidelity for 114564 rotations and 2048 images at 50%\n",
      "2022-04-07 10:35:09,869 INFO Computing data fidelity for 114564 rotations and 2048 images at 50%\n",
      "2022-04-07 10:35:24,431 INFO Computing data fidelity for 114564 rotations and 2048 images at 51%\n",
      "2022-04-07 10:35:38,863 INFO Computing data fidelity for 114564 rotations and 2048 images at 52%\n",
      "2022-04-07 10:35:53,456 INFO Computing data fidelity for 114564 rotations and 2048 images at 53%\n",
      "2022-04-07 10:36:07,971 INFO Computing data fidelity for 114564 rotations and 2048 images at 54%\n",
      "2022-04-07 10:36:22,535 INFO Computing data fidelity for 114564 rotations and 2048 images at 55%\n",
      "2022-04-07 10:36:37,293 INFO Computing data fidelity for 114564 rotations and 2048 images at 56%\n",
      "2022-04-07 10:36:52,576 INFO Computing data fidelity for 114564 rotations and 2048 images at 57%\n",
      "2022-04-07 10:37:08,673 INFO Computing data fidelity for 114564 rotations and 2048 images at 58%\n",
      "2022-04-07 10:37:23,396 INFO Computing data fidelity for 114564 rotations and 2048 images at 58%\n"
     ]
    },
    {
     "name": "stdout",
     "output_type": "stream",
     "text": [
      "2022-04-07 10:37:37,969 INFO Computing data fidelity for 114564 rotations and 2048 images at 59%\n",
      "2022-04-07 10:37:52,652 INFO Computing data fidelity for 114564 rotations and 2048 images at 60%\n",
      "2022-04-07 10:38:07,246 INFO Computing data fidelity for 114564 rotations and 2048 images at 61%\n",
      "2022-04-07 10:38:21,952 INFO Computing data fidelity for 114564 rotations and 2048 images at 62%\n",
      "2022-04-07 10:38:37,513 INFO Computing data fidelity for 114564 rotations and 2048 images at 63%\n",
      "2022-04-07 10:38:53,174 INFO Computing data fidelity for 114564 rotations and 2048 images at 64%\n",
      "2022-04-07 10:39:08,672 INFO Computing data fidelity for 114564 rotations and 2048 images at 65%\n",
      "2022-04-07 10:39:24,351 INFO Computing data fidelity for 114564 rotations and 2048 images at 66%\n",
      "2022-04-07 10:39:40,115 INFO Computing data fidelity for 114564 rotations and 2048 images at 67%\n",
      "2022-04-07 10:39:55,734 INFO Computing data fidelity for 114564 rotations and 2048 images at 67%\n",
      "2022-04-07 10:40:11,601 INFO Computing data fidelity for 114564 rotations and 2048 images at 68%\n",
      "2022-04-07 10:40:26,107 INFO Computing data fidelity for 114564 rotations and 2048 images at 69%\n",
      "2022-04-07 10:40:40,646 INFO Computing data fidelity for 114564 rotations and 2048 images at 70%\n",
      "2022-04-07 10:40:55,229 INFO Computing data fidelity for 114564 rotations and 2048 images at 71%\n",
      "2022-04-07 10:41:09,746 INFO Computing data fidelity for 114564 rotations and 2048 images at 72%\n",
      "2022-04-07 10:41:24,599 INFO Computing data fidelity for 114564 rotations and 2048 images at 73%\n",
      "2022-04-07 10:41:40,632 INFO Computing data fidelity for 114564 rotations and 2048 images at 74%\n",
      "2022-04-07 10:41:56,471 INFO Computing data fidelity for 114564 rotations and 2048 images at 75%\n",
      "2022-04-07 10:42:11,889 INFO Computing data fidelity for 114564 rotations and 2048 images at 75%\n",
      "2022-04-07 10:42:27,025 INFO Computing data fidelity for 114564 rotations and 2048 images at 76%\n",
      "2022-04-07 10:42:42,730 INFO Computing data fidelity for 114564 rotations and 2048 images at 77%\n",
      "2022-04-07 10:42:58,270 INFO Computing data fidelity for 114564 rotations and 2048 images at 78%\n",
      "2022-04-07 10:43:12,715 INFO Computing data fidelity for 114564 rotations and 2048 images at 79%\n",
      "2022-04-07 10:43:27,141 INFO Computing data fidelity for 114564 rotations and 2048 images at 80%\n",
      "2022-04-07 10:43:42,610 INFO Computing data fidelity for 114564 rotations and 2048 images at 81%\n",
      "2022-04-07 10:43:57,920 INFO Computing data fidelity for 114564 rotations and 2048 images at 82%\n",
      "2022-04-07 10:44:13,213 INFO Computing data fidelity for 114564 rotations and 2048 images at 83%\n",
      "2022-04-07 10:44:28,618 INFO Computing data fidelity for 114564 rotations and 2048 images at 84%\n",
      "2022-04-07 10:44:44,347 INFO Computing data fidelity for 114564 rotations and 2048 images at 84%\n",
      "2022-04-07 10:45:00,183 INFO Computing data fidelity for 114564 rotations and 2048 images at 85%\n",
      "2022-04-07 10:45:15,850 INFO Computing data fidelity for 114564 rotations and 2048 images at 86%\n",
      "2022-04-07 10:45:31,463 INFO Computing data fidelity for 114564 rotations and 2048 images at 87%\n",
      "2022-04-07 10:45:47,411 INFO Computing data fidelity for 114564 rotations and 2048 images at 88%\n",
      "2022-04-07 10:46:02,610 INFO Computing data fidelity for 114564 rotations and 2048 images at 89%\n",
      "2022-04-07 10:46:17,209 INFO Computing data fidelity for 114564 rotations and 2048 images at 90%\n",
      "2022-04-07 10:46:31,831 INFO Computing data fidelity for 114564 rotations and 2048 images at 91%\n",
      "2022-04-07 10:46:46,583 INFO Computing data fidelity for 114564 rotations and 2048 images at 92%\n",
      "2022-04-07 10:47:01,214 INFO Computing data fidelity for 114564 rotations and 2048 images at 92%\n",
      "2022-04-07 10:47:15,822 INFO Computing data fidelity for 114564 rotations and 2048 images at 93%\n",
      "2022-04-07 10:47:30,384 INFO Computing data fidelity for 114564 rotations and 2048 images at 94%\n",
      "2022-04-07 10:47:45,038 INFO Computing data fidelity for 114564 rotations and 2048 images at 95%\n",
      "2022-04-07 10:47:59,614 INFO Computing data fidelity for 114564 rotations and 2048 images at 96%\n",
      "2022-04-07 10:48:14,176 INFO Computing data fidelity for 114564 rotations and 2048 images at 97%\n",
      "2022-04-07 10:48:28,712 INFO Computing data fidelity for 114564 rotations and 2048 images at 98%\n",
      "2022-04-07 10:48:44,339 INFO Computing data fidelity for 114564 rotations and 2048 images at 99%\n",
      "2022-04-07 10:48:57,746 INFO Computing data fidelity for 114564 rotations and 2048 images at 100%\n",
      "2022-04-07 10:48:59,175 INFO Do lambda update step\n",
      "lambda = [42.28451021 55.11556608 57.21393293 ... 41.80233988 44.00304745\n",
      " 42.59045047]\n",
      "2022-04-07 10:49:25,470 INFO Do rots update step\n",
      "2022-04-07 10:49:26,545 INFO Projecting 2048 vectors onto 114564-simplex at 2%\n",
      "2022-04-07 10:49:27,226 INFO Projecting 2048 vectors onto 114564-simplex at 4%\n",
      "2022-04-07 10:49:27,900 INFO Projecting 2048 vectors onto 114564-simplex at 7%\n",
      "2022-04-07 10:49:28,572 INFO Projecting 2048 vectors onto 114564-simplex at 9%\n",
      "2022-04-07 10:49:29,249 INFO Projecting 2048 vectors onto 114564-simplex at 12%\n",
      "2022-04-07 10:49:29,909 INFO Projecting 2048 vectors onto 114564-simplex at 14%\n",
      "2022-04-07 10:49:30,587 INFO Projecting 2048 vectors onto 114564-simplex at 17%\n",
      "2022-04-07 10:49:31,251 INFO Projecting 2048 vectors onto 114564-simplex at 19%\n",
      "2022-04-07 10:49:31,918 INFO Projecting 2048 vectors onto 114564-simplex at 21%\n",
      "2022-04-07 10:49:32,596 INFO Projecting 2048 vectors onto 114564-simplex at 24%\n",
      "2022-04-07 10:49:33,596 INFO Projecting 2048 vectors onto 114564-simplex at 26%\n",
      "2022-04-07 10:49:34,282 INFO Projecting 2048 vectors onto 114564-simplex at 29%\n",
      "2022-04-07 10:49:34,957 INFO Projecting 2048 vectors onto 114564-simplex at 31%\n",
      "2022-04-07 10:49:35,637 INFO Projecting 2048 vectors onto 114564-simplex at 34%\n",
      "2022-04-07 10:49:36,306 INFO Projecting 2048 vectors onto 114564-simplex at 36%\n",
      "2022-04-07 10:49:36,978 INFO Projecting 2048 vectors onto 114564-simplex at 39%\n",
      "2022-04-07 10:49:37,655 INFO Projecting 2048 vectors onto 114564-simplex at 41%\n",
      "2022-04-07 10:49:38,326 INFO Projecting 2048 vectors onto 114564-simplex at 43%\n",
      "2022-04-07 10:49:38,988 INFO Projecting 2048 vectors onto 114564-simplex at 46%\n",
      "2022-04-07 10:49:39,656 INFO Projecting 2048 vectors onto 114564-simplex at 48%\n",
      "2022-04-07 10:49:40,639 INFO Projecting 2048 vectors onto 114564-simplex at 51%\n",
      "2022-04-07 10:49:41,321 INFO Projecting 2048 vectors onto 114564-simplex at 53%\n",
      "2022-04-07 10:49:41,997 INFO Projecting 2048 vectors onto 114564-simplex at 56%\n",
      "2022-04-07 10:49:42,666 INFO Projecting 2048 vectors onto 114564-simplex at 58%\n",
      "2022-04-07 10:49:43,328 INFO Projecting 2048 vectors onto 114564-simplex at 61%\n",
      "2022-04-07 10:49:43,987 INFO Projecting 2048 vectors onto 114564-simplex at 63%\n",
      "2022-04-07 10:49:44,648 INFO Projecting 2048 vectors onto 114564-simplex at 65%\n",
      "2022-04-07 10:49:45,311 INFO Projecting 2048 vectors onto 114564-simplex at 68%\n",
      "2022-04-07 10:49:45,995 INFO Projecting 2048 vectors onto 114564-simplex at 70%\n",
      "2022-04-07 10:49:46,665 INFO Projecting 2048 vectors onto 114564-simplex at 73%\n",
      "2022-04-07 10:49:47,633 INFO Projecting 2048 vectors onto 114564-simplex at 75%\n",
      "2022-04-07 10:49:48,295 INFO Projecting 2048 vectors onto 114564-simplex at 78%\n",
      "2022-04-07 10:49:48,953 INFO Projecting 2048 vectors onto 114564-simplex at 80%\n",
      "2022-04-07 10:49:49,629 INFO Projecting 2048 vectors onto 114564-simplex at 83%\n",
      "2022-04-07 10:49:50,307 INFO Projecting 2048 vectors onto 114564-simplex at 85%\n",
      "2022-04-07 10:49:50,994 INFO Projecting 2048 vectors onto 114564-simplex at 87%\n",
      "2022-04-07 10:49:51,677 INFO Projecting 2048 vectors onto 114564-simplex at 90%\n",
      "2022-04-07 10:49:52,344 INFO Projecting 2048 vectors onto 114564-simplex at 92%\n",
      "2022-04-07 10:49:53,033 INFO Projecting 2048 vectors onto 114564-simplex at 95%\n",
      "2022-04-07 10:49:53,710 INFO Projecting 2048 vectors onto 114564-simplex at 97%\n",
      "2022-04-07 10:49:54,363 INFO Projecting 2048 vectors onto 114564-simplex at 100%\n",
      "2022-04-07 10:49:55,914 INFO Computing 50 means of 492 points in at most 20 steps...\n",
      "2022-04-07 10:49:55,995 INFO Computing 2048 means at 2%\n",
      "2022-04-07 10:49:56,075 INFO Computing 50 means of 504 points in at most 20 steps...\n",
      "2022-04-07 10:49:56,156 INFO Computing 2048 means at 4%\n"
     ]
    },
    {
     "name": "stdout",
     "output_type": "stream",
     "text": [
      "2022-04-07 10:49:56,238 INFO Computing 50 means of 499 points in at most 20 steps...\n",
      "2022-04-07 10:49:56,299 INFO Computing 2048 means at 7%\n",
      "2022-04-07 10:49:56,385 INFO Computing 50 means of 487 points in at most 20 steps...\n",
      "2022-04-07 10:49:56,453 INFO Computing 2048 means at 9%\n",
      "2022-04-07 10:49:56,534 INFO Computing 50 means of 511 points in at most 20 steps...\n",
      "2022-04-07 10:49:56,602 INFO Computing 2048 means at 12%\n",
      "2022-04-07 10:49:56,685 INFO Computing 50 means of 497 points in at most 20 steps...\n",
      "2022-04-07 10:49:56,749 INFO Computing 2048 means at 14%\n",
      "2022-04-07 10:49:56,828 INFO Computing 50 means of 501 points in at most 20 steps...\n",
      "2022-04-07 10:49:56,893 INFO Computing 2048 means at 17%\n",
      "2022-04-07 10:49:56,973 INFO Computing 50 means of 494 points in at most 20 steps...\n",
      "2022-04-07 10:49:57,037 INFO Computing 2048 means at 19%\n",
      "2022-04-07 10:49:57,125 INFO Computing 50 means of 498 points in at most 20 steps...\n",
      "2022-04-07 10:49:57,191 INFO Computing 2048 means at 21%\n",
      "2022-04-07 10:49:57,277 INFO Computing 50 means of 499 points in at most 20 steps...\n",
      "2022-04-07 10:49:57,337 INFO Computing 2048 means at 24%\n",
      "2022-04-07 10:49:57,429 INFO Computing 50 means of 514 points in at most 20 steps...\n",
      "2022-04-07 10:49:57,497 INFO Computing 2048 means at 26%\n",
      "2022-04-07 10:49:57,583 INFO Computing 50 means of 489 points in at most 20 steps...\n",
      "2022-04-07 10:49:57,650 INFO Computing 2048 means at 29%\n",
      "2022-04-07 10:49:57,733 INFO Computing 50 means of 506 points in at most 20 steps...\n",
      "2022-04-07 10:49:57,798 INFO Computing 2048 means at 31%\n",
      "2022-04-07 10:49:57,877 INFO Computing 50 means of 494 points in at most 20 steps...\n",
      "2022-04-07 10:49:57,947 INFO Computing 2048 means at 34%\n",
      "2022-04-07 10:49:58,031 INFO Computing 50 means of 494 points in at most 20 steps...\n",
      "2022-04-07 10:49:58,103 INFO Computing 2048 means at 36%\n",
      "2022-04-07 10:49:58,186 INFO Computing 50 means of 507 points in at most 20 steps...\n",
      "2022-04-07 10:49:58,253 INFO Computing 2048 means at 39%\n",
      "2022-04-07 10:49:58,335 INFO Computing 50 means of 485 points in at most 20 steps...\n",
      "2022-04-07 10:49:58,412 INFO Computing 2048 means at 41%\n",
      "2022-04-07 10:49:58,496 INFO Computing 50 means of 509 points in at most 20 steps...\n",
      "2022-04-07 10:49:58,562 INFO Computing 2048 means at 43%\n",
      "2022-04-07 10:49:58,644 INFO Computing 50 means of 500 points in at most 20 steps...\n",
      "2022-04-07 10:49:58,717 INFO Computing 2048 means at 46%\n",
      "2022-04-07 10:49:58,799 INFO Computing 50 means of 518 points in at most 20 steps...\n",
      "2022-04-07 10:49:58,866 INFO Computing 2048 means at 48%\n",
      "2022-04-07 10:49:58,960 INFO Computing 50 means of 500 points in at most 20 steps...\n",
      "2022-04-07 10:49:59,033 INFO Computing 2048 means at 51%\n",
      "2022-04-07 10:49:59,118 INFO Computing 50 means of 479 points in at most 20 steps...\n",
      "2022-04-07 10:49:59,186 INFO Computing 2048 means at 53%\n",
      "2022-04-07 10:49:59,269 INFO Computing 50 means of 495 points in at most 20 steps...\n",
      "2022-04-07 10:49:59,341 INFO Computing 2048 means at 56%\n",
      "2022-04-07 10:49:59,425 INFO Computing 50 means of 485 points in at most 20 steps...\n",
      "2022-04-07 10:49:59,494 INFO Computing 2048 means at 58%\n",
      "2022-04-07 10:49:59,578 INFO Computing 50 means of 518 points in at most 20 steps...\n",
      "2022-04-07 10:49:59,643 INFO Computing 2048 means at 61%\n",
      "2022-04-07 10:49:59,723 INFO Computing 50 means of 497 points in at most 20 steps...\n",
      "2022-04-07 10:49:59,795 INFO Computing 2048 means at 63%\n",
      "2022-04-07 10:49:59,877 INFO Computing 50 means of 514 points in at most 20 steps...\n",
      "2022-04-07 10:49:59,943 INFO Computing 2048 means at 65%\n",
      "2022-04-07 10:50:00,027 INFO Computing 50 means of 495 points in at most 20 steps...\n",
      "2022-04-07 10:50:00,094 INFO Computing 2048 means at 68%\n",
      "2022-04-07 10:50:00,174 INFO Computing 50 means of 490 points in at most 20 steps...\n",
      "2022-04-07 10:50:00,242 INFO Computing 2048 means at 70%\n",
      "2022-04-07 10:50:00,321 INFO Computing 50 means of 495 points in at most 20 steps...\n",
      "2022-04-07 10:50:00,389 INFO Computing 2048 means at 73%\n",
      "2022-04-07 10:50:00,479 INFO Computing 50 means of 510 points in at most 20 steps...\n",
      "2022-04-07 10:50:00,544 INFO Computing 2048 means at 75%\n",
      "2022-04-07 10:50:00,625 INFO Computing 50 means of 492 points in at most 20 steps...\n",
      "2022-04-07 10:50:00,700 INFO Computing 2048 means at 78%\n",
      "2022-04-07 10:50:00,780 INFO Computing 50 means of 520 points in at most 20 steps...\n",
      "2022-04-07 10:50:00,854 INFO Computing 2048 means at 80%\n",
      "2022-04-07 10:50:00,938 INFO Computing 50 means of 514 points in at most 20 steps...\n",
      "2022-04-07 10:50:01,005 INFO Computing 2048 means at 83%\n",
      "2022-04-07 10:50:01,086 INFO Computing 50 means of 525 points in at most 20 steps...\n",
      "2022-04-07 10:50:01,156 INFO Computing 2048 means at 85%\n",
      "2022-04-07 10:50:01,241 INFO Computing 50 means of 496 points in at most 20 steps...\n",
      "2022-04-07 10:50:01,301 INFO Computing 2048 means at 87%\n",
      "2022-04-07 10:50:01,381 INFO Computing 50 means of 514 points in at most 20 steps...\n",
      "2022-04-07 10:50:01,446 INFO Computing 2048 means at 90%\n",
      "2022-04-07 10:50:01,533 INFO Computing 50 means of 497 points in at most 20 steps...\n",
      "2022-04-07 10:50:01,595 INFO Computing 2048 means at 92%\n",
      "2022-04-07 10:50:01,674 INFO Computing 50 means of 489 points in at most 20 steps...\n",
      "2022-04-07 10:50:01,737 INFO Computing 2048 means at 95%\n",
      "2022-04-07 10:50:01,821 INFO Computing 50 means of 501 points in at most 20 steps...\n",
      "2022-04-07 10:50:01,881 INFO Computing 2048 means at 97%\n",
      "2022-04-07 10:50:01,963 INFO Computing 48 means of 498 points in at most 20 steps...\n",
      "2022-04-07 10:50:02,021 INFO Computing 2048 means at 100%\n",
      "2022-04-07 10:50:05,909 INFO Do vol update step\n",
      "2022-04-07 10:50:05,911 INFO Compute adjoint forward mapping on the images\n",
      "2022-04-07 10:50:10,073 INFO Determined adjoint mappings. Shape = (91, 91, 91)\n",
      "2022-04-07 10:50:10,088 INFO Computing adjoint forward mappings from 2048 rotations at 50%\n",
      "2022-04-07 10:50:14,082 INFO Determined adjoint mappings. Shape = (91, 91, 91)\n",
      "2022-04-07 10:50:14,095 INFO Computing adjoint forward mappings from 2048 rotations at 100%\n",
      "2022-04-07 10:50:21,071 INFO Computing kernel from 2048 rotations at 50%\n",
      "2022-04-07 10:50:28,230 INFO Computing kernel from 2048 rotations at 100%\n",
      "2022-04-07 10:50:28,232 INFO Computing non-centered Fourier Transform\n",
      "2022-04-07 10:50:28,414 INFO Add ramp filter regularisation\n",
      "Solver has finished\n"
     ]
    }
   ],
   "source": [
    "# Experiment\n",
    "\n",
    "logger.info(\"Start Experiment\")\n",
    "logger.info(\"Running Experiment for SNR = {} and {} images\".format(snr, num_imgs))\n",
    "\n",
    "run_experiment(exp=exp,\n",
    "               max_iter=max_iter,\n",
    "               num_imgs=num_imgs,\n",
    "               snr=snr,\n",
    "               mr_repeat=mr_repeat,\n",
    "               J0=J0,\n",
    "               data_path=data_path,\n",
    "               vol_smudge=vol_smudge,\n",
    "               )"
   ]
  },
  {
   "cell_type": "code",
   "execution_count": 5,
   "metadata": {
    "pycharm": {
     "name": "#%%\n"
    }
   },
   "outputs": [
    {
     "name": "stdout",
     "output_type": "stream",
     "text": [
      "2022-04-07 10:50:43,696 INFO Start Postprocessing\n",
      "2022-04-07 10:50:43,700 INFO Postprocessing started\n"
     ]
    },
    {
     "name": "stderr",
     "output_type": "stream",
     "text": [
      "/Users/wdiepeveen/PycharmProjects/Cryo-EM/lib/python3.6/site-packages/scipy/spatial/transform/rotation.py:135: UserWarning: Gimbal lock detected. Setting third angle to zero since it is not possible to uniquely determine all angles.\n",
      "  warnings.warn(\"Gimbal lock detected. Setting third angle to zero since\"\n"
     ]
    },
    {
     "name": "stdout",
     "output_type": "stream",
     "text": [
      "integrated (averaged) density = 0.9999999999999964\n",
      "2022-04-07 10:50:49,955 INFO MSE deviation of the 1:th estimated GD-refined rotations using register_rotations : 0.0011011009929840707\n"
     ]
    },
    {
     "data": {
      "text/plain": [
       "<Figure size 432x288 with 0 Axes>"
      ]
     },
     "metadata": {},
     "output_type": "display_data"
    },
    {
     "data": {
      "image/png": "[encoded data removed]",
      "text/plain": [
       "<Figure size 432x288 with 2 Axes>"
      ]
     },
     "metadata": {
      "needs_background": "light"
     },
     "output_type": "display_data"
    },
    {
     "data": {
      "image/png": "[encoded data removed]",
      "text/plain": [
       "<Figure size 432x288 with 1 Axes>"
      ]
     },
     "metadata": {
      "needs_background": "light"
     },
     "output_type": "display_data"
    },
    {
     "data": {
      "image/png": "[encoded data removed]",
      "text/plain": [
       "<Figure size 432x288 with 1 Axes>"
      ]
     },
     "metadata": {
      "needs_background": "light"
     },
     "output_type": "display_data"
    },
    {
     "data": {
      "image/png": "[encoded data removed]",
      "text/plain": [
       "<Figure size 432x288 with 1 Axes>"
      ]
     },
     "metadata": {
      "needs_background": "light"
     },
     "output_type": "display_data"
    }
   ],
   "source": [
    "logger.info(\"Start Postprocessing\")\n",
    "# Postprocessing\n",
    "post_processing(exp=exp,\n",
    "                mr_repeat=mr_repeat,\n",
    "                hist_drange=20,\n",
    "                hist_vrange=400,\n",
    "#                 results_folder=results_path #?\n",
    "                )\n"
   ]
  },
  {
   "cell_type": "code",
   "execution_count": null,
   "metadata": {},
   "outputs": [],
   "source": []
  },
  {
   "cell_type": "code",
   "execution_count": null,
   "metadata": {},
   "outputs": [],
   "source": []
  }
 ],
 "metadata": {
  "accelerator": "GPU",
  "colab": {
   "collapsed_sections": [],
   "name": "experiment.ipynb",
   "provenance": []
  },
  "kernelspec": {
   "display_name": "Python 3",
   "language": "python",
   "name": "python3"
  },
  "language_info": {
   "codemirror_mode": {
    "name": "ipython",
    "version": 3
   },
   "file_extension": ".py",
   "mimetype": "text/x-python",
   "name": "python",
   "nbconvert_exporter": "python",
   "pygments_lexer": "ipython3",
   "version": "3.6.12"
  }
 },
 "nbformat": 4,
 "nbformat_minor": 1
}
