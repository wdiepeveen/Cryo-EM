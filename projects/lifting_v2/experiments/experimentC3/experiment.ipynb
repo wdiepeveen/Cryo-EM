{
 "cells": [
  {
   "cell_type": "markdown",
   "metadata": {
    "id": "ZacDoHPsOA_4"
   },
   "source": [
    "# **Experiment**: full algorithm of concent from smudged ground truth 4.1"
   ]
  },
  {
   "cell_type": "code",
   "execution_count": 1,
   "metadata": {
    "pycharm": {
     "name": "#%%\n"
    }
   },
   "outputs": [],
   "source": [
    "import numpy as np\n",
    "import os\n",
    "import logging\n",
    "\n",
    "from projects.lifting_v2.experiments.experimentC3.E1_run import run_experiment\n",
    "from projects.lifting_v2.experiments.experimentC3.E2_post_processing import post_processing\n",
    "\n",
    "from tools.exp_tools import Exp\n",
    "\n",
    "logger = logging.getLogger(__name__)"
   ]
  },
  {
   "cell_type": "code",
   "execution_count": 2,
   "metadata": {
    "executionInfo": {
     "elapsed": 8,
     "status": "aborted",
     "timestamp": 1634295538607,
     "user": {
      "displayName": "Willem Diepeveen",
      "photoUrl": "https://lh3.googleusercontent.com/a/default-user=s64",
      "userId": "07042451899018849244"
     },
     "user_tz": -60
    },
    "id": "S0YYvJ_YN-fn"
   },
   "outputs": [
    {
     "name": "stdout",
     "output_type": "stream",
     "text": [
      "2023-01-10 12:59:49,876 INFO Results folder is /Users/wdiepeveen/Documents/PhD/Projects/2 - Cryo-EM/src/src/Cryo-EM/tools/../results/expC3_23-01-10_12-59-49_SNR16_N2048_J15_r2_s10_i10\n"
     ]
    }
   ],
   "source": [
    "# Experiment parameters\n",
    "vol_smudge = 10\n",
    "mr_repeat = 2 # number of times mesh refinement\n",
    "snr = 1 / 16  # [1/2, 1/4, 1/8, 1/16, 1/32, 1/64, 1/128, 1/256]\n",
    "num_imgs = 2048 # 5000  # [512, 1024, 2048, 4096, 8192]\n",
    "J0 = 15\n",
    "\n",
    "# durations\n",
    "# SNR16_L129_N8192_J6_r2_sX_i3 -> 10h\n",
    "# SNR16_L129_N8192_J6_r1_sX_i3 -> 1.5h\n",
    "# SNR16_L129_N2048_J6_r2_sX_i5 -> per iter: 1h data_discr/2min rest | tot: 5h20m\n",
    "max_iter = 10\n",
    "\n",
    "# Directly start experiment\n",
    "exp = Exp()\n",
    "\n",
    "exp.begin(prefix=\"expC3\" , postfix=\"SNR{}_N{}_J{}_r{}_s{}_i{}\".format(int(1/snr), num_imgs, J0, mr_repeat, vol_smudge, max_iter))\n",
    "# exp.begin(prefix=\"expC3\" , postfix=\"SNR{}_L{}_N{}_J{}_r{}_s{}_i{}_t{}_tt{}\".format(int(1/snr), img_size, num_imgs, J0, mr_repeat, vol_smudge, max_iter, int(-np.log(tau1)/np.log(10)), int(-np.log(tau2)/np.log(10)) ))\n",
    "exp.dbglevel(4)"
   ]
  },
  {
   "cell_type": "code",
   "execution_count": 3,
   "metadata": {
    "executionInfo": {
     "elapsed": 10,
     "status": "aborted",
     "timestamp": 1634295538610,
     "user": {
      "displayName": "Willem Diepeveen",
      "photoUrl": "https://lh3.googleusercontent.com/a/default-user=s64",
      "userId": "07042451899018849244"
     },
     "user_tz": -60
    },
    "id": "enQMCesTN-fn"
   },
   "outputs": [],
   "source": [
    "# Set data path\n",
    "data_dir = \"data\"\n",
    "# data_filename = \"clean70SRibosome_vol_65p.mrc\"\n",
    "data_filename = \"waving_spike_state22_91p.mrc\"\n",
    "data_path = os.path.join(\"..\", \"..\", \"..\", \"..\",data_dir, data_filename)\n",
    "\n",
    "# Set results folder if skip_preprocessing\n",
    "results_dir = \"results\"\n",
    "# results_folder = \"expC3_22-03-01_22-57-37_SNR16_L129_N2048_J6_r2_s10_i10\"  # ribosomal 70s\n",
    "# results_folder = \"expC3_22-03-15_11-29-31_SNR16_N2048_J6_r2_s10_i2\"  # spike protein\n",
    "results_folder = \"expC3_22-04-06_23-59-48_SNR16_N2048_J15_r2_s10_i10\"  # spike protein\n",
    "results_path = os.path.join(\"..\", \"..\", \"..\", \"..\",results_dir,results_folder)"
   ]
  },
  {
   "cell_type": "code",
   "execution_count": null,
   "metadata": {
    "executionInfo": {
     "elapsed": 11,
     "status": "aborted",
     "timestamp": 1634295538611,
     "user": {
      "displayName": "Willem Diepeveen",
      "photoUrl": "https://lh3.googleusercontent.com/a/default-user=s64",
      "userId": "07042451899018849244"
     },
     "user_tz": -60
    },
    "id": "_8S3wedaN-fo",
    "pycharm": {
     "is_executing": true
    }
   },
   "outputs": [
    {
     "name": "stdout",
     "output_type": "stream",
     "text": [
      "2023-01-10 12:59:49,895 INFO Start Experiment\n",
      "2023-01-10 12:59:49,896 INFO Running Experiment for SNR = 0.0625 and 2048 images\n",
      "2023-01-10 12:59:49,898 INFO This experiment illustrates orientation refinement using a lifting approach\n",
      "2023-01-10 12:59:49,910 INFO Load 3D map and downsample 3D map to desired grids of 91 x 91 x 91.\n",
      "2023-01-10 12:59:49,912 INFO Initialize simulation object and CTF filters.\n",
      "2023-01-10 12:59:50,017 INFO Use downsampled map to creat simulation object.\n",
      "2023-01-10 12:59:50,063 INFO Get true rotation angles generated randomly by the simulation object.\n",
      "2023-01-10 12:59:51,645 INFO Trying NFFT backend finufft\n",
      "2023-01-10 12:59:51,690 INFO NFFT backend finufft usable.\n",
      "2023-01-10 12:59:51,691 INFO Trying NFFT backend cufinufft\n",
      "2023-01-10 12:59:51,693 INFO NFFT backend cufinufft not usable:\n",
      "\tNo module named 'pycuda'\n",
      "2023-01-10 12:59:51,694 INFO Trying NFFT backend pynfft\n",
      "2023-01-10 12:59:51,695 INFO NFFT backend pynfft not usable:\n",
      "\tNo module named 'pynfft'\n",
      "2023-01-10 12:59:51,696 INFO Selected NFFT backend = finufft.\n",
      "2023-01-10 13:00:07,423 INFO Applying forward transformations in pipeline\n",
      "2023-01-10 13:00:07,424 INFO All forward transformations applied\n",
      "2023-01-10 13:00:07,425 INFO Loaded 2048 images\n",
      "sigma = 0.0031409292103415946\n",
      "tau = 0.008850366841677799\n",
      "tau_init = 0.0020169085367582784\n",
      "2023-01-10 13:00:23,890 INFO Applying forward transformations in pipeline\n",
      "2023-01-10 13:00:23,892 INFO All forward transformations applied\n",
      "2023-01-10 13:00:23,893 INFO Loaded 2048 images\n",
      "J = 15\n",
      "2023-01-10 13:00:23,894 INFO Initializing density\n",
      "Initializing solver\n",
      "2023-01-10 13:00:24,984 INFO Initialising Solver\n",
      "Start solver\n",
      "========================= Iteration 1 =========================\n",
      "2023-01-10 13:00:24,985 INFO Update data_discrepancies\n",
      "2023-01-10 13:00:24,985 INFO Computing \\|Ag.u - f_i\\|^2\n",
      "2023-01-10 13:00:39,324 INFO Computing data fidelity for 114564 rotations and 2048 images at 0%\n",
      "2023-01-10 13:00:53,632 INFO Computing data fidelity for 114564 rotations and 2048 images at 1%\n",
      "2023-01-10 13:01:09,375 INFO Computing data fidelity for 114564 rotations and 2048 images at 2%\n"
     ]
    }
   ],
   "source": [
    "# Experiment\n",
    "\n",
    "logger.info(\"Start Experiment\")\n",
    "logger.info(\"Running Experiment for SNR = {} and {} images\".format(snr, num_imgs))\n",
    "\n",
    "run_experiment(exp=exp,\n",
    "               max_iter=max_iter,\n",
    "               num_imgs=num_imgs,\n",
    "               snr=snr,\n",
    "               mr_repeat=mr_repeat,\n",
    "               J0=J0,\n",
    "               data_path=data_path,\n",
    "               vol_smudge=vol_smudge,\n",
    "               )"
   ]
  },
  {
   "cell_type": "code",
   "execution_count": null,
   "metadata": {
    "pycharm": {
     "is_executing": true,
     "name": "#%%\n"
    }
   },
   "outputs": [],
   "source": [
    "logger.info(\"Start Postprocessing\")\n",
    "# Postprocessing\n",
    "post_processing(exp=exp,\n",
    "                mr_repeat=mr_repeat,\n",
    "                hist_drange=20,\n",
    "                hist_dvrange=400,\n",
    "                hist_Jrange=20,\n",
    "                hist_Jvrange=600,\n",
    "#                 results_folder=results_path #?\n",
    "                )\n"
   ]
  },
  {
   "cell_type": "code",
   "execution_count": null,
   "metadata": {
    "pycharm": {
     "is_executing": true
    }
   },
   "outputs": [],
   "source": []
  },
  {
   "cell_type": "code",
   "execution_count": null,
   "metadata": {
    "pycharm": {
     "is_executing": true
    }
   },
   "outputs": [],
   "source": []
  }
 ],
 "metadata": {
  "accelerator": "GPU",
  "colab": {
   "collapsed_sections": [],
   "name": "experiment.ipynb",
   "provenance": []
  },
  "kernelspec": {
   "display_name": "Python 3",
   "language": "python",
   "name": "python3"
  },
  "language_info": {
   "codemirror_mode": {
    "name": "ipython",
    "version": 3
   },
   "file_extension": ".py",
   "mimetype": "text/x-python",
   "name": "python",
   "nbconvert_exporter": "python",
   "pygments_lexer": "ipython3",
   "version": "3.6.12"
  }
 },
 "nbformat": 4,
 "nbformat_minor": 1
}