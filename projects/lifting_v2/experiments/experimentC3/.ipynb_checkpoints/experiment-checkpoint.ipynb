{
 "cells": [
  {
   "cell_type": "markdown",
   "metadata": {
    "id": "ZacDoHPsOA_4"
   },
   "source": [
    "# **Experiment**: full algorithm of concent from smudged ground truth 4.1"
   ]
  },
  {
   "cell_type": "code",
   "execution_count": 1,
   "metadata": {
    "pycharm": {
     "is_executing": true,
     "name": "#%%\n"
    }
   },
   "outputs": [],
   "source": [
    "import numpy as np\n",
    "import os\n",
    "import logging\n",
    "\n",
    "from projects.lifting_v2.experiments.experimentC3.E1_run import run_experiment\n",
    "from projects.lifting_v2.experiments.experimentC3.E2_post_processing import post_processing\n",
    "\n",
    "from tools.exp_tools import Exp\n",
    "\n",
    "logger = logging.getLogger(__name__)"
   ]
  },
  {
   "cell_type": "code",
   "execution_count": 6,
   "metadata": {
    "executionInfo": {
     "elapsed": 8,
     "status": "aborted",
     "timestamp": 1634295538607,
     "user": {
      "displayName": "Willem Diepeveen",
      "photoUrl": "https://lh3.googleusercontent.com/a/default-user=s64",
      "userId": "07042451899018849244"
     },
     "user_tz": -60
    },
    "id": "S0YYvJ_YN-fn"
   },
   "outputs": [
    {
     "name": "stdout",
     "output_type": "stream",
     "text": [
      "2022-03-01 22:57:37,889 INFO Results folder is /Users/wdiepeveen/Documents/PhD/Projects/2 - Cryo-EM/src/src/Cryo-EM/tools/../results/expC3_22-03-01_22-57-37_SNR16_L129_N2048_J6_r2_s10_i10\n"
     ]
    }
   ],
   "source": [
    "# Experiment parameters\n",
    "vol_smudge = 10\n",
    "img_size = 129  # was 65 before and was 129 in rotation estimation paper\n",
    "mr_repeat = 2 # number of times mesh refinement\n",
    "snr = 1 / 16  # [1/2, 1/4, 1/8, 1/16, 1/32, 1/64, 1/128, 1/256]\n",
    "num_imgs = 2048 # 5000  # [512, 1024, 2048, 4096, 8192]\n",
    "\n",
    "# tau1 = 5e-9\n",
    "# tau2 = 1e-1 * tau1\n",
    "# tau2 = 1e-9 * tau1\n",
    "# tau2 = 1e-1 * tau1 / (129**4)\n",
    "J0 = 6\n",
    "\n",
    "# durations\n",
    "# SNR16_L129_N8192_J6_r2_sX_i3 -> 10h\n",
    "# SNR16_L129_N8192_J6_r1_sX_i3 -> 1.5h\n",
    "# SNR16_L129_N2048_J6_r2_sX_i5 -> per iter: 1h data_discr/2min rest | tot: 5h20m\n",
    "max_iter = 10\n",
    "\n",
    "# Directly start experiment\n",
    "exp = Exp()\n",
    "\n",
    "exp.begin(prefix=\"expC3\" , postfix=\"SNR{}_L{}_N{}_J{}_r{}_s{}_i{}\".format(int(1/snr), img_size, num_imgs, J0, mr_repeat, vol_smudge, max_iter))\n",
    "# exp.begin(prefix=\"expC3\" , postfix=\"SNR{}_L{}_N{}_J{}_r{}_s{}_i{}_t{}_tt{}\".format(int(1/snr), img_size, num_imgs, J0, mr_repeat, vol_smudge, max_iter, int(-np.log(tau1)/np.log(10)), int(-np.log(tau2)/np.log(10)) ))\n",
    "exp.dbglevel(4)"
   ]
  },
  {
   "cell_type": "code",
   "execution_count": 7,
   "metadata": {
    "executionInfo": {
     "elapsed": 10,
     "status": "aborted",
     "timestamp": 1634295538610,
     "user": {
      "displayName": "Willem Diepeveen",
      "photoUrl": "https://lh3.googleusercontent.com/a/default-user=s64",
      "userId": "07042451899018849244"
     },
     "user_tz": -60
    },
    "id": "enQMCesTN-fn"
   },
   "outputs": [],
   "source": [
    "# Set data path\n",
    "data_dir = \"data\"\n",
    "data_filename = \"clean70SRibosome_vol_65p.mrc\"\n",
    "data_path = os.path.join(\"..\", \"..\", \"..\", \"..\",data_dir, data_filename)\n",
    "\n",
    "# Set results folder if skip_preprocessing\n",
    "# results_folder = \"results/expA2_21-10-10_12-30-19_L65_N512_r1_k90_lamV10_lamD-8\"\n",
    "# results_folder = \"results/expA2_21-10-10_12-34-53_L65_N512_r2_k90_lamV10_lamD-8\"\n",
    "# results_folder = \"results/expA2_21-10-10_13-08-24_L65_N512_r1_k90_lamV10_lamD-10\"\n",
    "# results_folder = \"results/expA2_21-10-10_13-47-27_L65_N512_r2_k90_lamV10_lamD-10\"  # \"results/lifting_21-04-26_12-22-06\""
   ]
  },
  {
   "cell_type": "code",
   "execution_count": null,
   "metadata": {
    "executionInfo": {
     "elapsed": 11,
     "status": "aborted",
     "timestamp": 1634295538611,
     "user": {
      "displayName": "Willem Diepeveen",
      "photoUrl": "https://lh3.googleusercontent.com/a/default-user=s64",
      "userId": "07042451899018849244"
     },
     "user_tz": -60
    },
    "id": "_8S3wedaN-fo"
   },
   "outputs": [
    {
     "name": "stdout",
     "output_type": "stream",
     "text": [
      "2022-03-01 22:57:38,334 INFO Start Experiment\n",
      "2022-03-01 22:57:38,335 INFO Running Experiment for SNR = 0.0625 and 2048 images\n",
      "2022-03-01 22:57:38,337 INFO This experiment illustrates orientation refinement using a lifting approach\n",
      "2022-03-01 22:57:38,337 INFO Initialize simulation object and CTF filters.\n",
      "2022-03-01 22:57:38,338 INFO Load 3D map and downsample 3D map to desired grids of 129 x 129 x 129.\n",
      "2022-03-01 22:57:39,376 INFO Use downsampled map to creat simulation object.\n",
      "2022-03-01 22:57:39,409 INFO Get true rotation angles generated randomly by the simulation object.\n",
      "2022-03-01 22:58:12,821 INFO Applying forward transformations in pipeline\n",
      "2022-03-01 22:58:12,823 INFO All forward transformations applied\n",
      "2022-03-01 22:58:12,824 INFO Loaded 2048 images\n",
      "sigma = 3.8389549785417934e-10\n",
      "tau = 4.838585270633095e-09\n"
     ]
    }
   ],
   "source": [
    "# Experiment\n",
    "\n",
    "logger.info(\"Start Experiment\")\n",
    "logger.info(\"Running Experiment for SNR = {} and {} images\".format(snr, num_imgs))\n",
    "\n",
    "run_experiment(exp=exp,\n",
    "               max_iter=max_iter,\n",
    "               num_imgs=num_imgs,\n",
    "               snr=snr,\n",
    "               img_size=img_size,\n",
    "               mr_repeat=mr_repeat,\n",
    "#                tau1=None, # tau1,\n",
    "#                tau2=None, # tau2,\n",
    "               J0=J0,\n",
    "               data_path=data_path,\n",
    "               vol_smudge=vol_smudge,\n",
    "               )"
   ]
  },
  {
   "cell_type": "code",
   "execution_count": null,
   "metadata": {
    "pycharm": {
     "name": "#%%\n"
    }
   },
   "outputs": [],
   "source": [
    "logger.info(\"Start Postprocessing\")\n",
    "# Postprocessing\n",
    "post_processing(exp=exp,\n",
    "                mr_repeat=mr_repeat,\n",
    "                hist_range=20,\n",
    "              #  results_folder=results_folder #?\n",
    "               )\n"
   ]
  },
  {
   "cell_type": "code",
   "execution_count": null,
   "metadata": {},
   "outputs": [],
   "source": []
  },
  {
   "cell_type": "code",
   "execution_count": null,
   "metadata": {},
   "outputs": [],
   "source": []
  }
 ],
 "metadata": {
  "accelerator": "GPU",
  "colab": {
   "collapsed_sections": [],
   "name": "experiment.ipynb",
   "provenance": []
  },
  "kernelspec": {
   "display_name": "Python 3",
   "language": "python",
   "name": "python3"
  },
  "language_info": {
   "codemirror_mode": {
    "name": "ipython",
    "version": 3
   },
   "file_extension": ".py",
   "mimetype": "text/x-python",
   "name": "python",
   "nbconvert_exporter": "python",
   "pygments_lexer": "ipython3",
   "version": "3.6.12"
  }
 },
 "nbformat": 4,
 "nbformat_minor": 1
}
