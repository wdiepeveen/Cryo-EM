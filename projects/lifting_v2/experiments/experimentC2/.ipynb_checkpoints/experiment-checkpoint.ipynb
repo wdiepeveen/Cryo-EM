{
 "cells": [
  {
   "cell_type": "markdown",
   "metadata": {
    "id": "ZacDoHPsOA_4"
   },
   "source": [
    "# **Experiment C1**: full algorithm of concent from smudged ground truth\n",
    "\n",
    "Vary noise level and number of images"
   ]
  },
  {
   "cell_type": "code",
   "execution_count": 1,
   "metadata": {
    "colab": {
     "base_uri": "https://localhost:8080/"
    },
    "executionInfo": {
     "elapsed": 520,
     "status": "ok",
     "timestamp": 1634295522843,
     "user": {
      "displayName": "Willem Diepeveen",
      "photoUrl": "https://lh3.googleusercontent.com/a/default-user=s64",
      "userId": "07042451899018849244"
     },
     "user_tz": -60
    },
    "id": "kOadhnrzOavD",
    "outputId": "8846aca4-1f3f-4f3d-ed23-f8105d440725"
   },
   "outputs": [
    {
     "name": "stdout",
     "output_type": "stream",
     "text": [
      "Drive already mounted at /content/drive; to attempt to forcibly remount, call drive.mount(\"/content/drive\", force_remount=True).\n"
     ]
    }
   ],
   "source": [
    "# Mount Google Drive\n",
    "from google.colab import drive # import drive from google colab\n",
    "drive.mount(\"/content/drive\")"
   ]
  },
  {
   "cell_type": "code",
   "execution_count": 6,
   "metadata": {
    "colab": {
     "base_uri": "https://localhost:8080/"
    },
    "executionInfo": {
     "elapsed": 9,
     "status": "ok",
     "timestamp": 1634295523373,
     "user": {
      "displayName": "Willem Diepeveen",
      "photoUrl": "https://lh3.googleusercontent.com/a/default-user=s64",
      "userId": "07042451899018849244"
     },
     "user_tz": -60
    },
    "id": "du6Qj3ihOduK",
    "outputId": "fd5d7674-05b2-48f7-8cf6-99a51da4d30f"
   },
   "outputs": [
    {
     "name": "stdout",
     "output_type": "stream",
     "text": [
      "[Errno 2] No such file or directory: '/content/drive/MyDrive/PhD/Projects/2 - Cryo-EM/src/Cryo-EM'\n",
      "/Users/wdiepeveen/Documents/PhD/Projects/2 - Cryo-EM/src/src/Cryo-EM/projects/lifting_v2/experiments/experimentA1\n"
     ]
    }
   ],
   "source": [
    "%cd /content/drive/MyDrive/PhD/Projects/2 - Cryo-EM/src/Cryo-EM"
   ]
  },
  {
   "cell_type": "code",
   "execution_count": null,
   "metadata": {
    "colab": {
     "base_uri": "https://localhost:8080/"
    },
    "id": "UWpBxh-QOumD",
    "outputId": "ac2bebf5-6bb6-4bd0-f766-9f778f86aa7a"
   },
   "outputs": [
    {
     "name": "stdout",
     "output_type": "stream",
     "text": [
      "Requirement already satisfied: mrcfile in /usr/local/lib/python3.7/dist-packages (1.3.0)\n",
      "Requirement already satisfied: numpy>=1.12.0 in /usr/local/lib/python3.7/dist-packages (from mrcfile) (1.19.5)\n",
      "Collecting aspire\n",
      "  Downloading aspire-0.8.0.tar.gz (186 kB)\n",
      "\u001b[K     |████████████████████████████████| 186 kB 11.5 MB/s \n",
      "\u001b[?25hRequirement already satisfied: click in /usr/local/lib/python3.7/dist-packages (from aspire) (7.1.2)\n",
      "Collecting finufft==2.0.0\n",
      "  Downloading finufft-2.0.0-cp37-cp37m-manylinux2010_x86_64.whl (2.2 MB)\n",
      "\u001b[K     |████████████████████████████████| 2.2 MB 47.6 MB/s \n",
      "\u001b[?25hRequirement already satisfied: importlib_resources>=1.0.2 in /usr/local/lib/python3.7/dist-packages (from aspire) (5.2.2)\n",
      "Requirement already satisfied: joblib in /usr/local/lib/python3.7/dist-packages (from aspire) (1.0.1)\n",
      "Requirement already satisfied: matplotlib in /usr/local/lib/python3.7/dist-packages (from aspire) (3.2.2)\n",
      "Requirement already satisfied: mrcfile in /usr/local/lib/python3.7/dist-packages (from aspire) (1.3.0)\n",
      "Traceback (most recent call last):\n",
      "  File \"/usr/local/lib/python3.7/dist-packages/pip/_internal/cli/base_command.py\", line 180, in _main\n",
      "    status = self.run(options, args)\n",
      "  File \"/usr/local/lib/python3.7/dist-packages/pip/_internal/cli/req_command.py\", line 199, in wrapper\n",
      "    return func(self, options, args)\n",
      "  File \"/usr/local/lib/python3.7/dist-packages/pip/_internal/commands/install.py\", line 319, in run\n",
      "    reqs, check_supported_wheels=not options.target_dir\n",
      "  File \"/usr/local/lib/python3.7/dist-packages/pip/_internal/resolution/resolvelib/resolver.py\", line 128, in resolve\n",
      "    requirements, max_rounds=try_to_avoid_resolution_too_deep\n",
      "  File \"/usr/local/lib/python3.7/dist-packages/pip/_vendor/resolvelib/resolvers.py\", line 473, in resolve\n",
      "    state = resolution.resolve(requirements, max_rounds=max_rounds)\n",
      "  File \"/usr/local/lib/python3.7/dist-packages/pip/_vendor/resolvelib/resolvers.py\", line 367, in resolve\n",
      "    failure_causes = self._attempt_to_pin_criterion(name)\n",
      "  File \"/usr/local/lib/python3.7/dist-packages/pip/_vendor/resolvelib/resolvers.py\", line 213, in _attempt_to_pin_criterion\n",
      "    criteria = self._get_criteria_to_update(candidate)\n",
      "  File \"/usr/local/lib/python3.7/dist-packages/pip/_vendor/resolvelib/resolvers.py\", line 203, in _get_criteria_to_update\n",
      "    name, crit = self._merge_into_criterion(r, parent=candidate)\n",
      "  File \"/usr/local/lib/python3.7/dist-packages/pip/_vendor/resolvelib/resolvers.py\", line 172, in _merge_into_criterion\n",
      "    if not criterion.candidates:\n",
      "  File \"/usr/local/lib/python3.7/dist-packages/pip/_vendor/resolvelib/structs.py\", line 139, in __bool__\n",
      "    return bool(self._sequence)\n",
      "  File \"/usr/local/lib/python3.7/dist-packages/pip/_internal/resolution/resolvelib/found_candidates.py\", line 143, in __bool__\n",
      "    return any(self)\n",
      "  File \"/usr/local/lib/python3.7/dist-packages/pip/_internal/resolution/resolvelib/found_candidates.py\", line 129, in <genexpr>\n",
      "    return (c for c in iterator if id(c) not in self._incompatible_ids)\n",
      "  File \"/usr/local/lib/python3.7/dist-packages/pip/_internal/resolution/resolvelib/found_candidates.py\", line 30, in _iter_built\n",
      "    for version, func in infos:\n",
      "  File \"/usr/local/lib/python3.7/dist-packages/pip/_internal/resolution/resolvelib/factory.py\", line 272, in iter_index_candidate_infos\n",
      "    hashes=hashes,\n",
      "  File \"/usr/local/lib/python3.7/dist-packages/pip/_internal/index/package_finder.py\", line 879, in find_best_candidate\n",
      "    candidates = self.find_all_candidates(project_name)\n",
      "  File \"/usr/local/lib/python3.7/dist-packages/pip/_internal/index/package_finder.py\", line 824, in find_all_candidates\n",
      "    page_candidates = list(page_candidates_it)\n",
      "  File \"/usr/local/lib/python3.7/dist-packages/pip/_internal/index/sources.py\", line 134, in page_candidates\n",
      "    yield from self._candidates_from_page(self._link)\n",
      "  File \"/usr/local/lib/python3.7/dist-packages/pip/_internal/index/package_finder.py\", line 787, in process_project_url\n",
      "    page_links = list(parse_links(html_page))\n",
      "  File \"/usr/local/lib/python3.7/dist-packages/pip/_internal/index/collector.py\", line 316, in wrapper_wrapper\n",
      "    return list(fn(page))\n",
      "  File \"/usr/local/lib/python3.7/dist-packages/pip/_internal/index/collector.py\", line 330, in parse_links\n",
      "    namespaceHTMLElements=False,\n",
      "  File \"/usr/local/lib/python3.7/dist-packages/pip/_vendor/html5lib/html5parser.py\", line 46, in parse\n",
      "    return p.parse(doc, **kwargs)\n",
      "  File \"/usr/local/lib/python3.7/dist-packages/pip/_vendor/html5lib/html5parser.py\", line 284, in parse\n",
      "    self._parse(stream, False, None, *args, **kwargs)\n",
      "  File \"/usr/local/lib/python3.7/dist-packages/pip/_vendor/html5lib/html5parser.py\", line 133, in _parse\n",
      "    self.mainLoop()\n",
      "  File \"/usr/local/lib/python3.7/dist-packages/pip/_vendor/html5lib/html5parser.py\", line 204, in mainLoop\n",
      "    for token in self.tokenizer:\n",
      "  File \"/usr/local/lib/python3.7/dist-packages/pip/_vendor/html5lib/_tokenizer.py\", line 65, in __iter__\n",
      "    while self.state():\n",
      "  File \"/usr/local/lib/python3.7/dist-packages/pip/_vendor/html5lib/_tokenizer.py\", line 1012, in attributeValueDoubleQuotedState\n",
      "    self.processEntityInAttribute('\"')\n",
      "  File \"/usr/local/lib/python3.7/dist-packages/pip/_vendor/html5lib/_tokenizer.py\", line 226, in processEntityInAttribute\n",
      "    self.consumeEntity(allowedChar=allowedChar, fromAttribute=True)\n",
      "  File \"/usr/local/lib/python3.7/dist-packages/pip/_vendor/html5lib/_tokenizer.py\", line 180, in consumeEntity\n",
      "    if not entitiesTrie.has_keys_with_prefix(\"\".join(charStack)):\n",
      "  File \"/usr/local/lib/python3.7/dist-packages/pip/_vendor/html5lib/_trie/py.py\", line 58, in has_keys_with_prefix\n",
      "    if prefix.startswith(self._cachestr):\n",
      "KeyboardInterrupt\n",
      "\n",
      "During handling of the above exception, another exception occurred:\n",
      "\n",
      "Traceback (most recent call last):\n",
      "  File \"/usr/local/bin/pip3\", line 8, in <module>\n",
      "    sys.exit(main())\n",
      "  File \"/usr/local/lib/python3.7/dist-packages/pip/_internal/cli/main.py\", line 71, in main\n",
      "    return command.main(cmd_args)\n",
      "  File \"/usr/local/lib/python3.7/dist-packages/pip/_internal/cli/base_command.py\", line 104, in main\n",
      "    return self._main(args)\n",
      "  File \"/usr/local/lib/python3.7/dist-packages/pip/_internal/cli/base_command.py\", line 180, in _main\n",
      "    status = self.run(options, args)\n",
      "KeyboardInterrupt\n",
      "^C\n"
     ]
    }
   ],
   "source": [
    "# install libraries in Colab env\n",
    "!pip install mrcfile\n",
    "!pip install aspire\n",
    "!pip install quaternionic\n",
    "!pip install pykeops[colab] > install.log"
   ]
  },
  {
   "cell_type": "code",
   "execution_count": 1,
   "metadata": {
    "colab": {
     "base_uri": "https://localhost:8080/",
     "height": 487
    },
    "executionInfo": {
     "elapsed": 5188,
     "status": "error",
     "timestamp": 1634295538613,
     "user": {
      "displayName": "Willem Diepeveen",
      "photoUrl": "https://lh3.googleusercontent.com/a/default-user=s64",
      "userId": "07042451899018849244"
     },
     "user_tz": -60
    },
    "id": "QfSQIRPDN-fm",
    "outputId": "1703f3de-b9c6-40eb-827a-e4f5b7f8d33f",
    "pycharm": {
     "is_executing": true
    }
   },
   "outputs": [
    {
     "name": "stdout",
     "output_type": "stream",
     "text": [
      "[pyKeOps]: Warning, no cuda detected. Switching to cpu only.\n"
     ]
    }
   ],
   "source": [
    "import numpy as np\n",
    "import os\n",
    "import logging\n",
    "\n",
    "from projects.lifting_v2.experiments.experimentC2.E1_run import run_experiment\n",
    "from projects.lifting_v2.experiments.experimentC2.E2_post_processing import post_processing\n",
    "\n",
    "from tools.exp_tools import Exp\n",
    "\n",
    "logger = logging.getLogger(__name__)"
   ]
  },
  {
   "cell_type": "code",
   "execution_count": 2,
   "metadata": {
    "executionInfo": {
     "elapsed": 8,
     "status": "aborted",
     "timestamp": 1634295538607,
     "user": {
      "displayName": "Willem Diepeveen",
      "photoUrl": "https://lh3.googleusercontent.com/a/default-user=s64",
      "userId": "07042451899018849244"
     },
     "user_tz": -60
    },
    "id": "S0YYvJ_YN-fn"
   },
   "outputs": [
    {
     "name": "stdout",
     "output_type": "stream",
     "text": [
      "2022-01-25 10:40:16,642 INFO Results folder is /Users/wdiepeveen/Documents/PhD/Projects/2 - Cryo-EM/src/src/Cryo-EM/tools/../results/expC2_22-01-25_10-40-16_SNR16_L129_N8192_r0_lam1_i3\n"
     ]
    }
   ],
   "source": [
    "# Experiment parameters\n",
    "vol_smudge = 5\n",
    "img_size = 129  # was 65 before and was 129 in rotation estimation paper\n",
    "mr_repeat = 0 # number of times mesh refinement\n",
    "snr = 1 / 16  # [1/2, 1/4, 1/8, 1/16, 1/32, 1/64, 1/128, 1/256]\n",
    "num_imgs = 8192  # 5000  # [512, 1024, 2048, 4096, 8192]\n",
    "lambda0 = 1\n",
    "# rots_batch_size = 10000\n",
    "\n",
    "max_iter = 3\n",
    "\n",
    "# Directly start experiment\n",
    "exp = Exp()\n",
    "\n",
    "exp.begin(prefix=\"expC2\" , postfix=\"SNR{}_L{}_N{}_r{}_lam{}_i{}\".format(int(1/snr),img_size,num_imgs,mr_repeat, int(lambda0), max_iter))\n",
    "exp.dbglevel(4)"
   ]
  },
  {
   "cell_type": "code",
   "execution_count": 3,
   "metadata": {
    "executionInfo": {
     "elapsed": 10,
     "status": "aborted",
     "timestamp": 1634295538610,
     "user": {
      "displayName": "Willem Diepeveen",
      "photoUrl": "https://lh3.googleusercontent.com/a/default-user=s64",
      "userId": "07042451899018849244"
     },
     "user_tz": -60
    },
    "id": "enQMCesTN-fn"
   },
   "outputs": [],
   "source": [
    "# Set data path\n",
    "data_dir = \"data\"\n",
    "data_filename = \"clean70SRibosome_vol_65p.mrc\"\n",
    "data_path = os.path.join(\"..\", \"..\", \"..\", \"..\",data_dir, data_filename)\n",
    "\n",
    "# Set results folder if skip_preprocessing\n",
    "# results_folder = \"results/expA2_21-10-10_12-30-19_L65_N512_r1_k90_lamV10_lamD-8\"\n",
    "# results_folder = \"results/expA2_21-10-10_12-34-53_L65_N512_r2_k90_lamV10_lamD-8\"\n",
    "# results_folder = \"results/expA2_21-10-10_13-08-24_L65_N512_r1_k90_lamV10_lamD-10\"\n",
    "# results_folder = \"results/expA2_21-10-10_13-47-27_L65_N512_r2_k90_lamV10_lamD-10\"  # \"results/lifting_21-04-26_12-22-06\""
   ]
  },
  {
   "cell_type": "code",
   "execution_count": null,
   "metadata": {
    "executionInfo": {
     "elapsed": 11,
     "status": "aborted",
     "timestamp": 1634295538611,
     "user": {
      "displayName": "Willem Diepeveen",
      "photoUrl": "https://lh3.googleusercontent.com/a/default-user=s64",
      "userId": "07042451899018849244"
     },
     "user_tz": -60
    },
    "id": "_8S3wedaN-fo"
   },
   "outputs": [
    {
     "name": "stdout",
     "output_type": "stream",
     "text": [
      "2022-01-25 10:40:16,662 INFO Start Experiment\n",
      "2022-01-25 10:40:16,665 INFO Running Experiment for SNR = 0.0625 and 8192 images\n",
      "2022-01-25 10:40:16,667 INFO This experiment illustrates orientation refinement using a lifting approach\n",
      "2022-01-25 10:40:16,669 INFO Initialize simulation object and CTF filters.\n",
      "2022-01-25 10:40:16,671 INFO Load 3D map and downsample 3D map to desired grids of 129 x 129 x 129.\n",
      "2022-01-25 10:40:17,512 INFO Use downsampled map to creat simulation object.\n",
      "2022-01-25 10:40:17,545 INFO Get true rotation angles generated randomly by the simulation object.\n",
      "2022-01-25 10:40:28,996 INFO Trying NFFT backend finufft\n",
      "2022-01-25 10:40:29,005 INFO NFFT backend finufft usable.\n",
      "2022-01-25 10:40:29,007 INFO Trying NFFT backend cufinufft\n",
      "2022-01-25 10:40:29,009 INFO NFFT backend cufinufft not usable:\n",
      "\tNo module named 'pycuda'\n",
      "2022-01-25 10:40:29,010 INFO Trying NFFT backend pynfft\n",
      "2022-01-25 10:40:29,012 INFO NFFT backend pynfft not usable:\n",
      "\tNo module named 'pynfft'\n",
      "2022-01-25 10:40:29,013 INFO Selected NFFT backend = finufft.\n",
      "2022-01-25 10:41:53,143 INFO Applying forward transformations in pipeline\n",
      "2022-01-25 10:41:53,144 INFO All forward transformations applied\n",
      "2022-01-25 10:41:53,145 INFO Loaded 8192 images\n",
      "sigma^2 = 3.5932161821125086e-10\n",
      "2022-01-25 10:43:33,278 INFO Applying forward transformations in pipeline\n",
      "2022-01-25 10:43:33,279 INFO All forward transformations applied\n",
      "2022-01-25 10:43:33,280 INFO Loaded 8192 images\n",
      "2022-01-25 10:43:33,281 INFO Initializing density\n",
      "Start solver\n",
      "========================= Iteration 1 =========================\n",
      "2022-01-25 10:43:33,313 INFO Update data_discrepancies\n",
      "2022-01-25 10:43:33,314 INFO Computing \\|Ag.u - f_i\\|^2\n",
      "F3 = [5.615643e-06]\n",
      "2022-01-25 10:43:33,598 INFO Running through projections 0/1821 = 0.0%\n",
      "F1 = [5.0226365e-08 5.8261698e-08 5.6988608e-08 ... 5.8324016e-08 3.5696992e-08\n",
      " 5.1024845e-08]\n",
      "F2 = [-1.8099332e-08 -4.3389349e-08 -7.6594922e-08 ... -4.1009343e-08\n",
      " -2.1294467e-08 -5.4562236e-08]\n",
      "F = [3.3938888e-10 3.3835201e-10 3.3628009e-10 ... 3.3849876e-10 3.3832376e-10\n",
      " 3.3724570e-10]\n",
      "2022-01-25 10:44:58,867 INFO Do rots update step\n",
      "len(V) = 8192\n",
      "U = [-65.34366341 -65.39956115 -65.68192211 ... -67.18244054 -67.18544627\n",
      " -67.21063906]\n",
      "cssv = [-7.60307266e+01 -1.51199776e+02 -2.26439866e+02 ... -1.39015657e+05\n",
      " -1.39092925e+05 -1.39170276e+05]\n",
      "2022-01-25 10:45:00,600 INFO Do sigma update step\n",
      "sigmas = [3.3141923e-10 3.8071454e-10 3.6053241e-10 ... 3.8885506e-10 4.3147622e-10\n",
      " 4.0879994e-10]\n",
      "2022-01-25 10:45:00,611 INFO Do vol update step\n",
      "2022-01-25 10:45:00,612 INFO Compute adjoint forward mapping on the images\n",
      "2022-01-25 10:45:00,631 INFO Running through projections 0/1821 = 0.0%\n",
      "2022-01-25 10:46:17,514 INFO Determined adjoint mappings. Shape = (129, 129, 129)\n",
      "2022-01-25 10:46:17,549 INFO Running through projections 0/1821 = 0.0%\n",
      "2022-01-25 10:46:30,464 INFO Computing non-centered Fourier Transform\n",
      "2022-01-25 10:46:33,172 INFO Do tau update step\n",
      "tau = 8.176851935431592e-08\n",
      "========================= Iteration 2 =========================\n",
      "2022-01-25 10:46:33,177 INFO Update data_discrepancies\n",
      "2022-01-25 10:46:33,178 INFO Computing \\|Ag.u - f_i\\|^2\n",
      "F3 = [5.615643e-06]\n",
      "2022-01-25 10:46:33,493 INFO Running through projections 0/1821 = 0.0%\n",
      "F1 = [2.2020406e-06 4.3789994e-05 6.3757761e-07 ... 5.6084389e-07 1.2414653e-06\n",
      " 2.4626822e-06]\n",
      "F2 = [ 5.7809029e-08 -1.4405406e-07 -3.2217486e-08 ... -9.1162853e-08\n",
      "  4.8863626e-08 -7.1408714e-08]\n",
      "F = [4.7325838e-10 2.9602538e-09 3.7383591e-10 ... 3.6568262e-10 4.1499743e-10\n",
      " 4.8115600e-10]\n",
      "2022-01-25 10:47:56,297 INFO Do rots update step\n",
      "len(V) = 8192\n",
      "U = [  -74.04347   -74.21128   -74.49023 ... -5040.056   -5110.4863\n",
      " -5478.3496 ]\n",
      "cssv = [-7.47784576e+01 -1.48791580e+02 -2.22829681e+02 ... -3.56352094e+05\n",
      " -3.60797719e+05 -3.65590562e+05]\n",
      "2022-01-25 10:47:57,730 INFO Do sigma update step\n",
      "sigmas = [3.4649761e-10 3.9693304e-10 3.7831460e-10 ... 4.0854622e-10 4.4659393e-10\n",
      " 4.2245304e-10]\n",
      "2022-01-25 10:47:57,738 INFO Do vol update step\n",
      "2022-01-25 10:47:57,739 INFO Compute adjoint forward mapping on the images\n",
      "2022-01-25 10:47:57,752 INFO Running through projections 0/1821 = 0.0%\n"
     ]
    }
   ],
   "source": [
    "# Experiment\n",
    "\n",
    "logger.info(\"Start Experiment\")\n",
    "logger.info(\"Running Experiment for SNR = {} and {} images\".format(snr, num_imgs))\n",
    "\n",
    "run_experiment(exp=exp,\n",
    "               max_iter=max_iter,\n",
    "               num_imgs=num_imgs,\n",
    "               snr=snr,\n",
    "               img_size=img_size,\n",
    "               mr_repeat=mr_repeat,\n",
    "               rots_reg_param=lambda0,\n",
    "               data_path=data_path,\n",
    "               vol_smudge=vol_smudge,\n",
    "               )"
   ]
  },
  {
   "cell_type": "code",
   "execution_count": null,
   "metadata": {
    "executionInfo": {
     "elapsed": 12,
     "status": "aborted",
     "timestamp": 1634295538612,
     "user": {
      "displayName": "Willem Diepeveen",
      "photoUrl": "https://lh3.googleusercontent.com/a/default-user=s64",
      "userId": "07042451899018849244"
     },
     "user_tz": -60
    },
    "id": "swo0r4ydN-fp"
   },
   "outputs": [],
   "source": [
    "logger.info(\"Start Postprocessing\")\n",
    "# Postprocessing\n",
    "post_processing(exp=exp,\n",
    "               # num_imgs=num_imgs,\n",
    "               # snr=snr,\n",
    "              #  results_folder=results_folder #?\n",
    "               )\n"
   ]
  },
  {
   "cell_type": "code",
   "execution_count": null,
   "metadata": {},
   "outputs": [],
   "source": []
  },
  {
   "cell_type": "code",
   "execution_count": null,
   "metadata": {},
   "outputs": [],
   "source": []
  }
 ],
 "metadata": {
  "accelerator": "GPU",
  "colab": {
   "collapsed_sections": [],
   "name": "experiment.ipynb",
   "provenance": []
  },
  "kernelspec": {
   "display_name": "Python 3",
   "language": "python",
   "name": "python3"
  },
  "language_info": {
   "codemirror_mode": {
    "name": "ipython",
    "version": 3
   },
   "file_extension": ".py",
   "mimetype": "text/x-python",
   "name": "python",
   "nbconvert_exporter": "python",
   "pygments_lexer": "ipython3",
   "version": "3.6.12"
  }
 },
 "nbformat": 4,
 "nbformat_minor": 1
}
