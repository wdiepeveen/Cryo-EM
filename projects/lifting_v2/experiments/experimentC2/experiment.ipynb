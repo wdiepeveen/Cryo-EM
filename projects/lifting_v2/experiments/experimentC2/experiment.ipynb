{
 "cells": [
  {
   "cell_type": "markdown",
   "metadata": {
    "id": "ZacDoHPsOA_4"
   },
   "source": [
    "# **Experiment C2**: full algorithm of concent from smudged ground truth\n",
    "\n",
    "Vary noise level and number of images"
   ]
  },
  {
   "cell_type": "code",
   "execution_count": 1,
   "metadata": {
    "colab": {
     "base_uri": "https://localhost:8080/"
    },
    "executionInfo": {
     "elapsed": 520,
     "status": "ok",
     "timestamp": 1634295522843,
     "user": {
      "displayName": "Willem Diepeveen",
      "photoUrl": "https://lh3.googleusercontent.com/a/default-user=s64",
      "userId": "07042451899018849244"
     },
     "user_tz": -60
    },
    "id": "kOadhnrzOavD",
    "outputId": "8846aca4-1f3f-4f3d-ed23-f8105d440725"
   },
   "outputs": [
    {
     "name": "stdout",
     "output_type": "stream",
     "text": [
      "Drive already mounted at /content/drive; to attempt to forcibly remount, call drive.mount(\"/content/drive\", force_remount=True).\n"
     ]
    }
   ],
   "source": [
    "# Mount Google Drive\n",
    "from google.colab import drive # import drive from google colab\n",
    "drive.mount(\"/content/drive\")"
   ]
  },
  {
   "cell_type": "code",
   "execution_count": 6,
   "metadata": {
    "colab": {
     "base_uri": "https://localhost:8080/"
    },
    "executionInfo": {
     "elapsed": 9,
     "status": "ok",
     "timestamp": 1634295523373,
     "user": {
      "displayName": "Willem Diepeveen",
      "photoUrl": "https://lh3.googleusercontent.com/a/default-user=s64",
      "userId": "07042451899018849244"
     },
     "user_tz": -60
    },
    "id": "du6Qj3ihOduK",
    "outputId": "fd5d7674-05b2-48f7-8cf6-99a51da4d30f"
   },
   "outputs": [
    {
     "name": "stdout",
     "output_type": "stream",
     "text": [
      "[Errno 2] No such file or directory: '/content/drive/MyDrive/PhD/Projects/2 - Cryo-EM/src/Cryo-EM'\n",
      "/Users/wdiepeveen/Documents/PhD/Projects/2 - Cryo-EM/src/src/Cryo-EM/projects/lifting_v2/experiments/experimentA1\n"
     ]
    }
   ],
   "source": [
    "%cd /content/drive/MyDrive/PhD/Projects/2 - Cryo-EM/src/Cryo-EM"
   ]
  },
  {
   "cell_type": "code",
   "execution_count": null,
   "metadata": {
    "colab": {
     "base_uri": "https://localhost:8080/"
    },
    "id": "UWpBxh-QOumD",
    "outputId": "ac2bebf5-6bb6-4bd0-f766-9f778f86aa7a"
   },
   "outputs": [
    {
     "name": "stdout",
     "output_type": "stream",
     "text": [
      "Requirement already satisfied: mrcfile in /usr/local/lib/python3.7/dist-packages (1.3.0)\n",
      "Requirement already satisfied: numpy>=1.12.0 in /usr/local/lib/python3.7/dist-packages (from mrcfile) (1.19.5)\n",
      "Collecting aspire\n",
      "  Downloading aspire-0.8.0.tar.gz (186 kB)\n",
      "\u001B[K     |████████████████████████████████| 186 kB 11.5 MB/s \n",
      "\u001B[?25hRequirement already satisfied: click in /usr/local/lib/python3.7/dist-packages (from aspire) (7.1.2)\n",
      "Collecting finufft==2.0.0\n",
      "  Downloading finufft-2.0.0-cp37-cp37m-manylinux2010_x86_64.whl (2.2 MB)\n",
      "\u001B[K     |████████████████████████████████| 2.2 MB 47.6 MB/s \n",
      "\u001B[?25hRequirement already satisfied: importlib_resources>=1.0.2 in /usr/local/lib/python3.7/dist-packages (from aspire) (5.2.2)\n",
      "Requirement already satisfied: joblib in /usr/local/lib/python3.7/dist-packages (from aspire) (1.0.1)\n",
      "Requirement already satisfied: matplotlib in /usr/local/lib/python3.7/dist-packages (from aspire) (3.2.2)\n",
      "Requirement already satisfied: mrcfile in /usr/local/lib/python3.7/dist-packages (from aspire) (1.3.0)\n",
      "Traceback (most recent call last):\n",
      "  File \"/usr/local/lib/python3.7/dist-packages/pip/_internal/cli/base_command.py\", line 180, in _main\n",
      "    status = self.run(options, args)\n",
      "  File \"/usr/local/lib/python3.7/dist-packages/pip/_internal/cli/req_command.py\", line 199, in wrapper\n",
      "    return func(self, options, args)\n",
      "  File \"/usr/local/lib/python3.7/dist-packages/pip/_internal/commands/install.py\", line 319, in run\n",
      "    reqs, check_supported_wheels=not options.target_dir\n",
      "  File \"/usr/local/lib/python3.7/dist-packages/pip/_internal/resolution/resolvelib/resolver.py\", line 128, in resolve\n",
      "    requirements, max_rounds=try_to_avoid_resolution_too_deep\n",
      "  File \"/usr/local/lib/python3.7/dist-packages/pip/_vendor/resolvelib/resolvers.py\", line 473, in resolve\n",
      "    state = resolution.resolve(requirements, max_rounds=max_rounds)\n",
      "  File \"/usr/local/lib/python3.7/dist-packages/pip/_vendor/resolvelib/resolvers.py\", line 367, in resolve\n",
      "    failure_causes = self._attempt_to_pin_criterion(name)\n",
      "  File \"/usr/local/lib/python3.7/dist-packages/pip/_vendor/resolvelib/resolvers.py\", line 213, in _attempt_to_pin_criterion\n",
      "    criteria = self._get_criteria_to_update(candidate)\n",
      "  File \"/usr/local/lib/python3.7/dist-packages/pip/_vendor/resolvelib/resolvers.py\", line 203, in _get_criteria_to_update\n",
      "    name, crit = self._merge_into_criterion(r, parent=candidate)\n",
      "  File \"/usr/local/lib/python3.7/dist-packages/pip/_vendor/resolvelib/resolvers.py\", line 172, in _merge_into_criterion\n",
      "    if not criterion.candidates:\n",
      "  File \"/usr/local/lib/python3.7/dist-packages/pip/_vendor/resolvelib/structs.py\", line 139, in __bool__\n",
      "    return bool(self._sequence)\n",
      "  File \"/usr/local/lib/python3.7/dist-packages/pip/_internal/resolution/resolvelib/found_candidates.py\", line 143, in __bool__\n",
      "    return any(self)\n",
      "  File \"/usr/local/lib/python3.7/dist-packages/pip/_internal/resolution/resolvelib/found_candidates.py\", line 129, in <genexpr>\n",
      "    return (c for c in iterator if id(c) not in self._incompatible_ids)\n",
      "  File \"/usr/local/lib/python3.7/dist-packages/pip/_internal/resolution/resolvelib/found_candidates.py\", line 30, in _iter_built\n",
      "    for version, func in infos:\n",
      "  File \"/usr/local/lib/python3.7/dist-packages/pip/_internal/resolution/resolvelib/factory.py\", line 272, in iter_index_candidate_infos\n",
      "    hashes=hashes,\n",
      "  File \"/usr/local/lib/python3.7/dist-packages/pip/_internal/index/package_finder.py\", line 879, in find_best_candidate\n",
      "    candidates = self.find_all_candidates(project_name)\n",
      "  File \"/usr/local/lib/python3.7/dist-packages/pip/_internal/index/package_finder.py\", line 824, in find_all_candidates\n",
      "    page_candidates = list(page_candidates_it)\n",
      "  File \"/usr/local/lib/python3.7/dist-packages/pip/_internal/index/sources.py\", line 134, in page_candidates\n",
      "    yield from self._candidates_from_page(self._link)\n",
      "  File \"/usr/local/lib/python3.7/dist-packages/pip/_internal/index/package_finder.py\", line 787, in process_project_url\n",
      "    page_links = list(parse_links(html_page))\n",
      "  File \"/usr/local/lib/python3.7/dist-packages/pip/_internal/index/collector.py\", line 316, in wrapper_wrapper\n",
      "    return list(fn(page))\n",
      "  File \"/usr/local/lib/python3.7/dist-packages/pip/_internal/index/collector.py\", line 330, in parse_links\n",
      "    namespaceHTMLElements=False,\n",
      "  File \"/usr/local/lib/python3.7/dist-packages/pip/_vendor/html5lib/html5parser.py\", line 46, in parse\n",
      "    return p.parse(doc, **kwargs)\n",
      "  File \"/usr/local/lib/python3.7/dist-packages/pip/_vendor/html5lib/html5parser.py\", line 284, in parse\n",
      "    self._parse(stream, False, None, *args, **kwargs)\n",
      "  File \"/usr/local/lib/python3.7/dist-packages/pip/_vendor/html5lib/html5parser.py\", line 133, in _parse\n",
      "    self.mainLoop()\n",
      "  File \"/usr/local/lib/python3.7/dist-packages/pip/_vendor/html5lib/html5parser.py\", line 204, in mainLoop\n",
      "    for token in self.tokenizer:\n",
      "  File \"/usr/local/lib/python3.7/dist-packages/pip/_vendor/html5lib/_tokenizer.py\", line 65, in __iter__\n",
      "    while self.state():\n",
      "  File \"/usr/local/lib/python3.7/dist-packages/pip/_vendor/html5lib/_tokenizer.py\", line 1012, in attributeValueDoubleQuotedState\n",
      "    self.processEntityInAttribute('\"')\n",
      "  File \"/usr/local/lib/python3.7/dist-packages/pip/_vendor/html5lib/_tokenizer.py\", line 226, in processEntityInAttribute\n",
      "    self.consumeEntity(allowedChar=allowedChar, fromAttribute=True)\n",
      "  File \"/usr/local/lib/python3.7/dist-packages/pip/_vendor/html5lib/_tokenizer.py\", line 180, in consumeEntity\n",
      "    if not entitiesTrie.has_keys_with_prefix(\"\".join(charStack)):\n",
      "  File \"/usr/local/lib/python3.7/dist-packages/pip/_vendor/html5lib/_trie/py.py\", line 58, in has_keys_with_prefix\n",
      "    if prefix.startswith(self._cachestr):\n",
      "KeyboardInterrupt\n",
      "\n",
      "During handling of the above exception, another exception occurred:\n",
      "\n",
      "Traceback (most recent call last):\n",
      "  File \"/usr/local/bin/pip3\", line 8, in <module>\n",
      "    sys.exit(main())\n",
      "  File \"/usr/local/lib/python3.7/dist-packages/pip/_internal/cli/main.py\", line 71, in main\n",
      "    return command.main(cmd_args)\n",
      "  File \"/usr/local/lib/python3.7/dist-packages/pip/_internal/cli/base_command.py\", line 104, in main\n",
      "    return self._main(args)\n",
      "  File \"/usr/local/lib/python3.7/dist-packages/pip/_internal/cli/base_command.py\", line 180, in _main\n",
      "    status = self.run(options, args)\n",
      "KeyboardInterrupt\n",
      "^C\n"
     ]
    }
   ],
   "source": [
    "# install libraries in Colab env\n",
    "!pip install mrcfile\n",
    "!pip install aspire\n",
    "!pip install quaternionic\n",
    "!pip install pykeops[colab] > install.log"
   ]
  },
  {
   "cell_type": "code",
   "execution_count": 2,
   "metadata": {
    "colab": {
     "base_uri": "https://localhost:8080/",
     "height": 487
    },
    "executionInfo": {
     "elapsed": 5188,
     "status": "error",
     "timestamp": 1634295538613,
     "user": {
      "displayName": "Willem Diepeveen",
      "photoUrl": "https://lh3.googleusercontent.com/a/default-user=s64",
      "userId": "07042451899018849244"
     },
     "user_tz": -60
    },
    "id": "QfSQIRPDN-fm",
    "outputId": "1703f3de-b9c6-40eb-827a-e4f5b7f8d33f",
    "pycharm": {
     "is_executing": true
    }
   },
   "outputs": [],
   "source": [
    "import numpy as np\n",
    "import os\n",
    "import logging\n",
    "\n",
    "from projects.lifting_v2.experiments.experimentC2.E1_run import run_experiment\n",
    "from projects.lifting_v2.experiments.experimentC2.E2_post_processing import post_processing\n",
    "\n",
    "from tools.exp_tools import Exp\n",
    "\n",
    "logger = logging.getLogger(__name__)"
   ]
  },
  {
   "cell_type": "code",
   "execution_count": 3,
   "metadata": {
    "executionInfo": {
     "elapsed": 8,
     "status": "aborted",
     "timestamp": 1634295538607,
     "user": {
      "displayName": "Willem Diepeveen",
      "photoUrl": "https://lh3.googleusercontent.com/a/default-user=s64",
      "userId": "07042451899018849244"
     },
     "user_tz": -60
    },
    "id": "S0YYvJ_YN-fn"
   },
   "outputs": [
    {
     "name": "stdout",
     "output_type": "stream",
     "text": [
      "2022-01-27 19:09:13,730 INFO Results folder is /Users/wdiepeveen/Documents/PhD/Projects/2 - Cryo-EM/src/src/Cryo-EM/tools/../results/expC2_22-01-27_19-09-13_SNR2_L65_N8192_r1_lam1_i1\n"
     ]
    }
   ],
   "source": [
    "# Experiment parameters\n",
    "vol_smudge = 5\n",
    "img_size = 65  # was 65 before and was 129 in rotation estimation paper\n",
    "mr_repeat = 1 # number of times mesh refinement\n",
    "snr = 1 / 2  # [1/2, 1/4, 1/8, 1/16, 1/32, 1/64, 1/128, 1/256]\n",
    "num_imgs = 8192  # 5000  # [512, 1024, 2048, 4096, 8192]\n",
    "lambda0 = 1/3000 * img_size**2\n",
    "# rots_batch_size = 10000\n",
    "\n",
    "max_iter = 1\n",
    "\n",
    "# Directly start experiment\n",
    "exp = Exp()\n",
    "\n",
    "exp.begin(prefix=\"expC2\" , postfix=\"SNR{}_L{}_N{}_r{}_lam{}_i{}\".format(int(1/snr),img_size,num_imgs,mr_repeat, int(lambda0), max_iter))\n",
    "exp.dbglevel(4)"
   ]
  },
  {
   "cell_type": "code",
   "execution_count": 4,
   "metadata": {
    "executionInfo": {
     "elapsed": 10,
     "status": "aborted",
     "timestamp": 1634295538610,
     "user": {
      "displayName": "Willem Diepeveen",
      "photoUrl": "https://lh3.googleusercontent.com/a/default-user=s64",
      "userId": "07042451899018849244"
     },
     "user_tz": -60
    },
    "id": "enQMCesTN-fn"
   },
   "outputs": [],
   "source": [
    "# Set data path\n",
    "data_dir = \"data\"\n",
    "data_filename = \"clean70SRibosome_vol_65p.mrc\"\n",
    "data_path = os.path.join(\"..\", \"..\", \"..\", \"..\",data_dir, data_filename)\n",
    "\n",
    "# Set results folder if skip_preprocessing\n",
    "# results_folder = \"results/expA2_21-10-10_12-30-19_L65_N512_r1_k90_lamV10_lamD-8\"\n",
    "# results_folder = \"results/expA2_21-10-10_12-34-53_L65_N512_r2_k90_lamV10_lamD-8\"\n",
    "# results_folder = \"results/expA2_21-10-10_13-08-24_L65_N512_r1_k90_lamV10_lamD-10\"\n",
    "# results_folder = \"results/expA2_21-10-10_13-47-27_L65_N512_r2_k90_lamV10_lamD-10\"  # \"results/lifting_21-04-26_12-22-06\""
   ]
  },
  {
   "cell_type": "code",
   "execution_count": 5,
   "metadata": {
    "executionInfo": {
     "elapsed": 11,
     "status": "aborted",
     "timestamp": 1634295538611,
     "user": {
      "displayName": "Willem Diepeveen",
      "photoUrl": "https://lh3.googleusercontent.com/a/default-user=s64",
      "userId": "07042451899018849244"
     },
     "user_tz": -60
    },
    "id": "_8S3wedaN-fo"
   },
   "outputs": [
    {
     "name": "stdout",
     "output_type": "stream",
     "text": [
      "2022-01-27 19:09:14,556 INFO Start Experiment\n",
      "2022-01-27 19:09:14,557 INFO Running Experiment for SNR = 0.5 and 8192 images\n",
      "2022-01-27 19:09:14,559 INFO This experiment illustrates orientation refinement using a lifting approach\n",
      "2022-01-27 19:09:14,560 INFO Initialize simulation object and CTF filters.\n",
      "2022-01-27 19:09:14,561 INFO Load 3D map and downsample 3D map to desired grids of 65 x 65 x 65.\n",
      "2022-01-27 19:09:14,593 INFO Use downsampled map to creat simulation object.\n",
      "2022-01-27 19:09:14,651 INFO Get true rotation angles generated randomly by the simulation object.\n",
      "2022-01-27 19:09:18,335 INFO Trying NFFT backend finufft\n",
      "2022-01-27 19:09:18,385 INFO NFFT backend finufft usable.\n",
      "2022-01-27 19:09:18,386 INFO Trying NFFT backend cufinufft\n",
      "2022-01-27 19:09:18,388 INFO NFFT backend cufinufft not usable:\n",
      "\tNo module named 'pycuda'\n",
      "2022-01-27 19:09:18,389 INFO Trying NFFT backend pynfft\n",
      "2022-01-27 19:09:18,392 INFO NFFT backend pynfft not usable:\n",
      "\tNo module named 'pynfft'\n",
      "2022-01-27 19:09:18,393 INFO Selected NFFT backend = finufft.\n",
      "2022-01-27 19:09:56,712 INFO Applying forward transformations in pipeline\n",
      "2022-01-27 19:09:56,713 INFO All forward transformations applied\n",
      "2022-01-27 19:09:56,714 INFO Loaded 8192 images\n",
      "sigma = 1.8029358934624122e-06\n",
      "tau = 0.0013006636481047568\n",
      "2022-01-27 19:10:35,216 INFO Applying forward transformations in pipeline\n",
      "2022-01-27 19:10:35,217 INFO All forward transformations applied\n",
      "2022-01-27 19:10:35,218 INFO Loaded 8192 images\n",
      "2022-01-27 19:10:35,219 INFO Initializing density\n",
      "vol = [[[[-4.31525277e-07 -4.22957864e-07 -4.07141222e-07 ...  9.31378212e-09\n",
      "     2.71173406e-08  3.67879267e-08]\n",
      "   [-4.30978921e-07 -4.23160577e-07 -4.08754059e-07 ...  1.13258747e-08\n",
      "     2.94507982e-08  3.92638400e-08]\n",
      "   [-4.28964946e-07 -4.22607767e-07 -4.10948115e-07 ...  1.52786090e-08\n",
      "     3.39553346e-08  4.40078986e-08]\n",
      "   ...\n",
      "   [-7.73844950e-07 -7.48418392e-07 -7.00235993e-07 ...  1.07924340e-07\n",
      "     1.12602767e-07  1.14893364e-07]\n",
      "   [-7.88312875e-07 -7.62597822e-07 -7.13814733e-07 ...  9.45240609e-08\n",
      "     9.64619647e-08  9.72972344e-08]\n",
      "   [-7.95019276e-07 -7.69169637e-07 -7.20103972e-07 ...  8.79168179e-08\n",
      "     8.84221206e-08  8.84966523e-08]]\n",
      "\n",
      "  [[-4.31102999e-07 -4.22617577e-07 -4.06927374e-07 ...  2.74062981e-09\n",
      "     2.00823182e-08  2.94959627e-08]\n",
      "   [-4.30810730e-07 -4.23071490e-07 -4.08785901e-07 ...  4.64693566e-09\n",
      "     2.22913206e-08  3.18378838e-08]\n",
      "   [-4.29296709e-07 -4.23012716e-07 -4.11462805e-07 ...  8.39858492e-09\n",
      "     2.65608745e-08  3.63296843e-08]\n",
      "   ...\n",
      "   [-7.67982569e-07 -7.42929009e-07 -6.95480646e-07 ...  9.52827619e-08\n",
      "     9.92398345e-08  1.01169390e-07]\n",
      "   [-7.81187569e-07 -7.55845002e-07 -7.07798414e-07 ...  8.15788158e-08\n",
      "     8.28031962e-08  8.32836420e-08]\n",
      "   [-7.87245941e-07 -7.61768243e-07 -7.13439798e-07 ...  7.48062648e-08\n",
      "     7.46031432e-08  7.43266157e-08]]\n",
      "\n",
      "  [[-4.29719634e-07 -4.21402232e-07 -4.05976504e-07 ... -9.92275259e-09\n",
      "     6.52861123e-09  1.54484566e-08]\n",
      "   [-4.29911969e-07 -4.22334039e-07 -4.08300101e-07 ... -8.22021433e-09\n",
      "     8.49841151e-09  1.75330671e-08]\n",
      "   [-4.29351802e-07 -4.23215599e-07 -4.11891696e-07 ... -4.85394358e-09\n",
      "     1.23183280e-08  2.15424688e-08]\n",
      "   ...\n",
      "   [-7.56178710e-07 -7.31842228e-07 -6.85804142e-07 ...  7.03885721e-08\n",
      "     7.29766262e-08  7.42218673e-08]\n",
      "   [-7.67039904e-07 -7.42411560e-07 -6.95776321e-07 ...  5.61728345e-08\n",
      "     5.60482595e-08  5.58588573e-08]\n",
      "   [-7.71897136e-07 -7.47131629e-07 -7.00213995e-07 ...  4.91211912e-08\n",
      "     4.75815513e-08  4.66437333e-08]]\n",
      "\n",
      "  ...\n",
      "\n",
      "  [[ 1.05131535e-07  8.92295824e-08  5.96268921e-08 ... -5.13263025e-07\n",
      "    -5.25670932e-07 -5.32251818e-07]\n",
      "   [ 1.02776357e-07  8.68913995e-08  5.72992307e-08 ... -5.13347977e-07\n",
      "    -5.26257572e-07 -5.33089562e-07]\n",
      "   [ 9.86497225e-08  8.28129878e-08  5.32705299e-08 ... -5.13739388e-07\n",
      "    -5.27579254e-07 -5.34875337e-07]\n",
      "   ...\n",
      "   [-1.33026819e-07 -1.31952541e-07 -1.29595263e-07 ... -1.13032954e-07\n",
      "    -1.15397668e-07 -1.16560160e-07]\n",
      "   [-1.15314206e-07 -1.14008443e-07 -1.11184395e-07 ... -8.63002278e-08\n",
      "    -8.72204532e-08 -8.76225171e-08]\n",
      "   [-1.05965018e-07 -1.04551778e-07 -1.01510559e-07 ... -7.23023111e-08\n",
      "    -7.24801577e-08 -7.24909450e-08]]\n",
      "\n",
      "  [[ 1.12823820e-07  9.59695784e-08  6.46269768e-08 ... -5.27491369e-07\n",
      "    -5.39044281e-07 -5.45153394e-07]\n",
      "   [ 1.10354673e-07  9.35056905e-08  6.21505374e-08 ... -5.27699504e-07\n",
      "    -5.39793032e-07 -5.46174243e-07]\n",
      "   [ 1.06023715e-07  8.92035301e-08  5.78596101e-08 ... -5.28320906e-07\n",
      "    -5.41419804e-07 -5.48305632e-07]\n",
      "   ...\n",
      "   [-1.23295334e-07 -1.22727047e-07 -1.21343421e-07 ... -9.68719554e-08\n",
      "    -1.00311758e-07 -1.02043677e-07]\n",
      "   [-1.04670704e-07 -1.03884527e-07 -1.02059782e-07 ... -6.88937484e-08\n",
      "    -7.08212796e-08 -7.17578788e-08]\n",
      "   [-9.48629195e-08 -9.39748581e-08 -9.19434776e-08 ... -5.42434719e-08\n",
      "    -5.53919677e-08 -5.59184183e-08]]\n",
      "\n",
      "  [[ 1.16715564e-07  9.93704255e-08  6.71318650e-08 ... -5.34769231e-07\n",
      "    -5.45881991e-07 -5.51747688e-07]\n",
      "   [ 1.14184077e-07  9.68379669e-08  6.45746239e-08 ... -5.35029736e-07\n",
      "    -5.46702161e-07 -5.52850286e-07]\n",
      "   [ 1.09741316e-07  9.24136734e-08  6.01411358e-08 ... -5.35748430e-07\n",
      "    -5.48463034e-07 -5.55135749e-07]\n",
      "   ...\n",
      "   [-1.18456714e-07 -1.18149413e-07 -1.17266705e-07 ... -8.81006836e-08\n",
      "    -9.21129257e-08 -9.41482525e-08]\n",
      "   [-9.93693040e-08 -9.88502164e-08 -9.75378938e-08 ... -5.94587819e-08\n",
      "    -6.19247265e-08 -6.31471991e-08]\n",
      "   [-8.93286852e-08 -8.87101167e-08 -8.71956744e-08 ... -4.44607038e-08\n",
      "    -4.61291585e-08 -4.69319722e-08]]]]\n",
      "beta = [[6.77460877e-05 6.77460877e-05 6.77460877e-05 ... 6.77460877e-05\n",
      "  6.77460877e-05 6.77460877e-05]\n",
      " [6.77460877e-05 6.77460877e-05 6.77460877e-05 ... 6.77460877e-05\n",
      "  6.77460877e-05 6.77460877e-05]\n",
      " [6.77460877e-05 6.77460877e-05 6.77460877e-05 ... 6.77460877e-05\n",
      "  6.77460877e-05 6.77460877e-05]\n",
      " ...\n",
      " [6.77460877e-05 6.77460877e-05 6.77460877e-05 ... 6.77460877e-05\n",
      "  6.77460877e-05 6.77460877e-05]\n",
      " [6.77460877e-05 6.77460877e-05 6.77460877e-05 ... 6.77460877e-05\n",
      "  6.77460877e-05 6.77460877e-05]\n",
      " [6.77460877e-05 6.77460877e-05 6.77460877e-05 ... 6.77460877e-05\n",
      "  6.77460877e-05 6.77460877e-05]]\n",
      "sigmas = [1.80293589e-06 1.80293589e-06 1.80293589e-06 ... 1.80293589e-06\n",
      " 1.80293589e-06 1.80293589e-06]\n",
      "tau = 0.0013006636481047568\n",
      "Initializing solver\n",
      "2022-01-27 19:10:35,673 INFO Update data_discrepancies\n",
      "2022-01-27 19:10:35,674 INFO Computing \\|Ag.u - f_i\\|^2\n",
      "2022-01-27 19:10:35,828 INFO Running through projections 0/14761 = 0.0%\n",
      "2022-01-27 19:13:43,203 INFO Running through projections 8192/14761 = 55.5%\n",
      "Start solver\n",
      "========================= Iteration 1 =========================\n",
      "2022-01-27 19:16:18,285 INFO Do rots update step\n",
      "betas = [[0. 0. 0. ... 0. 0. 0.]\n",
      " [0. 0. 0. ... 0. 0. 0.]\n",
      " [0. 0. 0. ... 0. 0. 0.]\n",
      " ...\n",
      " [0. 0. 0. ... 0. 0. 0.]\n",
      " [0. 0. 0. ... 0. 0. 0.]\n",
      " [0. 0. 0. ... 0. 0. 0.]]\n",
      "2022-01-27 19:16:37,955 INFO Do vol update step\n",
      "2022-01-27 19:16:38,324 INFO Compute adjoint forward mapping on the images\n",
      "2022-01-27 19:16:38,325 INFO Running through projections 0/14761 = 0.0%\n",
      "2022-01-27 19:19:33,183 INFO Running through projections 8192/14761 = 55.5%\n",
      "2022-01-27 19:21:53,033 INFO Determined adjoint mappings. Shape = (65, 65, 65)\n",
      "2022-01-27 19:21:53,123 INFO Running through projections 0/14761 = 0.0%\n",
      "2022-01-27 19:22:09,289 INFO Running through projections 8192/14761 = 55.5%\n",
      "2022-01-27 19:22:21,614 INFO Computing non-centered Fourier Transform\n",
      "2022-01-27 19:22:21,857 INFO Update data_discrepancies\n",
      "2022-01-27 19:22:21,858 INFO Computing \\|Ag.u - f_i\\|^2\n",
      "2022-01-27 19:22:22,001 INFO Running through projections 0/14761 = 0.0%\n",
      "2022-01-27 19:25:33,306 INFO Running through projections 8192/14761 = 55.5%\n",
      "volume = [[[[-2.34059701e-08 -2.02235491e-09 -3.52623164e-09 ...  4.84262196e-08\n",
      "     5.62558902e-08  5.36537383e-08]\n",
      "   [ 1.78464250e-08  2.92937341e-08  3.11906761e-08 ...  2.14807526e-08\n",
      "     4.77820754e-08  6.95941890e-08]\n",
      "   [ 2.60758213e-08  4.84602539e-08  3.29293805e-08 ... -2.51533672e-08\n",
      "     2.02916693e-08  5.22077118e-08]\n",
      "   ...\n",
      "   [-6.71261242e-08 -5.09743883e-08 -4.76998946e-08 ...  4.88747971e-08\n",
      "     2.08025775e-09  2.46606017e-08]\n",
      "   [-4.83606079e-08 -6.52626825e-08 -4.97367670e-08 ...  3.56665959e-08\n",
      "     1.77359969e-09  2.06984535e-08]\n",
      "   [-3.17983433e-08 -5.06258606e-08 -3.94881898e-08 ...  3.04603547e-08\n",
      "    -6.05579147e-09  3.27193905e-08]]\n",
      "\n",
      "  [[ 1.94167931e-09  1.52603711e-08  1.23579194e-08 ...  1.43369151e-08\n",
      "     3.54418078e-08  4.94237778e-08]\n",
      "   [ 3.70468731e-08  2.34571705e-08  1.91718728e-08 ...  4.80400844e-09\n",
      "     4.00215528e-08  6.18974583e-08]\n",
      "   [ 3.05171944e-08  4.02781136e-08 -5.09407275e-09 ... -3.15466390e-08\n",
      "    -5.40280651e-09  3.76572229e-08]\n",
      "   ...\n",
      "   [-6.22047187e-08 -3.30796767e-08 -2.03519667e-08 ...  2.65405344e-08\n",
      "     4.47982509e-08  2.48386769e-08]\n",
      "   [-4.53508978e-08 -3.93446114e-08 -4.96400771e-08 ...  3.25682992e-08\n",
      "     2.23523007e-08  1.78828773e-08]\n",
      "   [-2.37516367e-08 -3.74325642e-08 -5.21266484e-08 ...  4.24269687e-08\n",
      "    -4.32910020e-09  1.05743760e-08]]\n",
      "\n",
      "  [[ 3.91432316e-08  5.33452562e-08  3.34465205e-08 ...  2.47209173e-08\n",
      "    -3.93118838e-09  2.09666825e-08]\n",
      "   [ 4.15525411e-08  1.77106188e-08  1.69547975e-08 ... -2.17146190e-08\n",
      "    -8.59733366e-09  1.15570899e-08]\n",
      "   [ 5.43009047e-08  3.16621510e-08 -1.63386132e-08 ... -4.81803775e-08\n",
      "    -1.85846035e-08  2.95604828e-08]\n",
      "   ...\n",
      "   [-3.30375513e-08 -1.18960374e-08 -8.44523229e-09 ...  4.47041033e-09\n",
      "     4.28858048e-08  4.55581360e-08]\n",
      "   [-4.08714994e-08 -3.38441952e-08 -1.54150576e-08 ...  2.37296765e-08\n",
      "     1.65311260e-08  2.11943907e-08]\n",
      "   [-4.11844066e-08 -4.83930965e-08 -4.93162737e-08 ...  2.61504895e-08\n",
      "     8.38851839e-09 -3.08042889e-09]]\n",
      "\n",
      "  ...\n",
      "\n",
      "  [[ 1.91231227e-08  1.74728102e-08  1.24596055e-08 ... -1.50005635e-08\n",
      "     3.21086555e-09 -2.95447991e-08]\n",
      "   [ 3.18346372e-08  1.60866541e-08  1.40557845e-08 ...  3.65112570e-08\n",
      "    -9.33237031e-10 -3.35058119e-08]\n",
      "   [ 4.74308231e-08  2.43509655e-08  2.17955922e-11 ...  8.19032459e-08\n",
      "     3.24834320e-08  9.63743873e-09]\n",
      "   ...\n",
      "   [-2.28880550e-08 -2.55276156e-08 -2.04146102e-09 ...  1.86012654e-08\n",
      "    -2.47660413e-09 -1.52818625e-09]\n",
      "   [-7.63659054e-08 -4.61766611e-08 -3.06047655e-08 ...  2.13941852e-08\n",
      "     1.38253502e-08  2.64611110e-08]\n",
      "   [-5.82798461e-08 -5.74330364e-08 -6.21934037e-08 ...  5.04170265e-09\n",
      "     7.18355401e-09  4.08849486e-09]]\n",
      "\n",
      "  [[ 1.19892727e-08  2.74913456e-08  2.39367492e-08 ... -2.01453552e-08\n",
      "    -3.48944931e-10  4.14208858e-09]\n",
      "   [ 2.89178550e-08  2.57434067e-08  2.19173610e-08 ...  3.46642413e-08\n",
      "     1.69374305e-08 -9.13989320e-09]\n",
      "   [ 2.23004182e-08  6.31371020e-09 -1.34762157e-08 ...  4.08136519e-08\n",
      "     1.25468236e-08  8.92766197e-09]\n",
      "   ...\n",
      "   [-3.02176699e-08 -2.96241257e-08 -4.80314061e-10 ...  1.21033481e-08\n",
      "    -3.48530073e-09 -2.53719922e-08]\n",
      "   [-3.27290001e-08 -2.94516912e-08 -3.54539809e-08 ...  2.06875297e-09\n",
      "    -3.06148569e-09 -3.18331639e-08]\n",
      "   [-3.12426243e-08 -3.37103319e-08 -4.87620910e-08 ... -1.48570300e-08\n",
      "    -1.09683449e-08 -4.52341441e-08]]\n",
      "\n",
      "  [[ 1.45631119e-08  1.98562132e-08 -1.15240129e-08 ...  1.22380488e-08\n",
      "     1.24099451e-08  4.34707247e-08]\n",
      "   [ 3.89306407e-08 -9.07231367e-10 -1.48095468e-08 ...  7.11875713e-09\n",
      "    -7.19529429e-09  3.29157941e-08]\n",
      "   [-1.04440007e-08 -5.03002125e-09  3.87641440e-09 ...  2.39707845e-08\n",
      "     9.95861809e-09  4.81265028e-08]\n",
      "   ...\n",
      "   [-4.48757624e-08 -3.19461255e-08  3.02048364e-09 ... -1.31842821e-08\n",
      "    -2.29821355e-08 -4.08679820e-08]\n",
      "   [-2.27315999e-08 -1.75025168e-08 -2.27869780e-09 ...  2.46217585e-09\n",
      "    -1.66810526e-08 -4.62661131e-08]\n",
      "   [-4.32460478e-09 -5.80441022e-09 -2.81312512e-08 ...  5.77128874e-09\n",
      "     9.33981083e-10 -3.67936269e-08]]]]\n",
      "2022-01-27 19:28:00,326 INFO Do sigma update step\n"
     ]
    },
    {
     "name": "stdout",
     "output_type": "stream",
     "text": [
      "sigmas = [1.17508019e-06 1.41971258e-06 1.35120975e-06 ... 1.48343396e-06\n",
      " 1.70834376e-06 1.53034934e-06]\n",
      "Solver has finished\n",
      "Initializing solver\n",
      "2022-01-27 19:28:03,815 INFO Initialize solver\n",
      "Start solver\n",
      "========================= Iteration 1 =========================\n",
      "2022-01-27 19:28:04,565 INFO Computing 677 means of 14761 points in at most 20 steps...\n",
      "2022-01-27 19:28:37,912 INFO Computing means at 8%\n",
      "2022-01-27 19:28:38,052 INFO Computing 677 means of 14761 points in at most 20 steps...\n",
      "2022-01-27 19:29:10,703 INFO Computing means at 16%\n",
      "2022-01-27 19:29:10,841 INFO Computing 677 means of 14761 points in at most 20 steps...\n",
      "2022-01-27 19:29:43,807 INFO Computing means at 24%\n",
      "2022-01-27 19:29:43,946 INFO Computing 677 means of 14761 points in at most 20 steps...\n",
      "2022-01-27 19:30:17,849 INFO Computing means at 33%\n",
      "2022-01-27 19:30:17,987 INFO Computing 677 means of 14761 points in at most 20 steps...\n",
      "2022-01-27 19:30:50,369 INFO Computing means at 41%\n",
      "2022-01-27 19:30:50,509 INFO Computing 677 means of 14761 points in at most 20 steps...\n",
      "2022-01-27 19:31:23,907 INFO Computing means at 49%\n",
      "2022-01-27 19:31:24,045 INFO Computing 677 means of 14761 points in at most 20 steps...\n",
      "2022-01-27 19:31:57,739 INFO Computing means at 57%\n",
      "2022-01-27 19:31:57,880 INFO Computing 677 means of 14761 points in at most 20 steps...\n",
      "2022-01-27 19:32:32,643 INFO Computing means at 66%\n",
      "2022-01-27 19:32:32,783 INFO Computing 677 means of 14761 points in at most 20 steps...\n",
      "2022-01-27 19:33:07,292 INFO Computing means at 74%\n",
      "2022-01-27 19:33:07,436 INFO Computing 677 means of 14761 points in at most 20 steps...\n",
      "2022-01-27 19:33:40,921 INFO Computing means at 82%\n",
      "2022-01-27 19:33:41,063 INFO Computing 677 means of 14761 points in at most 20 steps...\n",
      "2022-01-27 19:34:16,683 INFO Computing means at 90%\n",
      "2022-01-27 19:34:16,822 INFO Computing 677 means of 14761 points in at most 20 steps...\n",
      "2022-01-27 19:34:49,251 INFO Computing means at 99%\n",
      "2022-01-27 19:34:49,270 INFO Computing 68 means of 14761 points in at most 20 steps...\n",
      "2022-01-27 19:34:51,525 INFO Computing means at 100%\n",
      "2022-01-27 19:34:51,579 INFO Compute adjoint forward mapping on the images\n",
      "2022-01-27 19:34:51,723 INFO Running through projections 0/8192 = 0.0%\n",
      "2022-01-27 19:35:08,370 INFO Determined adjoint mappings. Shape = (65, 65, 65)\n",
      "2022-01-27 19:35:08,409 INFO Running through projections 0/8192 = 0.0%\n",
      "2022-01-27 19:35:23,926 INFO Computing non-centered Fourier Transform\n",
      "Solver has finished\n"
     ]
    }
   ],
   "source": [
    "# Experiment\n",
    "\n",
    "logger.info(\"Start Experiment\")\n",
    "logger.info(\"Running Experiment for SNR = {} and {} images\".format(snr, num_imgs))\n",
    "\n",
    "run_experiment(exp=exp,\n",
    "               max_iter=max_iter,\n",
    "               num_imgs=num_imgs,\n",
    "               snr=snr,\n",
    "               img_size=img_size,\n",
    "               mr_repeat=mr_repeat,\n",
    "               rots_reg_param=lambda0,\n",
    "               data_path=data_path,\n",
    "               vol_smudge=vol_smudge,\n",
    "               )"
   ]
  },
  {
   "cell_type": "code",
   "execution_count": null,
   "outputs": [],
   "source": [
    "logger.info(\"Start Postprocessing\")\n",
    "# Postprocessing\n",
    "post_processing(exp=exp,\n",
    "               # num_imgs=num_imgs,\n",
    "               # snr=snr,\n",
    "              #  results_folder=results_folder #?\n",
    "               )\n"
   ],
   "metadata": {
    "collapsed": false,
    "pycharm": {
     "name": "#%%\n"
    }
   }
  },
  {
   "cell_type": "code",
   "execution_count": null,
   "metadata": {},
   "outputs": [],
   "source": []
  },
  {
   "cell_type": "code",
   "execution_count": null,
   "metadata": {},
   "outputs": [],
   "source": []
  }
 ],
 "metadata": {
  "accelerator": "GPU",
  "colab": {
   "collapsed_sections": [],
   "name": "experiment.ipynb",
   "provenance": []
  },
  "kernelspec": {
   "display_name": "Python 3",
   "language": "python",
   "name": "python3"
  },
  "language_info": {
   "codemirror_mode": {
    "name": "ipython",
    "version": 3
   },
   "file_extension": ".py",
   "mimetype": "text/x-python",
   "name": "python",
   "nbconvert_exporter": "python",
   "pygments_lexer": "ipython3",
   "version": "3.6.12"
  }
 },
 "nbformat": 4,
 "nbformat_minor": 1
}