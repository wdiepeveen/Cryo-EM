{
 "cells": [
  {
   "cell_type": "markdown",
   "metadata": {
    "id": "ZacDoHPsOA_4"
   },
   "source": [
    "# **Experiment A2**: proof of concent from ground truth\n",
    "Douglas Rachford for solving the density coefficients\n",
    "\n",
    "Vary noise level and number of images"
   ]
  },
  {
   "cell_type": "code",
   "execution_count": 1,
   "metadata": {
    "colab": {
     "base_uri": "https://localhost:8080/"
    },
    "executionInfo": {
     "elapsed": 520,
     "status": "ok",
     "timestamp": 1634295522843,
     "user": {
      "displayName": "Willem Diepeveen",
      "photoUrl": "https://lh3.googleusercontent.com/a/default-user=s64",
      "userId": "07042451899018849244"
     },
     "user_tz": -60
    },
    "id": "kOadhnrzOavD",
    "outputId": "8846aca4-1f3f-4f3d-ed23-f8105d440725"
   },
   "outputs": [
    {
     "name": "stdout",
     "output_type": "stream",
     "text": [
      "Drive already mounted at /content/drive; to attempt to forcibly remount, call drive.mount(\"/content/drive\", force_remount=True).\n"
     ]
    }
   ],
   "source": [
    "# Mount Google Drive\n",
    "from google.colab import drive # import drive from google colab\n",
    "drive.mount(\"/content/drive\")"
   ]
  },
  {
   "cell_type": "code",
   "execution_count": 6,
   "metadata": {
    "colab": {
     "base_uri": "https://localhost:8080/"
    },
    "executionInfo": {
     "elapsed": 9,
     "status": "ok",
     "timestamp": 1634295523373,
     "user": {
      "displayName": "Willem Diepeveen",
      "photoUrl": "https://lh3.googleusercontent.com/a/default-user=s64",
      "userId": "07042451899018849244"
     },
     "user_tz": -60
    },
    "id": "du6Qj3ihOduK",
    "outputId": "fd5d7674-05b2-48f7-8cf6-99a51da4d30f"
   },
   "outputs": [
    {
     "name": "stdout",
     "output_type": "stream",
     "text": [
      "[Errno 2] No such file or directory: '/content/drive/MyDrive/PhD/Projects/2 - Cryo-EM/src/Cryo-EM'\n",
      "/Users/wdiepeveen/Documents/PhD/Projects/2 - Cryo-EM/src/src/Cryo-EM/projects/lifting_v2/experiments/experimentA1\n"
     ]
    }
   ],
   "source": [
    "%cd /content/drive/MyDrive/PhD/Projects/2 - Cryo-EM/src/Cryo-EM"
   ]
  },
  {
   "cell_type": "code",
   "execution_count": null,
   "metadata": {
    "colab": {
     "base_uri": "https://localhost:8080/"
    },
    "id": "UWpBxh-QOumD",
    "outputId": "ac2bebf5-6bb6-4bd0-f766-9f778f86aa7a"
   },
   "outputs": [
    {
     "name": "stdout",
     "output_type": "stream",
     "text": [
      "Requirement already satisfied: mrcfile in /usr/local/lib/python3.7/dist-packages (1.3.0)\n",
      "Requirement already satisfied: numpy>=1.12.0 in /usr/local/lib/python3.7/dist-packages (from mrcfile) (1.19.5)\n",
      "Collecting aspire\n",
      "  Downloading aspire-0.8.0.tar.gz (186 kB)\n",
      "\u001b[K     |████████████████████████████████| 186 kB 11.5 MB/s \n",
      "\u001b[?25hRequirement already satisfied: click in /usr/local/lib/python3.7/dist-packages (from aspire) (7.1.2)\n",
      "Collecting finufft==2.0.0\n",
      "  Downloading finufft-2.0.0-cp37-cp37m-manylinux2010_x86_64.whl (2.2 MB)\n",
      "\u001b[K     |████████████████████████████████| 2.2 MB 47.6 MB/s \n",
      "\u001b[?25hRequirement already satisfied: importlib_resources>=1.0.2 in /usr/local/lib/python3.7/dist-packages (from aspire) (5.2.2)\n",
      "Requirement already satisfied: joblib in /usr/local/lib/python3.7/dist-packages (from aspire) (1.0.1)\n",
      "Requirement already satisfied: matplotlib in /usr/local/lib/python3.7/dist-packages (from aspire) (3.2.2)\n",
      "Requirement already satisfied: mrcfile in /usr/local/lib/python3.7/dist-packages (from aspire) (1.3.0)\n",
      "Traceback (most recent call last):\n",
      "  File \"/usr/local/lib/python3.7/dist-packages/pip/_internal/cli/base_command.py\", line 180, in _main\n",
      "    status = self.run(options, args)\n",
      "  File \"/usr/local/lib/python3.7/dist-packages/pip/_internal/cli/req_command.py\", line 199, in wrapper\n",
      "    return func(self, options, args)\n",
      "  File \"/usr/local/lib/python3.7/dist-packages/pip/_internal/commands/install.py\", line 319, in run\n",
      "    reqs, check_supported_wheels=not options.target_dir\n",
      "  File \"/usr/local/lib/python3.7/dist-packages/pip/_internal/resolution/resolvelib/resolver.py\", line 128, in resolve\n",
      "    requirements, max_rounds=try_to_avoid_resolution_too_deep\n",
      "  File \"/usr/local/lib/python3.7/dist-packages/pip/_vendor/resolvelib/resolvers.py\", line 473, in resolve\n",
      "    state = resolution.resolve(requirements, max_rounds=max_rounds)\n",
      "  File \"/usr/local/lib/python3.7/dist-packages/pip/_vendor/resolvelib/resolvers.py\", line 367, in resolve\n",
      "    failure_causes = self._attempt_to_pin_criterion(name)\n",
      "  File \"/usr/local/lib/python3.7/dist-packages/pip/_vendor/resolvelib/resolvers.py\", line 213, in _attempt_to_pin_criterion\n",
      "    criteria = self._get_criteria_to_update(candidate)\n",
      "  File \"/usr/local/lib/python3.7/dist-packages/pip/_vendor/resolvelib/resolvers.py\", line 203, in _get_criteria_to_update\n",
      "    name, crit = self._merge_into_criterion(r, parent=candidate)\n",
      "  File \"/usr/local/lib/python3.7/dist-packages/pip/_vendor/resolvelib/resolvers.py\", line 172, in _merge_into_criterion\n",
      "    if not criterion.candidates:\n",
      "  File \"/usr/local/lib/python3.7/dist-packages/pip/_vendor/resolvelib/structs.py\", line 139, in __bool__\n",
      "    return bool(self._sequence)\n",
      "  File \"/usr/local/lib/python3.7/dist-packages/pip/_internal/resolution/resolvelib/found_candidates.py\", line 143, in __bool__\n",
      "    return any(self)\n",
      "  File \"/usr/local/lib/python3.7/dist-packages/pip/_internal/resolution/resolvelib/found_candidates.py\", line 129, in <genexpr>\n",
      "    return (c for c in iterator if id(c) not in self._incompatible_ids)\n",
      "  File \"/usr/local/lib/python3.7/dist-packages/pip/_internal/resolution/resolvelib/found_candidates.py\", line 30, in _iter_built\n",
      "    for version, func in infos:\n",
      "  File \"/usr/local/lib/python3.7/dist-packages/pip/_internal/resolution/resolvelib/factory.py\", line 272, in iter_index_candidate_infos\n",
      "    hashes=hashes,\n",
      "  File \"/usr/local/lib/python3.7/dist-packages/pip/_internal/index/package_finder.py\", line 879, in find_best_candidate\n",
      "    candidates = self.find_all_candidates(project_name)\n",
      "  File \"/usr/local/lib/python3.7/dist-packages/pip/_internal/index/package_finder.py\", line 824, in find_all_candidates\n",
      "    page_candidates = list(page_candidates_it)\n",
      "  File \"/usr/local/lib/python3.7/dist-packages/pip/_internal/index/sources.py\", line 134, in page_candidates\n",
      "    yield from self._candidates_from_page(self._link)\n",
      "  File \"/usr/local/lib/python3.7/dist-packages/pip/_internal/index/package_finder.py\", line 787, in process_project_url\n",
      "    page_links = list(parse_links(html_page))\n",
      "  File \"/usr/local/lib/python3.7/dist-packages/pip/_internal/index/collector.py\", line 316, in wrapper_wrapper\n",
      "    return list(fn(page))\n",
      "  File \"/usr/local/lib/python3.7/dist-packages/pip/_internal/index/collector.py\", line 330, in parse_links\n",
      "    namespaceHTMLElements=False,\n",
      "  File \"/usr/local/lib/python3.7/dist-packages/pip/_vendor/html5lib/html5parser.py\", line 46, in parse\n",
      "    return p.parse(doc, **kwargs)\n",
      "  File \"/usr/local/lib/python3.7/dist-packages/pip/_vendor/html5lib/html5parser.py\", line 284, in parse\n",
      "    self._parse(stream, False, None, *args, **kwargs)\n",
      "  File \"/usr/local/lib/python3.7/dist-packages/pip/_vendor/html5lib/html5parser.py\", line 133, in _parse\n",
      "    self.mainLoop()\n",
      "  File \"/usr/local/lib/python3.7/dist-packages/pip/_vendor/html5lib/html5parser.py\", line 204, in mainLoop\n",
      "    for token in self.tokenizer:\n",
      "  File \"/usr/local/lib/python3.7/dist-packages/pip/_vendor/html5lib/_tokenizer.py\", line 65, in __iter__\n",
      "    while self.state():\n",
      "  File \"/usr/local/lib/python3.7/dist-packages/pip/_vendor/html5lib/_tokenizer.py\", line 1012, in attributeValueDoubleQuotedState\n",
      "    self.processEntityInAttribute('\"')\n",
      "  File \"/usr/local/lib/python3.7/dist-packages/pip/_vendor/html5lib/_tokenizer.py\", line 226, in processEntityInAttribute\n",
      "    self.consumeEntity(allowedChar=allowedChar, fromAttribute=True)\n",
      "  File \"/usr/local/lib/python3.7/dist-packages/pip/_vendor/html5lib/_tokenizer.py\", line 180, in consumeEntity\n",
      "    if not entitiesTrie.has_keys_with_prefix(\"\".join(charStack)):\n",
      "  File \"/usr/local/lib/python3.7/dist-packages/pip/_vendor/html5lib/_trie/py.py\", line 58, in has_keys_with_prefix\n",
      "    if prefix.startswith(self._cachestr):\n",
      "KeyboardInterrupt\n",
      "\n",
      "During handling of the above exception, another exception occurred:\n",
      "\n",
      "Traceback (most recent call last):\n",
      "  File \"/usr/local/bin/pip3\", line 8, in <module>\n",
      "    sys.exit(main())\n",
      "  File \"/usr/local/lib/python3.7/dist-packages/pip/_internal/cli/main.py\", line 71, in main\n",
      "    return command.main(cmd_args)\n",
      "  File \"/usr/local/lib/python3.7/dist-packages/pip/_internal/cli/base_command.py\", line 104, in main\n",
      "    return self._main(args)\n",
      "  File \"/usr/local/lib/python3.7/dist-packages/pip/_internal/cli/base_command.py\", line 180, in _main\n",
      "    status = self.run(options, args)\n",
      "KeyboardInterrupt\n",
      "^C\n"
     ]
    }
   ],
   "source": [
    "# install libraries in Colab env\n",
    "!pip install mrcfile\n",
    "!pip install aspire\n",
    "!pip install quaternionic\n",
    "!pip install pykeops[colab] > install.log"
   ]
  },
  {
   "cell_type": "code",
   "execution_count": 1,
   "metadata": {
    "colab": {
     "base_uri": "https://localhost:8080/",
     "height": 487
    },
    "executionInfo": {
     "elapsed": 5188,
     "status": "error",
     "timestamp": 1634295538613,
     "user": {
      "displayName": "Willem Diepeveen",
      "photoUrl": "https://lh3.googleusercontent.com/a/default-user=s64",
      "userId": "07042451899018849244"
     },
     "user_tz": -60
    },
    "id": "QfSQIRPDN-fm",
    "outputId": "1703f3de-b9c6-40eb-827a-e4f5b7f8d33f",
    "pycharm": {
     "is_executing": true
    }
   },
   "outputs": [
    {
     "name": "stdout",
     "output_type": "stream",
     "text": [
      "[pyKeOps]: Warning, no cuda detected. Switching to cpu only.\n"
     ]
    }
   ],
   "source": [
    "import numpy as np\n",
    "import os\n",
    "import logging\n",
    "\n",
    "from projects.lifting_v2.experiments.experimentA1.E1_run import run_experiment\n",
    "from projects.lifting_v2.experiments.experimentA1.E2_post_processing import post_processing\n",
    "\n",
    "from tools.exp_tools import Exp\n",
    "\n",
    "logger = logging.getLogger(__name__)"
   ]
  },
  {
   "cell_type": "code",
   "execution_count": 34,
   "metadata": {
    "executionInfo": {
     "elapsed": 8,
     "status": "aborted",
     "timestamp": 1634295538607,
     "user": {
      "displayName": "Willem Diepeveen",
      "photoUrl": "https://lh3.googleusercontent.com/a/default-user=s64",
      "userId": "07042451899018849244"
     },
     "user_tz": -60
    },
    "id": "S0YYvJ_YN-fn"
   },
   "outputs": [
    {
     "name": "stdout",
     "output_type": "stream",
     "text": [
      "2021-12-14 17:15:50,893 INFO Results folder is /Users/wdiepeveen/Documents/PhD/Projects/2 - Cryo-EM/src/src/Cryo-EM/tools/../results/expA1_21-12-14_17-15-50_L65_N512_r2_k90_lamV10_lamD500\n"
     ]
    }
   ],
   "source": [
    "# Experiment parameters\n",
    "img_size = 65  # was 65 before and was 129 in rotation estimation paper\n",
    "mr_repeat = 2 # number of times mesh refinement\n",
    "snr = 1 / 2  # [1/2, 1/4, 1/8, 1/16, 1/32, 1/64, 1/128, 1/256]\n",
    "num_imgs = 512  # [100, 500, 1000]\n",
    "k = 90\n",
    "kernel_radius = np.pi/k  # radius of kernel\n",
    "volume_reg_param = 1e10\n",
    "rots_density_reg_param = 500\n",
    "rots_batch_size = 8192\n",
    "\n",
    "# Directly start experiment\n",
    "exp = Exp()\n",
    "\n",
    "exp.begin(prefix=\"expA1\" , postfix=\"L{}_N{}_r{}_k{}_lamV{}_lamD{}\".format(img_size,num_imgs,mr_repeat,k,int(np.log(volume_reg_param)/np.log(10)), int(rots_density_reg_param)))\n",
    "exp.dbglevel(4)"
   ]
  },
  {
   "cell_type": "code",
   "execution_count": 31,
   "metadata": {
    "executionInfo": {
     "elapsed": 10,
     "status": "aborted",
     "timestamp": 1634295538610,
     "user": {
      "displayName": "Willem Diepeveen",
      "photoUrl": "https://lh3.googleusercontent.com/a/default-user=s64",
      "userId": "07042451899018849244"
     },
     "user_tz": -60
    },
    "id": "enQMCesTN-fn"
   },
   "outputs": [],
   "source": [
    "# Set data path\n",
    "data_dir = \"data\"\n",
    "data_filename = \"clean70SRibosome_vol_65p.mrc\"\n",
    "data_path = os.path.join(\"..\", \"..\", \"..\", \"..\",data_dir, data_filename)\n",
    "\n",
    "# Set results folder if skip_preprocessing\n",
    "# results_folder = \"results/expA2_21-10-10_12-30-19_L65_N512_r1_k90_lamV10_lamD-8\"\n",
    "# results_folder = \"results/expA2_21-10-10_12-34-53_L65_N512_r2_k90_lamV10_lamD-8\"\n",
    "# results_folder = \"results/expA2_21-10-10_13-08-24_L65_N512_r1_k90_lamV10_lamD-10\"\n",
    "# results_folder = \"results/expA2_21-10-10_13-47-27_L65_N512_r2_k90_lamV10_lamD-10\"  # \"results/lifting_21-04-26_12-22-06\""
   ]
  },
  {
   "cell_type": "code",
   "execution_count": 32,
   "metadata": {
    "executionInfo": {
     "elapsed": 11,
     "status": "aborted",
     "timestamp": 1634295538611,
     "user": {
      "displayName": "Willem Diepeveen",
      "photoUrl": "https://lh3.googleusercontent.com/a/default-user=s64",
      "userId": "07042451899018849244"
     },
     "user_tz": -60
    },
    "id": "_8S3wedaN-fo"
   },
   "outputs": [
    {
     "name": "stdout",
     "output_type": "stream",
     "text": [
      "2021-12-14 16:23:18,174 INFO Start Experiment\n",
      "2021-12-14 16:23:18,176 INFO Running Experiment for SNR = 0.5 and 512 images\n",
      "2021-12-14 16:23:18,177 INFO This experiment illustrates orientation refinement using a lifting approach\n",
      "2021-12-14 16:23:18,179 INFO Initialize simulation object and CTF filters.\n",
      "2021-12-14 16:23:18,180 INFO Load 3D map and downsample 3D map to desired grids of 65 x 65 x 65.\n",
      "2021-12-14 16:23:18,183 INFO Use downsampled map to creat simulation object.\n",
      "2021-12-14 16:23:18,216 INFO Get true rotation angles generated randomly by the simulation object.\n",
      "2021-12-14 16:23:20,447 INFO Applying forward transformations in pipeline\n",
      "2021-12-14 16:23:20,448 INFO All forward transformations applied\n",
      "2021-12-14 16:23:20,448 INFO Loaded 512 images\n",
      "sigma^2 = 2.226038982774033e-10\n",
      "2021-12-14 16:23:22,675 INFO Applying forward transformations in pipeline\n",
      "2021-12-14 16:23:22,676 INFO All forward transformations applied\n",
      "2021-12-14 16:23:22,677 INFO Loaded 512 images\n",
      "2021-12-14 16:23:22,678 INFO Initializing density\n",
      "Start solver\n",
      "2021-12-14 16:23:22,797 INFO Do rots update step\n",
      "2021-12-14 16:23:22,798 INFO Computing F_i(g)\n",
      "2021-12-14 16:23:22,799 INFO Construct F_i(g) with g batch size 8192\n",
      "2021-12-14 16:23:22,802 INFO Running through projections 0/114564 = 0.0%\n",
      "2021-12-14 16:23:38,582 INFO Running through projections 8192/114564 = 7.15%\n",
      "2021-12-14 16:23:54,889 INFO Running through projections 16384/114564 = 14.3%\n",
      "2021-12-14 16:24:12,048 INFO Running through projections 24576/114564 = 21.45%\n",
      "2021-12-14 16:24:30,833 INFO Running through projections 32768/114564 = 28.6%\n",
      "2021-12-14 16:24:48,560 INFO Running through projections 40960/114564 = 35.75%\n",
      "2021-12-14 16:25:05,219 INFO Running through projections 49152/114564 = 42.9%\n",
      "2021-12-14 16:25:21,393 INFO Running through projections 57344/114564 = 50.05%\n",
      "2021-12-14 16:25:37,553 INFO Running through projections 65536/114564 = 57.2%\n",
      "2021-12-14 16:25:53,792 INFO Running through projections 73728/114564 = 64.36%\n",
      "2021-12-14 16:26:09,807 INFO Running through projections 81920/114564 = 71.51%\n",
      "2021-12-14 16:26:25,853 INFO Running through projections 90112/114564 = 78.66%\n",
      "2021-12-14 16:26:41,854 INFO Running through projections 98304/114564 = 85.81%\n",
      "2021-12-14 16:26:57,915 INFO Running through projections 106496/114564 = 92.96%\n",
      "2021-12-14 16:27:21,304 INFO Do vol update step\n",
      "2021-12-14 16:27:21,306 INFO Compute adjoint forward mapping on the images\n",
      "2021-12-14 16:27:21,307 INFO Running through projections 0/114564 = 0.0%\n",
      "2021-12-14 16:27:35,586 INFO Running through projections 8192/114564 = 7.15%\n",
      "2021-12-14 16:27:49,914 INFO Running through projections 16384/114564 = 14.3%\n",
      "2021-12-14 16:28:04,025 INFO Running through projections 24576/114564 = 21.45%\n",
      "2021-12-14 16:28:18,360 INFO Running through projections 32768/114564 = 28.6%\n",
      "2021-12-14 16:28:32,671 INFO Running through projections 40960/114564 = 35.75%\n",
      "2021-12-14 16:28:47,067 INFO Running through projections 49152/114564 = 42.9%\n",
      "2021-12-14 16:29:02,247 INFO Running through projections 57344/114564 = 50.05%\n",
      "2021-12-14 16:29:17,600 INFO Running through projections 65536/114564 = 57.2%\n",
      "2021-12-14 16:29:31,859 INFO Running through projections 73728/114564 = 64.36%\n",
      "2021-12-14 16:29:45,803 INFO Running through projections 81920/114564 = 71.51%\n",
      "2021-12-14 16:29:59,823 INFO Running through projections 90112/114564 = 78.66%\n",
      "2021-12-14 16:30:14,255 INFO Running through projections 98304/114564 = 85.81%\n",
      "2021-12-14 16:30:28,551 INFO Running through projections 106496/114564 = 92.96%\n",
      "2021-12-14 16:30:41,593 INFO Determined adjoint mappings. Shape = (65, 65, 65)\n",
      "2021-12-14 16:30:41,635 INFO Running through projections 0/114564 = 0.0%\n",
      "2021-12-14 16:30:50,565 INFO Running through projections 8192/114564 = 7.15%\n",
      "2021-12-14 16:30:59,412 INFO Running through projections 16384/114564 = 14.3%\n",
      "2021-12-14 16:31:08,239 INFO Running through projections 24576/114564 = 21.45%\n",
      "2021-12-14 16:31:17,043 INFO Running through projections 32768/114564 = 28.6%\n",
      "2021-12-14 16:31:25,851 INFO Running through projections 40960/114564 = 35.75%\n",
      "2021-12-14 16:31:34,661 INFO Running through projections 49152/114564 = 42.9%\n",
      "2021-12-14 16:31:43,909 INFO Running through projections 57344/114564 = 50.05%\n",
      "2021-12-14 16:31:52,897 INFO Running through projections 65536/114564 = 57.2%\n",
      "2021-12-14 16:32:01,776 INFO Running through projections 73728/114564 = 64.36%\n",
      "2021-12-14 16:32:10,740 INFO Running through projections 81920/114564 = 71.51%\n",
      "2021-12-14 16:32:19,735 INFO Running through projections 90112/114564 = 78.66%\n",
      "2021-12-14 16:32:28,657 INFO Running through projections 98304/114564 = 85.81%\n",
      "2021-12-14 16:32:37,576 INFO Running through projections 106496/114564 = 92.96%\n",
      "2021-12-14 16:32:45,406 INFO Computing non-centered Fourier Transform\n",
      "Solver has finished\n"
     ]
    },
    {
     "name": "stderr",
     "output_type": "stream",
     "text": [
      "/Users/wdiepeveen/PycharmProjects/Cryo-EM/lib/python3.6/site-packages/scipy/spatial/transform/rotation.py:135: UserWarning: Gimbal lock detected. Setting third angle to zero since it is not possible to uniquely determine all angles.\n",
      "  warnings.warn(\"Gimbal lock detected. Setting third angle to zero since\"\n"
     ]
    }
   ],
   "source": [
    "# Experiment\n",
    "\n",
    "logger.info(\"Start Experiment\")\n",
    "logger.info(\"Running Experiment for SNR = {} and {} images\".format(snr, num_imgs))\n",
    "\n",
    "run_experiment(exp=exp,\n",
    "               num_imgs=num_imgs,\n",
    "               snr=snr,\n",
    "               img_size=img_size,\n",
    "               kernel_radius=kernel_radius,\n",
    "               mr_repeat=mr_repeat,\n",
    "               volume_reg_param=volume_reg_param,\n",
    "               rots_coeffs_reg_param=rots_density_reg_param,\n",
    "               data_path=data_path\n",
    "               )"
   ]
  },
  {
   "cell_type": "code",
   "execution_count": 33,
   "metadata": {
    "executionInfo": {
     "elapsed": 12,
     "status": "aborted",
     "timestamp": 1634295538612,
     "user": {
      "displayName": "Willem Diepeveen",
      "photoUrl": "https://lh3.googleusercontent.com/a/default-user=s64",
      "userId": "07042451899018849244"
     },
     "user_tz": -60
    },
    "id": "swo0r4ydN-fp"
   },
   "outputs": [
    {
     "name": "stdout",
     "output_type": "stream",
     "text": [
      "2021-12-14 16:32:46,150 INFO Start Postprocessing\n",
      "2021-12-14 16:32:46,152 INFO Postprocessing started\n",
      "2021-12-14 16:32:46,450 INFO Applying forward transformations in pipeline\n",
      "2021-12-14 16:32:46,451 INFO All forward transformations applied\n",
      "2021-12-14 16:32:46,452 INFO Loaded 1 images\n",
      "2021-12-14 16:32:46,510 INFO Applying forward transformations in pipeline\n",
      "2021-12-14 16:32:46,511 INFO All forward transformations applied\n",
      "2021-12-14 16:32:46,512 INFO Loaded 1 images\n",
      "integrated (averaged) density = 0.9999995231628418\n"
     ]
    },
    {
     "data": {
      "image/png": "[encoded data removed]",
      "text/plain": [
       "<Figure size 432x288 with 2 Axes>"
      ]
     },
     "metadata": {
      "needs_background": "light"
     },
     "output_type": "display_data"
    },
    {
     "data": {
      "image/png": "[encoded data removed]",
      "text/plain": [
       "<Figure size 432x288 with 1 Axes>"
      ]
     },
     "metadata": {
      "needs_background": "light"
     },
     "output_type": "display_data"
    }
   ],
   "source": [
    "logger.info(\"Start Postprocessing\")\n",
    "# Postprocessing\n",
    "post_processing(exp=exp,\n",
    "               num_imgs=num_imgs,\n",
    "               snr=snr,\n",
    "              #  results_folder=results_folder #?\n",
    "               )\n"
   ]
  },
  {
   "cell_type": "code",
   "execution_count": null,
   "metadata": {},
   "outputs": [],
   "source": []
  },
  {
   "cell_type": "code",
   "execution_count": null,
   "metadata": {},
   "outputs": [],
   "source": []
  }
 ],
 "metadata": {
  "accelerator": "GPU",
  "colab": {
   "collapsed_sections": [],
   "name": "experiment.ipynb",
   "provenance": []
  },
  "kernelspec": {
   "display_name": "Python 3",
   "language": "python",
   "name": "python3"
  },
  "language_info": {
   "codemirror_mode": {
    "name": "ipython",
    "version": 3
   },
   "file_extension": ".py",
   "mimetype": "text/x-python",
   "name": "python",
   "nbconvert_exporter": "python",
   "pygments_lexer": "ipython3",
   "version": "3.6.12"
  }
 },
 "nbformat": 4,
 "nbformat_minor": 1
}
