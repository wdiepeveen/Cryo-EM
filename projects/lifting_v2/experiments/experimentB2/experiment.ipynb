{
 "cells": [
  {
   "cell_type": "markdown",
   "metadata": {
    "id": "ZacDoHPsOA_4"
   },
   "source": [
    "# **Experiment**: Scaling of the error rates for Algorithm 3.1"
   ]
  },
  {
   "cell_type": "code",
   "execution_count": 5,
   "metadata": {
    "executionInfo": {
     "elapsed": 27633,
     "status": "ok",
     "timestamp": 1633873647916,
     "user": {
      "displayName": "Willem Diepeveen",
      "photoUrl": "https://lh3.googleusercontent.com/a/default-user=s64",
      "userId": "07042451899018849244"
     },
     "user_tz": -60
    },
    "id": "QfSQIRPDN-fm",
    "pycharm": {
     "is_executing": true
    }
   },
   "outputs": [],
   "source": [
    "import numpy as np\n",
    "import os\n",
    "import logging\n",
    "\n",
    "from projects.lifting_v2.experiments.experimentB2.E1_run import run_experiment\n",
    "from projects.lifting_v2.experiments.experimentB2.E2_post_processing import post_processing\n",
    "\n",
    "from tools.exp_tools import Exp\n",
    "\n",
    "logger = logging.getLogger(__name__)"
   ]
  },
  {
   "cell_type": "code",
   "execution_count": 14,
   "metadata": {
    "pycharm": {
     "name": "#%%\n"
    }
   },
   "outputs": [
    {
     "name": "stdout",
     "output_type": "stream",
     "text": [
      "2022-02-18 19:46:50,037 INFO Results folder is /Users/wdiepeveen/Documents/PhD/Projects/2 - Cryo-EM/src/src/Cryo-EM/tools/../results/expB2_22-02-18_19-46-50_SNR16_L129_N2048_lam332_r3\n"
     ]
    }
   ],
   "source": [
    "# Experiment parameters\n",
    "img_size = 129  # was 65 before and was 129 in rotation estimation paper\n",
    "mr_repeat = 3  # [2,1,0] # number of times mesh refinement\n",
    "snr = 1 / 16  # [1/2, 1/4, 1/8, 1/16, 1/32, 1/64, 1/128, 1/256]\n",
    "num_imgs = 2048  # 5000  # [512, 1024, 2048, 4096, 8192]\n",
    "# lambda0 = 1/3000 * img_size**2\n",
    "lambda0 = 1/50 * img_size**2  # works just fine for 16_129\n",
    "\n",
    "max_iter = 1\n",
    "\n",
    "# Directly start experiment\n",
    "exp = Exp()\n",
    "\n",
    "exp.begin(prefix=\"expB2\" , postfix=\"SNR{}_L{}_N{}_lam{}_r{}\".format(int(1/snr),img_size,num_imgs, int(lambda0),mr_repeat))\n",
    "exp.dbglevel(4)"
   ]
  },
  {
   "cell_type": "code",
   "execution_count": 15,
   "metadata": {
    "pycharm": {
     "name": "#%%\n"
    }
   },
   "outputs": [],
   "source": [
    "# Set data path\n",
    "data_dir = \"data\"\n",
    "data_filename = \"clean70SRibosome_vol_65p.mrc\"\n",
    "data_path = os.path.join(\"..\", \"..\", \"..\", \"..\",data_dir, data_filename)\n",
    "\n",
    "# Set results folder if skip_preprocessing\n",
    "results_dir = \"results\"\n",
    "results_folder = \"expB2_22-02-18_14-34-48_SNR16_L129_N2048_lam166_r1\"\n",
    "results_path = os.path.join(\"..\", \"..\", \"..\", \"..\",results_dir,results_folder)"
   ]
  },
  {
   "cell_type": "code",
   "execution_count": null,
   "metadata": {
    "colab": {
     "base_uri": "https://localhost:8080/"
    },
    "executionInfo": {
     "elapsed": 403,
     "status": "ok",
     "timestamp": 1633873648310,
     "user": {
      "displayName": "Willem Diepeveen",
      "photoUrl": "https://lh3.googleusercontent.com/a/default-user=s64",
      "userId": "07042451899018849244"
     },
     "user_tz": -60
    },
    "id": "S0YYvJ_YN-fn",
    "outputId": "1de71b43-a15c-47a5-de2d-6596d3169faf"
   },
   "outputs": [
    {
     "name": "stdout",
     "output_type": "stream",
     "text": [
      "2022-02-18 19:46:51,454 INFO Start Experiment\n",
      "2022-02-18 19:46:51,456 INFO Running Experiment for SNR = 0.0625 and 2048 images\n",
      "2022-02-18 19:46:51,456 INFO This experiment illustrates orientation refinement using a lifting approach\n",
      "2022-02-18 19:46:51,458 INFO Initialize simulation object and CTF filters.\n",
      "2022-02-18 19:46:51,464 INFO Load 3D map and downsample 3D map to desired grids of 129 x 129 x 129.\n",
      "2022-02-18 19:46:52,227 INFO Use downsampled map to creat simulation object.\n",
      "2022-02-18 19:46:52,320 INFO Get true rotation angles generated randomly by the simulation object.\n",
      "2022-02-18 19:47:23,520 INFO Applying forward transformations in pipeline\n",
      "2022-02-18 19:47:23,522 INFO All forward transformations applied\n",
      "2022-02-18 19:47:23,523 INFO Loaded 2048 images\n",
      "sigma = 7.399698631579852e-07\n",
      "tau = 0.010386937776030088\n",
      "2022-02-18 19:47:54,256 INFO Applying forward transformations in pipeline\n",
      "2022-02-18 19:47:54,257 INFO All forward transformations applied\n",
      "2022-02-18 19:47:54,258 INFO Loaded 2048 images\n",
      "2022-02-18 19:47:54,260 INFO Initializing density\n",
      "Initializing solver\n",
      "2022-02-18 19:48:18,945 INFO Update data_discrepancies\n",
      "2022-02-18 19:48:18,947 INFO Computing \\|Ag.u - f_i\\|^2\n",
      "2022-02-18 19:48:19,329 INFO Running through projections 0/860069 = 0.0%\n",
      "2022-02-18 19:52:40,115 INFO Running through projections 8192/860069 = 0.95%\n",
      "2022-02-18 19:57:01,963 INFO Running through projections 16384/860069 = 1.9%\n",
      "2022-02-18 20:01:26,938 INFO Running through projections 24576/860069 = 2.86%\n",
      "2022-02-18 20:05:42,248 INFO Running through projections 32768/860069 = 3.81%\n",
      "2022-02-18 20:09:56,192 INFO Running through projections 40960/860069 = 4.76%\n",
      "2022-02-18 20:14:14,777 INFO Running through projections 49152/860069 = 5.71%\n",
      "2022-02-18 20:18:27,674 INFO Running through projections 57344/860069 = 6.67%\n",
      "2022-02-18 20:22:39,065 INFO Running through projections 65536/860069 = 7.62%\n",
      "2022-02-18 20:26:55,514 INFO Running through projections 73728/860069 = 8.57%\n",
      "2022-02-18 20:31:25,400 INFO Running through projections 81920/860069 = 9.52%\n",
      "2022-02-18 20:35:53,885 INFO Running through projections 90112/860069 = 10.48%\n",
      "2022-02-18 20:40:07,598 INFO Running through projections 98304/860069 = 11.43%\n",
      "2022-02-18 20:44:26,899 INFO Running through projections 106496/860069 = 12.38%\n",
      "2022-02-18 20:48:56,992 INFO Running through projections 114688/860069 = 13.33%\n",
      "2022-02-18 20:53:38,500 INFO Running through projections 122880/860069 = 14.29%\n",
      "2022-02-18 20:58:13,876 INFO Running through projections 131072/860069 = 15.24%\n",
      "2022-02-18 21:02:34,608 INFO Running through projections 139264/860069 = 16.19%\n",
      "2022-02-18 21:06:48,682 INFO Running through projections 147456/860069 = 17.14%\n",
      "2022-02-18 21:11:10,900 INFO Running through projections 155648/860069 = 18.1%\n",
      "2022-02-18 21:15:26,064 INFO Running through projections 163840/860069 = 19.05%\n",
      "2022-02-18 21:19:41,471 INFO Running through projections 172032/860069 = 20.0%\n",
      "2022-02-18 21:23:56,313 INFO Running through projections 180224/860069 = 20.95%\n",
      "2022-02-18 21:28:09,481 INFO Running through projections 188416/860069 = 21.91%\n",
      "2022-02-18 21:32:25,502 INFO Running through projections 196608/860069 = 22.86%\n",
      "2022-02-18 21:36:40,240 INFO Running through projections 204800/860069 = 23.81%\n",
      "2022-02-18 21:40:58,449 INFO Running through projections 212992/860069 = 24.76%\n",
      "2022-02-18 21:45:12,807 INFO Running through projections 221184/860069 = 25.72%\n",
      "2022-02-18 21:49:33,912 INFO Running through projections 229376/860069 = 26.67%\n",
      "2022-02-18 21:53:48,176 INFO Running through projections 237568/860069 = 27.62%\n",
      "2022-02-18 21:58:02,564 INFO Running through projections 245760/860069 = 28.57%\n",
      "2022-02-18 22:02:18,439 INFO Running through projections 253952/860069 = 29.53%\n",
      "2022-02-18 22:06:31,899 INFO Running through projections 262144/860069 = 30.48%\n",
      "2022-02-18 22:10:48,568 INFO Running through projections 270336/860069 = 31.43%\n",
      "2022-02-18 22:15:03,181 INFO Running through projections 278528/860069 = 32.38%\n",
      "2022-02-18 22:19:16,097 INFO Running through projections 286720/860069 = 33.34%\n",
      "2022-02-18 22:23:34,204 INFO Running through projections 294912/860069 = 34.29%\n",
      "2022-02-18 22:28:05,157 INFO Running through projections 303104/860069 = 35.24%\n",
      "2022-02-18 22:32:23,540 INFO Running through projections 311296/860069 = 36.19%\n",
      "2022-02-18 22:36:36,639 INFO Running through projections 319488/860069 = 37.15%\n",
      "2022-02-18 22:40:50,532 INFO Running through projections 327680/860069 = 38.1%\n",
      "2022-02-18 22:45:06,022 INFO Running through projections 335872/860069 = 39.05%\n",
      "2022-02-18 22:49:22,622 INFO Running through projections 344064/860069 = 40.0%\n",
      "2022-02-18 22:53:37,415 INFO Running through projections 352256/860069 = 40.96%\n",
      "2022-02-18 22:57:52,163 INFO Running through projections 360448/860069 = 41.91%\n",
      "2022-02-18 23:02:12,839 INFO Running through projections 368640/860069 = 42.86%\n",
      "2022-02-18 23:06:27,949 INFO Running through projections 376832/860069 = 43.81%\n",
      "2022-02-18 23:10:42,330 INFO Running through projections 385024/860069 = 44.77%\n",
      "2022-02-18 23:14:57,591 INFO Running through projections 393216/860069 = 45.72%\n",
      "2022-02-18 23:19:11,700 INFO Running through projections 401408/860069 = 46.67%\n",
      "2022-02-18 23:23:25,316 INFO Running through projections 409600/860069 = 47.62%\n",
      "2022-02-18 23:27:41,310 INFO Running through projections 417792/860069 = 48.58%\n",
      "2022-02-18 23:31:56,557 INFO Running through projections 425984/860069 = 49.53%\n",
      "2022-02-18 23:36:16,040 INFO Running through projections 434176/860069 = 50.48%\n",
      "2022-02-18 23:40:34,323 INFO Running through projections 442368/860069 = 51.43%\n",
      "2022-02-18 23:44:47,491 INFO Running through projections 450560/860069 = 52.39%\n",
      "2022-02-18 23:48:51,754 INFO Running through projections 458752/860069 = 53.34%\n",
      "2022-02-18 23:53:02,706 INFO Running through projections 466944/860069 = 54.29%\n",
      "2022-02-18 23:57:19,685 INFO Running through projections 475136/860069 = 55.24%\n",
      "2022-02-19 00:01:33,704 INFO Running through projections 483328/860069 = 56.2%\n",
      "2022-02-19 00:05:49,660 INFO Running through projections 491520/860069 = 57.15%\n",
      "2022-02-19 00:10:09,032 INFO Running through projections 499712/860069 = 58.1%\n",
      "2022-02-19 00:14:22,872 INFO Running through projections 507904/860069 = 59.05%\n",
      "2022-02-19 00:18:37,412 INFO Running through projections 516096/860069 = 60.01%\n",
      "2022-02-19 00:22:51,462 INFO Running through projections 524288/860069 = 60.96%\n",
      "2022-02-19 00:27:10,288 INFO Running through projections 532480/860069 = 61.91%\n",
      "2022-02-19 00:31:24,699 INFO Running through projections 540672/860069 = 62.86%\n",
      "2022-02-19 00:35:36,111 INFO Running through projections 548864/860069 = 63.82%\n",
      "2022-02-19 00:39:48,562 INFO Running through projections 557056/860069 = 64.77%\n",
      "2022-02-19 00:44:04,114 INFO Running through projections 565248/860069 = 65.72%\n",
      "2022-02-19 00:48:16,448 INFO Running through projections 573440/860069 = 66.67%\n",
      "2022-02-19 00:52:30,375 INFO Running through projections 581632/860069 = 67.63%\n",
      "2022-02-19 00:56:50,097 INFO Running through projections 589824/860069 = 68.58%\n",
      "2022-02-19 01:01:12,425 INFO Running through projections 598016/860069 = 69.53%\n",
      "2022-02-19 01:05:28,525 INFO Running through projections 606208/860069 = 70.48%\n",
      "2022-02-19 01:09:42,311 INFO Running through projections 614400/860069 = 71.44%\n",
      "2022-02-19 01:13:56,578 INFO Running through projections 622592/860069 = 72.39%\n",
      "2022-02-19 01:18:09,317 INFO Running through projections 630784/860069 = 73.34%\n",
      "2022-02-19 01:22:24,082 INFO Running through projections 638976/860069 = 74.29%\n",
      "2022-02-19 01:26:38,695 INFO Running through projections 647168/860069 = 75.25%\n",
      "2022-02-19 01:30:53,150 INFO Running through projections 655360/860069 = 76.2%\n",
      "2022-02-19 01:35:08,966 INFO Running through projections 663552/860069 = 77.15%\n",
      "2022-02-19 01:39:22,391 INFO Running through projections 671744/860069 = 78.1%\n",
      "2022-02-19 01:43:35,408 INFO Running through projections 679936/860069 = 79.06%\n",
      "2022-02-19 01:47:49,072 INFO Running through projections 688128/860069 = 80.01%\n",
      "2022-02-19 01:52:01,832 INFO Running through projections 696320/860069 = 80.96%\n",
      "2022-02-19 01:56:16,123 INFO Running through projections 704512/860069 = 81.91%\n",
      "2022-02-19 02:00:27,809 INFO Running through projections 712704/860069 = 82.87%\n"
     ]
    },
    {
     "name": "stdout",
     "output_type": "stream",
     "text": [
      "2022-02-19 02:04:47,813 INFO Running through projections 720896/860069 = 83.82%\n",
      "2022-02-19 02:09:01,400 INFO Running through projections 729088/860069 = 84.77%\n",
      "2022-02-19 02:13:16,682 INFO Running through projections 737280/860069 = 85.72%\n",
      "2022-02-19 02:17:31,061 INFO Running through projections 745472/860069 = 86.68%\n",
      "2022-02-19 02:21:48,407 INFO Running through projections 753664/860069 = 87.63%\n",
      "2022-02-19 02:26:02,086 INFO Running through projections 761856/860069 = 88.58%\n",
      "2022-02-19 02:30:15,163 INFO Running through projections 770048/860069 = 89.53%\n",
      "2022-02-19 02:34:29,827 INFO Running through projections 778240/860069 = 90.49%\n",
      "2022-02-19 02:38:43,465 INFO Running through projections 786432/860069 = 91.44%\n",
      "2022-02-19 02:42:59,399 INFO Running through projections 794624/860069 = 92.39%\n",
      "2022-02-19 02:47:14,548 INFO Running through projections 802816/860069 = 93.34%\n",
      "2022-02-19 02:51:37,113 INFO Running through projections 811008/860069 = 94.3%\n",
      "2022-02-19 02:55:50,971 INFO Running through projections 819200/860069 = 95.25%\n",
      "2022-02-19 03:00:05,906 INFO Running through projections 827392/860069 = 96.2%\n",
      "2022-02-19 03:04:29,903 INFO Running through projections 835584/860069 = 97.15%\n",
      "2022-02-19 03:08:42,024 INFO Running through projections 843776/860069 = 98.11%\n",
      "2022-02-19 03:13:06,432 INFO Running through projections 851968/860069 = 99.06%\n",
      "Start solver\n",
      "========================= Iteration 1 =========================\n",
      "2022-02-19 03:24:22,245 INFO Do rots update step\n"
     ]
    }
   ],
   "source": [
    "# Experiment\n",
    "\n",
    "logger.info(\"Start Experiment\")\n",
    "logger.info(\"Running Experiment for SNR = {} and {} images\".format(snr, num_imgs))\n",
    "\n",
    "# TODO run experiment for repeat in mr_repeat\n",
    "run_experiment(exp=exp,\n",
    "               max_iter=1,\n",
    "               num_imgs=num_imgs,\n",
    "               snr=snr,\n",
    "               img_size=img_size,\n",
    "               mr_repeat=mr_repeat,\n",
    "               rots_reg_param=lambda0,\n",
    "               data_path=data_path,\n",
    "               )"
   ]
  },
  {
   "cell_type": "code",
   "execution_count": null,
   "metadata": {
    "colab": {
     "base_uri": "https://localhost:8080/",
     "height": 655
    },
    "executionInfo": {
     "elapsed": 10572,
     "status": "ok",
     "timestamp": 1633875431270,
     "user": {
      "displayName": "Willem Diepeveen",
      "photoUrl": "https://lh3.googleusercontent.com/a/default-user=s64",
      "userId": "07042451899018849244"
     },
     "user_tz": -60
    },
    "id": "swo0r4ydN-fp",
    "outputId": "68390906-487d-403e-fa3f-a5dda11695cc",
    "pycharm": {
     "name": "#%%\n"
    }
   },
   "outputs": [],
   "source": [
    "logger.info(\"Start Postprocessing\")\n",
    "# Postprocessing\n",
    "post_processing(exp=exp,\n",
    "                mr_repeat=mr_repeat,\n",
    "                hist_range=20,\n",
    "#                 results_folder=results_path #?\n",
    "               )\n",
    "\n"
   ]
  },
  {
   "cell_type": "code",
   "execution_count": null,
   "metadata": {},
   "outputs": [],
   "source": []
  },
  {
   "cell_type": "code",
   "execution_count": null,
   "metadata": {},
   "outputs": [],
   "source": []
  }
 ],
 "metadata": {
  "accelerator": "GPU",
  "colab": {
   "collapsed_sections": [],
   "name": "experiment.ipynb",
   "provenance": []
  },
  "kernelspec": {
   "display_name": "Python 3",
   "language": "python",
   "name": "python3"
  },
  "language_info": {
   "codemirror_mode": {
    "name": "ipython",
    "version": 3
   },
   "file_extension": ".py",
   "mimetype": "text/x-python",
   "name": "python",
   "nbconvert_exporter": "python",
   "pygments_lexer": "ipython3",
   "version": "3.6.12"
  }
 },
 "nbformat": 4,
 "nbformat_minor": 1
}
