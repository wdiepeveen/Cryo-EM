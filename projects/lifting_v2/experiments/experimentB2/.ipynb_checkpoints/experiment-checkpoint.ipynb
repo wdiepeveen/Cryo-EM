{
 "cells": [
  {
   "cell_type": "markdown",
   "metadata": {
    "id": "ZacDoHPsOA_4"
   },
   "source": [
    "# **Experiment**: Scaling of the error rates for Algorithm 3.1"
   ]
  },
  {
   "cell_type": "code",
   "execution_count": 1,
   "metadata": {
    "executionInfo": {
     "elapsed": 27633,
     "status": "ok",
     "timestamp": 1633873647916,
     "user": {
      "displayName": "Willem Diepeveen",
      "photoUrl": "https://lh3.googleusercontent.com/a/default-user=s64",
      "userId": "07042451899018849244"
     },
     "user_tz": -60
    },
    "id": "QfSQIRPDN-fm",
    "pycharm": {
     "is_executing": true
    }
   },
   "outputs": [],
   "source": [
    "import numpy as np\n",
    "import os\n",
    "import logging\n",
    "\n",
    "from projects.lifting_v2.experiments.experimentB2.E1_run import run_experiment\n",
    "from projects.lifting_v2.experiments.experimentB2.E2_post_processing import post_processing\n",
    "\n",
    "from tools.exp_tools import Exp\n",
    "\n",
    "logger = logging.getLogger(__name__)"
   ]
  },
  {
   "cell_type": "code",
   "execution_count": 2,
   "metadata": {
    "pycharm": {
     "name": "#%%\n"
    }
   },
   "outputs": [
    {
     "name": "stdout",
     "output_type": "stream",
     "text": [
      "2022-02-23 15:28:36,468 INFO Results folder is /Users/wdiepeveen/Documents/PhD/Projects/2 - Cryo-EM/src/src/Cryo-EM/tools/../results/expB2_22-02-23_15-28-36_SNR16_L129_N2048_lam300_r1\n"
     ]
    }
   ],
   "source": [
    "# Experiment parameters\n",
    "img_size = 129  # was 65 before and was 129 in rotation estimation paper\n",
    "mr_repeat = 1  # [2,1,0] # number of times mesh refinement\n",
    "snr = 1 / 16  # [1/2, 1/4, 1/8, 1/16, 1/32, 1/64, 1/128, 1/256]\n",
    "num_imgs =  2048  # [512, 1024, 2048, 4096, 8192]\n",
    "# lambda0 = 1/3000 * img_size**2\n",
    "lambda0 =  300  # 1/50 * img_size**2  # works just fine for 16_129\n",
    "\n",
    "max_iter = 1\n",
    "\n",
    "# Directly start experiment\n",
    "exp = Exp()\n",
    "\n",
    "exp.begin(prefix=\"expB2\" , postfix=\"SNR{}_L{}_N{}_lam{}_r{}\".format(int(1/snr),img_size,num_imgs, int(lambda0),mr_repeat))\n",
    "exp.dbglevel(4)"
   ]
  },
  {
   "cell_type": "code",
   "execution_count": 3,
   "metadata": {
    "pycharm": {
     "name": "#%%\n"
    }
   },
   "outputs": [],
   "source": [
    "# Set data path\n",
    "data_dir = \"data\"\n",
    "data_filename = \"clean70SRibosome_vol_65p.mrc\"\n",
    "data_path = os.path.join(\"..\", \"..\", \"..\", \"..\",data_dir, data_filename)\n",
    "\n",
    "# Set results folder if skip_preprocessing\n",
    "results_dir = \"results\"\n",
    "results_folder = \"expB2_22-02-18_14-34-48_SNR16_L129_N2048_lam166_r1\"\n",
    "results_path = os.path.join(\"..\", \"..\", \"..\", \"..\",results_dir,results_folder)"
   ]
  },
  {
   "cell_type": "code",
   "execution_count": 4,
   "metadata": {
    "colab": {
     "base_uri": "https://localhost:8080/"
    },
    "executionInfo": {
     "elapsed": 403,
     "status": "ok",
     "timestamp": 1633873648310,
     "user": {
      "displayName": "Willem Diepeveen",
      "photoUrl": "https://lh3.googleusercontent.com/a/default-user=s64",
      "userId": "07042451899018849244"
     },
     "user_tz": -60
    },
    "id": "S0YYvJ_YN-fn",
    "outputId": "1de71b43-a15c-47a5-de2d-6596d3169faf"
   },
   "outputs": [
    {
     "name": "stdout",
     "output_type": "stream",
     "text": [
      "2022-02-23 15:28:36,485 INFO Start Experiment\n",
      "2022-02-23 15:28:36,487 INFO Running Experiment for SNR = 0.0625 and 2048 images\n",
      "2022-02-23 15:28:36,489 INFO This experiment illustrates orientation refinement using a lifting approach\n",
      "2022-02-23 15:28:36,490 INFO Initialize simulation object and CTF filters.\n",
      "2022-02-23 15:28:36,491 INFO Load 3D map and downsample 3D map to desired grids of 129 x 129 x 129.\n",
      "2022-02-23 15:28:37,237 INFO Use downsampled map to creat simulation object.\n",
      "2022-02-23 15:28:37,267 INFO Get true rotation angles generated randomly by the simulation object.\n",
      "2022-02-23 15:28:40,492 INFO Trying NFFT backend finufft\n",
      "2022-02-23 15:28:40,522 INFO NFFT backend finufft usable.\n",
      "2022-02-23 15:28:40,523 INFO Trying NFFT backend cufinufft\n",
      "2022-02-23 15:28:40,527 INFO NFFT backend cufinufft not usable:\n",
      "\tNo module named 'pycuda'\n",
      "2022-02-23 15:28:40,528 INFO Trying NFFT backend pynfft\n",
      "2022-02-23 15:28:40,531 INFO NFFT backend pynfft not usable:\n",
      "\tNo module named 'pynfft'\n",
      "2022-02-23 15:28:40,532 INFO Selected NFFT backend = finufft.\n",
      "2022-02-23 15:29:08,028 INFO Applying forward transformations in pipeline\n",
      "2022-02-23 15:29:08,029 INFO All forward transformations applied\n",
      "2022-02-23 15:29:08,030 INFO Loaded 2048 images\n",
      "sigma = 7.399698631579852e-07\n",
      "tau = 0.010386937776030088\n",
      "2022-02-23 15:29:38,230 INFO Applying forward transformations in pipeline\n",
      "2022-02-23 15:29:38,232 INFO All forward transformations applied\n",
      "2022-02-23 15:29:38,232 INFO Loaded 2048 images\n",
      "2022-02-23 15:29:38,233 INFO Initializing density\n",
      "Initializing solver\n",
      "2022-02-23 15:29:38,353 INFO Update data_discrepancies\n",
      "2022-02-23 15:29:38,354 INFO Computing \\|Ag.u - f_i\\|^2\n",
      "2022-02-23 15:29:38,511 INFO Computing data fidelity at 6%\n",
      "2022-02-23 15:30:09,098 INFO Computing data fidelity at 13%\n",
      "2022-02-23 15:30:39,012 INFO Computing data fidelity at 20%\n",
      "2022-02-23 15:31:08,712 INFO Computing data fidelity at 27%\n",
      "2022-02-23 15:31:37,860 INFO Computing data fidelity at 34%\n",
      "2022-02-23 15:32:08,272 INFO Computing data fidelity at 41%\n",
      "2022-02-23 15:32:41,001 INFO Computing data fidelity at 48%\n",
      "2022-02-23 15:33:16,102 INFO Computing data fidelity at 55%\n",
      "2022-02-23 15:33:50,119 INFO Computing data fidelity at 62%\n",
      "2022-02-23 15:34:23,911 INFO Computing data fidelity at 69%\n",
      "2022-02-23 15:34:55,968 INFO Computing data fidelity at 76%\n",
      "2022-02-23 15:35:27,794 INFO Computing data fidelity at 83%\n",
      "2022-02-23 15:35:58,826 INFO Computing data fidelity at 90%\n",
      "2022-02-23 15:36:30,657 INFO Computing data fidelity at 97%\n",
      "2022-02-23 15:37:00,381 INFO Computing data fidelity at 100%\n",
      "Start solver\n",
      "========================= Iteration 1 =========================\n",
      "2022-02-23 15:37:12,518 INFO Do rots update step\n",
      "2022-02-23 15:37:12,629 INFO Projecting 2048 vectors onto simplex at 2%\n",
      "2022-02-23 15:37:12,707 INFO Projecting 2048 vectors onto simplex at 4%\n",
      "2022-02-23 15:37:12,780 INFO Projecting 2048 vectors onto simplex at 7%\n",
      "2022-02-23 15:37:12,854 INFO Projecting 2048 vectors onto simplex at 9%\n",
      "2022-02-23 15:37:12,927 INFO Projecting 2048 vectors onto simplex at 12%\n",
      "2022-02-23 15:37:13,002 INFO Projecting 2048 vectors onto simplex at 14%\n",
      "2022-02-23 15:37:13,075 INFO Projecting 2048 vectors onto simplex at 17%\n",
      "2022-02-23 15:37:13,149 INFO Projecting 2048 vectors onto simplex at 19%\n",
      "2022-02-23 15:37:13,222 INFO Projecting 2048 vectors onto simplex at 21%\n",
      "2022-02-23 15:37:13,295 INFO Projecting 2048 vectors onto simplex at 24%\n",
      "2022-02-23 15:37:13,395 INFO Projecting 2048 vectors onto simplex at 26%\n",
      "2022-02-23 15:37:13,468 INFO Projecting 2048 vectors onto simplex at 29%\n",
      "2022-02-23 15:37:13,542 INFO Projecting 2048 vectors onto simplex at 31%\n",
      "2022-02-23 15:37:13,615 INFO Projecting 2048 vectors onto simplex at 34%\n",
      "2022-02-23 15:37:13,688 INFO Projecting 2048 vectors onto simplex at 36%\n",
      "2022-02-23 15:37:13,761 INFO Projecting 2048 vectors onto simplex at 39%\n",
      "2022-02-23 15:37:13,837 INFO Projecting 2048 vectors onto simplex at 41%\n",
      "2022-02-23 15:37:13,910 INFO Projecting 2048 vectors onto simplex at 43%\n",
      "2022-02-23 15:37:13,984 INFO Projecting 2048 vectors onto simplex at 46%\n",
      "2022-02-23 15:37:14,058 INFO Projecting 2048 vectors onto simplex at 48%\n",
      "2022-02-23 15:37:14,158 INFO Projecting 2048 vectors onto simplex at 51%\n",
      "2022-02-23 15:37:14,232 INFO Projecting 2048 vectors onto simplex at 53%\n",
      "2022-02-23 15:37:14,305 INFO Projecting 2048 vectors onto simplex at 56%\n",
      "2022-02-23 15:37:14,378 INFO Projecting 2048 vectors onto simplex at 58%\n",
      "2022-02-23 15:37:14,453 INFO Projecting 2048 vectors onto simplex at 61%\n",
      "2022-02-23 15:37:14,526 INFO Projecting 2048 vectors onto simplex at 63%\n",
      "2022-02-23 15:37:14,599 INFO Projecting 2048 vectors onto simplex at 65%\n",
      "2022-02-23 15:37:14,672 INFO Projecting 2048 vectors onto simplex at 68%\n",
      "2022-02-23 15:37:14,745 INFO Projecting 2048 vectors onto simplex at 70%\n",
      "2022-02-23 15:37:14,819 INFO Projecting 2048 vectors onto simplex at 73%\n",
      "2022-02-23 15:37:14,918 INFO Projecting 2048 vectors onto simplex at 75%\n",
      "2022-02-23 15:37:14,992 INFO Projecting 2048 vectors onto simplex at 78%\n",
      "2022-02-23 15:37:15,067 INFO Projecting 2048 vectors onto simplex at 80%\n",
      "2022-02-23 15:37:15,142 INFO Projecting 2048 vectors onto simplex at 83%\n",
      "2022-02-23 15:37:15,216 INFO Projecting 2048 vectors onto simplex at 85%\n",
      "2022-02-23 15:37:15,289 INFO Projecting 2048 vectors onto simplex at 87%\n",
      "2022-02-23 15:37:15,364 INFO Projecting 2048 vectors onto simplex at 90%\n",
      "2022-02-23 15:37:15,437 INFO Projecting 2048 vectors onto simplex at 92%\n",
      "2022-02-23 15:37:15,510 INFO Projecting 2048 vectors onto simplex at 95%\n",
      "2022-02-23 15:37:15,583 INFO Projecting 2048 vectors onto simplex at 97%\n",
      "2022-02-23 15:37:15,654 INFO Projecting 2048 vectors onto simplex at 100%\n",
      "Solver has finished\n",
      "Initializing solver\n",
      "2022-02-23 15:37:17,347 INFO Initialize solver\n",
      "Start solver\n",
      "========================= Iteration 1 =========================\n",
      "493\n",
      "2022-02-23 15:37:17,530 INFO Computing 50 means of 493 points in at most 20 steps...\n",
      "2022-02-23 15:37:17,607 INFO Computing means at 2%\n",
      "463\n",
      "2022-02-23 15:37:17,619 INFO Computing 50 means of 463 points in at most 20 steps...\n",
      "2022-02-23 15:37:17,689 INFO Computing means at 4%\n",
      "444\n",
      "2022-02-23 15:37:17,699 INFO Computing 50 means of 444 points in at most 20 steps...\n",
      "2022-02-23 15:37:17,772 INFO Computing means at 7%\n",
      "483\n",
      "2022-02-23 15:37:17,782 INFO Computing 50 means of 483 points in at most 20 steps...\n",
      "2022-02-23 15:37:17,864 INFO Computing means at 9%\n",
      "477\n",
      "2022-02-23 15:37:17,877 INFO Computing 50 means of 477 points in at most 20 steps...\n",
      "2022-02-23 15:37:17,964 INFO Computing means at 12%\n",
      "495\n",
      "2022-02-23 15:37:17,975 INFO Computing 50 means of 495 points in at most 20 steps...\n",
      "2022-02-23 15:37:18,042 INFO Computing means at 14%\n",
      "489\n",
      "2022-02-23 15:37:18,052 INFO Computing 50 means of 489 points in at most 20 steps...\n",
      "2022-02-23 15:37:18,114 INFO Computing means at 17%\n",
      "476\n",
      "2022-02-23 15:37:18,124 INFO Computing 50 means of 476 points in at most 20 steps...\n",
      "2022-02-23 15:37:18,187 INFO Computing means at 19%\n",
      "506\n",
      "2022-02-23 15:37:18,197 INFO Computing 50 means of 506 points in at most 20 steps...\n",
      "2022-02-23 15:37:18,267 INFO Computing means at 21%\n",
      "498\n",
      "2022-02-23 15:37:18,276 INFO Computing 50 means of 498 points in at most 20 steps...\n",
      "2022-02-23 15:37:18,348 INFO Computing means at 24%\n",
      "471\n",
      "2022-02-23 15:37:18,358 INFO Computing 50 means of 471 points in at most 20 steps...\n",
      "2022-02-23 15:37:18,428 INFO Computing means at 26%\n",
      "449\n",
      "2022-02-23 15:37:18,438 INFO Computing 50 means of 449 points in at most 20 steps...\n",
      "2022-02-23 15:37:18,498 INFO Computing means at 29%\n",
      "500\n",
      "2022-02-23 15:37:18,508 INFO Computing 50 means of 500 points in at most 20 steps...\n",
      "2022-02-23 15:37:18,573 INFO Computing means at 31%\n",
      "499\n",
      "2022-02-23 15:37:18,582 INFO Computing 50 means of 499 points in at most 20 steps...\n",
      "2022-02-23 15:37:18,654 INFO Computing means at 34%\n",
      "470\n",
      "2022-02-23 15:37:18,664 INFO Computing 50 means of 470 points in at most 20 steps...\n",
      "2022-02-23 15:37:18,728 INFO Computing means at 36%\n",
      "519\n",
      "2022-02-23 15:37:18,738 INFO Computing 50 means of 519 points in at most 20 steps...\n",
      "2022-02-23 15:37:18,806 INFO Computing means at 39%\n",
      "479\n",
      "2022-02-23 15:37:18,817 INFO Computing 50 means of 479 points in at most 20 steps...\n",
      "2022-02-23 15:37:18,889 INFO Computing means at 41%\n"
     ]
    },
    {
     "name": "stdout",
     "output_type": "stream",
     "text": [
      "452\n",
      "2022-02-23 15:37:18,900 INFO Computing 50 means of 452 points in at most 20 steps...\n",
      "2022-02-23 15:37:18,968 INFO Computing means at 43%\n",
      "452\n",
      "2022-02-23 15:37:18,979 INFO Computing 50 means of 452 points in at most 20 steps...\n",
      "2022-02-23 15:37:19,043 INFO Computing means at 46%\n",
      "474\n",
      "2022-02-23 15:37:19,054 INFO Computing 50 means of 474 points in at most 20 steps...\n",
      "2022-02-23 15:37:19,131 INFO Computing means at 48%\n",
      "476\n",
      "2022-02-23 15:37:19,144 INFO Computing 50 means of 476 points in at most 20 steps...\n",
      "2022-02-23 15:37:19,220 INFO Computing means at 51%\n",
      "466\n",
      "2022-02-23 15:37:19,230 INFO Computing 50 means of 466 points in at most 20 steps...\n",
      "2022-02-23 15:37:19,293 INFO Computing means at 53%\n",
      "483\n",
      "2022-02-23 15:37:19,304 INFO Computing 50 means of 483 points in at most 20 steps...\n",
      "2022-02-23 15:37:19,367 INFO Computing means at 56%\n",
      "461\n",
      "2022-02-23 15:37:19,379 INFO Computing 50 means of 461 points in at most 20 steps...\n",
      "2022-02-23 15:37:19,445 INFO Computing means at 58%\n",
      "474\n",
      "2022-02-23 15:37:19,455 INFO Computing 50 means of 474 points in at most 20 steps...\n",
      "2022-02-23 15:37:19,521 INFO Computing means at 61%\n",
      "487\n",
      "2022-02-23 15:37:19,532 INFO Computing 50 means of 487 points in at most 20 steps...\n",
      "2022-02-23 15:37:19,598 INFO Computing means at 63%\n",
      "474\n",
      "2022-02-23 15:37:19,608 INFO Computing 50 means of 474 points in at most 20 steps...\n",
      "2022-02-23 15:37:19,677 INFO Computing means at 65%\n",
      "492\n",
      "2022-02-23 15:37:19,689 INFO Computing 50 means of 492 points in at most 20 steps...\n",
      "2022-02-23 15:37:19,758 INFO Computing means at 68%\n",
      "479\n",
      "2022-02-23 15:37:19,769 INFO Computing 50 means of 479 points in at most 20 steps...\n",
      "2022-02-23 15:37:19,838 INFO Computing means at 70%\n",
      "468\n",
      "2022-02-23 15:37:19,848 INFO Computing 50 means of 468 points in at most 20 steps...\n",
      "2022-02-23 15:37:19,922 INFO Computing means at 73%\n",
      "472\n",
      "2022-02-23 15:37:19,934 INFO Computing 50 means of 472 points in at most 20 steps...\n",
      "2022-02-23 15:37:20,014 INFO Computing means at 75%\n",
      "463\n",
      "2022-02-23 15:37:20,025 INFO Computing 50 means of 463 points in at most 20 steps...\n",
      "2022-02-23 15:37:20,104 INFO Computing means at 78%\n",
      "488\n",
      "2022-02-23 15:37:20,115 INFO Computing 50 means of 488 points in at most 20 steps...\n",
      "2022-02-23 15:37:20,196 INFO Computing means at 80%\n",
      "486\n",
      "2022-02-23 15:37:20,206 INFO Computing 50 means of 486 points in at most 20 steps...\n",
      "2022-02-23 15:37:20,282 INFO Computing means at 83%\n",
      "475\n",
      "2022-02-23 15:37:20,293 INFO Computing 50 means of 475 points in at most 20 steps...\n",
      "2022-02-23 15:37:20,366 INFO Computing means at 85%\n",
      "489\n",
      "2022-02-23 15:37:20,377 INFO Computing 50 means of 489 points in at most 20 steps...\n",
      "2022-02-23 15:37:20,453 INFO Computing means at 87%\n",
      "476\n",
      "2022-02-23 15:37:20,463 INFO Computing 50 means of 476 points in at most 20 steps...\n",
      "2022-02-23 15:37:20,538 INFO Computing means at 90%\n",
      "464\n",
      "2022-02-23 15:37:20,549 INFO Computing 50 means of 464 points in at most 20 steps...\n",
      "2022-02-23 15:37:20,619 INFO Computing means at 92%\n",
      "452\n",
      "2022-02-23 15:37:20,629 INFO Computing 50 means of 452 points in at most 20 steps...\n",
      "2022-02-23 15:37:20,694 INFO Computing means at 95%\n",
      "473\n",
      "2022-02-23 15:37:20,703 INFO Computing 50 means of 473 points in at most 20 steps...\n",
      "2022-02-23 15:37:20,764 INFO Computing means at 97%\n",
      "443\n",
      "2022-02-23 15:37:20,773 INFO Computing 48 means of 443 points in at most 20 steps...\n",
      "2022-02-23 15:37:20,826 INFO Computing means at 100%\n",
      "2022-02-23 15:37:20,841 INFO Compute adjoint forward mapping on the images\n",
      "2022-02-23 15:37:20,966 INFO Running through projections 0/2048 = 0.0%\n",
      "2022-02-23 15:37:40,625 INFO Determined adjoint mappings. Shape = (129, 129, 129)\n",
      "2022-02-23 15:37:40,680 INFO Computing kernel at 0.0%\n",
      "2022-02-23 15:38:12,126 INFO Computing non-centered Fourier Transform\n",
      "Solver has finished\n"
     ]
    }
   ],
   "source": [
    "# Experiment\n",
    "\n",
    "logger.info(\"Start Experiment\")\n",
    "logger.info(\"Running Experiment for SNR = {} and {} images\".format(snr, num_imgs))\n",
    "\n",
    "# TODO run experiment for repeat in mr_repeat\n",
    "run_experiment(exp=exp,\n",
    "               max_iter=1,\n",
    "               num_imgs=num_imgs,\n",
    "               snr=snr,\n",
    "               img_size=img_size,\n",
    "               mr_repeat=mr_repeat,\n",
    "               rots_reg_param=lambda0,\n",
    "               data_path=data_path,\n",
    "               )"
   ]
  },
  {
   "cell_type": "code",
   "execution_count": 5,
   "metadata": {
    "colab": {
     "base_uri": "https://localhost:8080/",
     "height": 655
    },
    "executionInfo": {
     "elapsed": 10572,
     "status": "ok",
     "timestamp": 1633875431270,
     "user": {
      "displayName": "Willem Diepeveen",
      "photoUrl": "https://lh3.googleusercontent.com/a/default-user=s64",
      "userId": "07042451899018849244"
     },
     "user_tz": -60
    },
    "id": "swo0r4ydN-fp",
    "outputId": "68390906-487d-403e-fa3f-a5dda11695cc",
    "pycharm": {
     "name": "#%%\n"
    }
   },
   "outputs": [
    {
     "name": "stdout",
     "output_type": "stream",
     "text": [
      "2022-02-23 15:38:16,575 INFO Start Postprocessing\n",
      "2022-02-23 15:38:16,577 INFO Postprocessing started\n"
     ]
    },
    {
     "name": "stderr",
     "output_type": "stream",
     "text": [
      "/Users/wdiepeveen/PycharmProjects/Cryo-EM/lib/python3.6/site-packages/scipy/spatial/transform/rotation.py:135: UserWarning: Gimbal lock detected. Setting third angle to zero since it is not possible to uniquely determine all angles.\n",
      "  warnings.warn(\"Gimbal lock detected. Setting third angle to zero since\"\n"
     ]
    },
    {
     "name": "stdout",
     "output_type": "stream",
     "text": [
      "integrated (averaged) density = 1.0\n",
      "2022-02-23 15:38:19,769 INFO Substituting symbol X from STIXNonUnicode\n",
      "2022-02-23 15:38:19,780 INFO Substituting symbol X from STIXNonUnicode\n"
     ]
    },
    {
     "data": {
      "image/png": "[encoded data removed]",
      "text/plain": [
       "<Figure size 432x288 with 2 Axes>"
      ]
     },
     "metadata": {
      "needs_background": "light"
     },
     "output_type": "display_data"
    },
    {
     "name": "stdout",
     "output_type": "stream",
     "text": [
      "2022-02-23 15:38:20,111 INFO Substituting symbol X from STIXNonUnicode\n",
      "2022-02-23 15:38:20,125 INFO Substituting symbol X from STIXNonUnicode\n"
     ]
    },
    {
     "data": {
      "image/png": "[encoded data removed]",
      "text/plain": [
       "<Figure size 432x288 with 1 Axes>"
      ]
     },
     "metadata": {
      "needs_background": "light"
     },
     "output_type": "display_data"
    },
    {
     "name": "stdout",
     "output_type": "stream",
     "text": [
      "2022-02-23 15:38:20,273 INFO Substituting symbol X from STIXNonUnicode\n",
      "2022-02-23 15:38:20,280 INFO Substituting symbol X from STIXNonUnicode\n",
      "2022-02-23 15:38:20,530 INFO Substituting symbol X from STIXNonUnicode\n",
      "2022-02-23 15:38:20,539 INFO Substituting symbol X from STIXNonUnicode\n"
     ]
    },
    {
     "data": {
      "image/png": "[encoded data removed]",
      "text/plain": [
       "<Figure size 432x288 with 1 Axes>"
      ]
     },
     "metadata": {
      "needs_background": "light"
     },
     "output_type": "display_data"
    },
    {
     "name": "stdout",
     "output_type": "stream",
     "text": [
      "2022-02-23 15:38:20,696 INFO Substituting symbol X from STIXNonUnicode\n",
      "2022-02-23 15:38:20,706 INFO Substituting symbol X from STIXNonUnicode\n",
      "2022-02-23 15:38:20,946 INFO Substituting symbol X from STIXNonUnicode\n",
      "2022-02-23 15:38:20,955 INFO Substituting symbol X from STIXNonUnicode\n"
     ]
    },
    {
     "data": {
      "image/png": "[encoded data removed]",
      "text/plain": [
       "<Figure size 432x288 with 1 Axes>"
      ]
     },
     "metadata": {
      "needs_background": "light"
     },
     "output_type": "display_data"
    },
    {
     "data": {
      "image/png": "[encoded data removed]",
      "text/plain": [
       "<Figure size 432x288 with 1 Axes>"
      ]
     },
     "metadata": {
      "needs_background": "light"
     },
     "output_type": "display_data"
    },
    {
     "name": "stdout",
     "output_type": "stream",
     "text": [
      "costs = [-5810.6848233123565]\n"
     ]
    }
   ],
   "source": [
    "logger.info(\"Start Postprocessing\")\n",
    "# Postprocessing\n",
    "post_processing(exp=exp,\n",
    "                mr_repeat=mr_repeat,\n",
    "                hist_range=20,\n",
    "#                 results_folder=results_path #?\n",
    "               )\n",
    "\n"
   ]
  },
  {
   "cell_type": "code",
   "execution_count": null,
   "metadata": {},
   "outputs": [],
   "source": []
  },
  {
   "cell_type": "code",
   "execution_count": null,
   "metadata": {},
   "outputs": [],
   "source": []
  }
 ],
 "metadata": {
  "accelerator": "GPU",
  "colab": {
   "collapsed_sections": [],
   "name": "experiment.ipynb",
   "provenance": []
  },
  "kernelspec": {
   "display_name": "Python 3",
   "language": "python",
   "name": "python3"
  },
  "language_info": {
   "codemirror_mode": {
    "name": "ipython",
    "version": 3
   },
   "file_extension": ".py",
   "mimetype": "text/x-python",
   "name": "python",
   "nbconvert_exporter": "python",
   "pygments_lexer": "ipython3",
   "version": "3.6.12"
  }
 },
 "nbformat": 4,
 "nbformat_minor": 1
}
