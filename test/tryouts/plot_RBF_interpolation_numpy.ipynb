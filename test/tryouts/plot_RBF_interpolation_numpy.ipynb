{
 "cells": [
  {
   "cell_type": "code",
   "execution_count": 4,
   "metadata": {},
   "outputs": [],
   "source": [
    "%matplotlib inline"
   ]
  },
  {
   "cell_type": "markdown",
   "metadata": {},
   "source": [
    "\n",
    "# Kernel interpolation - NumPy API\n",
    "\n",
    "The :meth:`pykeops.numpy.LazyTensor.solve(b, alpha=1e-10)<pykeops.numpy.LazyTensor.solve>` method of KeOps :class:`pykeops.numpy.LazyTensor` allows you to solve optimization\n",
    "problems of the form\n",
    "\n",
    "\\begin{align}& & a^{\\star} & =\\operatorname*{argmin}_a  \\tfrac 1 2 \\langle a,( \\alpha \\operatorname{Id}+K_{xx}) a\\rangle - \\langle a,b \\rangle, \\\\\\\\\n",
    "        &\\text{i.e.}\\quad &  a^{\\star} & = (\\alpha \\operatorname{Id} + K_{xx})^{-1}  b,\\end{align}\n",
    "\n",
    "where $K_{xx}$ is a symmetric, positive definite linear operator\n",
    "defined through the `KeOps generic syntax <part.generic_formulas>`\n",
    "and $\\alpha$ is a nonnegative regularization parameter.\n",
    "In the following script, we use it to solve large-scale `Kriging <https://en.wikipedia.org/wiki/Kriging>`_ \n",
    "(aka. `Gaussian process regression <https://scikit-learn.org/stable/modules/gaussian_process.html>`_\n",
    "or `generalized spline interpolation <https://en.wikipedia.org/wiki/Spline_interpolation>`_)\n",
    "problems with a **linear memory footprint**.\n",
    "\n",
    " \n"
   ]
  },
  {
   "cell_type": "markdown",
   "metadata": {},
   "source": [
    "## Setup\n",
    "\n",
    "Standard imports:\n",
    "\n"
   ]
  },
  {
   "cell_type": "code",
   "execution_count": 7,
   "metadata": {},
   "outputs": [
    {
     "name": "stdout",
     "output_type": "stream",
     "text": [
      "Cleaning /Users/wdiepeveen/.cache/pykeops-1.5-cpython-36/...\n",
      "    - /Users/wdiepeveen/.cache/pykeops-1.5-cpython-36/build-f7d7530a64 has been removed.\n",
      "    - /Users/wdiepeveen/.cache/pykeops-1.5-cpython-36/build-pybind11_template-libKeOps_template_77e0373936 has been removed.\n",
      "    - /Users/wdiepeveen/.cache/pykeops-1.5-cpython-36/build-f7a24dd7e1 has been removed.\n",
      "    - /Users/wdiepeveen/.cache/pykeops-1.5-cpython-36/keops_hash.log has been removed.\n",
      "    - /Users/wdiepeveen/.cache/pykeops-1.5-cpython-36/build-pybind11_template-libKeOps_template_2bc6d8fd40 has been removed.\n",
      "[pyKeOps] Initializing build folder for dtype=float64 and lang=numpy in /Users/wdiepeveen/.cache/pykeops-1.5-cpython-36 ... done.\n",
      "[pyKeOps] Compiling libKeOpsnumpyff9f2c2dfc in /Users/wdiepeveen/.cache/pykeops-1.5-cpython-36:\n",
      "       formula: Sum_Reduction(SqNorm2(x - y),1)\n",
      "       aliases: x = Vi(0,3); y = Vj(1,3); \n",
      "       dtype  : float64\n",
      "... \n",
      "\n",
      "--------------------- MAKE DEBUG -----------------\n",
      "Command '['cmake', '--build', '.', '--target', 'KeOps_formula', '--', 'VERBOSE=1']' returned non-zero exit status 2.\n",
      "/Users/wdiepeveen/PycharmProjects/Cryo-EM/lib/python3.6/site-packages/cmake/data/CMake.app/Contents/bin/cmake -S/Users/wdiepeveen/PycharmProjects/Cryo-EM/lib/python3.6/site-packages/pykeops/cmake_scripts/script_keops_formula -B/Users/wdiepeveen/.cache/pykeops-1.5-cpython-36/build-f7d7530a64 --check-build-system CMakeFiles/Makefile.cmake 0\n",
      "/Library/Developer/CommandLineTools/usr/bin/make  -f CMakeFiles/Makefile2 KeOps_formula\n",
      "/Users/wdiepeveen/PycharmProjects/Cryo-EM/lib/python3.6/site-packages/cmake/data/CMake.app/Contents/bin/cmake -S/Users/wdiepeveen/PycharmProjects/Cryo-EM/lib/python3.6/site-packages/pykeops/cmake_scripts/script_keops_formula -B/Users/wdiepeveen/.cache/pykeops-1.5-cpython-36/build-f7d7530a64 --check-build-system CMakeFiles/Makefile.cmake 0\n",
      "/Users/wdiepeveen/PycharmProjects/Cryo-EM/lib/python3.6/site-packages/cmake/data/CMake.app/Contents/bin/cmake -E cmake_progress_start /Users/wdiepeveen/.cache/pykeops-1.5-cpython-36/build-f7d7530a64/CMakeFiles 1\n",
      "/Library/Developer/CommandLineTools/usr/bin/make  -f CMakeFiles/Makefile2 CMakeFiles/KeOps_formula.dir/all\n",
      "/Library/Developer/CommandLineTools/usr/bin/make  -f CMakeFiles/copy_KeOps_formula.dir/build.make CMakeFiles/copy_KeOps_formula.dir/depend\n",
      "cd /Users/wdiepeveen/.cache/pykeops-1.5-cpython-36/build-f7d7530a64 && /Users/wdiepeveen/PycharmProjects/Cryo-EM/lib/python3.6/site-packages/cmake/data/CMake.app/Contents/bin/cmake -E cmake_depends \"Unix Makefiles\" /Users/wdiepeveen/PycharmProjects/Cryo-EM/lib/python3.6/site-packages/pykeops/cmake_scripts/script_keops_formula /Users/wdiepeveen/PycharmProjects/Cryo-EM/lib/python3.6/site-packages/pykeops/cmake_scripts/script_keops_formula /Users/wdiepeveen/.cache/pykeops-1.5-cpython-36/build-f7d7530a64 /Users/wdiepeveen/.cache/pykeops-1.5-cpython-36/build-f7d7530a64 /Users/wdiepeveen/.cache/pykeops-1.5-cpython-36/build-f7d7530a64/CMakeFiles/copy_KeOps_formula.dir/DependInfo.cmake --color=\n",
      "/Library/Developer/CommandLineTools/usr/bin/make  -f CMakeFiles/copy_KeOps_formula.dir/build.make CMakeFiles/copy_KeOps_formula.dir/build\n",
      "[100%] Building CXX object CMakeFiles/copy_KeOps_formula.dir/Users/wdiepeveen/PycharmProjects/Cryo-EM/lib/python3.6/site-packages/pykeops/keops/core/link_autodiff.cpp.o\n",
      "/Library/Developer/CommandLineTools/usr/bin/c++ -DC_CONTIGUOUS=1 -DUSE_CUDA=0 -DUSE_DOUBLE=1 -DUSE_HALF=0 -D__TYPE__=double -I/Users/wdiepeveen/PycharmProjects/Cryo-EM/lib/python3.6/site-packages/pykeops/cmake_scripts/script_keops_formula/../.. -I/Users/wdiepeveen/.cache/pykeops-1.5-cpython-36/build-f7d7530a64 -I/Users/wdiepeveen/PycharmProjects/Cryo-EM/lib/python3.6/site-packages/pykeops/cmake_scripts/script_keops_formula/../../keops -ferror-limit=2 -O3 -DNDEBUG -O3 -isysroot /Library/Developer/CommandLineTools/SDKs/MacOSX11.3.sdk -fPIC -include KeOps_formula.h -std=gnu++14 -MD -MT CMakeFiles/copy_KeOps_formula.dir/Users/wdiepeveen/PycharmProjects/Cryo-EM/lib/python3.6/site-packages/pykeops/keops/core/link_autodiff.cpp.o -MF CMakeFiles/copy_KeOps_formula.dir/Users/wdiepeveen/PycharmProjects/Cryo-EM/lib/python3.6/site-packages/pykeops/keops/core/link_autodiff.cpp.o.d -o CMakeFiles/copy_KeOps_formula.dir/Users/wdiepeveen/PycharmProjects/Cryo-EM/lib/python3.6/site-packages/pykeops/keops/core/link_autodiff.cpp.o -c /Users/wdiepeveen/PycharmProjects/Cryo-EM/lib/python3.6/site-packages/pykeops/keops/core/link_autodiff.cpp\n",
      "\n",
      "--------------------- ----------- -----------------\n",
      "[pyKeOps] Compiling pybind11 template libKeOps_template_2bc6d8fd40 in /Users/wdiepeveen/.cache/pykeops-1.5-cpython-36 ... [pyKeOps] Initializing build folder for dtype=float64 and lang=numpy in /Users/wdiepeveen/.cache/pykeops-1.5-cpython-36 ... -- The CXX compiler identification is AppleClang 12.0.5.12050022\n",
      "-- Detecting CXX compiler ABI info\n",
      "-- Detecting CXX compiler ABI info - done\n",
      "-- Check for working CXX compiler: /Library/Developer/CommandLineTools/usr/bin/c++ - skipped\n",
      "-- Detecting CXX compile features\n",
      "-- Detecting CXX compile features - done\n",
      "-- Looking for a CUDA compiler\n",
      "-- Looking for a CUDA compiler - NOTFOUND\n",
      "-- No CUDA support\n",
      "-- Configuring done\n",
      "-- Generating done\n",
      "-- Build files have been written to: /Users/wdiepeveen/.cache/pykeops-1.5-cpython-36/build-f7a24dd7e1\n",
      "\n",
      "done.\n",
      "[pyKeOps] Compiling libKeOpsnumpyff9f2c2dfc in /Users/wdiepeveen/.cache/pykeops-1.5-cpython-36:\n",
      "       formula: Sum_Reduction(SqNorm2(x - y),1)\n",
      "       aliases: x = Vi(0,3); y = Vj(1,3); \n",
      "       dtype  : float64\n",
      "... \n",
      "\n",
      "--------------------- MAKE DEBUG -----------------\n",
      "Command '['cmake', '--build', '.', '--target', 'KeOps_formula', '--', 'VERBOSE=1']' returned non-zero exit status 2.\n",
      "/Users/wdiepeveen/PycharmProjects/Cryo-EM/lib/python3.6/site-packages/cmake/data/CMake.app/Contents/bin/cmake -S/Users/wdiepeveen/PycharmProjects/Cryo-EM/lib/python3.6/site-packages/pykeops/cmake_scripts/script_keops_formula -B/Users/wdiepeveen/.cache/pykeops-1.5-cpython-36/build-f7a24dd7e1 --check-build-system CMakeFiles/Makefile.cmake 0\n",
      "/Library/Developer/CommandLineTools/usr/bin/make  -f CMakeFiles/Makefile2 KeOps_formula\n",
      "/Users/wdiepeveen/PycharmProjects/Cryo-EM/lib/python3.6/site-packages/cmake/data/CMake.app/Contents/bin/cmake -S/Users/wdiepeveen/PycharmProjects/Cryo-EM/lib/python3.6/site-packages/pykeops/cmake_scripts/script_keops_formula -B/Users/wdiepeveen/.cache/pykeops-1.5-cpython-36/build-f7a24dd7e1 --check-build-system CMakeFiles/Makefile.cmake 0\n",
      "/Users/wdiepeveen/PycharmProjects/Cryo-EM/lib/python3.6/site-packages/cmake/data/CMake.app/Contents/bin/cmake -E cmake_progress_start /Users/wdiepeveen/.cache/pykeops-1.5-cpython-36/build-f7a24dd7e1/CMakeFiles 1\n",
      "/Library/Developer/CommandLineTools/usr/bin/make  -f CMakeFiles/Makefile2 CMakeFiles/KeOps_formula.dir/all\n",
      "/Library/Developer/CommandLineTools/usr/bin/make  -f CMakeFiles/copy_KeOps_formula.dir/build.make CMakeFiles/copy_KeOps_formula.dir/depend\n",
      "cd /Users/wdiepeveen/.cache/pykeops-1.5-cpython-36/build-f7a24dd7e1 && /Users/wdiepeveen/PycharmProjects/Cryo-EM/lib/python3.6/site-packages/cmake/data/CMake.app/Contents/bin/cmake -E cmake_depends \"Unix Makefiles\" /Users/wdiepeveen/PycharmProjects/Cryo-EM/lib/python3.6/site-packages/pykeops/cmake_scripts/script_keops_formula /Users/wdiepeveen/PycharmProjects/Cryo-EM/lib/python3.6/site-packages/pykeops/cmake_scripts/script_keops_formula /Users/wdiepeveen/.cache/pykeops-1.5-cpython-36/build-f7a24dd7e1 /Users/wdiepeveen/.cache/pykeops-1.5-cpython-36/build-f7a24dd7e1 /Users/wdiepeveen/.cache/pykeops-1.5-cpython-36/build-f7a24dd7e1/CMakeFiles/copy_KeOps_formula.dir/DependInfo.cmake --color=\n",
      "/Library/Developer/CommandLineTools/usr/bin/make  -f CMakeFiles/copy_KeOps_formula.dir/build.make CMakeFiles/copy_KeOps_formula.dir/build\n",
      "[100%] Building CXX object CMakeFiles/copy_KeOps_formula.dir/Users/wdiepeveen/PycharmProjects/Cryo-EM/lib/python3.6/site-packages/pykeops/keops/core/link_autodiff.cpp.o\n",
      "/Library/Developer/CommandLineTools/usr/bin/c++ -DC_CONTIGUOUS=1 -DUSE_CUDA=0 -DUSE_DOUBLE=1 -DUSE_HALF=0 -D__TYPE__=double -I/Users/wdiepeveen/PycharmProjects/Cryo-EM/lib/python3.6/site-packages/pykeops/cmake_scripts/script_keops_formula/../.. -I/Users/wdiepeveen/.cache/pykeops-1.5-cpython-36/build-f7a24dd7e1 -I/Users/wdiepeveen/PycharmProjects/Cryo-EM/lib/python3.6/site-packages/pykeops/cmake_scripts/script_keops_formula/../../keops -ferror-limit=2 -g -O0 -g -isysroot /Library/Developer/CommandLineTools/SDKs/MacOSX11.3.sdk -fPIC -include KeOps_formula.h -std=gnu++14 -MD -MT CMakeFiles/copy_KeOps_formula.dir/Users/wdiepeveen/PycharmProjects/Cryo-EM/lib/python3.6/site-packages/pykeops/keops/core/link_autodiff.cpp.o -MF CMakeFiles/copy_KeOps_formula.dir/Users/wdiepeveen/PycharmProjects/Cryo-EM/lib/python3.6/site-packages/pykeops/keops/core/link_autodiff.cpp.o.d -o CMakeFiles/copy_KeOps_formula.dir/Users/wdiepeveen/PycharmProjects/Cryo-EM/lib/python3.6/site-packages/pykeops/keops/core/link_autodiff.cpp.o -c /Users/wdiepeveen/PycharmProjects/Cryo-EM/lib/python3.6/site-packages/pykeops/keops/core/link_autodiff.cpp\n",
      "\n",
      "--------------------- ----------- -----------------\n",
      "[pyKeOps] Compiling pybind11 template libKeOps_template_77e0373936 in /Users/wdiepeveen/.cache/pykeops-1.5-cpython-36 ... "
     ]
    },
    {
     "ename": "FileNotFoundError",
     "evalue": "[Errno 2] No such file or directory: '/Users/wdiepeveen/.cache/pykeops-1.5-cpython-36//KeOps_formula.o' -> '/Users/wdiepeveen/.cache/pykeops-1.5-cpython-36//build-pybind11_template-libKeOps_template_77e0373936/KeOps_formula.o'",
     "output_type": "error",
     "traceback": [
      "\u001B[0;31m---------------------------------------------------------------------------\u001B[0m",
      "\u001B[0;31mFileNotFoundError\u001B[0m                         Traceback (most recent call last)",
      "\u001B[0;32m~/PycharmProjects/Cryo-EM/lib/python3.6/site-packages/pykeops/test/install.py\u001B[0m in \u001B[0;36mtest_numpy_bindings\u001B[0;34m()\u001B[0m\n\u001B[1;32m     21\u001B[0m \u001B[0;34m\u001B[0m\u001B[0m\n\u001B[0;32m---> 22\u001B[0;31m         \u001B[0mmy_conv\u001B[0m \u001B[0;34m=\u001B[0m \u001B[0mpknp\u001B[0m\u001B[0;34m.\u001B[0m\u001B[0mGenred\u001B[0m\u001B[0;34m(\u001B[0m\u001B[0mformula\u001B[0m\u001B[0;34m,\u001B[0m \u001B[0mvar\u001B[0m\u001B[0;34m)\u001B[0m\u001B[0;34m\u001B[0m\u001B[0;34m\u001B[0m\u001B[0m\n\u001B[0m\u001B[1;32m     23\u001B[0m         \u001B[0;32mif\u001B[0m \u001B[0mnp\u001B[0m\u001B[0;34m.\u001B[0m\u001B[0mallclose\u001B[0m\u001B[0;34m(\u001B[0m\u001B[0mmy_conv\u001B[0m\u001B[0;34m(\u001B[0m\u001B[0mx\u001B[0m\u001B[0;34m,\u001B[0m \u001B[0my\u001B[0m\u001B[0;34m)\u001B[0m\u001B[0;34m.\u001B[0m\u001B[0mflatten\u001B[0m\u001B[0;34m(\u001B[0m\u001B[0;34m)\u001B[0m\u001B[0;34m,\u001B[0m \u001B[0mexpected_res\u001B[0m\u001B[0;34m)\u001B[0m\u001B[0;34m:\u001B[0m\u001B[0;34m\u001B[0m\u001B[0;34m\u001B[0m\u001B[0m\n",
      "\u001B[0;32m~/PycharmProjects/Cryo-EM/lib/python3.6/site-packages/pykeops/numpy/generic/generic_red.py\u001B[0m in \u001B[0;36m__init__\u001B[0;34m(self, formula, aliases, reduction_op, axis, dtype, opt_arg, formula2, cuda_type, dtype_acc, use_double_acc, sum_scheme, enable_chunks, optional_flags, rec_multVar_highdim)\u001B[0m\n\u001B[1;32m    182\u001B[0m         self.myconv = LoadKeOps(\n\u001B[0;32m--> 183\u001B[0;31m             \u001B[0mself\u001B[0m\u001B[0;34m.\u001B[0m\u001B[0mformula\u001B[0m\u001B[0;34m,\u001B[0m \u001B[0mself\u001B[0m\u001B[0;34m.\u001B[0m\u001B[0maliases\u001B[0m\u001B[0;34m,\u001B[0m \u001B[0mself\u001B[0m\u001B[0;34m.\u001B[0m\u001B[0mdtype\u001B[0m\u001B[0;34m,\u001B[0m \u001B[0;34m\"numpy\"\u001B[0m\u001B[0;34m,\u001B[0m \u001B[0mself\u001B[0m\u001B[0;34m.\u001B[0m\u001B[0moptional_flags\u001B[0m\u001B[0;34m\u001B[0m\u001B[0;34m\u001B[0m\u001B[0m\n\u001B[0m\u001B[1;32m    184\u001B[0m         ).import_module()\n",
      "\u001B[0;32m~/PycharmProjects/Cryo-EM/lib/python3.6/site-packages/pykeops/common/keops_io.py\u001B[0m in \u001B[0;36m__init__\u001B[0;34m(self, formula, aliases, dtype, lang, optional_flags, include_dirs)\u001B[0m\n\u001B[1;32m     47\u001B[0m         ):\n\u001B[0;32m---> 48\u001B[0;31m             \u001B[0mself\u001B[0m\u001B[0;34m.\u001B[0m\u001B[0m_safe_compile\u001B[0m\u001B[0;34m(\u001B[0m\u001B[0;34m)\u001B[0m\u001B[0;34m\u001B[0m\u001B[0;34m\u001B[0m\u001B[0m\n\u001B[0m\u001B[1;32m     49\u001B[0m \u001B[0;34m\u001B[0m\u001B[0m\n",
      "\u001B[0;32m~/PycharmProjects/Cryo-EM/lib/python3.6/site-packages/pykeops/common/utils.py\u001B[0m in \u001B[0;36mwrapper_filelock\u001B[0;34m(*args, **kwargs)\u001B[0m\n\u001B[1;32m     74\u001B[0m                 \u001B[0;32mwith\u001B[0m \u001B[0mFileLock\u001B[0m\u001B[0;34m(\u001B[0m\u001B[0mf\u001B[0m\u001B[0;34m)\u001B[0m\u001B[0;34m:\u001B[0m\u001B[0;34m\u001B[0m\u001B[0;34m\u001B[0m\u001B[0m\n\u001B[0;32m---> 75\u001B[0;31m                     \u001B[0mfunc_res\u001B[0m \u001B[0;34m=\u001B[0m \u001B[0mfunc\u001B[0m\u001B[0;34m(\u001B[0m\u001B[0;34m*\u001B[0m\u001B[0margs\u001B[0m\u001B[0;34m,\u001B[0m \u001B[0;34m**\u001B[0m\u001B[0mkwargs\u001B[0m\u001B[0;34m)\u001B[0m\u001B[0;34m\u001B[0m\u001B[0;34m\u001B[0m\u001B[0m\n\u001B[0m\u001B[1;32m     76\u001B[0m \u001B[0;34m\u001B[0m\u001B[0m\n",
      "\u001B[0;32m~/PycharmProjects/Cryo-EM/lib/python3.6/site-packages/pykeops/common/keops_io.py\u001B[0m in \u001B[0;36m_safe_compile\u001B[0;34m(self)\u001B[0m\n\u001B[1;32m     62\u001B[0m             \u001B[0mself\u001B[0m\u001B[0;34m.\u001B[0m\u001B[0minclude_dirs\u001B[0m\u001B[0;34m,\u001B[0m\u001B[0;34m\u001B[0m\u001B[0;34m\u001B[0m\u001B[0m\n\u001B[0;32m---> 63\u001B[0;31m             \u001B[0mself\u001B[0m\u001B[0;34m.\u001B[0m\u001B[0mbuild_folder\u001B[0m\u001B[0;34m,\u001B[0m\u001B[0;34m\u001B[0m\u001B[0;34m\u001B[0m\u001B[0m\n\u001B[0m\u001B[1;32m     64\u001B[0m         )\n",
      "\u001B[0;32m~/PycharmProjects/Cryo-EM/lib/python3.6/site-packages/pykeops/common/compile_routines.py\u001B[0m in \u001B[0;36mcompile_generic_routine\u001B[0;34m(formula, aliases, dllname, dtype, lang, optional_flags, include_dirs, build_folder)\u001B[0m\n\u001B[1;32m    245\u001B[0m     template_name, is_rebuilt = get_or_build_pybind11_template(\n\u001B[0;32m--> 246\u001B[0;31m         \u001B[0mdtype\u001B[0m\u001B[0;34m,\u001B[0m \u001B[0mlang\u001B[0m\u001B[0;34m,\u001B[0m \u001B[0minclude_dirs\u001B[0m\u001B[0;34m,\u001B[0m \u001B[0muse_prebuilt_formula\u001B[0m\u001B[0;34m=\u001B[0m\u001B[0;32mTrue\u001B[0m\u001B[0;34m\u001B[0m\u001B[0;34m\u001B[0m\u001B[0m\n\u001B[0m\u001B[1;32m    247\u001B[0m     )\n",
      "\u001B[0;32m~/PycharmProjects/Cryo-EM/lib/python3.6/site-packages/pykeops/common/compile_routines.py\u001B[0m in \u001B[0;36mget_or_build_pybind11_template\u001B[0;34m(dtype, lang, include_dirs, use_prebuilt_formula)\u001B[0m\n\u001B[1;32m     87\u001B[0m             \u001B[0mpykeops\u001B[0m\u001B[0;34m.\u001B[0m\u001B[0mconfig\u001B[0m\u001B[0;34m.\u001B[0m\u001B[0mbin_folder\u001B[0m \u001B[0;34m+\u001B[0m \u001B[0mos\u001B[0m\u001B[0;34m.\u001B[0m\u001B[0mpath\u001B[0m\u001B[0;34m.\u001B[0m\u001B[0msep\u001B[0m \u001B[0;34m+\u001B[0m \u001B[0mfname\u001B[0m\u001B[0;34m,\u001B[0m\u001B[0;34m\u001B[0m\u001B[0;34m\u001B[0m\u001B[0m\n\u001B[0;32m---> 88\u001B[0;31m             \u001B[0mtemplate_build_folder\u001B[0m \u001B[0;34m+\u001B[0m \u001B[0mos\u001B[0m\u001B[0;34m.\u001B[0m\u001B[0mpath\u001B[0m\u001B[0;34m.\u001B[0m\u001B[0msep\u001B[0m \u001B[0;34m+\u001B[0m \u001B[0mfname\u001B[0m\u001B[0;34m,\u001B[0m\u001B[0;34m\u001B[0m\u001B[0;34m\u001B[0m\u001B[0m\n\u001B[0m\u001B[1;32m     89\u001B[0m         )\n",
      "\u001B[0;31mFileNotFoundError\u001B[0m: [Errno 2] No such file or directory: '/Users/wdiepeveen/.cache/pykeops-1.5-cpython-36//KeOps_formula.o' -> '/Users/wdiepeveen/.cache/pykeops-1.5-cpython-36//build-pybind11_template-libKeOps_template_2bc6d8fd40/KeOps_formula.o'",
      "\nDuring handling of the above exception, another exception occurred:\n",
      "\u001B[0;31mFileNotFoundError\u001B[0m                         Traceback (most recent call last)",
      "\u001B[0;32m<ipython-input-7-8916ea1e30bc>\u001B[0m in \u001B[0;36m<module>\u001B[0;34m\u001B[0m\n\u001B[1;32m      9\u001B[0m \u001B[0;34m\u001B[0m\u001B[0m\n\u001B[1;32m     10\u001B[0m \u001B[0mpykeops\u001B[0m\u001B[0;34m.\u001B[0m\u001B[0mclean_pykeops\u001B[0m\u001B[0;34m(\u001B[0m\u001B[0;34m)\u001B[0m          \u001B[0;31m# just in case old build files are still present\u001B[0m\u001B[0;34m\u001B[0m\u001B[0;34m\u001B[0m\u001B[0m\n\u001B[0;32m---> 11\u001B[0;31m \u001B[0mpykeops\u001B[0m\u001B[0;34m.\u001B[0m\u001B[0mtest_numpy_bindings\u001B[0m\u001B[0;34m(\u001B[0m\u001B[0;34m)\u001B[0m    \u001B[0;31m# perform the compilation\u001B[0m\u001B[0;34m\u001B[0m\u001B[0;34m\u001B[0m\u001B[0m\n\u001B[0m",
      "\u001B[0;32m~/PycharmProjects/Cryo-EM/lib/python3.6/site-packages/pykeops/test/install.py\u001B[0m in \u001B[0;36mtest_numpy_bindings\u001B[0;34m()\u001B[0m\n\u001B[1;32m     33\u001B[0m         \u001B[0mpykeops\u001B[0m\u001B[0;34m.\u001B[0m\u001B[0mconfig\u001B[0m\u001B[0;34m.\u001B[0m\u001B[0mverbose\u001B[0m \u001B[0;34m=\u001B[0m \u001B[0;32mTrue\u001B[0m\u001B[0;34m\u001B[0m\u001B[0;34m\u001B[0m\u001B[0m\n\u001B[1;32m     34\u001B[0m         \u001B[0mpykeops\u001B[0m\u001B[0;34m.\u001B[0m\u001B[0mconfig\u001B[0m\u001B[0;34m.\u001B[0m\u001B[0mbuild_type\u001B[0m \u001B[0;34m=\u001B[0m \u001B[0;34m\"Debug\"\u001B[0m\u001B[0;34m\u001B[0m\u001B[0;34m\u001B[0m\u001B[0m\n\u001B[0;32m---> 35\u001B[0;31m         \u001B[0mmy_conv\u001B[0m \u001B[0;34m=\u001B[0m \u001B[0mpknp\u001B[0m\u001B[0;34m.\u001B[0m\u001B[0mGenred\u001B[0m\u001B[0;34m(\u001B[0m\u001B[0mformula\u001B[0m\u001B[0;34m,\u001B[0m \u001B[0mvar\u001B[0m\u001B[0;34m)\u001B[0m\u001B[0;34m\u001B[0m\u001B[0;34m\u001B[0m\u001B[0m\n\u001B[0m\u001B[1;32m     36\u001B[0m         \u001B[0mprint\u001B[0m\u001B[0;34m(\u001B[0m\u001B[0mmy_conv\u001B[0m\u001B[0;34m(\u001B[0m\u001B[0mx\u001B[0m\u001B[0;34m,\u001B[0m \u001B[0my\u001B[0m\u001B[0;34m)\u001B[0m\u001B[0;34m)\u001B[0m\u001B[0;34m\u001B[0m\u001B[0;34m\u001B[0m\u001B[0m\n\u001B[1;32m     37\u001B[0m \u001B[0;34m\u001B[0m\u001B[0m\n",
      "\u001B[0;32m~/PycharmProjects/Cryo-EM/lib/python3.6/site-packages/pykeops/numpy/generic/generic_red.py\u001B[0m in \u001B[0;36m__init__\u001B[0;34m(self, formula, aliases, reduction_op, axis, dtype, opt_arg, formula2, cuda_type, dtype_acc, use_double_acc, sum_scheme, enable_chunks, optional_flags, rec_multVar_highdim)\u001B[0m\n\u001B[1;32m    181\u001B[0m         \u001B[0mself\u001B[0m\u001B[0;34m.\u001B[0m\u001B[0mdtype\u001B[0m \u001B[0;34m=\u001B[0m \u001B[0mdtype\u001B[0m\u001B[0;34m\u001B[0m\u001B[0;34m\u001B[0m\u001B[0m\n\u001B[1;32m    182\u001B[0m         self.myconv = LoadKeOps(\n\u001B[0;32m--> 183\u001B[0;31m             \u001B[0mself\u001B[0m\u001B[0;34m.\u001B[0m\u001B[0mformula\u001B[0m\u001B[0;34m,\u001B[0m \u001B[0mself\u001B[0m\u001B[0;34m.\u001B[0m\u001B[0maliases\u001B[0m\u001B[0;34m,\u001B[0m \u001B[0mself\u001B[0m\u001B[0;34m.\u001B[0m\u001B[0mdtype\u001B[0m\u001B[0;34m,\u001B[0m \u001B[0;34m\"numpy\"\u001B[0m\u001B[0;34m,\u001B[0m \u001B[0mself\u001B[0m\u001B[0;34m.\u001B[0m\u001B[0moptional_flags\u001B[0m\u001B[0;34m\u001B[0m\u001B[0;34m\u001B[0m\u001B[0m\n\u001B[0m\u001B[1;32m    184\u001B[0m         ).import_module()\n\u001B[1;32m    185\u001B[0m         \u001B[0mself\u001B[0m\u001B[0;34m.\u001B[0m\u001B[0maxis\u001B[0m \u001B[0;34m=\u001B[0m \u001B[0maxis\u001B[0m\u001B[0;34m\u001B[0m\u001B[0;34m\u001B[0m\u001B[0m\n",
      "\u001B[0;32m~/PycharmProjects/Cryo-EM/lib/python3.6/site-packages/pykeops/common/keops_io.py\u001B[0m in \u001B[0;36m__init__\u001B[0;34m(self, formula, aliases, dtype, lang, optional_flags, include_dirs)\u001B[0m\n\u001B[1;32m     46\u001B[0m             \u001B[0mpykeops\u001B[0m\u001B[0;34m.\u001B[0m\u001B[0mconfig\u001B[0m\u001B[0;34m.\u001B[0m\u001B[0mbuild_type\u001B[0m \u001B[0;34m==\u001B[0m \u001B[0;34m\"Debug\"\u001B[0m\u001B[0;34m\u001B[0m\u001B[0;34m\u001B[0m\u001B[0m\n\u001B[1;32m     47\u001B[0m         ):\n\u001B[0;32m---> 48\u001B[0;31m             \u001B[0mself\u001B[0m\u001B[0;34m.\u001B[0m\u001B[0m_safe_compile\u001B[0m\u001B[0;34m(\u001B[0m\u001B[0;34m)\u001B[0m\u001B[0;34m\u001B[0m\u001B[0;34m\u001B[0m\u001B[0m\n\u001B[0m\u001B[1;32m     49\u001B[0m \u001B[0;34m\u001B[0m\u001B[0m\n\u001B[1;32m     50\u001B[0m     \u001B[0;34m@\u001B[0m\u001B[0mcreate_and_lock_build_folder\u001B[0m\u001B[0;34m(\u001B[0m\u001B[0;34m)\u001B[0m\u001B[0;34m\u001B[0m\u001B[0;34m\u001B[0m\u001B[0m\n",
      "\u001B[0;32m~/PycharmProjects/Cryo-EM/lib/python3.6/site-packages/pykeops/common/utils.py\u001B[0m in \u001B[0;36mwrapper_filelock\u001B[0;34m(*args, **kwargs)\u001B[0m\n\u001B[1;32m     73\u001B[0m             \u001B[0;32mwith\u001B[0m \u001B[0mopen\u001B[0m\u001B[0;34m(\u001B[0m\u001B[0mos\u001B[0m\u001B[0;34m.\u001B[0m\u001B[0mpath\u001B[0m\u001B[0;34m.\u001B[0m\u001B[0mjoin\u001B[0m\u001B[0;34m(\u001B[0m\u001B[0mbf\u001B[0m\u001B[0;34m,\u001B[0m \u001B[0;34m\"pykeops_build2.lock\"\u001B[0m\u001B[0;34m)\u001B[0m\u001B[0;34m,\u001B[0m \u001B[0;34m\"w\"\u001B[0m\u001B[0;34m)\u001B[0m \u001B[0;32mas\u001B[0m \u001B[0mf\u001B[0m\u001B[0;34m:\u001B[0m\u001B[0;34m\u001B[0m\u001B[0;34m\u001B[0m\u001B[0m\n\u001B[1;32m     74\u001B[0m                 \u001B[0;32mwith\u001B[0m \u001B[0mFileLock\u001B[0m\u001B[0;34m(\u001B[0m\u001B[0mf\u001B[0m\u001B[0;34m)\u001B[0m\u001B[0;34m:\u001B[0m\u001B[0;34m\u001B[0m\u001B[0;34m\u001B[0m\u001B[0m\n\u001B[0;32m---> 75\u001B[0;31m                     \u001B[0mfunc_res\u001B[0m \u001B[0;34m=\u001B[0m \u001B[0mfunc\u001B[0m\u001B[0;34m(\u001B[0m\u001B[0;34m*\u001B[0m\u001B[0margs\u001B[0m\u001B[0;34m,\u001B[0m \u001B[0;34m**\u001B[0m\u001B[0mkwargs\u001B[0m\u001B[0;34m)\u001B[0m\u001B[0;34m\u001B[0m\u001B[0;34m\u001B[0m\u001B[0m\n\u001B[0m\u001B[1;32m     76\u001B[0m \u001B[0;34m\u001B[0m\u001B[0m\n\u001B[1;32m     77\u001B[0m             \u001B[0;31m# clean\u001B[0m\u001B[0;34m\u001B[0m\u001B[0;34m\u001B[0m\u001B[0;34m\u001B[0m\u001B[0m\n",
      "\u001B[0;32m~/PycharmProjects/Cryo-EM/lib/python3.6/site-packages/pykeops/common/keops_io.py\u001B[0m in \u001B[0;36m_safe_compile\u001B[0;34m(self)\u001B[0m\n\u001B[1;32m     61\u001B[0m             \u001B[0mself\u001B[0m\u001B[0;34m.\u001B[0m\u001B[0moptional_flags\u001B[0m\u001B[0;34m,\u001B[0m\u001B[0;34m\u001B[0m\u001B[0;34m\u001B[0m\u001B[0m\n\u001B[1;32m     62\u001B[0m             \u001B[0mself\u001B[0m\u001B[0;34m.\u001B[0m\u001B[0minclude_dirs\u001B[0m\u001B[0;34m,\u001B[0m\u001B[0;34m\u001B[0m\u001B[0;34m\u001B[0m\u001B[0m\n\u001B[0;32m---> 63\u001B[0;31m             \u001B[0mself\u001B[0m\u001B[0;34m.\u001B[0m\u001B[0mbuild_folder\u001B[0m\u001B[0;34m,\u001B[0m\u001B[0;34m\u001B[0m\u001B[0;34m\u001B[0m\u001B[0m\n\u001B[0m\u001B[1;32m     64\u001B[0m         )\n\u001B[1;32m     65\u001B[0m \u001B[0;34m\u001B[0m\u001B[0m\n",
      "\u001B[0;32m~/PycharmProjects/Cryo-EM/lib/python3.6/site-packages/pykeops/common/compile_routines.py\u001B[0m in \u001B[0;36mcompile_generic_routine\u001B[0;34m(formula, aliases, dllname, dtype, lang, optional_flags, include_dirs, build_folder)\u001B[0m\n\u001B[1;32m    244\u001B[0m \u001B[0;34m\u001B[0m\u001B[0m\n\u001B[1;32m    245\u001B[0m     template_name, is_rebuilt = get_or_build_pybind11_template(\n\u001B[0;32m--> 246\u001B[0;31m         \u001B[0mdtype\u001B[0m\u001B[0;34m,\u001B[0m \u001B[0mlang\u001B[0m\u001B[0;34m,\u001B[0m \u001B[0minclude_dirs\u001B[0m\u001B[0;34m,\u001B[0m \u001B[0muse_prebuilt_formula\u001B[0m\u001B[0;34m=\u001B[0m\u001B[0;32mTrue\u001B[0m\u001B[0;34m\u001B[0m\u001B[0;34m\u001B[0m\u001B[0m\n\u001B[0m\u001B[1;32m    247\u001B[0m     )\n\u001B[1;32m    248\u001B[0m \u001B[0;34m\u001B[0m\u001B[0m\n",
      "\u001B[0;32m~/PycharmProjects/Cryo-EM/lib/python3.6/site-packages/pykeops/common/compile_routines.py\u001B[0m in \u001B[0;36mget_or_build_pybind11_template\u001B[0;34m(dtype, lang, include_dirs, use_prebuilt_formula)\u001B[0m\n\u001B[1;32m     86\u001B[0m         os.rename(\n\u001B[1;32m     87\u001B[0m             \u001B[0mpykeops\u001B[0m\u001B[0;34m.\u001B[0m\u001B[0mconfig\u001B[0m\u001B[0;34m.\u001B[0m\u001B[0mbin_folder\u001B[0m \u001B[0;34m+\u001B[0m \u001B[0mos\u001B[0m\u001B[0;34m.\u001B[0m\u001B[0mpath\u001B[0m\u001B[0;34m.\u001B[0m\u001B[0msep\u001B[0m \u001B[0;34m+\u001B[0m \u001B[0mfname\u001B[0m\u001B[0;34m,\u001B[0m\u001B[0;34m\u001B[0m\u001B[0;34m\u001B[0m\u001B[0m\n\u001B[0;32m---> 88\u001B[0;31m             \u001B[0mtemplate_build_folder\u001B[0m \u001B[0;34m+\u001B[0m \u001B[0mos\u001B[0m\u001B[0;34m.\u001B[0m\u001B[0mpath\u001B[0m\u001B[0;34m.\u001B[0m\u001B[0msep\u001B[0m \u001B[0;34m+\u001B[0m \u001B[0mfname\u001B[0m\u001B[0;34m,\u001B[0m\u001B[0;34m\u001B[0m\u001B[0;34m\u001B[0m\u001B[0m\n\u001B[0m\u001B[1;32m     89\u001B[0m         )\n\u001B[1;32m     90\u001B[0m \u001B[0;34m\u001B[0m\u001B[0m\n",
      "\u001B[0;31mFileNotFoundError\u001B[0m: [Errno 2] No such file or directory: '/Users/wdiepeveen/.cache/pykeops-1.5-cpython-36//KeOps_formula.o' -> '/Users/wdiepeveen/.cache/pykeops-1.5-cpython-36//build-pybind11_template-libKeOps_template_77e0373936/KeOps_formula.o'"
     ]
    }
   ],
   "source": [
    "import time\n",
    "\n",
    "import numpy as np\n",
    "from matplotlib import pyplot as plt\n",
    "\n",
    "import pykeops\n",
    "from pykeops.numpy import LazyTensor\n",
    "import pykeops.config\n",
    "\n",
    "pykeops.clean_pykeops()          # just in case old build files are still present\n",
    "pykeops.test_numpy_bindings()    # perform the compilation"
   ]
  },
  {
   "cell_type": "markdown",
   "metadata": {},
   "source": [
    "Generate some data:\n",
    "\n"
   ]
  },
  {
   "cell_type": "code",
   "execution_count": 4,
   "metadata": {},
   "outputs": [],
   "source": [
    "dtype = \"float64\"\n",
    "\n",
    "N = 10000 if pykeops.config.gpu_available else 1000  # Number of samples\n",
    "\n",
    "# Sampling locations:\n",
    "x = np.random.rand(N, 1).astype(dtype)\n",
    "\n",
    "# Some random-ish 1D signal:\n",
    "b = (\n",
    "    x\n",
    "    + 0.5 * np.sin(6 * x)\n",
    "    + 0.1 * np.sin(20 * x)\n",
    "    + 0.05 * np.random.randn(N, 1).astype(dtype)\n",
    ")"
   ]
  },
  {
   "cell_type": "markdown",
   "metadata": {},
   "source": [
    "## Interpolation in 1D\n",
    "\n",
    "Specify our **regression model** - a simple **Gaussian** variogram or **kernel matrix**\n",
    "of deviation **sigma**:\n",
    "\n"
   ]
  },
  {
   "cell_type": "code",
   "execution_count": 5,
   "metadata": {},
   "outputs": [],
   "source": [
    "def gaussian_kernel(x, y, sigma=0.1):\n",
    "    x_i = LazyTensor(x[:, None, :])  # (M, 1, 1)\n",
    "    y_j = LazyTensor(y[None, :, :])  # (1, N, 1)\n",
    "    D_ij = ((x_i - y_j) ** 2).sum(-1)  # (M, N) symbolic matrix of squared distances\n",
    "    return (-D_ij / (2 * sigma ** 2)).exp()  # (M, N) symbolic Gaussian kernel matrix"
   ]
  },
  {
   "cell_type": "markdown",
   "metadata": {},
   "source": [
    "Perform the **Kernel interpolation**, without forgetting to specify\n",
    "the ridge regularization parameter **alpha** which controls the trade-off\n",
    "between a perfect fit (**alpha** = 0) and a\n",
    "smooth interpolation (**alpha** = $+\\infty$):\n",
    "\n"
   ]
  },
  {
   "cell_type": "code",
   "execution_count": 6,
   "metadata": {},
   "outputs": [
    {
     "name": "stdout",
     "output_type": "stream",
     "text": [
      "[pyKeOps] Compiling libKeOpsnumpyc8b91b5094 in /Users/wdiepeveen/.cache/pykeops-1.5-cpython-36:\n",
      "       formula: Sum_Reduction((Exp((Minus(Sum(Square((Var(1,1,0) - Var(2,1,1))))) / Var(3,1,2))) * Var(0,1,1)),0)\n",
      "       aliases: Var(0,1,1); Var(1,1,0); Var(2,1,1); Var(3,1,2); \n",
      "       dtype  : float64\n",
      "... \n",
      "\n",
      "--------------------- MAKE DEBUG -----------------\n",
      "Command '['cmake', '--build', '.', '--target', 'KeOps_formula', '--', 'VERBOSE=1']' returned non-zero exit status 2.\n",
      "/Users/wdiepeveen/PycharmProjects/Cryo-EM/lib/python3.6/site-packages/cmake/data/CMake.app/Contents/bin/cmake -S/Users/wdiepeveen/PycharmProjects/Cryo-EM/lib/python3.6/site-packages/pykeops/cmake_scripts/script_keops_formula -B/Users/wdiepeveen/.cache/pykeops-1.5-cpython-36/build-f7d7530a64 --check-build-system CMakeFiles/Makefile.cmake 0\n",
      "/Library/Developer/CommandLineTools/usr/bin/make  -f CMakeFiles/Makefile2 KeOps_formula\n",
      "/Users/wdiepeveen/PycharmProjects/Cryo-EM/lib/python3.6/site-packages/cmake/data/CMake.app/Contents/bin/cmake -S/Users/wdiepeveen/PycharmProjects/Cryo-EM/lib/python3.6/site-packages/pykeops/cmake_scripts/script_keops_formula -B/Users/wdiepeveen/.cache/pykeops-1.5-cpython-36/build-f7d7530a64 --check-build-system CMakeFiles/Makefile.cmake 0\n",
      "/Users/wdiepeveen/PycharmProjects/Cryo-EM/lib/python3.6/site-packages/cmake/data/CMake.app/Contents/bin/cmake -E cmake_progress_start /Users/wdiepeveen/.cache/pykeops-1.5-cpython-36/build-f7d7530a64/CMakeFiles 1\n",
      "/Library/Developer/CommandLineTools/usr/bin/make  -f CMakeFiles/Makefile2 CMakeFiles/KeOps_formula.dir/all\n",
      "/Library/Developer/CommandLineTools/usr/bin/make  -f CMakeFiles/copy_KeOps_formula.dir/build.make CMakeFiles/copy_KeOps_formula.dir/depend\n",
      "cd /Users/wdiepeveen/.cache/pykeops-1.5-cpython-36/build-f7d7530a64 && /Users/wdiepeveen/PycharmProjects/Cryo-EM/lib/python3.6/site-packages/cmake/data/CMake.app/Contents/bin/cmake -E cmake_depends \"Unix Makefiles\" /Users/wdiepeveen/PycharmProjects/Cryo-EM/lib/python3.6/site-packages/pykeops/cmake_scripts/script_keops_formula /Users/wdiepeveen/PycharmProjects/Cryo-EM/lib/python3.6/site-packages/pykeops/cmake_scripts/script_keops_formula /Users/wdiepeveen/.cache/pykeops-1.5-cpython-36/build-f7d7530a64 /Users/wdiepeveen/.cache/pykeops-1.5-cpython-36/build-f7d7530a64 /Users/wdiepeveen/.cache/pykeops-1.5-cpython-36/build-f7d7530a64/CMakeFiles/copy_KeOps_formula.dir/DependInfo.cmake --color=\n",
      "Dependencies file \"CMakeFiles/copy_KeOps_formula.dir/Users/wdiepeveen/PycharmProjects/Cryo-EM/lib/python3.6/site-packages/pykeops/keops/core/link_autodiff.cpp.o.d\" is newer than depends file \"/Users/wdiepeveen/.cache/pykeops-1.5-cpython-36/build-f7d7530a64/CMakeFiles/copy_KeOps_formula.dir/compiler_depend.internal\".\n",
      "Consolidate compiler generated dependencies of target copy_KeOps_formula\n",
      "/Library/Developer/CommandLineTools/usr/bin/make  -f CMakeFiles/copy_KeOps_formula.dir/build.make CMakeFiles/copy_KeOps_formula.dir/build\n",
      "[100%] Building CXX object CMakeFiles/copy_KeOps_formula.dir/Users/wdiepeveen/PycharmProjects/Cryo-EM/lib/python3.6/site-packages/pykeops/keops/core/link_autodiff.cpp.o\n",
      "/Library/Developer/CommandLineTools/usr/bin/c++ -DC_CONTIGUOUS=1 -DUSE_CUDA=0 -DUSE_DOUBLE=1 -DUSE_HALF=0 -D__TYPE__=double -I/Users/wdiepeveen/PycharmProjects/Cryo-EM/lib/python3.6/site-packages/pykeops/cmake_scripts/script_keops_formula/../.. -I/Users/wdiepeveen/.cache/pykeops-1.5-cpython-36/build-f7d7530a64 -I/Users/wdiepeveen/PycharmProjects/Cryo-EM/lib/python3.6/site-packages/pykeops/cmake_scripts/script_keops_formula/../../keops -ferror-limit=2 -O3 -DNDEBUG -O3 -isysroot /Library/Developer/CommandLineTools/SDKs/MacOSX11.3.sdk -fPIC -include KeOps_formula.h -std=gnu++14 -MD -MT CMakeFiles/copy_KeOps_formula.dir/Users/wdiepeveen/PycharmProjects/Cryo-EM/lib/python3.6/site-packages/pykeops/keops/core/link_autodiff.cpp.o -MF CMakeFiles/copy_KeOps_formula.dir/Users/wdiepeveen/PycharmProjects/Cryo-EM/lib/python3.6/site-packages/pykeops/keops/core/link_autodiff.cpp.o.d -o CMakeFiles/copy_KeOps_formula.dir/Users/wdiepeveen/PycharmProjects/Cryo-EM/lib/python3.6/site-packages/pykeops/keops/core/link_autodiff.cpp.o -c /Users/wdiepeveen/PycharmProjects/Cryo-EM/lib/python3.6/site-packages/pykeops/keops/core/link_autodiff.cpp\n",
      "\n",
      "--------------------- ----------- -----------------\n",
      "[pyKeOps] Compiling pybind11 template libKeOps_template_2bc6d8fd40 in /Users/wdiepeveen/.cache/pykeops-1.5-cpython-36 ... "
     ]
    },
    {
     "ename": "FileExistsError",
     "evalue": "[Errno 17] File exists: '/Users/wdiepeveen/.cache/pykeops-1.5-cpython-36//build-pybind11_template-libKeOps_template_2bc6d8fd40'",
     "output_type": "error",
     "traceback": [
      "\u001B[0;31m---------------------------------------------------------------------------\u001B[0m",
      "\u001B[0;31mFileExistsError\u001B[0m                           Traceback (most recent call last)",
      "\u001B[0;32m<ipython-input-6-d0fed93dde8d>\u001B[0m in \u001B[0;36m<module>\u001B[0;34m\u001B[0m\n\u001B[1;32m      4\u001B[0m \u001B[0;34m\u001B[0m\u001B[0m\n\u001B[1;32m      5\u001B[0m \u001B[0mK_xx\u001B[0m \u001B[0;34m=\u001B[0m \u001B[0mgaussian_kernel\u001B[0m\u001B[0;34m(\u001B[0m\u001B[0mx\u001B[0m\u001B[0;34m,\u001B[0m \u001B[0mx\u001B[0m\u001B[0;34m)\u001B[0m\u001B[0;34m\u001B[0m\u001B[0;34m\u001B[0m\u001B[0m\n\u001B[0;32m----> 6\u001B[0;31m \u001B[0ma\u001B[0m \u001B[0;34m=\u001B[0m \u001B[0mK_xx\u001B[0m\u001B[0;34m.\u001B[0m\u001B[0msolve\u001B[0m\u001B[0;34m(\u001B[0m\u001B[0mb\u001B[0m\u001B[0;34m,\u001B[0m \u001B[0malpha\u001B[0m\u001B[0;34m=\u001B[0m\u001B[0malpha\u001B[0m\u001B[0;34m)\u001B[0m\u001B[0;34m\u001B[0m\u001B[0;34m\u001B[0m\u001B[0m\n\u001B[0m\u001B[1;32m      7\u001B[0m \u001B[0;34m\u001B[0m\u001B[0m\n\u001B[1;32m      8\u001B[0m \u001B[0mend\u001B[0m \u001B[0;34m=\u001B[0m \u001B[0mtime\u001B[0m\u001B[0;34m.\u001B[0m\u001B[0mtime\u001B[0m\u001B[0;34m(\u001B[0m\u001B[0;34m)\u001B[0m\u001B[0;34m\u001B[0m\u001B[0;34m\u001B[0m\u001B[0m\n",
      "\u001B[0;32m~/PycharmProjects/Cryo-EM/lib/python3.6/site-packages/pykeops/common/lazy_tensor.py\u001B[0m in \u001B[0;36msolve\u001B[0;34m(self, other, var, call, **kwargs)\u001B[0m\n\u001B[1;32m    859\u001B[0m                 \u001B[0mres\u001B[0m\u001B[0;34m.\u001B[0m\u001B[0m_dtype\u001B[0m\u001B[0;34m,\u001B[0m\u001B[0;34m\u001B[0m\u001B[0;34m\u001B[0m\u001B[0m\n\u001B[1;32m    860\u001B[0m                 \u001B[0;34m**\u001B[0m\u001B[0mkwargs_init\u001B[0m\u001B[0;34m,\u001B[0m\u001B[0;34m\u001B[0m\u001B[0;34m\u001B[0m\u001B[0m\n\u001B[0;32m--> 861\u001B[0;31m                 \u001B[0mrec_multVar_highdim\u001B[0m\u001B[0;34m=\u001B[0m\u001B[0mres\u001B[0m\u001B[0;34m.\u001B[0m\u001B[0mrec_multVar_highdim\u001B[0m\u001B[0;34m\u001B[0m\u001B[0;34m\u001B[0m\u001B[0m\n\u001B[0m\u001B[1;32m    862\u001B[0m             )\n\u001B[1;32m    863\u001B[0m \u001B[0;34m\u001B[0m\u001B[0m\n",
      "\u001B[0;32m~/PycharmProjects/Cryo-EM/lib/python3.6/site-packages/pykeops/numpy/operations.py\u001B[0m in \u001B[0;36m__init__\u001B[0;34m(self, formula, aliases, varinvalias, axis, dtype, opt_arg, dtype_acc, use_double_acc, sum_scheme, enable_chunks, rec_multVar_highdim)\u001B[0m\n\u001B[1;32m    156\u001B[0m         \u001B[0mself\u001B[0m\u001B[0;34m.\u001B[0m\u001B[0mdtype\u001B[0m \u001B[0;34m=\u001B[0m \u001B[0mdtype\u001B[0m\u001B[0;34m\u001B[0m\u001B[0;34m\u001B[0m\u001B[0m\n\u001B[1;32m    157\u001B[0m         self.myconv = LoadKeOps(\n\u001B[0;32m--> 158\u001B[0;31m             \u001B[0mself\u001B[0m\u001B[0;34m.\u001B[0m\u001B[0mformula\u001B[0m\u001B[0;34m,\u001B[0m \u001B[0mself\u001B[0m\u001B[0;34m.\u001B[0m\u001B[0maliases\u001B[0m\u001B[0;34m,\u001B[0m \u001B[0mself\u001B[0m\u001B[0;34m.\u001B[0m\u001B[0mdtype\u001B[0m\u001B[0;34m,\u001B[0m \u001B[0;34m\"numpy\"\u001B[0m\u001B[0;34m,\u001B[0m \u001B[0moptional_flags\u001B[0m\u001B[0;34m\u001B[0m\u001B[0;34m\u001B[0m\u001B[0m\n\u001B[0m\u001B[1;32m    159\u001B[0m         ).import_module()\n\u001B[1;32m    160\u001B[0m \u001B[0;34m\u001B[0m\u001B[0m\n",
      "\u001B[0;32m~/PycharmProjects/Cryo-EM/lib/python3.6/site-packages/pykeops/common/keops_io.py\u001B[0m in \u001B[0;36m__init__\u001B[0;34m(self, formula, aliases, dtype, lang, optional_flags, include_dirs)\u001B[0m\n\u001B[1;32m     46\u001B[0m             \u001B[0mpykeops\u001B[0m\u001B[0;34m.\u001B[0m\u001B[0mconfig\u001B[0m\u001B[0;34m.\u001B[0m\u001B[0mbuild_type\u001B[0m \u001B[0;34m==\u001B[0m \u001B[0;34m\"Debug\"\u001B[0m\u001B[0;34m\u001B[0m\u001B[0;34m\u001B[0m\u001B[0m\n\u001B[1;32m     47\u001B[0m         ):\n\u001B[0;32m---> 48\u001B[0;31m             \u001B[0mself\u001B[0m\u001B[0;34m.\u001B[0m\u001B[0m_safe_compile\u001B[0m\u001B[0;34m(\u001B[0m\u001B[0;34m)\u001B[0m\u001B[0;34m\u001B[0m\u001B[0;34m\u001B[0m\u001B[0m\n\u001B[0m\u001B[1;32m     49\u001B[0m \u001B[0;34m\u001B[0m\u001B[0m\n\u001B[1;32m     50\u001B[0m     \u001B[0;34m@\u001B[0m\u001B[0mcreate_and_lock_build_folder\u001B[0m\u001B[0;34m(\u001B[0m\u001B[0;34m)\u001B[0m\u001B[0;34m\u001B[0m\u001B[0;34m\u001B[0m\u001B[0m\n",
      "\u001B[0;32m~/PycharmProjects/Cryo-EM/lib/python3.6/site-packages/pykeops/common/utils.py\u001B[0m in \u001B[0;36mwrapper_filelock\u001B[0;34m(*args, **kwargs)\u001B[0m\n\u001B[1;32m     73\u001B[0m             \u001B[0;32mwith\u001B[0m \u001B[0mopen\u001B[0m\u001B[0;34m(\u001B[0m\u001B[0mos\u001B[0m\u001B[0;34m.\u001B[0m\u001B[0mpath\u001B[0m\u001B[0;34m.\u001B[0m\u001B[0mjoin\u001B[0m\u001B[0;34m(\u001B[0m\u001B[0mbf\u001B[0m\u001B[0;34m,\u001B[0m \u001B[0;34m\"pykeops_build2.lock\"\u001B[0m\u001B[0;34m)\u001B[0m\u001B[0;34m,\u001B[0m \u001B[0;34m\"w\"\u001B[0m\u001B[0;34m)\u001B[0m \u001B[0;32mas\u001B[0m \u001B[0mf\u001B[0m\u001B[0;34m:\u001B[0m\u001B[0;34m\u001B[0m\u001B[0;34m\u001B[0m\u001B[0m\n\u001B[1;32m     74\u001B[0m                 \u001B[0;32mwith\u001B[0m \u001B[0mFileLock\u001B[0m\u001B[0;34m(\u001B[0m\u001B[0mf\u001B[0m\u001B[0;34m)\u001B[0m\u001B[0;34m:\u001B[0m\u001B[0;34m\u001B[0m\u001B[0;34m\u001B[0m\u001B[0m\n\u001B[0;32m---> 75\u001B[0;31m                     \u001B[0mfunc_res\u001B[0m \u001B[0;34m=\u001B[0m \u001B[0mfunc\u001B[0m\u001B[0;34m(\u001B[0m\u001B[0;34m*\u001B[0m\u001B[0margs\u001B[0m\u001B[0;34m,\u001B[0m \u001B[0;34m**\u001B[0m\u001B[0mkwargs\u001B[0m\u001B[0;34m)\u001B[0m\u001B[0;34m\u001B[0m\u001B[0;34m\u001B[0m\u001B[0m\n\u001B[0m\u001B[1;32m     76\u001B[0m \u001B[0;34m\u001B[0m\u001B[0m\n\u001B[1;32m     77\u001B[0m             \u001B[0;31m# clean\u001B[0m\u001B[0;34m\u001B[0m\u001B[0;34m\u001B[0m\u001B[0;34m\u001B[0m\u001B[0m\n",
      "\u001B[0;32m~/PycharmProjects/Cryo-EM/lib/python3.6/site-packages/pykeops/common/keops_io.py\u001B[0m in \u001B[0;36m_safe_compile\u001B[0;34m(self)\u001B[0m\n\u001B[1;32m     61\u001B[0m             \u001B[0mself\u001B[0m\u001B[0;34m.\u001B[0m\u001B[0moptional_flags\u001B[0m\u001B[0;34m,\u001B[0m\u001B[0;34m\u001B[0m\u001B[0;34m\u001B[0m\u001B[0m\n\u001B[1;32m     62\u001B[0m             \u001B[0mself\u001B[0m\u001B[0;34m.\u001B[0m\u001B[0minclude_dirs\u001B[0m\u001B[0;34m,\u001B[0m\u001B[0;34m\u001B[0m\u001B[0;34m\u001B[0m\u001B[0m\n\u001B[0;32m---> 63\u001B[0;31m             \u001B[0mself\u001B[0m\u001B[0;34m.\u001B[0m\u001B[0mbuild_folder\u001B[0m\u001B[0;34m,\u001B[0m\u001B[0;34m\u001B[0m\u001B[0;34m\u001B[0m\u001B[0m\n\u001B[0m\u001B[1;32m     64\u001B[0m         )\n\u001B[1;32m     65\u001B[0m \u001B[0;34m\u001B[0m\u001B[0m\n",
      "\u001B[0;32m~/PycharmProjects/Cryo-EM/lib/python3.6/site-packages/pykeops/common/compile_routines.py\u001B[0m in \u001B[0;36mcompile_generic_routine\u001B[0;34m(formula, aliases, dllname, dtype, lang, optional_flags, include_dirs, build_folder)\u001B[0m\n\u001B[1;32m    244\u001B[0m \u001B[0;34m\u001B[0m\u001B[0m\n\u001B[1;32m    245\u001B[0m     template_name, is_rebuilt = get_or_build_pybind11_template(\n\u001B[0;32m--> 246\u001B[0;31m         \u001B[0mdtype\u001B[0m\u001B[0;34m,\u001B[0m \u001B[0mlang\u001B[0m\u001B[0;34m,\u001B[0m \u001B[0minclude_dirs\u001B[0m\u001B[0;34m,\u001B[0m \u001B[0muse_prebuilt_formula\u001B[0m\u001B[0;34m=\u001B[0m\u001B[0;32mTrue\u001B[0m\u001B[0;34m\u001B[0m\u001B[0;34m\u001B[0m\u001B[0m\n\u001B[0m\u001B[1;32m    247\u001B[0m     )\n\u001B[1;32m    248\u001B[0m \u001B[0;34m\u001B[0m\u001B[0m\n",
      "\u001B[0;32m~/PycharmProjects/Cryo-EM/lib/python3.6/site-packages/pykeops/common/compile_routines.py\u001B[0m in \u001B[0;36mget_or_build_pybind11_template\u001B[0;34m(dtype, lang, include_dirs, use_prebuilt_formula)\u001B[0m\n\u001B[1;32m     65\u001B[0m         \u001B[0;31m# print('(with dtype=',dtype,', lang=',lang,', include_dirs=',include_dirs,')', flush=True)\u001B[0m\u001B[0;34m\u001B[0m\u001B[0;34m\u001B[0m\u001B[0;34m\u001B[0m\u001B[0m\n\u001B[1;32m     66\u001B[0m \u001B[0;34m\u001B[0m\u001B[0m\n\u001B[0;32m---> 67\u001B[0;31m         \u001B[0mos\u001B[0m\u001B[0;34m.\u001B[0m\u001B[0mmkdir\u001B[0m\u001B[0;34m(\u001B[0m\u001B[0mtemplate_build_folder\u001B[0m\u001B[0;34m)\u001B[0m\u001B[0;34m\u001B[0m\u001B[0;34m\u001B[0m\u001B[0m\n\u001B[0m\u001B[1;32m     68\u001B[0m \u001B[0;34m\u001B[0m\u001B[0m\n\u001B[1;32m     69\u001B[0m         \u001B[0mcommand_line\u001B[0m \u001B[0;34m+=\u001B[0m \u001B[0;34m[\u001B[0m\u001B[0;34m\"-Dtemplate_name=\"\u001B[0m \u001B[0;34m+\u001B[0m \u001B[0;34m\"'{}'\"\u001B[0m\u001B[0;34m.\u001B[0m\u001B[0mformat\u001B[0m\u001B[0;34m(\u001B[0m\u001B[0mtemplate_name\u001B[0m\u001B[0;34m)\u001B[0m\u001B[0;34m]\u001B[0m\u001B[0;34m\u001B[0m\u001B[0;34m\u001B[0m\u001B[0m\n",
      "\u001B[0;31mFileExistsError\u001B[0m: [Errno 17] File exists: '/Users/wdiepeveen/.cache/pykeops-1.5-cpython-36//build-pybind11_template-libKeOps_template_2bc6d8fd40'"
     ]
    }
   ],
   "source": [
    "alpha = 1.0  # Ridge regularization\n",
    "\n",
    "start = time.time()\n",
    "\n",
    "K_xx = gaussian_kernel(x, x)\n",
    "a = K_xx.solve(b, alpha=alpha)\n",
    "\n",
    "end = time.time()\n",
    "\n",
    "print(\n",
    "    \"Time to perform an RBF interpolation with {:,} samples in 1D: {:.5f}s\".format(\n",
    "        N, end - start\n",
    "    )\n",
    ")"
   ]
  },
  {
   "cell_type": "markdown",
   "metadata": {},
   "source": [
    "Display the (fitted) model on the unit interval:\n",
    "\n",
    "\n"
   ]
  },
  {
   "cell_type": "code",
   "execution_count": null,
   "metadata": {},
   "outputs": [],
   "source": [
    "# Extrapolate on a uniform sample:\n",
    "t = np.reshape(np.linspace(0, 1, 1001), [1001, 1]).astype(dtype)\n",
    "\n",
    "K_tx = gaussian_kernel(t, x)\n",
    "mean_t = K_tx @ a\n",
    "\n",
    "# 1D plot:\n",
    "plt.figure(figsize=(8, 6))\n",
    "\n",
    "plt.scatter(x[:, 0], b[:, 0], s=100 / len(x))  # Noisy samples\n",
    "plt.plot(t, mean_t, \"r\")\n",
    "\n",
    "plt.axis([0, 1, 0, 1])\n",
    "plt.tight_layout()"
   ]
  },
  {
   "cell_type": "markdown",
   "metadata": {},
   "source": [
    "## Interpolation in 2D\n",
    "\n",
    "Generate some data:\n",
    "\n"
   ]
  },
  {
   "cell_type": "code",
   "execution_count": null,
   "metadata": {},
   "outputs": [],
   "source": [
    "# Sampling locations:\n",
    "x = np.random.rand(N, 2).astype(dtype)\n",
    "\n",
    "# Some random-ish 2D signal:\n",
    "b = np.sum((x - 0.5) ** 2, axis=1)[:, None]\n",
    "b[b > 0.4 ** 2] = 0\n",
    "b[b < 0.3 ** 2] = 0\n",
    "b[b >= 0.3 ** 2] = 1\n",
    "b = b + 0.05 * np.random.randn(N, 1).astype(dtype)\n",
    "\n",
    "# Add 25% of outliers:\n",
    "Nout = N // 4\n",
    "b[-Nout:] = np.random.rand(Nout, 1).astype(dtype)"
   ]
  },
  {
   "cell_type": "markdown",
   "metadata": {},
   "source": [
    "Specify our **regression model** - a simple **Exponential** variogram\n",
    "or **Laplacian** kernel matrix of deviation **sigma**:\n",
    "\n"
   ]
  },
  {
   "cell_type": "code",
   "execution_count": null,
   "metadata": {},
   "outputs": [],
   "source": [
    "def laplacian_kernel(x, y, sigma=0.1):\n",
    "    x_i = LazyTensor(x[:, None, :])  # (M, 1, 1)\n",
    "    y_j = LazyTensor(y[None, :, :])  # (1, N, 1)\n",
    "    D_ij = ((x_i - y_j) ** 2).sum(-1)  # (M, N) symbolic matrix of squared distances\n",
    "    return (-D_ij.sqrt() / sigma).exp()  # (M, N) symbolic Laplacian kernel matrix"
   ]
  },
  {
   "cell_type": "markdown",
   "metadata": {},
   "source": [
    "Perform the **Kernel interpolation**, without forgetting to specify\n",
    "the ridge regularization parameter **alpha** which controls the trade-off\n",
    "between a perfect fit (**alpha** = 0) and a\n",
    "smooth interpolation (**alpha** = $+\\infty$):\n",
    "\n"
   ]
  },
  {
   "cell_type": "code",
   "execution_count": null,
   "metadata": {},
   "outputs": [],
   "source": [
    "alpha = 10  # Ridge regularization\n",
    "\n",
    "start = time.time()\n",
    "\n",
    "K_xx = laplacian_kernel(x, x)\n",
    "a = K_xx.solve(b, alpha=alpha)\n",
    "\n",
    "end = time.time()\n",
    "\n",
    "print(\n",
    "    \"Time to perform an RBF interpolation with {:,} samples in 2D: {:.5f}s\".format(\n",
    "        N, end - start\n",
    "    )\n",
    ")"
   ]
  },
  {
   "cell_type": "markdown",
   "metadata": {},
   "source": [
    "Display the (fitted) model on the unit square:\n",
    "\n",
    "\n"
   ]
  },
  {
   "cell_type": "code",
   "execution_count": null,
   "metadata": {},
   "outputs": [],
   "source": [
    "# Extrapolate on a uniform sample:\n",
    "X = Y = np.linspace(0, 1, 101)\n",
    "X, Y = np.meshgrid(X, Y)\n",
    "t = np.stack((X.ravel(), Y.ravel()), axis=1)\n",
    "\n",
    "K_tx = laplacian_kernel(t, x)\n",
    "mean_t = K_tx @ a\n",
    "mean_t = mean_t.reshape(101, 101)[::-1, :]\n",
    "\n",
    "# 2D plot: noisy samples and interpolation in the background\n",
    "plt.figure(figsize=(8, 8))\n",
    "\n",
    "plt.scatter(x[:, 0], x[:, 1], c=b.ravel(), s=25000 / len(x), cmap=\"bwr\")\n",
    "plt.imshow(mean_t, interpolation=\"bilinear\", extent=[0, 1, 0, 1], cmap=\"coolwarm\")\n",
    "\n",
    "plt.axis([0, 1, 0, 1])\n",
    "plt.tight_layout()\n",
    "plt.show()"
   ]
  }
 ],
 "metadata": {
  "kernelspec": {
   "display_name": "Python 3",
   "language": "python",
   "name": "python3"
  },
  "language_info": {
   "codemirror_mode": {
    "name": "ipython",
    "version": 3
   },
   "file_extension": ".py",
   "mimetype": "text/x-python",
   "name": "python",
   "nbconvert_exporter": "python",
   "pygments_lexer": "ipython3",
   "version": "3.6.12"
  }
 },
 "nbformat": 4,
 "nbformat_minor": 1
}